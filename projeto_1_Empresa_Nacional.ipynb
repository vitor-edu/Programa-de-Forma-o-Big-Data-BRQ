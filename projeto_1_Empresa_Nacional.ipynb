{
  "nbformat": 4,
  "nbformat_minor": 0,
  "metadata": {
    "colab": {
      "name": "projeto_1_Empresa_Nacional.ipynb",
      "provenance": [],
      "authorship_tag": "ABX9TyMRDSwAWjwW2HCLQ1pxX/at",
      "include_colab_link": true
    },
    "kernelspec": {
      "name": "python3",
      "display_name": "Python 3"
    },
    "language_info": {
      "name": "python"
    }
  },
  "cells": [
    {
      "cell_type": "markdown",
      "metadata": {
        "id": "view-in-github",
        "colab_type": "text"
      },
      "source": [
        "<a href=\"https://colab.research.google.com/github/vitor-edu/Programa-de-Formacao-Big-Data-BRQ/blob/main/projeto_1_Empresa_Nacional.ipynb\" target=\"_parent\"><img src=\"https://colab.research.google.com/assets/colab-badge.svg\" alt=\"Open In Colab\"/></a>"
      ]
    },
    {
      "cell_type": "code",
      "metadata": {
        "id": "Ztmxn-IqS2vO"
      },
      "source": [
        "# Base 1 - Faculdade Inadi.xlsx"
      ],
      "execution_count": null,
      "outputs": []
    },
    {
      "cell_type": "code",
      "metadata": {
        "id": "kSJq0ynfT_64"
      },
      "source": [
        "import pandas as pd # Importando bibliotecas. \n",
        "from google.colab import files "
      ],
      "execution_count": 2,
      "outputs": []
    },
    {
      "cell_type": "code",
      "metadata": {
        "colab": {
          "resources": {
            "http://localhost:8080/nbextensions/google.colab/files.js": {
              "data": "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",
              "ok": true,
              "headers": [
                [
                  "content-type",
                  "application/javascript"
                ]
              ],
              "status": 200,
              "status_text": "OK"
            }
          },
          "base_uri": "https://localhost:8080/",
          "height": 77
        },
        "id": "uKeD_SVGUDW8",
        "outputId": "8d1f4063-6b51-4f05-fc47-7bf94d7ee277"
      },
      "source": [
        "uploaded = files.upload() # Fazendo upload do arquivo. "
      ],
      "execution_count": 3,
      "outputs": [
        {
          "output_type": "display_data",
          "data": {
            "text/html": [
              "\n",
              "     <input type=\"file\" id=\"files-3e115112-2de0-4267-9e1b-f29f61dd8468\" name=\"files[]\" multiple disabled\n",
              "        style=\"border:none\" />\n",
              "     <output id=\"result-3e115112-2de0-4267-9e1b-f29f61dd8468\">\n",
              "      Upload widget is only available when the cell has been executed in the\n",
              "      current browser session. Please rerun this cell to enable.\n",
              "      </output>\n",
              "      <script src=\"/nbextensions/google.colab/files.js\"></script> "
            ],
            "text/plain": [
              "<IPython.core.display.HTML object>"
            ]
          },
          "metadata": {
            "tags": []
          }
        },
        {
          "output_type": "stream",
          "text": [
            "Saving Base 2 - Empresa Nacion.xlsx to Base 2 - Empresa Nacion.xlsx\n"
          ],
          "name": "stdout"
        }
      ]
    },
    {
      "cell_type": "code",
      "metadata": {
        "colab": {
          "base_uri": "https://localhost:8080/",
          "height": 424
        },
        "id": "hRyFUokDUNMh",
        "outputId": "32e6c3c9-019f-4104-9b36-5466118bef9a"
      },
      "source": [
        "nion = pd.read_excel('Base 2 - Empresa Nacion.xlsx') # Comando read lendo o arquivo excel. \n",
        "nion"
      ],
      "execution_count": 4,
      "outputs": [
        {
          "output_type": "execute_result",
          "data": {
            "text/html": [
              "<div>\n",
              "<style scoped>\n",
              "    .dataframe tbody tr th:only-of-type {\n",
              "        vertical-align: middle;\n",
              "    }\n",
              "\n",
              "    .dataframe tbody tr th {\n",
              "        vertical-align: top;\n",
              "    }\n",
              "\n",
              "    .dataframe thead th {\n",
              "        text-align: right;\n",
              "    }\n",
              "</style>\n",
              "<table border=\"1\" class=\"dataframe\">\n",
              "  <thead>\n",
              "    <tr style=\"text-align: right;\">\n",
              "      <th></th>\n",
              "      <th>Chave Venda</th>\n",
              "      <th>Cliente</th>\n",
              "      <th>Segmento Cliente</th>\n",
              "      <th>Agrupamento Cliente</th>\n",
              "      <th>Produto</th>\n",
              "      <th>Agrupamento Produto</th>\n",
              "      <th>UF</th>\n",
              "      <th>Valor</th>\n",
              "      <th>Ano</th>\n",
              "    </tr>\n",
              "  </thead>\n",
              "  <tbody>\n",
              "    <tr>\n",
              "      <th>0</th>\n",
              "      <td>1</td>\n",
              "      <td>Empresa - 2051</td>\n",
              "      <td>TECNOLOGIA</td>\n",
              "      <td>Industria</td>\n",
              "      <td>PARAFUSO SEXTAVADOS</td>\n",
              "      <td>FIXADORES</td>\n",
              "      <td>MG</td>\n",
              "      <td>140.626060</td>\n",
              "      <td>2004</td>\n",
              "    </tr>\n",
              "    <tr>\n",
              "      <th>1</th>\n",
              "      <td>1</td>\n",
              "      <td>Empresa - 2051</td>\n",
              "      <td>TECNOLOGIA</td>\n",
              "      <td>Industria</td>\n",
              "      <td>ROSCA</td>\n",
              "      <td>FIXADORES</td>\n",
              "      <td>MG</td>\n",
              "      <td>22.247617</td>\n",
              "      <td>2004</td>\n",
              "    </tr>\n",
              "    <tr>\n",
              "      <th>2</th>\n",
              "      <td>1</td>\n",
              "      <td>Empresa - 2051</td>\n",
              "      <td>TECNOLOGIA</td>\n",
              "      <td>Industria</td>\n",
              "      <td>ARRUELA LISA</td>\n",
              "      <td>FIXADORES</td>\n",
              "      <td>MG</td>\n",
              "      <td>5.259043</td>\n",
              "      <td>2004</td>\n",
              "    </tr>\n",
              "    <tr>\n",
              "      <th>3</th>\n",
              "      <td>2</td>\n",
              "      <td>Empresa - 3606</td>\n",
              "      <td>QUÍMICA</td>\n",
              "      <td>Industria</td>\n",
              "      <td>BARRA ROSCADA</td>\n",
              "      <td>FIXADORES</td>\n",
              "      <td>SP</td>\n",
              "      <td>6.055200</td>\n",
              "      <td>2004</td>\n",
              "    </tr>\n",
              "    <tr>\n",
              "      <th>4</th>\n",
              "      <td>3</td>\n",
              "      <td>Empresa - 4515</td>\n",
              "      <td>QUÍMICA</td>\n",
              "      <td>Industria</td>\n",
              "      <td>BUCHA PLÁSTICA</td>\n",
              "      <td>FIXADORES</td>\n",
              "      <td>SP</td>\n",
              "      <td>13.351716</td>\n",
              "      <td>2004</td>\n",
              "    </tr>\n",
              "    <tr>\n",
              "      <th>...</th>\n",
              "      <td>...</td>\n",
              "      <td>...</td>\n",
              "      <td>...</td>\n",
              "      <td>...</td>\n",
              "      <td>...</td>\n",
              "      <td>...</td>\n",
              "      <td>...</td>\n",
              "      <td>...</td>\n",
              "      <td>...</td>\n",
              "    </tr>\n",
              "    <tr>\n",
              "      <th>8963</th>\n",
              "      <td>10859</td>\n",
              "      <td>Empresa - 3232</td>\n",
              "      <td>PROJETISTA</td>\n",
              "      <td>Intermediário</td>\n",
              "      <td>PARAFUSO SEXTAVADOS</td>\n",
              "      <td>FIXADORES</td>\n",
              "      <td>SC</td>\n",
              "      <td>12.406432</td>\n",
              "      <td>2010</td>\n",
              "    </tr>\n",
              "    <tr>\n",
              "      <th>8964</th>\n",
              "      <td>10860</td>\n",
              "      <td>Empresa - 4658</td>\n",
              "      <td>PROJETISTA</td>\n",
              "      <td>Intermediário</td>\n",
              "      <td>PARAFUSO SEXTAVADOS</td>\n",
              "      <td>FIXADORES</td>\n",
              "      <td>SC</td>\n",
              "      <td>17.856112</td>\n",
              "      <td>2010</td>\n",
              "    </tr>\n",
              "    <tr>\n",
              "      <th>8965</th>\n",
              "      <td>10860</td>\n",
              "      <td>Empresa - 4658</td>\n",
              "      <td>PROJETISTA</td>\n",
              "      <td>Intermediário</td>\n",
              "      <td>PARAFUSO SEXTAVADOS</td>\n",
              "      <td>FIXADORES</td>\n",
              "      <td>SC</td>\n",
              "      <td>11.572160</td>\n",
              "      <td>2010</td>\n",
              "    </tr>\n",
              "    <tr>\n",
              "      <th>8966</th>\n",
              "      <td>10861</td>\n",
              "      <td>Empresa - 4080</td>\n",
              "      <td>PROJETISTA</td>\n",
              "      <td>Intermediário</td>\n",
              "      <td>PARAFUSO SEXTAVADOS</td>\n",
              "      <td>FIXADORES</td>\n",
              "      <td>SC</td>\n",
              "      <td>23.830576</td>\n",
              "      <td>2010</td>\n",
              "    </tr>\n",
              "    <tr>\n",
              "      <th>8967</th>\n",
              "      <td>10862</td>\n",
              "      <td>Empresa - 4461</td>\n",
              "      <td>TÊXTIL</td>\n",
              "      <td>Industria</td>\n",
              "      <td>BUCHA PLÁSTICA</td>\n",
              "      <td>FIXADORES</td>\n",
              "      <td>SP</td>\n",
              "      <td>1.896623</td>\n",
              "      <td>2010</td>\n",
              "    </tr>\n",
              "  </tbody>\n",
              "</table>\n",
              "<p>8968 rows × 9 columns</p>\n",
              "</div>"
            ],
            "text/plain": [
              "      Chave Venda         Cliente Segmento Cliente  ...  UF       Valor   Ano\n",
              "0               1  Empresa - 2051       TECNOLOGIA  ...  MG  140.626060  2004\n",
              "1               1  Empresa - 2051       TECNOLOGIA  ...  MG   22.247617  2004\n",
              "2               1  Empresa - 2051       TECNOLOGIA  ...  MG    5.259043  2004\n",
              "3               2  Empresa - 3606          QUÍMICA  ...  SP    6.055200  2004\n",
              "4               3  Empresa - 4515          QUÍMICA  ...  SP   13.351716  2004\n",
              "...           ...             ...              ...  ...  ..         ...   ...\n",
              "8963        10859  Empresa - 3232       PROJETISTA  ...  SC   12.406432  2010\n",
              "8964        10860  Empresa - 4658       PROJETISTA  ...  SC   17.856112  2010\n",
              "8965        10860  Empresa - 4658       PROJETISTA  ...  SC   11.572160  2010\n",
              "8966        10861  Empresa - 4080       PROJETISTA  ...  SC   23.830576  2010\n",
              "8967        10862  Empresa - 4461           TÊXTIL  ...  SP    1.896623  2010\n",
              "\n",
              "[8968 rows x 9 columns]"
            ]
          },
          "metadata": {
            "tags": []
          },
          "execution_count": 4
        }
      ]
    },
    {
      "cell_type": "code",
      "metadata": {
        "id": "5AE4OW1AUaAk",
        "colab": {
          "base_uri": "https://localhost:8080/",
          "height": 363
        },
        "outputId": "ca8d5e1b-6bca-411e-b2cf-58454ba98bdf"
      },
      "source": [
        "nion.head(10) # Função head retorna a quantidade de linha passada por parametro. "
      ],
      "execution_count": 5,
      "outputs": [
        {
          "output_type": "execute_result",
          "data": {
            "text/html": [
              "<div>\n",
              "<style scoped>\n",
              "    .dataframe tbody tr th:only-of-type {\n",
              "        vertical-align: middle;\n",
              "    }\n",
              "\n",
              "    .dataframe tbody tr th {\n",
              "        vertical-align: top;\n",
              "    }\n",
              "\n",
              "    .dataframe thead th {\n",
              "        text-align: right;\n",
              "    }\n",
              "</style>\n",
              "<table border=\"1\" class=\"dataframe\">\n",
              "  <thead>\n",
              "    <tr style=\"text-align: right;\">\n",
              "      <th></th>\n",
              "      <th>Chave Venda</th>\n",
              "      <th>Cliente</th>\n",
              "      <th>Segmento Cliente</th>\n",
              "      <th>Agrupamento Cliente</th>\n",
              "      <th>Produto</th>\n",
              "      <th>Agrupamento Produto</th>\n",
              "      <th>UF</th>\n",
              "      <th>Valor</th>\n",
              "      <th>Ano</th>\n",
              "    </tr>\n",
              "  </thead>\n",
              "  <tbody>\n",
              "    <tr>\n",
              "      <th>0</th>\n",
              "      <td>1</td>\n",
              "      <td>Empresa - 2051</td>\n",
              "      <td>TECNOLOGIA</td>\n",
              "      <td>Industria</td>\n",
              "      <td>PARAFUSO SEXTAVADOS</td>\n",
              "      <td>FIXADORES</td>\n",
              "      <td>MG</td>\n",
              "      <td>140.626060</td>\n",
              "      <td>2004</td>\n",
              "    </tr>\n",
              "    <tr>\n",
              "      <th>1</th>\n",
              "      <td>1</td>\n",
              "      <td>Empresa - 2051</td>\n",
              "      <td>TECNOLOGIA</td>\n",
              "      <td>Industria</td>\n",
              "      <td>ROSCA</td>\n",
              "      <td>FIXADORES</td>\n",
              "      <td>MG</td>\n",
              "      <td>22.247617</td>\n",
              "      <td>2004</td>\n",
              "    </tr>\n",
              "    <tr>\n",
              "      <th>2</th>\n",
              "      <td>1</td>\n",
              "      <td>Empresa - 2051</td>\n",
              "      <td>TECNOLOGIA</td>\n",
              "      <td>Industria</td>\n",
              "      <td>ARRUELA LISA</td>\n",
              "      <td>FIXADORES</td>\n",
              "      <td>MG</td>\n",
              "      <td>5.259043</td>\n",
              "      <td>2004</td>\n",
              "    </tr>\n",
              "    <tr>\n",
              "      <th>3</th>\n",
              "      <td>2</td>\n",
              "      <td>Empresa - 3606</td>\n",
              "      <td>QUÍMICA</td>\n",
              "      <td>Industria</td>\n",
              "      <td>BARRA ROSCADA</td>\n",
              "      <td>FIXADORES</td>\n",
              "      <td>SP</td>\n",
              "      <td>6.055200</td>\n",
              "      <td>2004</td>\n",
              "    </tr>\n",
              "    <tr>\n",
              "      <th>4</th>\n",
              "      <td>3</td>\n",
              "      <td>Empresa - 4515</td>\n",
              "      <td>QUÍMICA</td>\n",
              "      <td>Industria</td>\n",
              "      <td>BUCHA PLÁSTICA</td>\n",
              "      <td>FIXADORES</td>\n",
              "      <td>SP</td>\n",
              "      <td>13.351716</td>\n",
              "      <td>2004</td>\n",
              "    </tr>\n",
              "    <tr>\n",
              "      <th>5</th>\n",
              "      <td>4</td>\n",
              "      <td>Empresa - 2302</td>\n",
              "      <td>QUÍMICA</td>\n",
              "      <td>Industria</td>\n",
              "      <td>BUCHA PLÁSTICA</td>\n",
              "      <td>FIXADORES</td>\n",
              "      <td>SP</td>\n",
              "      <td>9.097602</td>\n",
              "      <td>2004</td>\n",
              "    </tr>\n",
              "    <tr>\n",
              "      <th>6</th>\n",
              "      <td>5</td>\n",
              "      <td>Empresa - 347</td>\n",
              "      <td>QUÍMICA</td>\n",
              "      <td>Industria</td>\n",
              "      <td>BUCHA METAL</td>\n",
              "      <td>FIXADORES</td>\n",
              "      <td>SP</td>\n",
              "      <td>36.196640</td>\n",
              "      <td>2004</td>\n",
              "    </tr>\n",
              "    <tr>\n",
              "      <th>7</th>\n",
              "      <td>6</td>\n",
              "      <td>Empresa - 4798</td>\n",
              "      <td>REPRESENTANTE</td>\n",
              "      <td>Intermediário</td>\n",
              "      <td>PARAFUSO SEXTAVADOS</td>\n",
              "      <td>FIXADORES</td>\n",
              "      <td>RJ</td>\n",
              "      <td>1.883840</td>\n",
              "      <td>2004</td>\n",
              "    </tr>\n",
              "    <tr>\n",
              "      <th>8</th>\n",
              "      <td>7</td>\n",
              "      <td>Empresa - 4508</td>\n",
              "      <td>AUTOMOTIVA</td>\n",
              "      <td>Industria</td>\n",
              "      <td>PARAFUSO SEXTAVADOS</td>\n",
              "      <td>FIXADORES</td>\n",
              "      <td>SP</td>\n",
              "      <td>452.545464</td>\n",
              "      <td>2004</td>\n",
              "    </tr>\n",
              "    <tr>\n",
              "      <th>9</th>\n",
              "      <td>7</td>\n",
              "      <td>Empresa - 4508</td>\n",
              "      <td>AUTOMOTIVA</td>\n",
              "      <td>Industria</td>\n",
              "      <td>ARRUELA PRESSÃO</td>\n",
              "      <td>FIXADORES</td>\n",
              "      <td>SP</td>\n",
              "      <td>452.545464</td>\n",
              "      <td>2004</td>\n",
              "    </tr>\n",
              "  </tbody>\n",
              "</table>\n",
              "</div>"
            ],
            "text/plain": [
              "   Chave Venda         Cliente Segmento Cliente  ...  UF       Valor   Ano\n",
              "0            1  Empresa - 2051       TECNOLOGIA  ...  MG  140.626060  2004\n",
              "1            1  Empresa - 2051       TECNOLOGIA  ...  MG   22.247617  2004\n",
              "2            1  Empresa - 2051       TECNOLOGIA  ...  MG    5.259043  2004\n",
              "3            2  Empresa - 3606          QUÍMICA  ...  SP    6.055200  2004\n",
              "4            3  Empresa - 4515          QUÍMICA  ...  SP   13.351716  2004\n",
              "5            4  Empresa - 2302          QUÍMICA  ...  SP    9.097602  2004\n",
              "6            5   Empresa - 347          QUÍMICA  ...  SP   36.196640  2004\n",
              "7            6  Empresa - 4798    REPRESENTANTE  ...  RJ    1.883840  2004\n",
              "8            7  Empresa - 4508       AUTOMOTIVA  ...  SP  452.545464  2004\n",
              "9            7  Empresa - 4508       AUTOMOTIVA  ...  SP  452.545464  2004\n",
              "\n",
              "[10 rows x 9 columns]"
            ]
          },
          "metadata": {
            "tags": []
          },
          "execution_count": 5
        }
      ]
    },
    {
      "cell_type": "code",
      "metadata": {
        "colab": {
          "base_uri": "https://localhost:8080/"
        },
        "id": "D7OiElCVrj2-",
        "outputId": "3f2db0fb-519c-402b-a58c-1f3bd7361df3"
      },
      "source": [
        "nion.columns # Comando columns retorna os nomes das colunas. "
      ],
      "execution_count": 6,
      "outputs": [
        {
          "output_type": "execute_result",
          "data": {
            "text/plain": [
              "Index(['Chave Venda', 'Cliente', 'Segmento Cliente', 'Agrupamento Cliente',\n",
              "       'Produto', 'Agrupamento Produto', 'UF', 'Valor', 'Ano'],\n",
              "      dtype='object')"
            ]
          },
          "metadata": {
            "tags": []
          },
          "execution_count": 6
        }
      ]
    },
    {
      "cell_type": "code",
      "metadata": {
        "id": "IMBTCXSgxqsm"
      },
      "source": [
        "uf = nion['UF'] # Inserindo as colunas dentro de uma variável, para análise posterior. \n",
        "valor = nion['Valor'] \n",
        "ano = nion['Ano']\n",
        "cliente = nion['Cliente']\n",
        "produto = nion['Produto']\n",
        "chave_venda =  nion[\"Chave Venda\"]\n",
        "agrup_produto = nion['Agrupamento Produto']\n",
        "segmento_cliente = nion['Segmento Cliente']\n",
        "agrup_cliente = nion['Agrupamento Cliente']"
      ],
      "execution_count": 10,
      "outputs": []
    },
    {
      "cell_type": "code",
      "metadata": {
        "id": "L1ZmbEtbasXe"
      },
      "source": [
        "def func_head(x):  # funÇão para retornar colunas específicas e como parametro a quantidade de linhas. \n",
        "   lista = [ano.head(x), valor.head(x), \n",
        "           segmento_cliente.head(x), uf.head(x), \n",
        "           cliente, produto.head(x), chave_venda.head(x), \n",
        "           agrup_produto.head(x), agrup_cliente.head(x),\n",
        "           cliente.head(x)    \n",
        "            ]\n",
        "   return lista "
      ],
      "execution_count": 11,
      "outputs": []
    },
    {
      "cell_type": "code",
      "metadata": {
        "id": "XY2bchT0O2Dp",
        "colab": {
          "base_uri": "https://localhost:8080/"
        },
        "outputId": "6b359e55-6357-4993-f9ea-10986d099979"
      },
      "source": [
        "func_head(5)"
      ],
      "execution_count": 12,
      "outputs": [
        {
          "output_type": "execute_result",
          "data": {
            "text/plain": [
              "[0    2004\n",
              " 1    2004\n",
              " 2    2004\n",
              " 3    2004\n",
              " 4    2004\n",
              " Name: Ano, dtype: int64, 0    140.626060\n",
              " 1     22.247617\n",
              " 2      5.259043\n",
              " 3      6.055200\n",
              " 4     13.351716\n",
              " Name: Valor, dtype: float64, 0    TECNOLOGIA\n",
              " 1    TECNOLOGIA\n",
              " 2    TECNOLOGIA\n",
              " 3       QUÍMICA\n",
              " 4       QUÍMICA\n",
              " Name: Segmento Cliente, dtype: object, 0    MG\n",
              " 1    MG\n",
              " 2    MG\n",
              " 3    SP\n",
              " 4    SP\n",
              " Name: UF, dtype: object, 0       Empresa - 2051\n",
              " 1       Empresa - 2051\n",
              " 2       Empresa - 2051\n",
              " 3       Empresa - 3606\n",
              " 4       Empresa - 4515\n",
              "              ...      \n",
              " 8963    Empresa - 3232\n",
              " 8964    Empresa - 4658\n",
              " 8965    Empresa - 4658\n",
              " 8966    Empresa - 4080\n",
              " 8967    Empresa - 4461\n",
              " Name: Cliente, Length: 8968, dtype: object, 0    PARAFUSO SEXTAVADOS\n",
              " 1                  ROSCA\n",
              " 2           ARRUELA LISA\n",
              " 3          BARRA ROSCADA\n",
              " 4         BUCHA PLÁSTICA\n",
              " Name: Produto, dtype: object, 0    1\n",
              " 1    1\n",
              " 2    1\n",
              " 3    2\n",
              " 4    3\n",
              " Name: Chave Venda, dtype: int64, 0    FIXADORES\n",
              " 1    FIXADORES\n",
              " 2    FIXADORES\n",
              " 3    FIXADORES\n",
              " 4    FIXADORES\n",
              " Name: Agrupamento Produto, dtype: object, 0    Industria\n",
              " 1    Industria\n",
              " 2    Industria\n",
              " 3    Industria\n",
              " 4    Industria\n",
              " Name: Agrupamento Cliente, dtype: object, 0    Empresa - 2051\n",
              " 1    Empresa - 2051\n",
              " 2    Empresa - 2051\n",
              " 3    Empresa - 3606\n",
              " 4    Empresa - 4515\n",
              " Name: Cliente, dtype: object]"
            ]
          },
          "metadata": {
            "tags": []
          },
          "execution_count": 12
        }
      ]
    },
    {
      "cell_type": "code",
      "metadata": {
        "id": "aD23gOyhSvtw",
        "colab": {
          "base_uri": "https://localhost:8080/"
        },
        "outputId": "be7617ab-27ee-433d-a3a7-645338a5b71f"
      },
      "source": [
        "valor.head(20) "
      ],
      "execution_count": null,
      "outputs": [
        {
          "output_type": "execute_result",
          "data": {
            "text/plain": [
              "0     140.626060\n",
              "1      22.247617\n",
              "2       5.259043\n",
              "3       6.055200\n",
              "4      13.351716\n",
              "5       9.097602\n",
              "6      36.196640\n",
              "7       1.883840\n",
              "8     452.545464\n",
              "9     452.545464\n",
              "10    452.545464\n",
              "11     81.948924\n",
              "12     83.077344\n",
              "13      1.610683\n",
              "14     33.909120\n",
              "15     39.249806\n",
              "16      1.102046\n",
              "17     38.147760\n",
              "18    114.443280\n",
              "19     12.998496\n",
              "Name: Valor, dtype: float64"
            ]
          },
          "metadata": {
            "tags": []
          },
          "execution_count": 55
        }
      ]
    },
    {
      "cell_type": "code",
      "metadata": {
        "id": "sH1pO9RnTgj0",
        "outputId": "5f0804e8-2fb0-4270-d758-1a5573963100",
        "colab": {
          "base_uri": "https://localhost:8080/"
        }
      },
      "source": [
        "nion.shape # Retorna quantidade de linhas e colunas.  "
      ],
      "execution_count": 15,
      "outputs": [
        {
          "output_type": "execute_result",
          "data": {
            "text/plain": [
              "(8968, 9)"
            ]
          },
          "metadata": {
            "tags": []
          },
          "execution_count": 15
        }
      ]
    },
    {
      "cell_type": "code",
      "metadata": {
        "id": "-_xBoj4xKp5p",
        "outputId": "8e8ab789-bdda-4ac5-af5b-5a1bbec04eb4",
        "colab": {
          "base_uri": "https://localhost:8080/",
          "height": 990
        }
      },
      "source": [
        "nion.head(30)"
      ],
      "execution_count": 17,
      "outputs": [
        {
          "output_type": "execute_result",
          "data": {
            "text/html": [
              "<div>\n",
              "<style scoped>\n",
              "    .dataframe tbody tr th:only-of-type {\n",
              "        vertical-align: middle;\n",
              "    }\n",
              "\n",
              "    .dataframe tbody tr th {\n",
              "        vertical-align: top;\n",
              "    }\n",
              "\n",
              "    .dataframe thead th {\n",
              "        text-align: right;\n",
              "    }\n",
              "</style>\n",
              "<table border=\"1\" class=\"dataframe\">\n",
              "  <thead>\n",
              "    <tr style=\"text-align: right;\">\n",
              "      <th></th>\n",
              "      <th>Chave Venda</th>\n",
              "      <th>Cliente</th>\n",
              "      <th>Segmento Cliente</th>\n",
              "      <th>Agrupamento Cliente</th>\n",
              "      <th>Produto</th>\n",
              "      <th>Agrupamento Produto</th>\n",
              "      <th>UF</th>\n",
              "      <th>Valor</th>\n",
              "      <th>Ano</th>\n",
              "    </tr>\n",
              "  </thead>\n",
              "  <tbody>\n",
              "    <tr>\n",
              "      <th>0</th>\n",
              "      <td>1</td>\n",
              "      <td>Empresa - 2051</td>\n",
              "      <td>TECNOLOGIA</td>\n",
              "      <td>Industria</td>\n",
              "      <td>PARAFUSO SEXTAVADOS</td>\n",
              "      <td>FIXADORES</td>\n",
              "      <td>MG</td>\n",
              "      <td>140.626060</td>\n",
              "      <td>2004</td>\n",
              "    </tr>\n",
              "    <tr>\n",
              "      <th>1</th>\n",
              "      <td>1</td>\n",
              "      <td>Empresa - 2051</td>\n",
              "      <td>TECNOLOGIA</td>\n",
              "      <td>Industria</td>\n",
              "      <td>ROSCA</td>\n",
              "      <td>FIXADORES</td>\n",
              "      <td>MG</td>\n",
              "      <td>22.247617</td>\n",
              "      <td>2004</td>\n",
              "    </tr>\n",
              "    <tr>\n",
              "      <th>2</th>\n",
              "      <td>1</td>\n",
              "      <td>Empresa - 2051</td>\n",
              "      <td>TECNOLOGIA</td>\n",
              "      <td>Industria</td>\n",
              "      <td>ARRUELA LISA</td>\n",
              "      <td>FIXADORES</td>\n",
              "      <td>MG</td>\n",
              "      <td>5.259043</td>\n",
              "      <td>2004</td>\n",
              "    </tr>\n",
              "    <tr>\n",
              "      <th>3</th>\n",
              "      <td>2</td>\n",
              "      <td>Empresa - 3606</td>\n",
              "      <td>QUÍMICA</td>\n",
              "      <td>Industria</td>\n",
              "      <td>BARRA ROSCADA</td>\n",
              "      <td>FIXADORES</td>\n",
              "      <td>SP</td>\n",
              "      <td>6.055200</td>\n",
              "      <td>2004</td>\n",
              "    </tr>\n",
              "    <tr>\n",
              "      <th>4</th>\n",
              "      <td>3</td>\n",
              "      <td>Empresa - 4515</td>\n",
              "      <td>QUÍMICA</td>\n",
              "      <td>Industria</td>\n",
              "      <td>BUCHA PLÁSTICA</td>\n",
              "      <td>FIXADORES</td>\n",
              "      <td>SP</td>\n",
              "      <td>13.351716</td>\n",
              "      <td>2004</td>\n",
              "    </tr>\n",
              "    <tr>\n",
              "      <th>5</th>\n",
              "      <td>4</td>\n",
              "      <td>Empresa - 2302</td>\n",
              "      <td>QUÍMICA</td>\n",
              "      <td>Industria</td>\n",
              "      <td>BUCHA PLÁSTICA</td>\n",
              "      <td>FIXADORES</td>\n",
              "      <td>SP</td>\n",
              "      <td>9.097602</td>\n",
              "      <td>2004</td>\n",
              "    </tr>\n",
              "    <tr>\n",
              "      <th>6</th>\n",
              "      <td>5</td>\n",
              "      <td>Empresa - 347</td>\n",
              "      <td>QUÍMICA</td>\n",
              "      <td>Industria</td>\n",
              "      <td>BUCHA METAL</td>\n",
              "      <td>FIXADORES</td>\n",
              "      <td>SP</td>\n",
              "      <td>36.196640</td>\n",
              "      <td>2004</td>\n",
              "    </tr>\n",
              "    <tr>\n",
              "      <th>7</th>\n",
              "      <td>6</td>\n",
              "      <td>Empresa - 4798</td>\n",
              "      <td>REPRESENTANTE</td>\n",
              "      <td>Intermediário</td>\n",
              "      <td>PARAFUSO SEXTAVADOS</td>\n",
              "      <td>FIXADORES</td>\n",
              "      <td>RJ</td>\n",
              "      <td>1.883840</td>\n",
              "      <td>2004</td>\n",
              "    </tr>\n",
              "    <tr>\n",
              "      <th>8</th>\n",
              "      <td>7</td>\n",
              "      <td>Empresa - 4508</td>\n",
              "      <td>AUTOMOTIVA</td>\n",
              "      <td>Industria</td>\n",
              "      <td>PARAFUSO SEXTAVADOS</td>\n",
              "      <td>FIXADORES</td>\n",
              "      <td>SP</td>\n",
              "      <td>452.545464</td>\n",
              "      <td>2004</td>\n",
              "    </tr>\n",
              "    <tr>\n",
              "      <th>9</th>\n",
              "      <td>7</td>\n",
              "      <td>Empresa - 4508</td>\n",
              "      <td>AUTOMOTIVA</td>\n",
              "      <td>Industria</td>\n",
              "      <td>ARRUELA PRESSÃO</td>\n",
              "      <td>FIXADORES</td>\n",
              "      <td>SP</td>\n",
              "      <td>452.545464</td>\n",
              "      <td>2004</td>\n",
              "    </tr>\n",
              "    <tr>\n",
              "      <th>10</th>\n",
              "      <td>7</td>\n",
              "      <td>Empresa - 4508</td>\n",
              "      <td>AUTOMOTIVA</td>\n",
              "      <td>Industria</td>\n",
              "      <td>BUCHA METAL</td>\n",
              "      <td>FIXADORES</td>\n",
              "      <td>SP</td>\n",
              "      <td>452.545464</td>\n",
              "      <td>2004</td>\n",
              "    </tr>\n",
              "    <tr>\n",
              "      <th>11</th>\n",
              "      <td>8</td>\n",
              "      <td>Empresa - 4819</td>\n",
              "      <td>AUTOMOTIVA</td>\n",
              "      <td>Industria</td>\n",
              "      <td>PARAFUSO SEXTAVADOS</td>\n",
              "      <td>FIXADORES</td>\n",
              "      <td>SP</td>\n",
              "      <td>81.948924</td>\n",
              "      <td>2004</td>\n",
              "    </tr>\n",
              "    <tr>\n",
              "      <th>12</th>\n",
              "      <td>9</td>\n",
              "      <td>Empresa - 1930</td>\n",
              "      <td>FARMACÊUTICO</td>\n",
              "      <td>Comércio</td>\n",
              "      <td>PARAFUSO SEXTAVADOS</td>\n",
              "      <td>FIXADORES</td>\n",
              "      <td>RJ</td>\n",
              "      <td>83.077344</td>\n",
              "      <td>2004</td>\n",
              "    </tr>\n",
              "    <tr>\n",
              "      <th>13</th>\n",
              "      <td>10</td>\n",
              "      <td>Empresa - 560</td>\n",
              "      <td>PROJETISTA</td>\n",
              "      <td>Intermediário</td>\n",
              "      <td>BUCHA PLÁSTICA</td>\n",
              "      <td>FIXADORES</td>\n",
              "      <td>SP</td>\n",
              "      <td>1.610683</td>\n",
              "      <td>2004</td>\n",
              "    </tr>\n",
              "    <tr>\n",
              "      <th>14</th>\n",
              "      <td>11</td>\n",
              "      <td>Empresa - 4774</td>\n",
              "      <td>VIDROS</td>\n",
              "      <td>Industria</td>\n",
              "      <td>PARAFUSO SEXTAVADOS</td>\n",
              "      <td>FIXADORES</td>\n",
              "      <td>SP</td>\n",
              "      <td>33.909120</td>\n",
              "      <td>2004</td>\n",
              "    </tr>\n",
              "    <tr>\n",
              "      <th>15</th>\n",
              "      <td>12</td>\n",
              "      <td>Empresa - 3196</td>\n",
              "      <td>BEBIDAS</td>\n",
              "      <td>Comércio</td>\n",
              "      <td>BUCHA PLÁSTICA</td>\n",
              "      <td>FIXADORES</td>\n",
              "      <td>RJ</td>\n",
              "      <td>39.249806</td>\n",
              "      <td>2004</td>\n",
              "    </tr>\n",
              "    <tr>\n",
              "      <th>16</th>\n",
              "      <td>13</td>\n",
              "      <td>Empresa - 4331</td>\n",
              "      <td>BEBIDAS</td>\n",
              "      <td>Comércio</td>\n",
              "      <td>BUCHA PLÁSTICA</td>\n",
              "      <td>FIXADORES</td>\n",
              "      <td>RJ</td>\n",
              "      <td>1.102046</td>\n",
              "      <td>2004</td>\n",
              "    </tr>\n",
              "    <tr>\n",
              "      <th>17</th>\n",
              "      <td>14</td>\n",
              "      <td>Empresa - 4834</td>\n",
              "      <td>BEBIDAS</td>\n",
              "      <td>Comércio</td>\n",
              "      <td>BUCHA PLÁSTICA</td>\n",
              "      <td>FIXADORES</td>\n",
              "      <td>RJ</td>\n",
              "      <td>38.147760</td>\n",
              "      <td>2004</td>\n",
              "    </tr>\n",
              "    <tr>\n",
              "      <th>18</th>\n",
              "      <td>15</td>\n",
              "      <td>Empresa - 3802</td>\n",
              "      <td>BEBIDAS</td>\n",
              "      <td>Comércio</td>\n",
              "      <td>BUCHA PLÁSTICA</td>\n",
              "      <td>FIXADORES</td>\n",
              "      <td>RJ</td>\n",
              "      <td>114.443280</td>\n",
              "      <td>2004</td>\n",
              "    </tr>\n",
              "    <tr>\n",
              "      <th>19</th>\n",
              "      <td>16</td>\n",
              "      <td>Empresa - 1057</td>\n",
              "      <td>QUÍMICA</td>\n",
              "      <td>Industria</td>\n",
              "      <td>BUCHA PLÁSTICA</td>\n",
              "      <td>FIXADORES</td>\n",
              "      <td>RJ</td>\n",
              "      <td>12.998496</td>\n",
              "      <td>2004</td>\n",
              "    </tr>\n",
              "    <tr>\n",
              "      <th>20</th>\n",
              "      <td>17</td>\n",
              "      <td>Empresa - 1704</td>\n",
              "      <td>QUÍMICA</td>\n",
              "      <td>Industria</td>\n",
              "      <td>PARAFUSO SEXTAVADOS</td>\n",
              "      <td>FIXADORES</td>\n",
              "      <td>SP</td>\n",
              "      <td>24.005504</td>\n",
              "      <td>2004</td>\n",
              "    </tr>\n",
              "    <tr>\n",
              "      <th>21</th>\n",
              "      <td>18</td>\n",
              "      <td>Empresa - 619</td>\n",
              "      <td>QUÍMICA</td>\n",
              "      <td>Industria</td>\n",
              "      <td>PARAFUSO SEXTAVADOS</td>\n",
              "      <td>FIXADORES</td>\n",
              "      <td>RJ</td>\n",
              "      <td>20.992571</td>\n",
              "      <td>2004</td>\n",
              "    </tr>\n",
              "    <tr>\n",
              "      <th>22</th>\n",
              "      <td>19</td>\n",
              "      <td>Empresa - 928</td>\n",
              "      <td>QUÍMICA</td>\n",
              "      <td>Industria</td>\n",
              "      <td>BUCHA PLÁSTICA</td>\n",
              "      <td>FIXADORES</td>\n",
              "      <td>RJ</td>\n",
              "      <td>98.901600</td>\n",
              "      <td>2004</td>\n",
              "    </tr>\n",
              "    <tr>\n",
              "      <th>23</th>\n",
              "      <td>20</td>\n",
              "      <td>Empresa - 4087</td>\n",
              "      <td>QUÍMICA</td>\n",
              "      <td>Industria</td>\n",
              "      <td>BUCHA PLÁSTICA</td>\n",
              "      <td>FIXADORES</td>\n",
              "      <td>RJ</td>\n",
              "      <td>48.320496</td>\n",
              "      <td>2014</td>\n",
              "    </tr>\n",
              "    <tr>\n",
              "      <th>24</th>\n",
              "      <td>22</td>\n",
              "      <td>Empresa - 1926</td>\n",
              "      <td>CURTUME</td>\n",
              "      <td>Industria</td>\n",
              "      <td>BUCHA PLÁSTICA</td>\n",
              "      <td>FIXADORES</td>\n",
              "      <td>BA</td>\n",
              "      <td>58.493232</td>\n",
              "      <td>2004</td>\n",
              "    </tr>\n",
              "    <tr>\n",
              "      <th>25</th>\n",
              "      <td>23</td>\n",
              "      <td>Empresa - 4169</td>\n",
              "      <td>TÊXTIL</td>\n",
              "      <td>Industria</td>\n",
              "      <td>BUCHA PLÁSTICA</td>\n",
              "      <td>FIXADORES</td>\n",
              "      <td>RJ</td>\n",
              "      <td>8.256871</td>\n",
              "      <td>2004</td>\n",
              "    </tr>\n",
              "    <tr>\n",
              "      <th>26</th>\n",
              "      <td>24</td>\n",
              "      <td>Empresa - 4066</td>\n",
              "      <td>AUTOMOTIVA</td>\n",
              "      <td>Industria</td>\n",
              "      <td>BUCHA PLÁSTICA</td>\n",
              "      <td>FIXADORES</td>\n",
              "      <td>MG</td>\n",
              "      <td>7.707462</td>\n",
              "      <td>2004</td>\n",
              "    </tr>\n",
              "    <tr>\n",
              "      <th>27</th>\n",
              "      <td>25</td>\n",
              "      <td>Empresa - 2181</td>\n",
              "      <td>EMBALAGENS</td>\n",
              "      <td>Industria</td>\n",
              "      <td>BUCHA PLÁSTICA</td>\n",
              "      <td>FIXADORES</td>\n",
              "      <td>SP</td>\n",
              "      <td>12.715920</td>\n",
              "      <td>2004</td>\n",
              "    </tr>\n",
              "    <tr>\n",
              "      <th>28</th>\n",
              "      <td>27</td>\n",
              "      <td>Empresa - 1943</td>\n",
              "      <td>CONSTRUTORA</td>\n",
              "      <td>Intermediário</td>\n",
              "      <td>PARAFUSO SEXTAVADOS</td>\n",
              "      <td>FIXADORES</td>\n",
              "      <td>RS</td>\n",
              "      <td>37.172873</td>\n",
              "      <td>2004</td>\n",
              "    </tr>\n",
              "    <tr>\n",
              "      <th>29</th>\n",
              "      <td>29</td>\n",
              "      <td>Empresa - 2477</td>\n",
              "      <td>PROJETISTA</td>\n",
              "      <td>Intermediário</td>\n",
              "      <td>PARAFUSO SEXTAVADOS</td>\n",
              "      <td>FIXADORES</td>\n",
              "      <td>PR</td>\n",
              "      <td>27.975024</td>\n",
              "      <td>2004</td>\n",
              "    </tr>\n",
              "  </tbody>\n",
              "</table>\n",
              "</div>"
            ],
            "text/plain": [
              "    Chave Venda         Cliente Segmento Cliente  ...  UF       Valor   Ano\n",
              "0             1  Empresa - 2051       TECNOLOGIA  ...  MG  140.626060  2004\n",
              "1             1  Empresa - 2051       TECNOLOGIA  ...  MG   22.247617  2004\n",
              "2             1  Empresa - 2051       TECNOLOGIA  ...  MG    5.259043  2004\n",
              "3             2  Empresa - 3606          QUÍMICA  ...  SP    6.055200  2004\n",
              "4             3  Empresa - 4515          QUÍMICA  ...  SP   13.351716  2004\n",
              "5             4  Empresa - 2302          QUÍMICA  ...  SP    9.097602  2004\n",
              "6             5   Empresa - 347          QUÍMICA  ...  SP   36.196640  2004\n",
              "7             6  Empresa - 4798    REPRESENTANTE  ...  RJ    1.883840  2004\n",
              "8             7  Empresa - 4508       AUTOMOTIVA  ...  SP  452.545464  2004\n",
              "9             7  Empresa - 4508       AUTOMOTIVA  ...  SP  452.545464  2004\n",
              "10            7  Empresa - 4508       AUTOMOTIVA  ...  SP  452.545464  2004\n",
              "11            8  Empresa - 4819       AUTOMOTIVA  ...  SP   81.948924  2004\n",
              "12            9  Empresa - 1930     FARMACÊUTICO  ...  RJ   83.077344  2004\n",
              "13           10   Empresa - 560       PROJETISTA  ...  SP    1.610683  2004\n",
              "14           11  Empresa - 4774           VIDROS  ...  SP   33.909120  2004\n",
              "15           12  Empresa - 3196          BEBIDAS  ...  RJ   39.249806  2004\n",
              "16           13  Empresa - 4331          BEBIDAS  ...  RJ    1.102046  2004\n",
              "17           14  Empresa - 4834          BEBIDAS  ...  RJ   38.147760  2004\n",
              "18           15  Empresa - 3802          BEBIDAS  ...  RJ  114.443280  2004\n",
              "19           16  Empresa - 1057          QUÍMICA  ...  RJ   12.998496  2004\n",
              "20           17  Empresa - 1704          QUÍMICA  ...  SP   24.005504  2004\n",
              "21           18   Empresa - 619          QUÍMICA  ...  RJ   20.992571  2004\n",
              "22           19   Empresa - 928          QUÍMICA  ...  RJ   98.901600  2004\n",
              "23           20  Empresa - 4087          QUÍMICA  ...  RJ   48.320496  2014\n",
              "24           22  Empresa - 1926          CURTUME  ...  BA   58.493232  2004\n",
              "25           23  Empresa - 4169           TÊXTIL  ...  RJ    8.256871  2004\n",
              "26           24  Empresa - 4066       AUTOMOTIVA  ...  MG    7.707462  2004\n",
              "27           25  Empresa - 2181       EMBALAGENS  ...  SP   12.715920  2004\n",
              "28           27  Empresa - 1943      CONSTRUTORA  ...  RS   37.172873  2004\n",
              "29           29  Empresa - 2477       PROJETISTA  ...  PR   27.975024  2004\n",
              "\n",
              "[30 rows x 9 columns]"
            ]
          },
          "metadata": {
            "tags": []
          },
          "execution_count": 17
        }
      ]
    },
    {
      "cell_type": "code",
      "metadata": {
        "id": "xsX64hI-LFYT"
      },
      "source": [
        "new_table_nion = nion.drop(columns=[\"Chave Venda\"]) # Excluindo a coluna \"chave venda\""
      ],
      "execution_count": 19,
      "outputs": []
    },
    {
      "cell_type": "code",
      "metadata": {
        "id": "Nxr4t8QJP6aa",
        "outputId": "cf1700a1-055c-4b56-d35e-e2e217a29c0b",
        "colab": {
          "base_uri": "https://localhost:8080/",
          "height": 424
        }
      },
      "source": [
        "new_table_nion"
      ],
      "execution_count": 20,
      "outputs": [
        {
          "output_type": "execute_result",
          "data": {
            "text/html": [
              "<div>\n",
              "<style scoped>\n",
              "    .dataframe tbody tr th:only-of-type {\n",
              "        vertical-align: middle;\n",
              "    }\n",
              "\n",
              "    .dataframe tbody tr th {\n",
              "        vertical-align: top;\n",
              "    }\n",
              "\n",
              "    .dataframe thead th {\n",
              "        text-align: right;\n",
              "    }\n",
              "</style>\n",
              "<table border=\"1\" class=\"dataframe\">\n",
              "  <thead>\n",
              "    <tr style=\"text-align: right;\">\n",
              "      <th></th>\n",
              "      <th>Cliente</th>\n",
              "      <th>Segmento Cliente</th>\n",
              "      <th>Agrupamento Cliente</th>\n",
              "      <th>Produto</th>\n",
              "      <th>Agrupamento Produto</th>\n",
              "      <th>UF</th>\n",
              "      <th>Valor</th>\n",
              "      <th>Ano</th>\n",
              "    </tr>\n",
              "  </thead>\n",
              "  <tbody>\n",
              "    <tr>\n",
              "      <th>0</th>\n",
              "      <td>Empresa - 2051</td>\n",
              "      <td>TECNOLOGIA</td>\n",
              "      <td>Industria</td>\n",
              "      <td>PARAFUSO SEXTAVADOS</td>\n",
              "      <td>FIXADORES</td>\n",
              "      <td>MG</td>\n",
              "      <td>140.626060</td>\n",
              "      <td>2004</td>\n",
              "    </tr>\n",
              "    <tr>\n",
              "      <th>1</th>\n",
              "      <td>Empresa - 2051</td>\n",
              "      <td>TECNOLOGIA</td>\n",
              "      <td>Industria</td>\n",
              "      <td>ROSCA</td>\n",
              "      <td>FIXADORES</td>\n",
              "      <td>MG</td>\n",
              "      <td>22.247617</td>\n",
              "      <td>2004</td>\n",
              "    </tr>\n",
              "    <tr>\n",
              "      <th>2</th>\n",
              "      <td>Empresa - 2051</td>\n",
              "      <td>TECNOLOGIA</td>\n",
              "      <td>Industria</td>\n",
              "      <td>ARRUELA LISA</td>\n",
              "      <td>FIXADORES</td>\n",
              "      <td>MG</td>\n",
              "      <td>5.259043</td>\n",
              "      <td>2004</td>\n",
              "    </tr>\n",
              "    <tr>\n",
              "      <th>3</th>\n",
              "      <td>Empresa - 3606</td>\n",
              "      <td>QUÍMICA</td>\n",
              "      <td>Industria</td>\n",
              "      <td>BARRA ROSCADA</td>\n",
              "      <td>FIXADORES</td>\n",
              "      <td>SP</td>\n",
              "      <td>6.055200</td>\n",
              "      <td>2004</td>\n",
              "    </tr>\n",
              "    <tr>\n",
              "      <th>4</th>\n",
              "      <td>Empresa - 4515</td>\n",
              "      <td>QUÍMICA</td>\n",
              "      <td>Industria</td>\n",
              "      <td>BUCHA PLÁSTICA</td>\n",
              "      <td>FIXADORES</td>\n",
              "      <td>SP</td>\n",
              "      <td>13.351716</td>\n",
              "      <td>2004</td>\n",
              "    </tr>\n",
              "    <tr>\n",
              "      <th>...</th>\n",
              "      <td>...</td>\n",
              "      <td>...</td>\n",
              "      <td>...</td>\n",
              "      <td>...</td>\n",
              "      <td>...</td>\n",
              "      <td>...</td>\n",
              "      <td>...</td>\n",
              "      <td>...</td>\n",
              "    </tr>\n",
              "    <tr>\n",
              "      <th>8963</th>\n",
              "      <td>Empresa - 3232</td>\n",
              "      <td>PROJETISTA</td>\n",
              "      <td>Intermediário</td>\n",
              "      <td>PARAFUSO SEXTAVADOS</td>\n",
              "      <td>FIXADORES</td>\n",
              "      <td>SC</td>\n",
              "      <td>12.406432</td>\n",
              "      <td>2010</td>\n",
              "    </tr>\n",
              "    <tr>\n",
              "      <th>8964</th>\n",
              "      <td>Empresa - 4658</td>\n",
              "      <td>PROJETISTA</td>\n",
              "      <td>Intermediário</td>\n",
              "      <td>PARAFUSO SEXTAVADOS</td>\n",
              "      <td>FIXADORES</td>\n",
              "      <td>SC</td>\n",
              "      <td>17.856112</td>\n",
              "      <td>2010</td>\n",
              "    </tr>\n",
              "    <tr>\n",
              "      <th>8965</th>\n",
              "      <td>Empresa - 4658</td>\n",
              "      <td>PROJETISTA</td>\n",
              "      <td>Intermediário</td>\n",
              "      <td>PARAFUSO SEXTAVADOS</td>\n",
              "      <td>FIXADORES</td>\n",
              "      <td>SC</td>\n",
              "      <td>11.572160</td>\n",
              "      <td>2010</td>\n",
              "    </tr>\n",
              "    <tr>\n",
              "      <th>8966</th>\n",
              "      <td>Empresa - 4080</td>\n",
              "      <td>PROJETISTA</td>\n",
              "      <td>Intermediário</td>\n",
              "      <td>PARAFUSO SEXTAVADOS</td>\n",
              "      <td>FIXADORES</td>\n",
              "      <td>SC</td>\n",
              "      <td>23.830576</td>\n",
              "      <td>2010</td>\n",
              "    </tr>\n",
              "    <tr>\n",
              "      <th>8967</th>\n",
              "      <td>Empresa - 4461</td>\n",
              "      <td>TÊXTIL</td>\n",
              "      <td>Industria</td>\n",
              "      <td>BUCHA PLÁSTICA</td>\n",
              "      <td>FIXADORES</td>\n",
              "      <td>SP</td>\n",
              "      <td>1.896623</td>\n",
              "      <td>2010</td>\n",
              "    </tr>\n",
              "  </tbody>\n",
              "</table>\n",
              "<p>8968 rows × 8 columns</p>\n",
              "</div>"
            ],
            "text/plain": [
              "             Cliente Segmento Cliente Agrupamento Cliente  ...  UF       Valor   Ano\n",
              "0     Empresa - 2051       TECNOLOGIA           Industria  ...  MG  140.626060  2004\n",
              "1     Empresa - 2051       TECNOLOGIA           Industria  ...  MG   22.247617  2004\n",
              "2     Empresa - 2051       TECNOLOGIA           Industria  ...  MG    5.259043  2004\n",
              "3     Empresa - 3606          QUÍMICA           Industria  ...  SP    6.055200  2004\n",
              "4     Empresa - 4515          QUÍMICA           Industria  ...  SP   13.351716  2004\n",
              "...              ...              ...                 ...  ...  ..         ...   ...\n",
              "8963  Empresa - 3232       PROJETISTA       Intermediário  ...  SC   12.406432  2010\n",
              "8964  Empresa - 4658       PROJETISTA       Intermediário  ...  SC   17.856112  2010\n",
              "8965  Empresa - 4658       PROJETISTA       Intermediário  ...  SC   11.572160  2010\n",
              "8966  Empresa - 4080       PROJETISTA       Intermediário  ...  SC   23.830576  2010\n",
              "8967  Empresa - 4461           TÊXTIL           Industria  ...  SP    1.896623  2010\n",
              "\n",
              "[8968 rows x 8 columns]"
            ]
          },
          "metadata": {
            "tags": []
          },
          "execution_count": 20
        }
      ]
    },
    {
      "cell_type": "code",
      "metadata": {
        "id": "QkQEXM6EQue6"
      },
      "source": [
        "x = new_table_nion.iloc[:,6] #Selecionando a coluna 6 para análise matemática posterior. "
      ],
      "execution_count": 28,
      "outputs": []
    },
    {
      "cell_type": "code",
      "metadata": {
        "id": "v7wM7eDLTOGi",
        "outputId": "aa35cb72-8c96-44ee-eb5b-d7cbdda262aa",
        "colab": {
          "base_uri": "https://localhost:8080/"
        }
      },
      "source": [
        "x"
      ],
      "execution_count": 29,
      "outputs": [
        {
          "output_type": "execute_result",
          "data": {
            "text/plain": [
              "0       140.626060\n",
              "1        22.247617\n",
              "2         5.259043\n",
              "3         6.055200\n",
              "4        13.351716\n",
              "           ...    \n",
              "8963     12.406432\n",
              "8964     17.856112\n",
              "8965     11.572160\n",
              "8966     23.830576\n",
              "8967      1.896623\n",
              "Name: Valor, Length: 8968, dtype: float64"
            ]
          },
          "metadata": {
            "tags": []
          },
          "execution_count": 29
        }
      ]
    },
    {
      "cell_type": "code",
      "metadata": {
        "id": "c0irn7I4Xsu2",
        "outputId": "bf17fab1-c8c8-4883-d9d3-17245c4786a8",
        "colab": {
          "base_uri": "https://localhost:8080/"
        }
      },
      "source": [
        "x.count() # Retornando a quantidade de dados não nulos. "
      ],
      "execution_count": 34,
      "outputs": [
        {
          "output_type": "execute_result",
          "data": {
            "text/plain": [
              "8968"
            ]
          },
          "metadata": {
            "tags": []
          },
          "execution_count": 34
        }
      ]
    },
    {
      "cell_type": "code",
      "metadata": {
        "id": "UFTA-8CJX1zM",
        "outputId": "f6a8014c-05cd-4052-d7dc-59eaf8893b70",
        "colab": {
          "base_uri": "https://localhost:8080/"
        }
      },
      "source": [
        "x.isnull().sum() # Retorna a quantidade de campos nulos da coluna e soma retornando o valor. "
      ],
      "execution_count": 37,
      "outputs": [
        {
          "output_type": "execute_result",
          "data": {
            "text/plain": [
              "0"
            ]
          },
          "metadata": {
            "tags": []
          },
          "execution_count": 37
        }
      ]
    },
    {
      "cell_type": "code",
      "metadata": {
        "id": "fGlED7MmYzwC",
        "outputId": "99f1bfcc-3226-4439-ae03-19ea57749271",
        "colab": {
          "base_uri": "https://localhost:8080/"
        }
      },
      "source": [
        "x.isna().sum() # Função isna retorna a quantidade de campos vazios."
      ],
      "execution_count": 40,
      "outputs": [
        {
          "output_type": "execute_result",
          "data": {
            "text/plain": [
              "0"
            ]
          },
          "metadata": {
            "tags": []
          },
          "execution_count": 40
        }
      ]
    },
    {
      "cell_type": "code",
      "metadata": {
        "id": "UczU82SOZaam",
        "outputId": "42898072-f76e-4a2c-f9f7-03c3e2bc99a3",
        "colab": {
          "base_uri": "https://localhost:8080/",
          "height": 325
        }
      },
      "source": [
        ""
      ],
      "execution_count": 42,
      "outputs": [
        {
          "output_type": "error",
          "ename": "ValueError",
          "evalue": "ignored",
          "traceback": [
            "\u001b[0;31m---------------------------------------------------------------------------\u001b[0m",
            "\u001b[0;31mValueError\u001b[0m                                Traceback (most recent call last)",
            "\u001b[0;32m<ipython-input-42-5cb9786f1128>\u001b[0m in \u001b[0;36m<module>\u001b[0;34m()\u001b[0m\n\u001b[0;32m----> 1\u001b[0;31m \u001b[0mx\u001b[0m\u001b[0;34m.\u001b[0m\u001b[0mfillna\u001b[0m\u001b[0;34m(\u001b[0m\u001b[0;34m)\u001b[0m\u001b[0;34m\u001b[0m\u001b[0;34m\u001b[0m\u001b[0m\n\u001b[0m",
            "\u001b[0;32m/usr/local/lib/python3.7/dist-packages/pandas/core/series.py\u001b[0m in \u001b[0;36mfillna\u001b[0;34m(self, value, method, axis, inplace, limit, downcast)\u001b[0m\n\u001b[1;32m   4534\u001b[0m             \u001b[0minplace\u001b[0m\u001b[0;34m=\u001b[0m\u001b[0minplace\u001b[0m\u001b[0;34m,\u001b[0m\u001b[0;34m\u001b[0m\u001b[0;34m\u001b[0m\u001b[0m\n\u001b[1;32m   4535\u001b[0m             \u001b[0mlimit\u001b[0m\u001b[0;34m=\u001b[0m\u001b[0mlimit\u001b[0m\u001b[0;34m,\u001b[0m\u001b[0;34m\u001b[0m\u001b[0;34m\u001b[0m\u001b[0m\n\u001b[0;32m-> 4536\u001b[0;31m             \u001b[0mdowncast\u001b[0m\u001b[0;34m=\u001b[0m\u001b[0mdowncast\u001b[0m\u001b[0;34m,\u001b[0m\u001b[0;34m\u001b[0m\u001b[0;34m\u001b[0m\u001b[0m\n\u001b[0m\u001b[1;32m   4537\u001b[0m         )\n\u001b[1;32m   4538\u001b[0m \u001b[0;34m\u001b[0m\u001b[0m\n",
            "\u001b[0;32m/usr/local/lib/python3.7/dist-packages/pandas/core/generic.py\u001b[0m in \u001b[0;36mfillna\u001b[0;34m(self, value, method, axis, inplace, limit, downcast)\u001b[0m\n\u001b[1;32m   6012\u001b[0m         \"\"\"\n\u001b[1;32m   6013\u001b[0m         \u001b[0minplace\u001b[0m \u001b[0;34m=\u001b[0m \u001b[0mvalidate_bool_kwarg\u001b[0m\u001b[0;34m(\u001b[0m\u001b[0minplace\u001b[0m\u001b[0;34m,\u001b[0m \u001b[0;34m\"inplace\"\u001b[0m\u001b[0;34m)\u001b[0m\u001b[0;34m\u001b[0m\u001b[0;34m\u001b[0m\u001b[0m\n\u001b[0;32m-> 6014\u001b[0;31m         \u001b[0mvalue\u001b[0m\u001b[0;34m,\u001b[0m \u001b[0mmethod\u001b[0m \u001b[0;34m=\u001b[0m \u001b[0mvalidate_fillna_kwargs\u001b[0m\u001b[0;34m(\u001b[0m\u001b[0mvalue\u001b[0m\u001b[0;34m,\u001b[0m \u001b[0mmethod\u001b[0m\u001b[0;34m)\u001b[0m\u001b[0;34m\u001b[0m\u001b[0;34m\u001b[0m\u001b[0m\n\u001b[0m\u001b[1;32m   6015\u001b[0m \u001b[0;34m\u001b[0m\u001b[0m\n\u001b[1;32m   6016\u001b[0m         \u001b[0mself\u001b[0m\u001b[0;34m.\u001b[0m\u001b[0m_consolidate_inplace\u001b[0m\u001b[0;34m(\u001b[0m\u001b[0;34m)\u001b[0m\u001b[0;34m\u001b[0m\u001b[0;34m\u001b[0m\u001b[0m\n",
            "\u001b[0;32m/usr/local/lib/python3.7/dist-packages/pandas/util/_validators.py\u001b[0m in \u001b[0;36mvalidate_fillna_kwargs\u001b[0;34m(value, method, validate_scalar_dict_value)\u001b[0m\n\u001b[1;32m    333\u001b[0m \u001b[0;34m\u001b[0m\u001b[0m\n\u001b[1;32m    334\u001b[0m     \u001b[0;32mif\u001b[0m \u001b[0mvalue\u001b[0m \u001b[0;32mis\u001b[0m \u001b[0;32mNone\u001b[0m \u001b[0;32mand\u001b[0m \u001b[0mmethod\u001b[0m \u001b[0;32mis\u001b[0m \u001b[0;32mNone\u001b[0m\u001b[0;34m:\u001b[0m\u001b[0;34m\u001b[0m\u001b[0;34m\u001b[0m\u001b[0m\n\u001b[0;32m--> 335\u001b[0;31m         \u001b[0;32mraise\u001b[0m \u001b[0mValueError\u001b[0m\u001b[0;34m(\u001b[0m\u001b[0;34m\"Must specify a fill 'value' or 'method'.\"\u001b[0m\u001b[0;34m)\u001b[0m\u001b[0;34m\u001b[0m\u001b[0;34m\u001b[0m\u001b[0m\n\u001b[0m\u001b[1;32m    336\u001b[0m     \u001b[0;32melif\u001b[0m \u001b[0mvalue\u001b[0m \u001b[0;32mis\u001b[0m \u001b[0;32mNone\u001b[0m \u001b[0;32mand\u001b[0m \u001b[0mmethod\u001b[0m \u001b[0;32mis\u001b[0m \u001b[0;32mnot\u001b[0m \u001b[0;32mNone\u001b[0m\u001b[0;34m:\u001b[0m\u001b[0;34m\u001b[0m\u001b[0;34m\u001b[0m\u001b[0m\n\u001b[1;32m    337\u001b[0m         \u001b[0mmethod\u001b[0m \u001b[0;34m=\u001b[0m \u001b[0mclean_fill_method\u001b[0m\u001b[0;34m(\u001b[0m\u001b[0mmethod\u001b[0m\u001b[0;34m)\u001b[0m\u001b[0;34m\u001b[0m\u001b[0;34m\u001b[0m\u001b[0m\n",
            "\u001b[0;31mValueError\u001b[0m: Must specify a fill 'value' or 'method'."
          ]
        }
      ]
    },
    {
      "cell_type": "code",
      "metadata": {
        "id": "xS4o9KmnVudX"
      },
      "source": [
        "()#z.fillna(z.mean()) # Subistituindo os campos da coluna contendo 'NaN', pela média.\n",
        "\n",
        "print(z.count()) # Retornando a contagem de dados não-nulos da coluna. \n",
        "print(z.isnull().sum()) # Retorna a quantidade de campos nulos da coluna.\n",
        "print(z.isna().sum()) # Função isna retorna a quantidade de campos vazios.\n",
        "\n",
        "\n",
        "\n"
      ],
      "execution_count": null,
      "outputs": []
    }
  ]
}