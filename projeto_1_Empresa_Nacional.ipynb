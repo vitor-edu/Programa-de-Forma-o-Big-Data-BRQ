{
  "nbformat": 4,
  "nbformat_minor": 0,
  "metadata": {
    "colab": {
      "name": "projeto_1_Empresa_Nacional.ipynb",
      "provenance": [],
      "authorship_tag": "ABX9TyNOrL9lIzUToh/DrzuzNF7Q",
      "include_colab_link": true
    },
    "kernelspec": {
      "name": "python3",
      "display_name": "Python 3"
    },
    "language_info": {
      "name": "python"
    }
  },
  "cells": [
    {
      "cell_type": "markdown",
      "metadata": {
        "id": "view-in-github",
        "colab_type": "text"
      },
      "source": [
        "<a href=\"https://colab.research.google.com/github/vitor-edu/Programa-de-Formacao-Big-Data-BRQ/blob/main/projeto_1_Empresa_Nacional.ipynb\" target=\"_parent\"><img src=\"https://colab.research.google.com/assets/colab-badge.svg\" alt=\"Open In Colab\"/></a>"
      ]
    },
    {
      "cell_type": "code",
      "metadata": {
        "id": "Ztmxn-IqS2vO"
      },
      "source": [
        "# Base 1 - Faculdade Inadi.xlsx"
      ],
      "execution_count": null,
      "outputs": []
    },
    {
      "cell_type": "code",
      "metadata": {
        "id": "kSJq0ynfT_64"
      },
      "source": [
        "import pandas as pd # Importando bibliotecas. \n",
        "from google.colab import files "
      ],
      "execution_count": 1,
      "outputs": []
    },
    {
      "cell_type": "code",
      "metadata": {
        "colab": {
          "resources": {
            "http://localhost:8080/nbextensions/google.colab/files.js": {
              "data": "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",
              "ok": true,
              "headers": [
                [
                  "content-type",
                  "application/javascript"
                ]
              ],
              "status": 200,
              "status_text": ""
            }
          },
          "base_uri": "https://localhost:8080/",
          "height": 72
        },
        "id": "uKeD_SVGUDW8",
        "outputId": "383d0fe6-4ed2-4d0c-d1e8-dcc0c8f89fb2"
      },
      "source": [
        "uploaded = files.upload() # Fazendo upload do arquivo. "
      ],
      "execution_count": 3,
      "outputs": [
        {
          "output_type": "display_data",
          "data": {
            "text/html": [
              "\n",
              "     <input type=\"file\" id=\"files-18457347-4c65-4262-b1e1-8df036befb69\" name=\"files[]\" multiple disabled\n",
              "        style=\"border:none\" />\n",
              "     <output id=\"result-18457347-4c65-4262-b1e1-8df036befb69\">\n",
              "      Upload widget is only available when the cell has been executed in the\n",
              "      current browser session. Please rerun this cell to enable.\n",
              "      </output>\n",
              "      <script src=\"/nbextensions/google.colab/files.js\"></script> "
            ],
            "text/plain": [
              "<IPython.core.display.HTML object>"
            ]
          },
          "metadata": {
            "tags": []
          }
        },
        {
          "output_type": "stream",
          "text": [
            "Saving Base 2 - Empresa Nacion.xlsx to Base 2 - Empresa Nacion.xlsx\n"
          ],
          "name": "stdout"
        }
      ]
    },
    {
      "cell_type": "code",
      "metadata": {
        "colab": {
          "base_uri": "https://localhost:8080/",
          "height": 419
        },
        "id": "hRyFUokDUNMh",
        "outputId": "4c51a1c9-c700-45d0-fafa-545e6b9604df"
      },
      "source": [
        "faculdade = pd.read_excel('Base 2 - Empresa Nacion.xlsx') # Comando read lendo o arquivo excel. \n",
        "faculdade"
      ],
      "execution_count": 4,
      "outputs": [
        {
          "output_type": "execute_result",
          "data": {
            "text/html": [
              "<div>\n",
              "<style scoped>\n",
              "    .dataframe tbody tr th:only-of-type {\n",
              "        vertical-align: middle;\n",
              "    }\n",
              "\n",
              "    .dataframe tbody tr th {\n",
              "        vertical-align: top;\n",
              "    }\n",
              "\n",
              "    .dataframe thead th {\n",
              "        text-align: right;\n",
              "    }\n",
              "</style>\n",
              "<table border=\"1\" class=\"dataframe\">\n",
              "  <thead>\n",
              "    <tr style=\"text-align: right;\">\n",
              "      <th></th>\n",
              "      <th>Chave Venda</th>\n",
              "      <th>Cliente</th>\n",
              "      <th>Segmento Cliente</th>\n",
              "      <th>Agrupamento Cliente</th>\n",
              "      <th>Produto</th>\n",
              "      <th>Agrupamento Produto</th>\n",
              "      <th>UF</th>\n",
              "      <th>Valor</th>\n",
              "      <th>Ano</th>\n",
              "    </tr>\n",
              "  </thead>\n",
              "  <tbody>\n",
              "    <tr>\n",
              "      <th>0</th>\n",
              "      <td>1</td>\n",
              "      <td>Empresa - 2051</td>\n",
              "      <td>TECNOLOGIA</td>\n",
              "      <td>Industria</td>\n",
              "      <td>PARAFUSO SEXTAVADOS</td>\n",
              "      <td>FIXADORES</td>\n",
              "      <td>MG</td>\n",
              "      <td>140.626060</td>\n",
              "      <td>2004</td>\n",
              "    </tr>\n",
              "    <tr>\n",
              "      <th>1</th>\n",
              "      <td>1</td>\n",
              "      <td>Empresa - 2051</td>\n",
              "      <td>TECNOLOGIA</td>\n",
              "      <td>Industria</td>\n",
              "      <td>ROSCA</td>\n",
              "      <td>FIXADORES</td>\n",
              "      <td>MG</td>\n",
              "      <td>22.247617</td>\n",
              "      <td>2004</td>\n",
              "    </tr>\n",
              "    <tr>\n",
              "      <th>2</th>\n",
              "      <td>1</td>\n",
              "      <td>Empresa - 2051</td>\n",
              "      <td>TECNOLOGIA</td>\n",
              "      <td>Industria</td>\n",
              "      <td>ARRUELA LISA</td>\n",
              "      <td>FIXADORES</td>\n",
              "      <td>MG</td>\n",
              "      <td>5.259043</td>\n",
              "      <td>2004</td>\n",
              "    </tr>\n",
              "    <tr>\n",
              "      <th>3</th>\n",
              "      <td>2</td>\n",
              "      <td>Empresa - 3606</td>\n",
              "      <td>QUÍMICA</td>\n",
              "      <td>Industria</td>\n",
              "      <td>BARRA ROSCADA</td>\n",
              "      <td>FIXADORES</td>\n",
              "      <td>SP</td>\n",
              "      <td>6.055200</td>\n",
              "      <td>2004</td>\n",
              "    </tr>\n",
              "    <tr>\n",
              "      <th>4</th>\n",
              "      <td>3</td>\n",
              "      <td>Empresa - 4515</td>\n",
              "      <td>QUÍMICA</td>\n",
              "      <td>Industria</td>\n",
              "      <td>BUCHA PLÁSTICA</td>\n",
              "      <td>FIXADORES</td>\n",
              "      <td>SP</td>\n",
              "      <td>13.351716</td>\n",
              "      <td>2004</td>\n",
              "    </tr>\n",
              "    <tr>\n",
              "      <th>...</th>\n",
              "      <td>...</td>\n",
              "      <td>...</td>\n",
              "      <td>...</td>\n",
              "      <td>...</td>\n",
              "      <td>...</td>\n",
              "      <td>...</td>\n",
              "      <td>...</td>\n",
              "      <td>...</td>\n",
              "      <td>...</td>\n",
              "    </tr>\n",
              "    <tr>\n",
              "      <th>8963</th>\n",
              "      <td>10859</td>\n",
              "      <td>Empresa - 3232</td>\n",
              "      <td>PROJETISTA</td>\n",
              "      <td>Intermediário</td>\n",
              "      <td>PARAFUSO SEXTAVADOS</td>\n",
              "      <td>FIXADORES</td>\n",
              "      <td>SC</td>\n",
              "      <td>12.406432</td>\n",
              "      <td>2010</td>\n",
              "    </tr>\n",
              "    <tr>\n",
              "      <th>8964</th>\n",
              "      <td>10860</td>\n",
              "      <td>Empresa - 4658</td>\n",
              "      <td>PROJETISTA</td>\n",
              "      <td>Intermediário</td>\n",
              "      <td>PARAFUSO SEXTAVADOS</td>\n",
              "      <td>FIXADORES</td>\n",
              "      <td>SC</td>\n",
              "      <td>17.856112</td>\n",
              "      <td>2010</td>\n",
              "    </tr>\n",
              "    <tr>\n",
              "      <th>8965</th>\n",
              "      <td>10860</td>\n",
              "      <td>Empresa - 4658</td>\n",
              "      <td>PROJETISTA</td>\n",
              "      <td>Intermediário</td>\n",
              "      <td>PARAFUSO SEXTAVADOS</td>\n",
              "      <td>FIXADORES</td>\n",
              "      <td>SC</td>\n",
              "      <td>11.572160</td>\n",
              "      <td>2010</td>\n",
              "    </tr>\n",
              "    <tr>\n",
              "      <th>8966</th>\n",
              "      <td>10861</td>\n",
              "      <td>Empresa - 4080</td>\n",
              "      <td>PROJETISTA</td>\n",
              "      <td>Intermediário</td>\n",
              "      <td>PARAFUSO SEXTAVADOS</td>\n",
              "      <td>FIXADORES</td>\n",
              "      <td>SC</td>\n",
              "      <td>23.830576</td>\n",
              "      <td>2010</td>\n",
              "    </tr>\n",
              "    <tr>\n",
              "      <th>8967</th>\n",
              "      <td>10862</td>\n",
              "      <td>Empresa - 4461</td>\n",
              "      <td>TÊXTIL</td>\n",
              "      <td>Industria</td>\n",
              "      <td>BUCHA PLÁSTICA</td>\n",
              "      <td>FIXADORES</td>\n",
              "      <td>SP</td>\n",
              "      <td>1.896623</td>\n",
              "      <td>2010</td>\n",
              "    </tr>\n",
              "  </tbody>\n",
              "</table>\n",
              "<p>8968 rows × 9 columns</p>\n",
              "</div>"
            ],
            "text/plain": [
              "      Chave Venda         Cliente Segmento Cliente  ...  UF       Valor   Ano\n",
              "0               1  Empresa - 2051       TECNOLOGIA  ...  MG  140.626060  2004\n",
              "1               1  Empresa - 2051       TECNOLOGIA  ...  MG   22.247617  2004\n",
              "2               1  Empresa - 2051       TECNOLOGIA  ...  MG    5.259043  2004\n",
              "3               2  Empresa - 3606          QUÍMICA  ...  SP    6.055200  2004\n",
              "4               3  Empresa - 4515          QUÍMICA  ...  SP   13.351716  2004\n",
              "...           ...             ...              ...  ...  ..         ...   ...\n",
              "8963        10859  Empresa - 3232       PROJETISTA  ...  SC   12.406432  2010\n",
              "8964        10860  Empresa - 4658       PROJETISTA  ...  SC   17.856112  2010\n",
              "8965        10860  Empresa - 4658       PROJETISTA  ...  SC   11.572160  2010\n",
              "8966        10861  Empresa - 4080       PROJETISTA  ...  SC   23.830576  2010\n",
              "8967        10862  Empresa - 4461           TÊXTIL  ...  SP    1.896623  2010\n",
              "\n",
              "[8968 rows x 9 columns]"
            ]
          },
          "metadata": {
            "tags": []
          },
          "execution_count": 4
        }
      ]
    },
    {
      "cell_type": "code",
      "metadata": {
        "id": "5AE4OW1AUaAk",
        "colab": {
          "base_uri": "https://localhost:8080/",
          "height": 359
        },
        "outputId": "f2f9497f-8a9c-469d-e0c4-818e6d07b0bf"
      },
      "source": [
        "faculdade.head(10)"
      ],
      "execution_count": 7,
      "outputs": [
        {
          "output_type": "execute_result",
          "data": {
            "text/html": [
              "<div>\n",
              "<style scoped>\n",
              "    .dataframe tbody tr th:only-of-type {\n",
              "        vertical-align: middle;\n",
              "    }\n",
              "\n",
              "    .dataframe tbody tr th {\n",
              "        vertical-align: top;\n",
              "    }\n",
              "\n",
              "    .dataframe thead th {\n",
              "        text-align: right;\n",
              "    }\n",
              "</style>\n",
              "<table border=\"1\" class=\"dataframe\">\n",
              "  <thead>\n",
              "    <tr style=\"text-align: right;\">\n",
              "      <th></th>\n",
              "      <th>Chave Venda</th>\n",
              "      <th>Cliente</th>\n",
              "      <th>Segmento Cliente</th>\n",
              "      <th>Agrupamento Cliente</th>\n",
              "      <th>Produto</th>\n",
              "      <th>Agrupamento Produto</th>\n",
              "      <th>UF</th>\n",
              "      <th>Valor</th>\n",
              "      <th>Ano</th>\n",
              "    </tr>\n",
              "  </thead>\n",
              "  <tbody>\n",
              "    <tr>\n",
              "      <th>0</th>\n",
              "      <td>1</td>\n",
              "      <td>Empresa - 2051</td>\n",
              "      <td>TECNOLOGIA</td>\n",
              "      <td>Industria</td>\n",
              "      <td>PARAFUSO SEXTAVADOS</td>\n",
              "      <td>FIXADORES</td>\n",
              "      <td>MG</td>\n",
              "      <td>140.626060</td>\n",
              "      <td>2004</td>\n",
              "    </tr>\n",
              "    <tr>\n",
              "      <th>1</th>\n",
              "      <td>1</td>\n",
              "      <td>Empresa - 2051</td>\n",
              "      <td>TECNOLOGIA</td>\n",
              "      <td>Industria</td>\n",
              "      <td>ROSCA</td>\n",
              "      <td>FIXADORES</td>\n",
              "      <td>MG</td>\n",
              "      <td>22.247617</td>\n",
              "      <td>2004</td>\n",
              "    </tr>\n",
              "    <tr>\n",
              "      <th>2</th>\n",
              "      <td>1</td>\n",
              "      <td>Empresa - 2051</td>\n",
              "      <td>TECNOLOGIA</td>\n",
              "      <td>Industria</td>\n",
              "      <td>ARRUELA LISA</td>\n",
              "      <td>FIXADORES</td>\n",
              "      <td>MG</td>\n",
              "      <td>5.259043</td>\n",
              "      <td>2004</td>\n",
              "    </tr>\n",
              "    <tr>\n",
              "      <th>3</th>\n",
              "      <td>2</td>\n",
              "      <td>Empresa - 3606</td>\n",
              "      <td>QUÍMICA</td>\n",
              "      <td>Industria</td>\n",
              "      <td>BARRA ROSCADA</td>\n",
              "      <td>FIXADORES</td>\n",
              "      <td>SP</td>\n",
              "      <td>6.055200</td>\n",
              "      <td>2004</td>\n",
              "    </tr>\n",
              "    <tr>\n",
              "      <th>4</th>\n",
              "      <td>3</td>\n",
              "      <td>Empresa - 4515</td>\n",
              "      <td>QUÍMICA</td>\n",
              "      <td>Industria</td>\n",
              "      <td>BUCHA PLÁSTICA</td>\n",
              "      <td>FIXADORES</td>\n",
              "      <td>SP</td>\n",
              "      <td>13.351716</td>\n",
              "      <td>2004</td>\n",
              "    </tr>\n",
              "    <tr>\n",
              "      <th>5</th>\n",
              "      <td>4</td>\n",
              "      <td>Empresa - 2302</td>\n",
              "      <td>QUÍMICA</td>\n",
              "      <td>Industria</td>\n",
              "      <td>BUCHA PLÁSTICA</td>\n",
              "      <td>FIXADORES</td>\n",
              "      <td>SP</td>\n",
              "      <td>9.097602</td>\n",
              "      <td>2004</td>\n",
              "    </tr>\n",
              "    <tr>\n",
              "      <th>6</th>\n",
              "      <td>5</td>\n",
              "      <td>Empresa - 347</td>\n",
              "      <td>QUÍMICA</td>\n",
              "      <td>Industria</td>\n",
              "      <td>BUCHA METAL</td>\n",
              "      <td>FIXADORES</td>\n",
              "      <td>SP</td>\n",
              "      <td>36.196640</td>\n",
              "      <td>2004</td>\n",
              "    </tr>\n",
              "    <tr>\n",
              "      <th>7</th>\n",
              "      <td>6</td>\n",
              "      <td>Empresa - 4798</td>\n",
              "      <td>REPRESENTANTE</td>\n",
              "      <td>Intermediário</td>\n",
              "      <td>PARAFUSO SEXTAVADOS</td>\n",
              "      <td>FIXADORES</td>\n",
              "      <td>RJ</td>\n",
              "      <td>1.883840</td>\n",
              "      <td>2004</td>\n",
              "    </tr>\n",
              "    <tr>\n",
              "      <th>8</th>\n",
              "      <td>7</td>\n",
              "      <td>Empresa - 4508</td>\n",
              "      <td>AUTOMOTIVA</td>\n",
              "      <td>Industria</td>\n",
              "      <td>PARAFUSO SEXTAVADOS</td>\n",
              "      <td>FIXADORES</td>\n",
              "      <td>SP</td>\n",
              "      <td>452.545464</td>\n",
              "      <td>2004</td>\n",
              "    </tr>\n",
              "    <tr>\n",
              "      <th>9</th>\n",
              "      <td>7</td>\n",
              "      <td>Empresa - 4508</td>\n",
              "      <td>AUTOMOTIVA</td>\n",
              "      <td>Industria</td>\n",
              "      <td>ARRUELA PRESSÃO</td>\n",
              "      <td>FIXADORES</td>\n",
              "      <td>SP</td>\n",
              "      <td>452.545464</td>\n",
              "      <td>2004</td>\n",
              "    </tr>\n",
              "  </tbody>\n",
              "</table>\n",
              "</div>"
            ],
            "text/plain": [
              "   Chave Venda         Cliente Segmento Cliente  ...  UF       Valor   Ano\n",
              "0            1  Empresa - 2051       TECNOLOGIA  ...  MG  140.626060  2004\n",
              "1            1  Empresa - 2051       TECNOLOGIA  ...  MG   22.247617  2004\n",
              "2            1  Empresa - 2051       TECNOLOGIA  ...  MG    5.259043  2004\n",
              "3            2  Empresa - 3606          QUÍMICA  ...  SP    6.055200  2004\n",
              "4            3  Empresa - 4515          QUÍMICA  ...  SP   13.351716  2004\n",
              "5            4  Empresa - 2302          QUÍMICA  ...  SP    9.097602  2004\n",
              "6            5   Empresa - 347          QUÍMICA  ...  SP   36.196640  2004\n",
              "7            6  Empresa - 4798    REPRESENTANTE  ...  RJ    1.883840  2004\n",
              "8            7  Empresa - 4508       AUTOMOTIVA  ...  SP  452.545464  2004\n",
              "9            7  Empresa - 4508       AUTOMOTIVA  ...  SP  452.545464  2004\n",
              "\n",
              "[10 rows x 9 columns]"
            ]
          },
          "metadata": {
            "tags": []
          },
          "execution_count": 7
        }
      ]
    },
    {
      "cell_type": "code",
      "metadata": {
        "colab": {
          "base_uri": "https://localhost:8080/"
        },
        "id": "D7OiElCVrj2-",
        "outputId": "7db2522f-ecd4-4e43-de01-ad4244a27d66"
      },
      "source": [
        "faculdade.columns"
      ],
      "execution_count": null,
      "outputs": [
        {
          "output_type": "execute_result",
          "data": {
            "text/plain": [
              "Index(['Chave Venda', 'Cliente', 'Segmento Cliente', 'Agrupamento Cliente',\n",
              "       'Produto', 'Agrupamento Produto', 'UF', 'Valor', 'Ano'],\n",
              "      dtype='object')"
            ]
          },
          "metadata": {
            "tags": []
          },
          "execution_count": 5
        }
      ]
    },
    {
      "cell_type": "code",
      "metadata": {
        "id": "jtL6hwAhsI7w"
      },
      "source": [
        "chave_venda =  faculdade[\"Chave Venda\"]"
      ],
      "execution_count": 8,
      "outputs": []
    },
    {
      "cell_type": "code",
      "metadata": {
        "colab": {
          "base_uri": "https://localhost:8080/"
        },
        "id": "NJGsxxLfwAye",
        "outputId": "44b6f237-cf9a-42b9-fbc3-8e8624ffb0c2"
      },
      "source": [
        "chave_venda.shape "
      ],
      "execution_count": 9,
      "outputs": [
        {
          "output_type": "execute_result",
          "data": {
            "text/plain": [
              "(8968,)"
            ]
          },
          "metadata": {
            "tags": []
          },
          "execution_count": 9
        }
      ]
    },
    {
      "cell_type": "code",
      "metadata": {
        "id": "IMBTCXSgxqsm"
      },
      "source": [
        "uf = faculdade['UF']\n",
        "valor = faculdade['Valor'] \n",
        "ano = faculdade['Ano']\n",
        "cliente = faculdade['Cliente']\n",
        "segmento_cliente = faculdade['Segmento Cliente']\n",
        "agrup_cliente = faculdade['Agrupamento Cliente']\n",
        "produto = faculdade['Produto']\n",
        "agrup_produto = faculdade['Agrupamento Produto']  "
      ],
      "execution_count": 11,
      "outputs": []
    },
    {
      "cell_type": "code",
      "metadata": {
        "id": "L1ZmbEtbasXe"
      },
      "source": [
        ""
      ],
      "execution_count": null,
      "outputs": []
    }
  ]
}