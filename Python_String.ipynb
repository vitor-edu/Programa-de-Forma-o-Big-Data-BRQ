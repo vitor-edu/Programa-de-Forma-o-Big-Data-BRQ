{
  "nbformat": 4,
  "nbformat_minor": 0,
  "metadata": {
    "colab": {
      "name": "Python_String.ipynb",
      "provenance": [],
      "collapsed_sections": [],
      "include_colab_link": true
    },
    "kernelspec": {
      "name": "python3",
      "display_name": "Python 3"
    },
    "language_info": {
      "name": "python"
    }
  },
  "cells": [
    {
      "cell_type": "markdown",
      "metadata": {
        "id": "view-in-github",
        "colab_type": "text"
      },
      "source": [
        "<a href=\"https://colab.research.google.com/github/vitor-edu/Programa-de-Formacao-Big-Data-BRQ/blob/main/Python_String.ipynb\" target=\"_parent\"><img src=\"https://colab.research.google.com/assets/colab-badge.svg\" alt=\"Open In Colab\"/></a>"
      ]
    },
    {
      "cell_type": "code",
      "metadata": {
        "colab": {
          "base_uri": "https://localhost:8080/"
        },
        "id": "SYqe78wWFwoF",
        "outputId": "caef4bce-6342-4c86-f697-3278f5623aa7"
      },
      "source": [
        "from google.colab import drive  # importando arquivo do drive. \n",
        "\n",
        "drive.mount('/content/drive')\n",
        "infile = open('/content/drive/My Drive/qbdata.txt','r') # O caminho do arquivo no drive. \n",
        "#x = infile.read()\n",
        "x = infile.readlines()  # Comando 'readlines' para o corpus ficar mais apresentável com quebra de linhas.\n"
      ],
      "execution_count": null,
      "outputs": [
        {
          "output_type": "stream",
          "text": [
            "Mounted at /content/drive\n"
          ],
          "name": "stdout"
        }
      ]
    },
    {
      "cell_type": "markdown",
      "metadata": {
        "id": "Js1Fzsn4MTte"
      },
      "source": [
        "### Manipulação de string"
      ]
    },
    {
      "cell_type": "code",
      "metadata": {
        "colab": {
          "base_uri": "https://localhost:8080/"
        },
        "id": "y24NQckjKCHr",
        "outputId": "6d558d95-e145-4dc6-d7e0-d0280dbfa685"
      },
      "source": [
        "x # Variável contendo o conjunto de dados. "
      ],
      "execution_count": null,
      "outputs": [
        {
          "output_type": "execute_result",
          "data": {
            "text/plain": [
              "['First Name, Last Name, Position, Team, Completions, Attempts, Yards, TDs Ints, Comp%, Rating\\n',\n",
              " 'Colt McCoy QB, CLE  135 222 1576    6   9   60.8%   74.5\\n',\n",
              " 'Josh Freeman QB, TB 291 474 3451    25  6   61.4%   95.9\\n',\n",
              " 'Michael Vick QB, PHI    233 372 3018    21  6   62.6%   100.2\\n',\n",
              " 'Matt Schaub QB, HOU 365 574 4370    24  12  63.6%   92.0\\n',\n",
              " 'Philip Rivers QB, SD    357 541 4710    30  13  66.0%   101.8\\n',\n",
              " 'Matt Hasselbeck QB, SEA 266 444 3001    12  17  59.9%   73.2\\n',\n",
              " 'Jimmy Clausen QB, CAR   157 299 1558    3   9   52.5%   58.4\\n',\n",
              " 'Joe Flacco QB, BAL  306 489 3622    25  10  62.6%   93.6\\n',\n",
              " 'Kyle Orton QB, DEN  293 498 3653    20  9   58.8%   87.5\\n',\n",
              " 'Jason Campbell QB, OAK  194 329 2387    13  8   59.0%   84.5\\n',\n",
              " 'Peyton Manning QB, IND  450 679 4700    33  17  66.3%   91.9\\n',\n",
              " 'Drew Brees QB, NO   448 658 4620    33  22  68.1%   90.9\\n',\n",
              " 'Matt Ryan QB, ATL   357 571 3705    28  9   62.5%   91.0\\n',\n",
              " 'Matt Cassel QB, KC  262 450 3116    27  7   58.2%   93.0\\n',\n",
              " 'Mark Sanchez QB, NYJ    278 507 3291    17  13  54.8%   75.3\\n',\n",
              " 'Brett Favre QB, MIN 217 358 2509    11  19  60.6%   69.9\\n',\n",
              " 'David Garrard QB, JAC   236 366 2734    23  15  64.5%   90.8\\n',\n",
              " 'Eli Manning QB, NYG 339 539 4002    31  25  62.9%   85.3\\n',\n",
              " 'Carson Palmer QB, CIN   362 586 3970    26  20  61.8%   82.4\\n',\n",
              " 'Alex Smith QB, SF   204 342 2370    14  10  59.6%   82.1\\n',\n",
              " 'Chad Henne QB, MIA  301 490 3301    15  19  61.4%   75.4\\n',\n",
              " 'Tony Romo QB, DAL   148 213 1605    11  7   69.5%   94.9\\n',\n",
              " 'Jay Cutler QB, CHI  261 432 3274    23  16  60.4%   86.3\\n',\n",
              " 'Jon Kitna QB, DAL   209 318 2365    16  12  65.7%   88.9\\n',\n",
              " 'Tom Brady QB, NE    324 492 3900    36  4   65.9%   111.0\\n',\n",
              " 'Ben Roethlisberger QB, PIT  240 389 3200    17  5   61.7%   97.0\\n',\n",
              " 'Kerry Collins QB, TEN   160 278 1823    14  8   57.6%   82.2\\n',\n",
              " 'Derek Anderson QB, ARI  169 327 2065    7   10  51.7%   65.9\\n',\n",
              " 'Ryan Fitzpatrick QB, BUF    255 441 3000    23  15  57.8%   81.8\\n',\n",
              " 'Donovan McNabb QB, WAS  275 472 3377    14  15  58.3%   77.1\\n',\n",
              " 'Kevin Kolb QB, PHI  115 189 1197    7   7   60.8%   76.1\\n',\n",
              " 'Aaron Rodgers QB, GB    312 475 3922    28  11  65.7%   101.2\\n',\n",
              " 'Sam Bradford QB, STL    354 590 3512    18  15  60.0%   76.5\\n',\n",
              " 'Shaun Hill QB, DET  257 416 2686    16  12  61.8%   81.3']"
            ]
          },
          "metadata": {
            "tags": []
          },
          "execution_count": 3
        }
      ]
    },
    {
      "cell_type": "code",
      "metadata": {
        "colab": {
          "base_uri": "https://localhost:8080/"
        },
        "id": "LC-UiQqsNAJY",
        "outputId": "ee07f86e-7fac-432d-e9a8-aa02b6f82e08"
      },
      "source": [
        "type(x) # Verificando o tipo da variável x. "
      ],
      "execution_count": null,
      "outputs": [
        {
          "output_type": "execute_result",
          "data": {
            "text/plain": [
              "list"
            ]
          },
          "metadata": {
            "tags": []
          },
          "execution_count": 4
        }
      ]
    },
    {
      "cell_type": "code",
      "metadata": {
        "colab": {
          "base_uri": "https://localhost:8080/"
        },
        "id": "nJoFPwSsMp6l",
        "outputId": "4ed6209a-961d-4420-f744-c7fda3cadd04"
      },
      "source": [
        "len(x) # Número de itens que a compõem a lista. "
      ],
      "execution_count": null,
      "outputs": [
        {
          "output_type": "execute_result",
          "data": {
            "text/plain": [
              "35"
            ]
          },
          "metadata": {
            "tags": []
          },
          "execution_count": 5
        }
      ]
    },
    {
      "cell_type": "code",
      "metadata": {
        "colab": {
          "base_uri": "https://localhost:8080/",
          "height": 163
        },
        "id": "yi1ofuo3OJWx",
        "outputId": "0b6bc773-cb94-49d2-bc2f-eddbdc15824d"
      },
      "source": [
        "string = \"\".join(x) # Convertendo lista em string para testar as funções de manipulação.   \n",
        "string"
      ],
      "execution_count": null,
      "outputs": [
        {
          "output_type": "execute_result",
          "data": {
            "application/vnd.google.colaboratory.intrinsic+json": {
              "type": "string"
            },
            "text/plain": [
              "'First Name, Last Name, Position, Team, Completions, Attempts, Yards, TDs Ints, Comp%, Rating\\nColt McCoy QB, CLE  135 222 1576    6   9   60.8%   74.5\\nJosh Freeman QB, TB 291 474 3451    25  6   61.4%   95.9\\nMichael Vick QB, PHI    233 372 3018    21  6   62.6%   100.2\\nMatt Schaub QB, HOU 365 574 4370    24  12  63.6%   92.0\\nPhilip Rivers QB, SD    357 541 4710    30  13  66.0%   101.8\\nMatt Hasselbeck QB, SEA 266 444 3001    12  17  59.9%   73.2\\nJimmy Clausen QB, CAR   157 299 1558    3   9   52.5%   58.4\\nJoe Flacco QB, BAL  306 489 3622    25  10  62.6%   93.6\\nKyle Orton QB, DEN  293 498 3653    20  9   58.8%   87.5\\nJason Campbell QB, OAK  194 329 2387    13  8   59.0%   84.5\\nPeyton Manning QB, IND  450 679 4700    33  17  66.3%   91.9\\nDrew Brees QB, NO   448 658 4620    33  22  68.1%   90.9\\nMatt Ryan QB, ATL   357 571 3705    28  9   62.5%   91.0\\nMatt Cassel QB, KC  262 450 3116    27  7   58.2%   93.0\\nMark Sanchez QB, NYJ    278 507 3291    17  13  54.8%   75.3\\nBrett Favre QB, MIN 217 358 2509    11  19  60.6%   69.9\\nDavid Garrard QB, JAC   236 366 2734    23  15  64.5%   90.8\\nEli Manning QB, NYG 339 539 4002    31  25  62.9%   85.3\\nCarson Palmer QB, CIN   362 586 3970    26  20  61.8%   82.4\\nAlex Smith QB, SF   204 342 2370    14  10  59.6%   82.1\\nChad Henne QB, MIA  301 490 3301    15  19  61.4%   75.4\\nTony Romo QB, DAL   148 213 1605    11  7   69.5%   94.9\\nJay Cutler QB, CHI  261 432 3274    23  16  60.4%   86.3\\nJon Kitna QB, DAL   209 318 2365    16  12  65.7%   88.9\\nTom Brady QB, NE    324 492 3900    36  4   65.9%   111.0\\nBen Roethlisberger QB, PIT  240 389 3200    17  5   61.7%   97.0\\nKerry Collins QB, TEN   160 278 1823    14  8   57.6%   82.2\\nDerek Anderson QB, ARI  169 327 2065    7   10  51.7%   65.9\\nRyan Fitzpatrick QB, BUF    255 441 3000    23  15  57.8%   81.8\\nDonovan McNabb QB, WAS  275 472 3377    14  15  58.3%   77.1\\nKevin Kolb QB, PHI  115 189 1197    7   7   60.8%   76.1\\nAaron Rodgers QB, GB    312 475 3922    28  11  65.7%   101.2\\nSam Bradford QB, STL    354 590 3512    18  15  60.0%   76.5\\nShaun Hill QB, DET  257 416 2686    16  12  61.8%   81.3'"
            ]
          },
          "metadata": {
            "tags": []
          },
          "execution_count": 6
        }
      ]
    },
    {
      "cell_type": "code",
      "metadata": {
        "colab": {
          "base_uri": "https://localhost:8080/"
        },
        "id": "JqK-k4foQ9jO",
        "outputId": "95497a9f-dc1e-4e26-9ca6-40f01a938dc2"
      },
      "source": [
        "type(string) # Verificando tipo de variável. "
      ],
      "execution_count": null,
      "outputs": [
        {
          "output_type": "execute_result",
          "data": {
            "text/plain": [
              "str"
            ]
          },
          "metadata": {
            "tags": []
          },
          "execution_count": 7
        }
      ]
    },
    {
      "cell_type": "code",
      "metadata": {
        "colab": {
          "base_uri": "https://localhost:8080/"
        },
        "id": "lj9TwKgpVGf9",
        "outputId": "c8abf41c-a08b-4af7-be30-7c7eb017cbe9"
      },
      "source": [
        "len(string) # Verificando o tamanho da variável, depois da conversão mudou para 2016. "
      ],
      "execution_count": null,
      "outputs": [
        {
          "output_type": "execute_result",
          "data": {
            "text/plain": [
              "2106"
            ]
          },
          "metadata": {
            "tags": []
          },
          "execution_count": 8
        }
      ]
    },
    {
      "cell_type": "code",
      "metadata": {
        "colab": {
          "base_uri": "https://localhost:8080/"
        },
        "id": "9jKWC_7IVYzg",
        "outputId": "f6aa3f17-d0a4-4efd-92a8-a7e99793ea4c"
      },
      "source": [
        "# Verifica quantas vezes um caracter ou uma sequência de caracter,  aparece e transforma o resultado em uma lista. \n",
        "\n",
        "conj_string = [string.count(\"E\"), string.count(\"B\"), string.count(\"9\"), string.count(\"A\")] \n",
        "conj_string\n"
      ],
      "execution_count": null,
      "outputs": [
        {
          "output_type": "execute_result",
          "data": {
            "text/plain": [
              "[7, 43, 55, 15]"
            ]
          },
          "metadata": {
            "tags": []
          },
          "execution_count": 9
        }
      ]
    },
    {
      "cell_type": "code",
      "metadata": {
        "colab": {
          "base_uri": "https://localhost:8080/"
        },
        "id": "AORQmoWXYmO4",
        "outputId": "b65a4a0f-cb08-4604-e613-0e3258fa1819"
      },
      "source": [
        "type(conj_string) # Verificando tipo de string. "
      ],
      "execution_count": null,
      "outputs": [
        {
          "output_type": "execute_result",
          "data": {
            "text/plain": [
              "list"
            ]
          },
          "metadata": {
            "tags": []
          },
          "execution_count": 10
        }
      ]
    },
    {
      "cell_type": "code",
      "metadata": {
        "colab": {
          "base_uri": "https://localhost:8080/",
          "height": 163
        },
        "id": "3GV_9Yx_Ytrs",
        "outputId": "4afbca6f-cd3d-4011-e747-798dc9e6c122"
      },
      "source": [
        "string"
      ],
      "execution_count": null,
      "outputs": [
        {
          "output_type": "execute_result",
          "data": {
            "application/vnd.google.colaboratory.intrinsic+json": {
              "type": "string"
            },
            "text/plain": [
              "'First Name, Last Name, Position, Team, Completions, Attempts, Yards, TDs Ints, Comp%, Rating\\nColt McCoy QB, CLE  135 222 1576    6   9   60.8%   74.5\\nJosh Freeman QB, TB 291 474 3451    25  6   61.4%   95.9\\nMichael Vick QB, PHI    233 372 3018    21  6   62.6%   100.2\\nMatt Schaub QB, HOU 365 574 4370    24  12  63.6%   92.0\\nPhilip Rivers QB, SD    357 541 4710    30  13  66.0%   101.8\\nMatt Hasselbeck QB, SEA 266 444 3001    12  17  59.9%   73.2\\nJimmy Clausen QB, CAR   157 299 1558    3   9   52.5%   58.4\\nJoe Flacco QB, BAL  306 489 3622    25  10  62.6%   93.6\\nKyle Orton QB, DEN  293 498 3653    20  9   58.8%   87.5\\nJason Campbell QB, OAK  194 329 2387    13  8   59.0%   84.5\\nPeyton Manning QB, IND  450 679 4700    33  17  66.3%   91.9\\nDrew Brees QB, NO   448 658 4620    33  22  68.1%   90.9\\nMatt Ryan QB, ATL   357 571 3705    28  9   62.5%   91.0\\nMatt Cassel QB, KC  262 450 3116    27  7   58.2%   93.0\\nMark Sanchez QB, NYJ    278 507 3291    17  13  54.8%   75.3\\nBrett Favre QB, MIN 217 358 2509    11  19  60.6%   69.9\\nDavid Garrard QB, JAC   236 366 2734    23  15  64.5%   90.8\\nEli Manning QB, NYG 339 539 4002    31  25  62.9%   85.3\\nCarson Palmer QB, CIN   362 586 3970    26  20  61.8%   82.4\\nAlex Smith QB, SF   204 342 2370    14  10  59.6%   82.1\\nChad Henne QB, MIA  301 490 3301    15  19  61.4%   75.4\\nTony Romo QB, DAL   148 213 1605    11  7   69.5%   94.9\\nJay Cutler QB, CHI  261 432 3274    23  16  60.4%   86.3\\nJon Kitna QB, DAL   209 318 2365    16  12  65.7%   88.9\\nTom Brady QB, NE    324 492 3900    36  4   65.9%   111.0\\nBen Roethlisberger QB, PIT  240 389 3200    17  5   61.7%   97.0\\nKerry Collins QB, TEN   160 278 1823    14  8   57.6%   82.2\\nDerek Anderson QB, ARI  169 327 2065    7   10  51.7%   65.9\\nRyan Fitzpatrick QB, BUF    255 441 3000    23  15  57.8%   81.8\\nDonovan McNabb QB, WAS  275 472 3377    14  15  58.3%   77.1\\nKevin Kolb QB, PHI  115 189 1197    7   7   60.8%   76.1\\nAaron Rodgers QB, GB    312 475 3922    28  11  65.7%   101.2\\nSam Bradford QB, STL    354 590 3512    18  15  60.0%   76.5\\nShaun Hill QB, DET  257 416 2686    16  12  61.8%   81.3'"
            ]
          },
          "metadata": {
            "tags": []
          },
          "execution_count": 11
        }
      ]
    },
    {
      "cell_type": "code",
      "metadata": {
        "colab": {
          "base_uri": "https://localhost:8080/"
        },
        "id": "lB4jZ4x_ZBiJ",
        "outputId": "72623ba5-b775-4725-8409-fc1b6365b120"
      },
      "source": [
        "string.startswith(\"First Name, Last Name, Position, Team\") # Verifica se a string começa com a sequência estipulada, retornando verdadeiro ou falso."
      ],
      "execution_count": null,
      "outputs": [
        {
          "output_type": "execute_result",
          "data": {
            "text/plain": [
              "True"
            ]
          },
          "metadata": {
            "tags": []
          },
          "execution_count": 12
        }
      ]
    },
    {
      "cell_type": "code",
      "metadata": {
        "colab": {
          "base_uri": "https://localhost:8080/"
        },
        "id": "glBV0fXiZyer",
        "outputId": "963ee6ed-628d-4560-e9e3-dc8ab9ff8e19"
      },
      "source": [
        "string.isalpha() # Verifica se o conteúdo da variável é somente afanumérico e retorna verdadeiro ou falso. "
      ],
      "execution_count": null,
      "outputs": [
        {
          "output_type": "execute_result",
          "data": {
            "text/plain": [
              "False"
            ]
          },
          "metadata": {
            "tags": []
          },
          "execution_count": 13
        }
      ]
    },
    {
      "cell_type": "code",
      "metadata": {
        "colab": {
          "base_uri": "https://localhost:8080/"
        },
        "id": "sRycXrZSbwyL",
        "outputId": "3b5ef649-827e-4bee-d6bf-44b231453dda"
      },
      "source": [
        "string.isupper() # Verifica se a string, tem somente letras maiúsculas e retorna um valor boleano. "
      ],
      "execution_count": null,
      "outputs": [
        {
          "output_type": "execute_result",
          "data": {
            "text/plain": [
              "False"
            ]
          },
          "metadata": {
            "tags": []
          },
          "execution_count": 14
        }
      ]
    },
    {
      "cell_type": "code",
      "metadata": {
        "colab": {
          "base_uri": "https://localhost:8080/",
          "height": 163
        },
        "id": "xoln2ZVncRRR",
        "outputId": "30707be5-058f-46e5-80f2-722930aeb3af"
      },
      "source": [
        "string_upper = string.upper() # Transforma todas as letras em maiúsculas e atribui a outra variável. \n",
        "string_upper"
      ],
      "execution_count": null,
      "outputs": [
        {
          "output_type": "execute_result",
          "data": {
            "application/vnd.google.colaboratory.intrinsic+json": {
              "type": "string"
            },
            "text/plain": [
              "'FIRST NAME, LAST NAME, POSITION, TEAM, COMPLETIONS, ATTEMPTS, YARDS, TDS INTS, COMP%, RATING\\nCOLT MCCOY QB, CLE  135 222 1576    6   9   60.8%   74.5\\nJOSH FREEMAN QB, TB 291 474 3451    25  6   61.4%   95.9\\nMICHAEL VICK QB, PHI    233 372 3018    21  6   62.6%   100.2\\nMATT SCHAUB QB, HOU 365 574 4370    24  12  63.6%   92.0\\nPHILIP RIVERS QB, SD    357 541 4710    30  13  66.0%   101.8\\nMATT HASSELBECK QB, SEA 266 444 3001    12  17  59.9%   73.2\\nJIMMY CLAUSEN QB, CAR   157 299 1558    3   9   52.5%   58.4\\nJOE FLACCO QB, BAL  306 489 3622    25  10  62.6%   93.6\\nKYLE ORTON QB, DEN  293 498 3653    20  9   58.8%   87.5\\nJASON CAMPBELL QB, OAK  194 329 2387    13  8   59.0%   84.5\\nPEYTON MANNING QB, IND  450 679 4700    33  17  66.3%   91.9\\nDREW BREES QB, NO   448 658 4620    33  22  68.1%   90.9\\nMATT RYAN QB, ATL   357 571 3705    28  9   62.5%   91.0\\nMATT CASSEL QB, KC  262 450 3116    27  7   58.2%   93.0\\nMARK SANCHEZ QB, NYJ    278 507 3291    17  13  54.8%   75.3\\nBRETT FAVRE QB, MIN 217 358 2509    11  19  60.6%   69.9\\nDAVID GARRARD QB, JAC   236 366 2734    23  15  64.5%   90.8\\nELI MANNING QB, NYG 339 539 4002    31  25  62.9%   85.3\\nCARSON PALMER QB, CIN   362 586 3970    26  20  61.8%   82.4\\nALEX SMITH QB, SF   204 342 2370    14  10  59.6%   82.1\\nCHAD HENNE QB, MIA  301 490 3301    15  19  61.4%   75.4\\nTONY ROMO QB, DAL   148 213 1605    11  7   69.5%   94.9\\nJAY CUTLER QB, CHI  261 432 3274    23  16  60.4%   86.3\\nJON KITNA QB, DAL   209 318 2365    16  12  65.7%   88.9\\nTOM BRADY QB, NE    324 492 3900    36  4   65.9%   111.0\\nBEN ROETHLISBERGER QB, PIT  240 389 3200    17  5   61.7%   97.0\\nKERRY COLLINS QB, TEN   160 278 1823    14  8   57.6%   82.2\\nDEREK ANDERSON QB, ARI  169 327 2065    7   10  51.7%   65.9\\nRYAN FITZPATRICK QB, BUF    255 441 3000    23  15  57.8%   81.8\\nDONOVAN MCNABB QB, WAS  275 472 3377    14  15  58.3%   77.1\\nKEVIN KOLB QB, PHI  115 189 1197    7   7   60.8%   76.1\\nAARON RODGERS QB, GB    312 475 3922    28  11  65.7%   101.2\\nSAM BRADFORD QB, STL    354 590 3512    18  15  60.0%   76.5\\nSHAUN HILL QB, DET  257 416 2686    16  12  61.8%   81.3'"
            ]
          },
          "metadata": {
            "tags": []
          },
          "execution_count": 15
        }
      ]
    },
    {
      "cell_type": "code",
      "metadata": {
        "colab": {
          "base_uri": "https://localhost:8080/",
          "height": 163
        },
        "id": "cT8TPxnYcmon",
        "outputId": "7d2d7783-4608-4685-8e11-8ba0250a0ac3"
      },
      "source": [
        "string"
      ],
      "execution_count": null,
      "outputs": [
        {
          "output_type": "execute_result",
          "data": {
            "application/vnd.google.colaboratory.intrinsic+json": {
              "type": "string"
            },
            "text/plain": [
              "'First Name, Last Name, Position, Team, Completions, Attempts, Yards, TDs Ints, Comp%, Rating\\nColt McCoy QB, CLE  135 222 1576    6   9   60.8%   74.5\\nJosh Freeman QB, TB 291 474 3451    25  6   61.4%   95.9\\nMichael Vick QB, PHI    233 372 3018    21  6   62.6%   100.2\\nMatt Schaub QB, HOU 365 574 4370    24  12  63.6%   92.0\\nPhilip Rivers QB, SD    357 541 4710    30  13  66.0%   101.8\\nMatt Hasselbeck QB, SEA 266 444 3001    12  17  59.9%   73.2\\nJimmy Clausen QB, CAR   157 299 1558    3   9   52.5%   58.4\\nJoe Flacco QB, BAL  306 489 3622    25  10  62.6%   93.6\\nKyle Orton QB, DEN  293 498 3653    20  9   58.8%   87.5\\nJason Campbell QB, OAK  194 329 2387    13  8   59.0%   84.5\\nPeyton Manning QB, IND  450 679 4700    33  17  66.3%   91.9\\nDrew Brees QB, NO   448 658 4620    33  22  68.1%   90.9\\nMatt Ryan QB, ATL   357 571 3705    28  9   62.5%   91.0\\nMatt Cassel QB, KC  262 450 3116    27  7   58.2%   93.0\\nMark Sanchez QB, NYJ    278 507 3291    17  13  54.8%   75.3\\nBrett Favre QB, MIN 217 358 2509    11  19  60.6%   69.9\\nDavid Garrard QB, JAC   236 366 2734    23  15  64.5%   90.8\\nEli Manning QB, NYG 339 539 4002    31  25  62.9%   85.3\\nCarson Palmer QB, CIN   362 586 3970    26  20  61.8%   82.4\\nAlex Smith QB, SF   204 342 2370    14  10  59.6%   82.1\\nChad Henne QB, MIA  301 490 3301    15  19  61.4%   75.4\\nTony Romo QB, DAL   148 213 1605    11  7   69.5%   94.9\\nJay Cutler QB, CHI  261 432 3274    23  16  60.4%   86.3\\nJon Kitna QB, DAL   209 318 2365    16  12  65.7%   88.9\\nTom Brady QB, NE    324 492 3900    36  4   65.9%   111.0\\nBen Roethlisberger QB, PIT  240 389 3200    17  5   61.7%   97.0\\nKerry Collins QB, TEN   160 278 1823    14  8   57.6%   82.2\\nDerek Anderson QB, ARI  169 327 2065    7   10  51.7%   65.9\\nRyan Fitzpatrick QB, BUF    255 441 3000    23  15  57.8%   81.8\\nDonovan McNabb QB, WAS  275 472 3377    14  15  58.3%   77.1\\nKevin Kolb QB, PHI  115 189 1197    7   7   60.8%   76.1\\nAaron Rodgers QB, GB    312 475 3922    28  11  65.7%   101.2\\nSam Bradford QB, STL    354 590 3512    18  15  60.0%   76.5\\nShaun Hill QB, DET  257 416 2686    16  12  61.8%   81.3'"
            ]
          },
          "metadata": {
            "tags": []
          },
          "execution_count": 16
        }
      ]
    },
    {
      "cell_type": "code",
      "metadata": {
        "colab": {
          "base_uri": "https://localhost:8080/",
          "height": 163
        },
        "id": "u49QdzRXdD1w",
        "outputId": "6aab969a-4727-4b3e-97dd-14e7ffe379b6"
      },
      "source": [
        "string.swapcase() # Invertendo os dados de maiúsculo para minúsculo e vice versa. "
      ],
      "execution_count": null,
      "outputs": [
        {
          "output_type": "execute_result",
          "data": {
            "application/vnd.google.colaboratory.intrinsic+json": {
              "type": "string"
            },
            "text/plain": [
              "'fIRST nAME, lAST nAME, pOSITION, tEAM, cOMPLETIONS, aTTEMPTS, yARDS, tdS iNTS, cOMP%, rATING\\ncOLT mCcOY qb, cle  135 222 1576    6   9   60.8%   74.5\\njOSH fREEMAN qb, tb 291 474 3451    25  6   61.4%   95.9\\nmICHAEL vICK qb, phi    233 372 3018    21  6   62.6%   100.2\\nmATT sCHAUB qb, hou 365 574 4370    24  12  63.6%   92.0\\npHILIP rIVERS qb, sd    357 541 4710    30  13  66.0%   101.8\\nmATT hASSELBECK qb, sea 266 444 3001    12  17  59.9%   73.2\\njIMMY cLAUSEN qb, car   157 299 1558    3   9   52.5%   58.4\\njOE fLACCO qb, bal  306 489 3622    25  10  62.6%   93.6\\nkYLE oRTON qb, den  293 498 3653    20  9   58.8%   87.5\\njASON cAMPBELL qb, oak  194 329 2387    13  8   59.0%   84.5\\npEYTON mANNING qb, ind  450 679 4700    33  17  66.3%   91.9\\ndREW bREES qb, no   448 658 4620    33  22  68.1%   90.9\\nmATT rYAN qb, atl   357 571 3705    28  9   62.5%   91.0\\nmATT cASSEL qb, kc  262 450 3116    27  7   58.2%   93.0\\nmARK sANCHEZ qb, nyj    278 507 3291    17  13  54.8%   75.3\\nbRETT fAVRE qb, min 217 358 2509    11  19  60.6%   69.9\\ndAVID gARRARD qb, jac   236 366 2734    23  15  64.5%   90.8\\neLI mANNING qb, nyg 339 539 4002    31  25  62.9%   85.3\\ncARSON pALMER qb, cin   362 586 3970    26  20  61.8%   82.4\\naLEX sMITH qb, sf   204 342 2370    14  10  59.6%   82.1\\ncHAD hENNE qb, mia  301 490 3301    15  19  61.4%   75.4\\ntONY rOMO qb, dal   148 213 1605    11  7   69.5%   94.9\\njAY cUTLER qb, chi  261 432 3274    23  16  60.4%   86.3\\njON kITNA qb, dal   209 318 2365    16  12  65.7%   88.9\\ntOM bRADY qb, ne    324 492 3900    36  4   65.9%   111.0\\nbEN rOETHLISBERGER qb, pit  240 389 3200    17  5   61.7%   97.0\\nkERRY cOLLINS qb, ten   160 278 1823    14  8   57.6%   82.2\\ndEREK aNDERSON qb, ari  169 327 2065    7   10  51.7%   65.9\\nrYAN fITZPATRICK qb, buf    255 441 3000    23  15  57.8%   81.8\\ndONOVAN mCnABB qb, was  275 472 3377    14  15  58.3%   77.1\\nkEVIN kOLB qb, phi  115 189 1197    7   7   60.8%   76.1\\naARON rODGERS qb, gb    312 475 3922    28  11  65.7%   101.2\\nsAM bRADFORD qb, stl    354 590 3512    18  15  60.0%   76.5\\nsHAUN hILL qb, det  257 416 2686    16  12  61.8%   81.3'"
            ]
          },
          "metadata": {
            "tags": []
          },
          "execution_count": 17
        }
      ]
    },
    {
      "cell_type": "code",
      "metadata": {
        "colab": {
          "base_uri": "https://localhost:8080/"
        },
        "id": "AnDguSfgdtrY",
        "outputId": "cd81626e-1d43-47d6-f116-a1004ad72316"
      },
      "source": [
        "  lista_string = string.split() # Comabndo split Transforma a string em lista\n",
        "  lista_string"
      ],
      "execution_count": null,
      "outputs": [
        {
          "output_type": "execute_result",
          "data": {
            "text/plain": [
              "['First',\n",
              " 'Name,',\n",
              " 'Last',\n",
              " 'Name,',\n",
              " 'Position,',\n",
              " 'Team,',\n",
              " 'Completions,',\n",
              " 'Attempts,',\n",
              " 'Yards,',\n",
              " 'TDs',\n",
              " 'Ints,',\n",
              " 'Comp%,',\n",
              " 'Rating',\n",
              " 'Colt',\n",
              " 'McCoy',\n",
              " 'QB,',\n",
              " 'CLE',\n",
              " '135',\n",
              " '222',\n",
              " '1576',\n",
              " '6',\n",
              " '9',\n",
              " '60.8%',\n",
              " '74.5',\n",
              " 'Josh',\n",
              " 'Freeman',\n",
              " 'QB,',\n",
              " 'TB',\n",
              " '291',\n",
              " '474',\n",
              " '3451',\n",
              " '25',\n",
              " '6',\n",
              " '61.4%',\n",
              " '95.9',\n",
              " 'Michael',\n",
              " 'Vick',\n",
              " 'QB,',\n",
              " 'PHI',\n",
              " '233',\n",
              " '372',\n",
              " '3018',\n",
              " '21',\n",
              " '6',\n",
              " '62.6%',\n",
              " '100.2',\n",
              " 'Matt',\n",
              " 'Schaub',\n",
              " 'QB,',\n",
              " 'HOU',\n",
              " '365',\n",
              " '574',\n",
              " '4370',\n",
              " '24',\n",
              " '12',\n",
              " '63.6%',\n",
              " '92.0',\n",
              " 'Philip',\n",
              " 'Rivers',\n",
              " 'QB,',\n",
              " 'SD',\n",
              " '357',\n",
              " '541',\n",
              " '4710',\n",
              " '30',\n",
              " '13',\n",
              " '66.0%',\n",
              " '101.8',\n",
              " 'Matt',\n",
              " 'Hasselbeck',\n",
              " 'QB,',\n",
              " 'SEA',\n",
              " '266',\n",
              " '444',\n",
              " '3001',\n",
              " '12',\n",
              " '17',\n",
              " '59.9%',\n",
              " '73.2',\n",
              " 'Jimmy',\n",
              " 'Clausen',\n",
              " 'QB,',\n",
              " 'CAR',\n",
              " '157',\n",
              " '299',\n",
              " '1558',\n",
              " '3',\n",
              " '9',\n",
              " '52.5%',\n",
              " '58.4',\n",
              " 'Joe',\n",
              " 'Flacco',\n",
              " 'QB,',\n",
              " 'BAL',\n",
              " '306',\n",
              " '489',\n",
              " '3622',\n",
              " '25',\n",
              " '10',\n",
              " '62.6%',\n",
              " '93.6',\n",
              " 'Kyle',\n",
              " 'Orton',\n",
              " 'QB,',\n",
              " 'DEN',\n",
              " '293',\n",
              " '498',\n",
              " '3653',\n",
              " '20',\n",
              " '9',\n",
              " '58.8%',\n",
              " '87.5',\n",
              " 'Jason',\n",
              " 'Campbell',\n",
              " 'QB,',\n",
              " 'OAK',\n",
              " '194',\n",
              " '329',\n",
              " '2387',\n",
              " '13',\n",
              " '8',\n",
              " '59.0%',\n",
              " '84.5',\n",
              " 'Peyton',\n",
              " 'Manning',\n",
              " 'QB,',\n",
              " 'IND',\n",
              " '450',\n",
              " '679',\n",
              " '4700',\n",
              " '33',\n",
              " '17',\n",
              " '66.3%',\n",
              " '91.9',\n",
              " 'Drew',\n",
              " 'Brees',\n",
              " 'QB,',\n",
              " 'NO',\n",
              " '448',\n",
              " '658',\n",
              " '4620',\n",
              " '33',\n",
              " '22',\n",
              " '68.1%',\n",
              " '90.9',\n",
              " 'Matt',\n",
              " 'Ryan',\n",
              " 'QB,',\n",
              " 'ATL',\n",
              " '357',\n",
              " '571',\n",
              " '3705',\n",
              " '28',\n",
              " '9',\n",
              " '62.5%',\n",
              " '91.0',\n",
              " 'Matt',\n",
              " 'Cassel',\n",
              " 'QB,',\n",
              " 'KC',\n",
              " '262',\n",
              " '450',\n",
              " '3116',\n",
              " '27',\n",
              " '7',\n",
              " '58.2%',\n",
              " '93.0',\n",
              " 'Mark',\n",
              " 'Sanchez',\n",
              " 'QB,',\n",
              " 'NYJ',\n",
              " '278',\n",
              " '507',\n",
              " '3291',\n",
              " '17',\n",
              " '13',\n",
              " '54.8%',\n",
              " '75.3',\n",
              " 'Brett',\n",
              " 'Favre',\n",
              " 'QB,',\n",
              " 'MIN',\n",
              " '217',\n",
              " '358',\n",
              " '2509',\n",
              " '11',\n",
              " '19',\n",
              " '60.6%',\n",
              " '69.9',\n",
              " 'David',\n",
              " 'Garrard',\n",
              " 'QB,',\n",
              " 'JAC',\n",
              " '236',\n",
              " '366',\n",
              " '2734',\n",
              " '23',\n",
              " '15',\n",
              " '64.5%',\n",
              " '90.8',\n",
              " 'Eli',\n",
              " 'Manning',\n",
              " 'QB,',\n",
              " 'NYG',\n",
              " '339',\n",
              " '539',\n",
              " '4002',\n",
              " '31',\n",
              " '25',\n",
              " '62.9%',\n",
              " '85.3',\n",
              " 'Carson',\n",
              " 'Palmer',\n",
              " 'QB,',\n",
              " 'CIN',\n",
              " '362',\n",
              " '586',\n",
              " '3970',\n",
              " '26',\n",
              " '20',\n",
              " '61.8%',\n",
              " '82.4',\n",
              " 'Alex',\n",
              " 'Smith',\n",
              " 'QB,',\n",
              " 'SF',\n",
              " '204',\n",
              " '342',\n",
              " '2370',\n",
              " '14',\n",
              " '10',\n",
              " '59.6%',\n",
              " '82.1',\n",
              " 'Chad',\n",
              " 'Henne',\n",
              " 'QB,',\n",
              " 'MIA',\n",
              " '301',\n",
              " '490',\n",
              " '3301',\n",
              " '15',\n",
              " '19',\n",
              " '61.4%',\n",
              " '75.4',\n",
              " 'Tony',\n",
              " 'Romo',\n",
              " 'QB,',\n",
              " 'DAL',\n",
              " '148',\n",
              " '213',\n",
              " '1605',\n",
              " '11',\n",
              " '7',\n",
              " '69.5%',\n",
              " '94.9',\n",
              " 'Jay',\n",
              " 'Cutler',\n",
              " 'QB,',\n",
              " 'CHI',\n",
              " '261',\n",
              " '432',\n",
              " '3274',\n",
              " '23',\n",
              " '16',\n",
              " '60.4%',\n",
              " '86.3',\n",
              " 'Jon',\n",
              " 'Kitna',\n",
              " 'QB,',\n",
              " 'DAL',\n",
              " '209',\n",
              " '318',\n",
              " '2365',\n",
              " '16',\n",
              " '12',\n",
              " '65.7%',\n",
              " '88.9',\n",
              " 'Tom',\n",
              " 'Brady',\n",
              " 'QB,',\n",
              " 'NE',\n",
              " '324',\n",
              " '492',\n",
              " '3900',\n",
              " '36',\n",
              " '4',\n",
              " '65.9%',\n",
              " '111.0',\n",
              " 'Ben',\n",
              " 'Roethlisberger',\n",
              " 'QB,',\n",
              " 'PIT',\n",
              " '240',\n",
              " '389',\n",
              " '3200',\n",
              " '17',\n",
              " '5',\n",
              " '61.7%',\n",
              " '97.0',\n",
              " 'Kerry',\n",
              " 'Collins',\n",
              " 'QB,',\n",
              " 'TEN',\n",
              " '160',\n",
              " '278',\n",
              " '1823',\n",
              " '14',\n",
              " '8',\n",
              " '57.6%',\n",
              " '82.2',\n",
              " 'Derek',\n",
              " 'Anderson',\n",
              " 'QB,',\n",
              " 'ARI',\n",
              " '169',\n",
              " '327',\n",
              " '2065',\n",
              " '7',\n",
              " '10',\n",
              " '51.7%',\n",
              " '65.9',\n",
              " 'Ryan',\n",
              " 'Fitzpatrick',\n",
              " 'QB,',\n",
              " 'BUF',\n",
              " '255',\n",
              " '441',\n",
              " '3000',\n",
              " '23',\n",
              " '15',\n",
              " '57.8%',\n",
              " '81.8',\n",
              " 'Donovan',\n",
              " 'McNabb',\n",
              " 'QB,',\n",
              " 'WAS',\n",
              " '275',\n",
              " '472',\n",
              " '3377',\n",
              " '14',\n",
              " '15',\n",
              " '58.3%',\n",
              " '77.1',\n",
              " 'Kevin',\n",
              " 'Kolb',\n",
              " 'QB,',\n",
              " 'PHI',\n",
              " '115',\n",
              " '189',\n",
              " '1197',\n",
              " '7',\n",
              " '7',\n",
              " '60.8%',\n",
              " '76.1',\n",
              " 'Aaron',\n",
              " 'Rodgers',\n",
              " 'QB,',\n",
              " 'GB',\n",
              " '312',\n",
              " '475',\n",
              " '3922',\n",
              " '28',\n",
              " '11',\n",
              " '65.7%',\n",
              " '101.2',\n",
              " 'Sam',\n",
              " 'Bradford',\n",
              " 'QB,',\n",
              " 'STL',\n",
              " '354',\n",
              " '590',\n",
              " '3512',\n",
              " '18',\n",
              " '15',\n",
              " '60.0%',\n",
              " '76.5',\n",
              " 'Shaun',\n",
              " 'Hill',\n",
              " 'QB,',\n",
              " 'DET',\n",
              " '257',\n",
              " '416',\n",
              " '2686',\n",
              " '16',\n",
              " '12',\n",
              " '61.8%',\n",
              " '81.3']"
            ]
          },
          "metadata": {
            "tags": []
          },
          "execution_count": 18
        }
      ]
    },
    {
      "cell_type": "code",
      "metadata": {
        "colab": {
          "base_uri": "https://localhost:8080/",
          "height": 163
        },
        "id": "mKX1tQ4DfA9W",
        "outputId": "12177c4e-629a-4ed5-a4aa-4c91dd1d0ba1"
      },
      "source": [
        "string"
      ],
      "execution_count": null,
      "outputs": [
        {
          "output_type": "execute_result",
          "data": {
            "application/vnd.google.colaboratory.intrinsic+json": {
              "type": "string"
            },
            "text/plain": [
              "'First Name, Last Name, Position, Team, Completions, Attempts, Yards, TDs Ints, Comp%, Rating\\nColt McCoy QB, CLE  135 222 1576    6   9   60.8%   74.5\\nJosh Freeman QB, TB 291 474 3451    25  6   61.4%   95.9\\nMichael Vick QB, PHI    233 372 3018    21  6   62.6%   100.2\\nMatt Schaub QB, HOU 365 574 4370    24  12  63.6%   92.0\\nPhilip Rivers QB, SD    357 541 4710    30  13  66.0%   101.8\\nMatt Hasselbeck QB, SEA 266 444 3001    12  17  59.9%   73.2\\nJimmy Clausen QB, CAR   157 299 1558    3   9   52.5%   58.4\\nJoe Flacco QB, BAL  306 489 3622    25  10  62.6%   93.6\\nKyle Orton QB, DEN  293 498 3653    20  9   58.8%   87.5\\nJason Campbell QB, OAK  194 329 2387    13  8   59.0%   84.5\\nPeyton Manning QB, IND  450 679 4700    33  17  66.3%   91.9\\nDrew Brees QB, NO   448 658 4620    33  22  68.1%   90.9\\nMatt Ryan QB, ATL   357 571 3705    28  9   62.5%   91.0\\nMatt Cassel QB, KC  262 450 3116    27  7   58.2%   93.0\\nMark Sanchez QB, NYJ    278 507 3291    17  13  54.8%   75.3\\nBrett Favre QB, MIN 217 358 2509    11  19  60.6%   69.9\\nDavid Garrard QB, JAC   236 366 2734    23  15  64.5%   90.8\\nEli Manning QB, NYG 339 539 4002    31  25  62.9%   85.3\\nCarson Palmer QB, CIN   362 586 3970    26  20  61.8%   82.4\\nAlex Smith QB, SF   204 342 2370    14  10  59.6%   82.1\\nChad Henne QB, MIA  301 490 3301    15  19  61.4%   75.4\\nTony Romo QB, DAL   148 213 1605    11  7   69.5%   94.9\\nJay Cutler QB, CHI  261 432 3274    23  16  60.4%   86.3\\nJon Kitna QB, DAL   209 318 2365    16  12  65.7%   88.9\\nTom Brady QB, NE    324 492 3900    36  4   65.9%   111.0\\nBen Roethlisberger QB, PIT  240 389 3200    17  5   61.7%   97.0\\nKerry Collins QB, TEN   160 278 1823    14  8   57.6%   82.2\\nDerek Anderson QB, ARI  169 327 2065    7   10  51.7%   65.9\\nRyan Fitzpatrick QB, BUF    255 441 3000    23  15  57.8%   81.8\\nDonovan McNabb QB, WAS  275 472 3377    14  15  58.3%   77.1\\nKevin Kolb QB, PHI  115 189 1197    7   7   60.8%   76.1\\nAaron Rodgers QB, GB    312 475 3922    28  11  65.7%   101.2\\nSam Bradford QB, STL    354 590 3512    18  15  60.0%   76.5\\nShaun Hill QB, DET  257 416 2686    16  12  61.8%   81.3'"
            ]
          },
          "metadata": {
            "tags": []
          },
          "execution_count": 19
        }
      ]
    },
    {
      "cell_type": "code",
      "metadata": {
        "colab": {
          "base_uri": "https://localhost:8080/",
          "height": 35
        },
        "id": "QnpsJZjgfMMl",
        "outputId": "7baa23ed-4af7-41d1-fcf9-5238d5384db6"
      },
      "source": [
        "string_fatiada = string [30:100]# Fatiamento de string. \n",
        "string_fatiada"
      ],
      "execution_count": null,
      "outputs": [
        {
          "output_type": "execute_result",
          "data": {
            "application/vnd.google.colaboratory.intrinsic+json": {
              "type": "string"
            },
            "text/plain": [
              "'n, Team, Completions, Attempts, Yards, TDs Ints, Comp%, Rating\\nColt Mc'"
            ]
          },
          "metadata": {
            "tags": []
          },
          "execution_count": 20
        }
      ]
    },
    {
      "cell_type": "code",
      "metadata": {
        "id": "VoIu-HSiwa-g"
      },
      "source": [
        "string_fatiada_2 = string[20:150]\n",
        "string_fatiada_3 = string[10:150]\n",
        "string_fatiada_4 = string[24:150]"
      ],
      "execution_count": null,
      "outputs": []
    },
    {
      "cell_type": "code",
      "metadata": {
        "id": "GBYgpES8v-uu",
        "colab": {
          "base_uri": "https://localhost:8080/",
          "height": 90
        },
        "outputId": "c49e86f6-8dd3-4227-8c53-2fd4bd82278f"
      },
      "source": [
        "concatena_string = string_fatiada + string_fatiada_2 + string_fatiada_3 + string_fatiada_4 # concatenando as strings das variavéis\n",
        "concatena_string"
      ],
      "execution_count": null,
      "outputs": [
        {
          "output_type": "execute_result",
          "data": {
            "application/vnd.google.colaboratory.intrinsic+json": {
              "type": "string"
            },
            "text/plain": [
              "'n, Team, Completions, Attempts, Yards, TDs Ints, Comp%, Rating\\nColt Mce, Position, Team, Completions, Attempts, Yards, TDs Ints, Comp%, Rating\\nColt McCoy QB, CLE  135 222 1576    6   9   60.8%   74.5\\n, Last Name, Position, Team, Completions, Attempts, Yards, TDs Ints, Comp%, Rating\\nColt McCoy QB, CLE  135 222 1576    6   9   60.8%   74.5\\nosition, Team, Completions, Attempts, Yards, TDs Ints, Comp%, Rating\\nColt McCoy QB, CLE  135 222 1576    6   9   60.8%   74.5\\n'"
            ]
          },
          "metadata": {
            "tags": []
          },
          "execution_count": 26
        }
      ]
    },
    {
      "cell_type": "code",
      "metadata": {
        "id": "RS6MBqGjxaZw",
        "colab": {
          "base_uri": "https://localhost:8080/"
        },
        "outputId": "332ad0d2-4cae-4661-945a-c25a097b81ae"
      },
      "source": [
        "print(concatena_string.replace('o', '(@)'))  # Troca todas as letras 'o' po '@'. "
      ],
      "execution_count": null,
      "outputs": [
        {
          "output_type": "stream",
          "text": [
            "n, Team, C(@)mpleti(@)ns, Attempts, Yards, TDs Ints, C(@)mp%, Rating\n",
            "C(@)lt Mce, P(@)siti(@)n, Team, C(@)mpleti(@)ns, Attempts, Yards, TDs Ints, C(@)mp%, Rating\n",
            "C(@)lt McC(@)y QB, CLE  135 222 1576    6   9   60.8%   74.5\n",
            ", Last Name, P(@)siti(@)n, Team, C(@)mpleti(@)ns, Attempts, Yards, TDs Ints, C(@)mp%, Rating\n",
            "C(@)lt McC(@)y QB, CLE  135 222 1576    6   9   60.8%   74.5\n",
            "(@)siti(@)n, Team, C(@)mpleti(@)ns, Attempts, Yards, TDs Ints, C(@)mp%, Rating\n",
            "C(@)lt McC(@)y QB, CLE  135 222 1576    6   9   60.8%   74.5\n",
            "\n"
          ],
          "name": "stdout"
        }
      ]
    }
  ]
}