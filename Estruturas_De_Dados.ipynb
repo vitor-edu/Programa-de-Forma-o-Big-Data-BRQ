{
  "nbformat": 4,
  "nbformat_minor": 0,
  "metadata": {
    "colab": {
      "name": "Estruturas_De_Dados.ipynb",
      "provenance": [],
      "collapsed_sections": [],
      "authorship_tag": "ABX9TyPc4xky1Ayk6UlsCrFyy1SQ",
      "include_colab_link": true
    },
    "kernelspec": {
      "name": "python3",
      "display_name": "Python 3"
    },
    "language_info": {
      "name": "python"
    }
  },
  "cells": [
    {
      "cell_type": "markdown",
      "metadata": {
        "id": "view-in-github",
        "colab_type": "text"
      },
      "source": [
        "<a href=\"https://colab.research.google.com/github/vitor-edu/Programa-de-Formacao-Big-Data-BRQ/blob/main/Estruturas_De_Dados.ipynb\" target=\"_parent\"><img src=\"https://colab.research.google.com/assets/colab-badge.svg\" alt=\"Open In Colab\"/></a>"
      ]
    },
    {
      "cell_type": "code",
      "metadata": {
        "colab": {
          "base_uri": "https://localhost:8080/"
        },
        "id": "gzKksTAwzHCV",
        "outputId": "09157801-8078-4a3d-bfbb-5ae298134ad9"
      },
      "source": [
        "#tipos de variavéis comprando com a função type e retornando boleano\n",
        "\n",
        "variavel_1 = 3.5\n",
        "print(type(variavel_1) is float)\n",
        "\n",
        "variavel_2 = 10\n",
        "print(type(variavel_2) is int)\n",
        "\n",
        "variavel_3 = True\n",
        "print(type(variavel_3) is bool)\n",
        "\n",
        "variavel_4 = 'palavra'\n",
        "print(type(variavel_4) is str)"
      ],
      "execution_count": 1,
      "outputs": [
        {
          "output_type": "stream",
          "text": [
            "True\n",
            "True\n",
            "True\n",
            "True\n"
          ],
          "name": "stdout"
        }
      ]
    },
    {
      "cell_type": "code",
      "metadata": {
        "id": "js2ZzPeFQPpY"
      },
      "source": [
        ""
      ],
      "execution_count": null,
      "outputs": []
    },
    {
      "cell_type": "markdown",
      "metadata": {
        "id": "8pUGakEa0i9v"
      },
      "source": [
        "### Estruturas de dados - Listas"
      ]
    },
    {
      "cell_type": "code",
      "metadata": {
        "colab": {
          "base_uri": "https://localhost:8080/"
        },
        "id": "E98eNwzt0iBP",
        "outputId": "6c183c91-f998-475f-d1c0-2211bb3da189"
      },
      "source": [
        "# criando uma lista com tipos de dados diferentes\n",
        "x = [23, 45, 65, 65, 'vitor', 'Gabriela', 'Guilherme', 'Nelson', 'Lais', 3, 5, 7, [34,54,65], 'Nilane',\n",
        "     ['Maria', 'Claudio', 45,78], 65, 'Marilia', ['Corinthians', 'São paulo', 'paulemiras'], 67, 87, 90]\n",
        "x"
      ],
      "execution_count": 2,
      "outputs": [
        {
          "output_type": "execute_result",
          "data": {
            "text/plain": [
              "[23,\n",
              " 45,\n",
              " 65,\n",
              " 65,\n",
              " 'vitor',\n",
              " 'Gabriela',\n",
              " 'Guilherme',\n",
              " 'Nelson',\n",
              " 'Lais',\n",
              " 3,\n",
              " 5,\n",
              " 7,\n",
              " [34, 54, 65],\n",
              " 'Nilane',\n",
              " ['Maria', 'Claudio', 45, 78],\n",
              " 65,\n",
              " 'Marilia',\n",
              " ['Corinthians', 'São paulo', 'paulemiras'],\n",
              " 67,\n",
              " 87,\n",
              " 90]"
            ]
          },
          "metadata": {
            "tags": []
          },
          "execution_count": 2
        }
      ]
    },
    {
      "cell_type": "code",
      "metadata": {
        "colab": {
          "base_uri": "https://localhost:8080/"
        },
        "id": "IDQJWOhF4_pd",
        "outputId": "036aecbd-60d3-4b1f-9c83-6e430db30edf"
      },
      "source": [
        "type(x) # verificando o tipo de arquivo"
      ],
      "execution_count": 3,
      "outputs": [
        {
          "output_type": "execute_result",
          "data": {
            "text/plain": [
              "list"
            ]
          },
          "metadata": {
            "tags": []
          },
          "execution_count": 3
        }
      ]
    },
    {
      "cell_type": "code",
      "metadata": {
        "colab": {
          "base_uri": "https://localhost:8080/"
        },
        "id": "hc-vee2T6SuQ",
        "outputId": "bb4d1e3d-8fa0-41c8-fb23-e986b73b8db4"
      },
      "source": [
        "len(x) # verificando o tamanho da lista"
      ],
      "execution_count": 4,
      "outputs": [
        {
          "output_type": "execute_result",
          "data": {
            "text/plain": [
              "21"
            ]
          },
          "metadata": {
            "tags": []
          },
          "execution_count": 4
        }
      ]
    },
    {
      "cell_type": "code",
      "metadata": {
        "id": "PVaVylIx3GFG",
        "colab": {
          "base_uri": "https://localhost:8080/"
        },
        "outputId": "36fe454a-d60c-42bc-e9d3-4770de282c92"
      },
      "source": [
        "#criando uma lista com tipos de dados numericos\n",
        "z = [10,4,76,65,34,65,65,34,54,34,56,78,98,88,76,76,23,54,567,4567,2345,333,33,567,654,59,876,789,22,44,]\n",
        "z"
      ],
      "execution_count": 5,
      "outputs": [
        {
          "output_type": "execute_result",
          "data": {
            "text/plain": [
              "[10,\n",
              " 4,\n",
              " 76,\n",
              " 65,\n",
              " 34,\n",
              " 65,\n",
              " 65,\n",
              " 34,\n",
              " 54,\n",
              " 34,\n",
              " 56,\n",
              " 78,\n",
              " 98,\n",
              " 88,\n",
              " 76,\n",
              " 76,\n",
              " 23,\n",
              " 54,\n",
              " 567,\n",
              " 4567,\n",
              " 2345,\n",
              " 333,\n",
              " 33,\n",
              " 567,\n",
              " 654,\n",
              " 59,\n",
              " 876,\n",
              " 789,\n",
              " 22,\n",
              " 44]"
            ]
          },
          "metadata": {
            "tags": []
          },
          "execution_count": 5
        }
      ]
    },
    {
      "cell_type": "code",
      "metadata": {
        "id": "Lrwb26223_YA",
        "colab": {
          "base_uri": "https://localhost:8080/"
        },
        "outputId": "c481325c-b2ef-4f46-e402-cddafc39514a"
      },
      "source": [
        "max(z) # retorna o maior valor da lista"
      ],
      "execution_count": 6,
      "outputs": [
        {
          "output_type": "execute_result",
          "data": {
            "text/plain": [
              "4567"
            ]
          },
          "metadata": {
            "tags": []
          },
          "execution_count": 6
        }
      ]
    },
    {
      "cell_type": "code",
      "metadata": {
        "id": "jYM61ZUT3Ly7",
        "colab": {
          "base_uri": "https://localhost:8080/"
        },
        "outputId": "59664d09-425d-4e30-d896-c61cb63803f9"
      },
      "source": [
        "min(z) # retorna o menor valor da lista"
      ],
      "execution_count": 7,
      "outputs": [
        {
          "output_type": "execute_result",
          "data": {
            "text/plain": [
              "4"
            ]
          },
          "metadata": {
            "tags": []
          },
          "execution_count": 7
        }
      ]
    },
    {
      "cell_type": "code",
      "metadata": {
        "id": "dGXZa9X-5M9M",
        "colab": {
          "base_uri": "https://localhost:8080/"
        },
        "outputId": "3d48cee2-8a29-4e14-e42e-79953114dcf3"
      },
      "source": [
        "sum(z) # retorna a soma dos valores d list\n"
      ],
      "execution_count": 8,
      "outputs": [
        {
          "output_type": "execute_result",
          "data": {
            "text/plain": [
              "11846"
            ]
          },
          "metadata": {
            "tags": []
          },
          "execution_count": 8
        }
      ]
    },
    {
      "cell_type": "code",
      "metadata": {
        "id": "mhOZUYMy5wev",
        "colab": {
          "base_uri": "https://localhost:8080/"
        },
        "outputId": "6f05199b-2561-4857-c859-3ee1785e7a68"
      },
      "source": [
        "z.append(989) # add o valor ao final da lista\n",
        "z"
      ],
      "execution_count": 9,
      "outputs": [
        {
          "output_type": "execute_result",
          "data": {
            "text/plain": [
              "[10,\n",
              " 4,\n",
              " 76,\n",
              " 65,\n",
              " 34,\n",
              " 65,\n",
              " 65,\n",
              " 34,\n",
              " 54,\n",
              " 34,\n",
              " 56,\n",
              " 78,\n",
              " 98,\n",
              " 88,\n",
              " 76,\n",
              " 76,\n",
              " 23,\n",
              " 54,\n",
              " 567,\n",
              " 4567,\n",
              " 2345,\n",
              " 333,\n",
              " 33,\n",
              " 567,\n",
              " 654,\n",
              " 59,\n",
              " 876,\n",
              " 789,\n",
              " 22,\n",
              " 44,\n",
              " 989]"
            ]
          },
          "metadata": {
            "tags": []
          },
          "execution_count": 9
        }
      ]
    },
    {
      "cell_type": "code",
      "metadata": {
        "id": "Gpb62lpE78zx"
      },
      "source": [
        "z.extend(x) # add a o conteúdo da lista x dentro da lista z "
      ],
      "execution_count": 10,
      "outputs": []
    },
    {
      "cell_type": "code",
      "metadata": {
        "id": "DGC7jxVA808a",
        "colab": {
          "base_uri": "https://localhost:8080/"
        },
        "outputId": "e60eb8bd-6ee1-42c7-ab17-4cd861c9859e"
      },
      "source": [
        "z"
      ],
      "execution_count": 11,
      "outputs": [
        {
          "output_type": "execute_result",
          "data": {
            "text/plain": [
              "[10,\n",
              " 4,\n",
              " 76,\n",
              " 65,\n",
              " 34,\n",
              " 65,\n",
              " 65,\n",
              " 34,\n",
              " 54,\n",
              " 34,\n",
              " 56,\n",
              " 78,\n",
              " 98,\n",
              " 88,\n",
              " 76,\n",
              " 76,\n",
              " 23,\n",
              " 54,\n",
              " 567,\n",
              " 4567,\n",
              " 2345,\n",
              " 333,\n",
              " 33,\n",
              " 567,\n",
              " 654,\n",
              " 59,\n",
              " 876,\n",
              " 789,\n",
              " 22,\n",
              " 44,\n",
              " 989,\n",
              " 23,\n",
              " 45,\n",
              " 65,\n",
              " 65,\n",
              " 'vitor',\n",
              " 'Gabriela',\n",
              " 'Guilherme',\n",
              " 'Nelson',\n",
              " 'Lais',\n",
              " 3,\n",
              " 5,\n",
              " 7,\n",
              " [34, 54, 65],\n",
              " 'Nilane',\n",
              " ['Maria', 'Claudio', 45, 78],\n",
              " 65,\n",
              " 'Marilia',\n",
              " ['Corinthians', 'São paulo', 'paulemiras'],\n",
              " 67,\n",
              " 87,\n",
              " 90]"
            ]
          },
          "metadata": {
            "tags": []
          },
          "execution_count": 11
        }
      ]
    },
    {
      "cell_type": "code",
      "metadata": {
        "id": "0ClxxvrG9BWm",
        "colab": {
          "base_uri": "https://localhost:8080/"
        },
        "outputId": "06d037b6-0d3c-45e5-bc06-0d335c7f43f4"
      },
      "source": [
        "del z[1] # remove o item da lista de acordo com indice especificado, no exemplo excluido o item 1 ou seja o \"4\"\n",
        "z"
      ],
      "execution_count": 12,
      "outputs": [
        {
          "output_type": "execute_result",
          "data": {
            "text/plain": [
              "[10,\n",
              " 76,\n",
              " 65,\n",
              " 34,\n",
              " 65,\n",
              " 65,\n",
              " 34,\n",
              " 54,\n",
              " 34,\n",
              " 56,\n",
              " 78,\n",
              " 98,\n",
              " 88,\n",
              " 76,\n",
              " 76,\n",
              " 23,\n",
              " 54,\n",
              " 567,\n",
              " 4567,\n",
              " 2345,\n",
              " 333,\n",
              " 33,\n",
              " 567,\n",
              " 654,\n",
              " 59,\n",
              " 876,\n",
              " 789,\n",
              " 22,\n",
              " 44,\n",
              " 989,\n",
              " 23,\n",
              " 45,\n",
              " 65,\n",
              " 65,\n",
              " 'vitor',\n",
              " 'Gabriela',\n",
              " 'Guilherme',\n",
              " 'Nelson',\n",
              " 'Lais',\n",
              " 3,\n",
              " 5,\n",
              " 7,\n",
              " [34, 54, 65],\n",
              " 'Nilane',\n",
              " ['Maria', 'Claudio', 45, 78],\n",
              " 65,\n",
              " 'Marilia',\n",
              " ['Corinthians', 'São paulo', 'paulemiras'],\n",
              " 67,\n",
              " 87,\n",
              " 90]"
            ]
          },
          "metadata": {
            "tags": []
          },
          "execution_count": 12
        }
      ]
    },
    {
      "cell_type": "code",
      "metadata": {
        "id": "JsC5Yy6u9ryC",
        "colab": {
          "base_uri": "https://localhost:8080/"
        },
        "outputId": "baa425ab-9f7f-400c-960b-e25975a85cb3"
      },
      "source": [
        "'Osvaldo' in z # verifica se o item especificado se encontra na lista retornando verdadeiro ou falso"
      ],
      "execution_count": 13,
      "outputs": [
        {
          "output_type": "execute_result",
          "data": {
            "text/plain": [
              "False"
            ]
          },
          "metadata": {
            "tags": []
          },
          "execution_count": 13
        }
      ]
    },
    {
      "cell_type": "code",
      "metadata": {
        "id": "YaxsBlrX97ki",
        "colab": {
          "base_uri": "https://localhost:8080/"
        },
        "outputId": "e5233000-7219-47ba-905c-0714a12e3cdd"
      },
      "source": [
        " y = [87,78,67,54,34,56,54,34,44,87,89] # criando uma lista com dados numericos\n",
        " y"
      ],
      "execution_count": 14,
      "outputs": [
        {
          "output_type": "execute_result",
          "data": {
            "text/plain": [
              "[87, 78, 67, 54, 34, 56, 54, 34, 44, 87, 89]"
            ]
          },
          "metadata": {
            "tags": []
          },
          "execution_count": 14
        }
      ]
    },
    {
      "cell_type": "code",
      "metadata": {
        "id": "yKEsrajH-Y0t",
        "colab": {
          "base_uri": "https://localhost:8080/"
        },
        "outputId": "e79ac764-531d-4137-88bf-f394a51f037d"
      },
      "source": [
        "y.sort() # colocando dados da lista em ordem crescente\n",
        "y"
      ],
      "execution_count": 15,
      "outputs": [
        {
          "output_type": "execute_result",
          "data": {
            "text/plain": [
              "[34, 34, 44, 54, 54, 56, 67, 78, 87, 87, 89]"
            ]
          },
          "metadata": {
            "tags": []
          },
          "execution_count": 15
        }
      ]
    },
    {
      "cell_type": "code",
      "metadata": {
        "id": "KVbhTQfR-kvg",
        "colab": {
          "base_uri": "https://localhost:8080/"
        },
        "outputId": "27f7d72e-dd98-4928-ed8b-c0b6ce82fbb6"
      },
      "source": [
        "z.reverse() # invertendo os elementos da lista\n",
        "z"
      ],
      "execution_count": 16,
      "outputs": [
        {
          "output_type": "execute_result",
          "data": {
            "text/plain": [
              "[90,\n",
              " 87,\n",
              " 67,\n",
              " ['Corinthians', 'São paulo', 'paulemiras'],\n",
              " 'Marilia',\n",
              " 65,\n",
              " ['Maria', 'Claudio', 45, 78],\n",
              " 'Nilane',\n",
              " [34, 54, 65],\n",
              " 7,\n",
              " 5,\n",
              " 3,\n",
              " 'Lais',\n",
              " 'Nelson',\n",
              " 'Guilherme',\n",
              " 'Gabriela',\n",
              " 'vitor',\n",
              " 65,\n",
              " 65,\n",
              " 45,\n",
              " 23,\n",
              " 989,\n",
              " 44,\n",
              " 22,\n",
              " 789,\n",
              " 876,\n",
              " 59,\n",
              " 654,\n",
              " 567,\n",
              " 33,\n",
              " 333,\n",
              " 2345,\n",
              " 4567,\n",
              " 567,\n",
              " 54,\n",
              " 23,\n",
              " 76,\n",
              " 76,\n",
              " 88,\n",
              " 98,\n",
              " 78,\n",
              " 56,\n",
              " 34,\n",
              " 54,\n",
              " 34,\n",
              " 65,\n",
              " 65,\n",
              " 34,\n",
              " 65,\n",
              " 76,\n",
              " 10]"
            ]
          },
          "metadata": {
            "tags": []
          },
          "execution_count": 16
        }
      ]
    },
    {
      "cell_type": "code",
      "metadata": {
        "id": "H2xwaPD4-wyr",
        "colab": {
          "base_uri": "https://localhost:8080/"
        },
        "outputId": "f0b26b5c-29e5-4b2b-fe1f-7e77b5eaadbc"
      },
      "source": [
        "print(z, z[3]) # mostra a lista e o item 3 da lista"
      ],
      "execution_count": 17,
      "outputs": [
        {
          "output_type": "stream",
          "text": [
            "[90, 87, 67, ['Corinthians', 'São paulo', 'paulemiras'], 'Marilia', 65, ['Maria', 'Claudio', 45, 78], 'Nilane', [34, 54, 65], 7, 5, 3, 'Lais', 'Nelson', 'Guilherme', 'Gabriela', 'vitor', 65, 65, 45, 23, 989, 44, 22, 789, 876, 59, 654, 567, 33, 333, 2345, 4567, 567, 54, 23, 76, 76, 88, 98, 78, 56, 34, 54, 34, 65, 65, 34, 65, 76, 10] ['Corinthians', 'São paulo', 'paulemiras']\n"
          ],
          "name": "stdout"
        }
      ]
    },
    {
      "cell_type": "code",
      "metadata": {
        "id": "mv2raKGcAQDL",
        "colab": {
          "base_uri": "https://localhost:8080/"
        },
        "outputId": "e3690871-8919-470a-c033-04f69a3008e0"
      },
      "source": [
        "print(z[-1]) # mostra o ultimo item da lista"
      ],
      "execution_count": 18,
      "outputs": [
        {
          "output_type": "stream",
          "text": [
            "10\n"
          ],
          "name": "stdout"
        }
      ]
    },
    {
      "cell_type": "code",
      "metadata": {
        "id": "YQX0b519AuZy",
        "colab": {
          "base_uri": "https://localhost:8080/"
        },
        "outputId": "9b1ad60e-2e0d-4c5c-ef15-72f1808eed65"
      },
      "source": [
        "z.pop() # remove e retorna o ultimo elemento da lista"
      ],
      "execution_count": 19,
      "outputs": [
        {
          "output_type": "execute_result",
          "data": {
            "text/plain": [
              "10"
            ]
          },
          "metadata": {
            "tags": []
          },
          "execution_count": 19
        }
      ]
    },
    {
      "cell_type": "code",
      "metadata": {
        "id": "jmG-imbxA3mR",
        "colab": {
          "base_uri": "https://localhost:8080/"
        },
        "outputId": "adb22128-310b-48b7-8d98-a4323e92db2c"
      },
      "source": [
        "for lista in z: # um loop com a lista de dados\n",
        "  print(lista)"
      ],
      "execution_count": 20,
      "outputs": [
        {
          "output_type": "stream",
          "text": [
            "90\n",
            "87\n",
            "67\n",
            "['Corinthians', 'São paulo', 'paulemiras']\n",
            "Marilia\n",
            "65\n",
            "['Maria', 'Claudio', 45, 78]\n",
            "Nilane\n",
            "[34, 54, 65]\n",
            "7\n",
            "5\n",
            "3\n",
            "Lais\n",
            "Nelson\n",
            "Guilherme\n",
            "Gabriela\n",
            "vitor\n",
            "65\n",
            "65\n",
            "45\n",
            "23\n",
            "989\n",
            "44\n",
            "22\n",
            "789\n",
            "876\n",
            "59\n",
            "654\n",
            "567\n",
            "33\n",
            "333\n",
            "2345\n",
            "4567\n",
            "567\n",
            "54\n",
            "23\n",
            "76\n",
            "76\n",
            "88\n",
            "98\n",
            "78\n",
            "56\n",
            "34\n",
            "54\n",
            "34\n",
            "65\n",
            "65\n",
            "34\n",
            "65\n",
            "76\n"
          ],
          "name": "stdout"
        }
      ]
    },
    {
      "cell_type": "code",
      "metadata": {
        "id": "iZhaSToWQVU7"
      },
      "source": [
        "conjunto_listas = x + z + y # concatenando todas as listas"
      ],
      "execution_count": 21,
      "outputs": []
    },
    {
      "cell_type": "code",
      "metadata": {
        "id": "-vGRrZ3ZQz7E",
        "outputId": "b92bba81-d199-47be-c1bd-30e93e581f09",
        "colab": {
          "base_uri": "https://localhost:8080/"
        }
      },
      "source": [
        "conjunto_listas"
      ],
      "execution_count": 23,
      "outputs": [
        {
          "output_type": "execute_result",
          "data": {
            "text/plain": [
              "[23,\n",
              " 45,\n",
              " 65,\n",
              " 65,\n",
              " 'vitor',\n",
              " 'Gabriela',\n",
              " 'Guilherme',\n",
              " 'Nelson',\n",
              " 'Lais',\n",
              " 3,\n",
              " 5,\n",
              " 7,\n",
              " [34, 54, 65],\n",
              " 'Nilane',\n",
              " ['Maria', 'Claudio', 45, 78],\n",
              " 65,\n",
              " 'Marilia',\n",
              " ['Corinthians', 'São paulo', 'paulemiras'],\n",
              " 67,\n",
              " 87,\n",
              " 90,\n",
              " 90,\n",
              " 87,\n",
              " 67,\n",
              " ['Corinthians', 'São paulo', 'paulemiras'],\n",
              " 'Marilia',\n",
              " 65,\n",
              " ['Maria', 'Claudio', 45, 78],\n",
              " 'Nilane',\n",
              " [34, 54, 65],\n",
              " 7,\n",
              " 5,\n",
              " 3,\n",
              " 'Lais',\n",
              " 'Nelson',\n",
              " 'Guilherme',\n",
              " 'Gabriela',\n",
              " 'vitor',\n",
              " 65,\n",
              " 65,\n",
              " 45,\n",
              " 23,\n",
              " 989,\n",
              " 44,\n",
              " 22,\n",
              " 789,\n",
              " 876,\n",
              " 59,\n",
              " 654,\n",
              " 567,\n",
              " 33,\n",
              " 333,\n",
              " 2345,\n",
              " 4567,\n",
              " 567,\n",
              " 54,\n",
              " 23,\n",
              " 76,\n",
              " 76,\n",
              " 88,\n",
              " 98,\n",
              " 78,\n",
              " 56,\n",
              " 34,\n",
              " 54,\n",
              " 34,\n",
              " 65,\n",
              " 65,\n",
              " 34,\n",
              " 65,\n",
              " 76,\n",
              " 34,\n",
              " 34,\n",
              " 44,\n",
              " 54,\n",
              " 54,\n",
              " 56,\n",
              " 67,\n",
              " 78,\n",
              " 87,\n",
              " 87,\n",
              " 89]"
            ]
          },
          "metadata": {
            "tags": []
          },
          "execution_count": 23
        }
      ]
    },
    {
      "cell_type": "code",
      "metadata": {
        "id": "66FoKyYSRBz_"
      },
      "source": [
        "repetição_conjuntos =  conjunto_listas * 5  # multiplicando a listas 5 vezes"
      ],
      "execution_count": 24,
      "outputs": []
    },
    {
      "cell_type": "code",
      "metadata": {
        "id": "QW_xlXUTR5VO",
        "outputId": "bf5196e1-2b24-4c3c-92cd-3b7389bf198f",
        "colab": {
          "base_uri": "https://localhost:8080/"
        }
      },
      "source": [
        "repetição_conjuntos"
      ],
      "execution_count": 25,
      "outputs": [
        {
          "output_type": "execute_result",
          "data": {
            "text/plain": [
              "[23,\n",
              " 45,\n",
              " 65,\n",
              " 65,\n",
              " 'vitor',\n",
              " 'Gabriela',\n",
              " 'Guilherme',\n",
              " 'Nelson',\n",
              " 'Lais',\n",
              " 3,\n",
              " 5,\n",
              " 7,\n",
              " [34, 54, 65],\n",
              " 'Nilane',\n",
              " ['Maria', 'Claudio', 45, 78],\n",
              " 65,\n",
              " 'Marilia',\n",
              " ['Corinthians', 'São paulo', 'paulemiras'],\n",
              " 67,\n",
              " 87,\n",
              " 90,\n",
              " 90,\n",
              " 87,\n",
              " 67,\n",
              " ['Corinthians', 'São paulo', 'paulemiras'],\n",
              " 'Marilia',\n",
              " 65,\n",
              " ['Maria', 'Claudio', 45, 78],\n",
              " 'Nilane',\n",
              " [34, 54, 65],\n",
              " 7,\n",
              " 5,\n",
              " 3,\n",
              " 'Lais',\n",
              " 'Nelson',\n",
              " 'Guilherme',\n",
              " 'Gabriela',\n",
              " 'vitor',\n",
              " 65,\n",
              " 65,\n",
              " 45,\n",
              " 23,\n",
              " 989,\n",
              " 44,\n",
              " 22,\n",
              " 789,\n",
              " 876,\n",
              " 59,\n",
              " 654,\n",
              " 567,\n",
              " 33,\n",
              " 333,\n",
              " 2345,\n",
              " 4567,\n",
              " 567,\n",
              " 54,\n",
              " 23,\n",
              " 76,\n",
              " 76,\n",
              " 88,\n",
              " 98,\n",
              " 78,\n",
              " 56,\n",
              " 34,\n",
              " 54,\n",
              " 34,\n",
              " 65,\n",
              " 65,\n",
              " 34,\n",
              " 65,\n",
              " 76,\n",
              " 34,\n",
              " 34,\n",
              " 44,\n",
              " 54,\n",
              " 54,\n",
              " 56,\n",
              " 67,\n",
              " 78,\n",
              " 87,\n",
              " 87,\n",
              " 89,\n",
              " 23,\n",
              " 45,\n",
              " 65,\n",
              " 65,\n",
              " 'vitor',\n",
              " 'Gabriela',\n",
              " 'Guilherme',\n",
              " 'Nelson',\n",
              " 'Lais',\n",
              " 3,\n",
              " 5,\n",
              " 7,\n",
              " [34, 54, 65],\n",
              " 'Nilane',\n",
              " ['Maria', 'Claudio', 45, 78],\n",
              " 65,\n",
              " 'Marilia',\n",
              " ['Corinthians', 'São paulo', 'paulemiras'],\n",
              " 67,\n",
              " 87,\n",
              " 90,\n",
              " 90,\n",
              " 87,\n",
              " 67,\n",
              " ['Corinthians', 'São paulo', 'paulemiras'],\n",
              " 'Marilia',\n",
              " 65,\n",
              " ['Maria', 'Claudio', 45, 78],\n",
              " 'Nilane',\n",
              " [34, 54, 65],\n",
              " 7,\n",
              " 5,\n",
              " 3,\n",
              " 'Lais',\n",
              " 'Nelson',\n",
              " 'Guilherme',\n",
              " 'Gabriela',\n",
              " 'vitor',\n",
              " 65,\n",
              " 65,\n",
              " 45,\n",
              " 23,\n",
              " 989,\n",
              " 44,\n",
              " 22,\n",
              " 789,\n",
              " 876,\n",
              " 59,\n",
              " 654,\n",
              " 567,\n",
              " 33,\n",
              " 333,\n",
              " 2345,\n",
              " 4567,\n",
              " 567,\n",
              " 54,\n",
              " 23,\n",
              " 76,\n",
              " 76,\n",
              " 88,\n",
              " 98,\n",
              " 78,\n",
              " 56,\n",
              " 34,\n",
              " 54,\n",
              " 34,\n",
              " 65,\n",
              " 65,\n",
              " 34,\n",
              " 65,\n",
              " 76,\n",
              " 34,\n",
              " 34,\n",
              " 44,\n",
              " 54,\n",
              " 54,\n",
              " 56,\n",
              " 67,\n",
              " 78,\n",
              " 87,\n",
              " 87,\n",
              " 89,\n",
              " 23,\n",
              " 45,\n",
              " 65,\n",
              " 65,\n",
              " 'vitor',\n",
              " 'Gabriela',\n",
              " 'Guilherme',\n",
              " 'Nelson',\n",
              " 'Lais',\n",
              " 3,\n",
              " 5,\n",
              " 7,\n",
              " [34, 54, 65],\n",
              " 'Nilane',\n",
              " ['Maria', 'Claudio', 45, 78],\n",
              " 65,\n",
              " 'Marilia',\n",
              " ['Corinthians', 'São paulo', 'paulemiras'],\n",
              " 67,\n",
              " 87,\n",
              " 90,\n",
              " 90,\n",
              " 87,\n",
              " 67,\n",
              " ['Corinthians', 'São paulo', 'paulemiras'],\n",
              " 'Marilia',\n",
              " 65,\n",
              " ['Maria', 'Claudio', 45, 78],\n",
              " 'Nilane',\n",
              " [34, 54, 65],\n",
              " 7,\n",
              " 5,\n",
              " 3,\n",
              " 'Lais',\n",
              " 'Nelson',\n",
              " 'Guilherme',\n",
              " 'Gabriela',\n",
              " 'vitor',\n",
              " 65,\n",
              " 65,\n",
              " 45,\n",
              " 23,\n",
              " 989,\n",
              " 44,\n",
              " 22,\n",
              " 789,\n",
              " 876,\n",
              " 59,\n",
              " 654,\n",
              " 567,\n",
              " 33,\n",
              " 333,\n",
              " 2345,\n",
              " 4567,\n",
              " 567,\n",
              " 54,\n",
              " 23,\n",
              " 76,\n",
              " 76,\n",
              " 88,\n",
              " 98,\n",
              " 78,\n",
              " 56,\n",
              " 34,\n",
              " 54,\n",
              " 34,\n",
              " 65,\n",
              " 65,\n",
              " 34,\n",
              " 65,\n",
              " 76,\n",
              " 34,\n",
              " 34,\n",
              " 44,\n",
              " 54,\n",
              " 54,\n",
              " 56,\n",
              " 67,\n",
              " 78,\n",
              " 87,\n",
              " 87,\n",
              " 89,\n",
              " 23,\n",
              " 45,\n",
              " 65,\n",
              " 65,\n",
              " 'vitor',\n",
              " 'Gabriela',\n",
              " 'Guilherme',\n",
              " 'Nelson',\n",
              " 'Lais',\n",
              " 3,\n",
              " 5,\n",
              " 7,\n",
              " [34, 54, 65],\n",
              " 'Nilane',\n",
              " ['Maria', 'Claudio', 45, 78],\n",
              " 65,\n",
              " 'Marilia',\n",
              " ['Corinthians', 'São paulo', 'paulemiras'],\n",
              " 67,\n",
              " 87,\n",
              " 90,\n",
              " 90,\n",
              " 87,\n",
              " 67,\n",
              " ['Corinthians', 'São paulo', 'paulemiras'],\n",
              " 'Marilia',\n",
              " 65,\n",
              " ['Maria', 'Claudio', 45, 78],\n",
              " 'Nilane',\n",
              " [34, 54, 65],\n",
              " 7,\n",
              " 5,\n",
              " 3,\n",
              " 'Lais',\n",
              " 'Nelson',\n",
              " 'Guilherme',\n",
              " 'Gabriela',\n",
              " 'vitor',\n",
              " 65,\n",
              " 65,\n",
              " 45,\n",
              " 23,\n",
              " 989,\n",
              " 44,\n",
              " 22,\n",
              " 789,\n",
              " 876,\n",
              " 59,\n",
              " 654,\n",
              " 567,\n",
              " 33,\n",
              " 333,\n",
              " 2345,\n",
              " 4567,\n",
              " 567,\n",
              " 54,\n",
              " 23,\n",
              " 76,\n",
              " 76,\n",
              " 88,\n",
              " 98,\n",
              " 78,\n",
              " 56,\n",
              " 34,\n",
              " 54,\n",
              " 34,\n",
              " 65,\n",
              " 65,\n",
              " 34,\n",
              " 65,\n",
              " 76,\n",
              " 34,\n",
              " 34,\n",
              " 44,\n",
              " 54,\n",
              " 54,\n",
              " 56,\n",
              " 67,\n",
              " 78,\n",
              " 87,\n",
              " 87,\n",
              " 89,\n",
              " 23,\n",
              " 45,\n",
              " 65,\n",
              " 65,\n",
              " 'vitor',\n",
              " 'Gabriela',\n",
              " 'Guilherme',\n",
              " 'Nelson',\n",
              " 'Lais',\n",
              " 3,\n",
              " 5,\n",
              " 7,\n",
              " [34, 54, 65],\n",
              " 'Nilane',\n",
              " ['Maria', 'Claudio', 45, 78],\n",
              " 65,\n",
              " 'Marilia',\n",
              " ['Corinthians', 'São paulo', 'paulemiras'],\n",
              " 67,\n",
              " 87,\n",
              " 90,\n",
              " 90,\n",
              " 87,\n",
              " 67,\n",
              " ['Corinthians', 'São paulo', 'paulemiras'],\n",
              " 'Marilia',\n",
              " 65,\n",
              " ['Maria', 'Claudio', 45, 78],\n",
              " 'Nilane',\n",
              " [34, 54, 65],\n",
              " 7,\n",
              " 5,\n",
              " 3,\n",
              " 'Lais',\n",
              " 'Nelson',\n",
              " 'Guilherme',\n",
              " 'Gabriela',\n",
              " 'vitor',\n",
              " 65,\n",
              " 65,\n",
              " 45,\n",
              " 23,\n",
              " 989,\n",
              " 44,\n",
              " 22,\n",
              " 789,\n",
              " 876,\n",
              " 59,\n",
              " 654,\n",
              " 567,\n",
              " 33,\n",
              " 333,\n",
              " 2345,\n",
              " 4567,\n",
              " 567,\n",
              " 54,\n",
              " 23,\n",
              " 76,\n",
              " 76,\n",
              " 88,\n",
              " 98,\n",
              " 78,\n",
              " 56,\n",
              " 34,\n",
              " 54,\n",
              " 34,\n",
              " 65,\n",
              " 65,\n",
              " 34,\n",
              " 65,\n",
              " 76,\n",
              " 34,\n",
              " 34,\n",
              " 44,\n",
              " 54,\n",
              " 54,\n",
              " 56,\n",
              " 67,\n",
              " 78,\n",
              " 87,\n",
              " 87,\n",
              " 89]"
            ]
          },
          "metadata": {
            "tags": []
          },
          "execution_count": 25
        }
      ]
    },
    {
      "cell_type": "code",
      "metadata": {
        "id": "kBB3I5FMSHVT"
      },
      "source": [
        "lista_fatiada1 = repetição_conjuntos[10:40] # fatiando lista da posição 10 até a posição 40\n",
        "lista_fatiada2 = repetição_conjuntos[4:14]\n",
        "lista_fatiada3 = repetição_conjuntos[5:15]\n"
      ],
      "execution_count": 32,
      "outputs": []
    },
    {
      "cell_type": "code",
      "metadata": {
        "id": "bj0DKQS3TZgX",
        "outputId": "789354ab-4dae-49f0-e3e5-eeabcab71191",
        "colab": {
          "base_uri": "https://localhost:8080/"
        }
      },
      "source": [
        "lista_fatiada1"
      ],
      "execution_count": 33,
      "outputs": [
        {
          "output_type": "execute_result",
          "data": {
            "text/plain": [
              "[5,\n",
              " 7,\n",
              " [34, 54, 65],\n",
              " 'Nilane',\n",
              " ['Maria', 'Claudio', 45, 78],\n",
              " 65,\n",
              " 'Marilia',\n",
              " ['Corinthians', 'São paulo', 'paulemiras'],\n",
              " 67,\n",
              " 87,\n",
              " 90,\n",
              " 90,\n",
              " 87,\n",
              " 67,\n",
              " ['Corinthians', 'São paulo', 'paulemiras'],\n",
              " 'Marilia',\n",
              " 65,\n",
              " ['Maria', 'Claudio', 45, 78],\n",
              " 'Nilane',\n",
              " [34, 54, 65],\n",
              " 7,\n",
              " 5,\n",
              " 3,\n",
              " 'Lais',\n",
              " 'Nelson',\n",
              " 'Guilherme',\n",
              " 'Gabriela',\n",
              " 'vitor',\n",
              " 65,\n",
              " 65]"
            ]
          },
          "metadata": {
            "tags": []
          },
          "execution_count": 33
        }
      ]
    },
    {
      "cell_type": "code",
      "metadata": {
        "id": "3zu4zYPXTfpL",
        "outputId": "7e2ea3fa-c132-48db-a48c-fd130489058d",
        "colab": {
          "base_uri": "https://localhost:8080/"
        }
      },
      "source": [
        "lista_fatiada2"
      ],
      "execution_count": 34,
      "outputs": [
        {
          "output_type": "execute_result",
          "data": {
            "text/plain": [
              "['vitor',\n",
              " 'Gabriela',\n",
              " 'Guilherme',\n",
              " 'Nelson',\n",
              " 'Lais',\n",
              " 3,\n",
              " 5,\n",
              " 7,\n",
              " [34, 54, 65],\n",
              " 'Nilane']"
            ]
          },
          "metadata": {
            "tags": []
          },
          "execution_count": 34
        }
      ]
    },
    {
      "cell_type": "code",
      "metadata": {
        "id": "L9IyigQlTiVY",
        "outputId": "e96478ab-894d-4fab-d709-c354e612a4c2",
        "colab": {
          "base_uri": "https://localhost:8080/"
        }
      },
      "source": [
        "lista_fatiada3"
      ],
      "execution_count": 35,
      "outputs": [
        {
          "output_type": "execute_result",
          "data": {
            "text/plain": [
              "['Gabriela',\n",
              " 'Guilherme',\n",
              " 'Nelson',\n",
              " 'Lais',\n",
              " 3,\n",
              " 5,\n",
              " 7,\n",
              " [34, 54, 65],\n",
              " 'Nilane',\n",
              " ['Maria', 'Claudio', 45, 78]]"
            ]
          },
          "metadata": {
            "tags": []
          },
          "execution_count": 35
        }
      ]
    },
    {
      "cell_type": "code",
      "metadata": {
        "id": "aQMk9irYTmYv",
        "outputId": "1551efc3-c38d-4f32-a639-f631d06a93a7",
        "colab": {
          "base_uri": "https://localhost:8080/"
        }
      },
      "source": [
        "l1 = list(range(5)) #comando range cria uma lista com 5 inteiros\n",
        "l1\n",
        "type(l1)"
      ],
      "execution_count": 40,
      "outputs": [
        {
          "output_type": "execute_result",
          "data": {
            "text/plain": [
              "list"
            ]
          },
          "metadata": {
            "tags": []
          },
          "execution_count": 40
        }
      ]
    },
    {
      "cell_type": "code",
      "metadata": {
        "id": "m7HoqpaYUPtL",
        "outputId": "ba2b6e7d-b298-4e05-ffb1-cf62b6a263ed",
        "colab": {
          "base_uri": "https://localhost:8080/"
        }
      },
      "source": [
        "l2 = list(range(3,33,3)) # função range criando uma lista da posição 3 até a 30 pulando 3 numeros\n",
        "l2"
      ],
      "execution_count": 42,
      "outputs": [
        {
          "output_type": "execute_result",
          "data": {
            "text/plain": [
              "[3, 6, 9, 12, 15, 18, 21, 24, 27, 30]"
            ]
          },
          "metadata": {
            "tags": []
          },
          "execution_count": 42
        }
      ]
    },
    {
      "cell_type": "markdown",
      "metadata": {
        "id": "qsXaIyMPUrRY"
      },
      "source": [
        "### Dicionários"
      ]
    },
    {
      "cell_type": "code",
      "metadata": {
        "id": "eNnNG0qAUvy5",
        "outputId": "7f2ff0b4-5b19-4038-9b2e-b192597d35f4",
        "colab": {
          "base_uri": "https://localhost:8080/"
        }
      },
      "source": [
        "# criando um dicionário usando chaves de string e valores de string e inteiros. \n",
        "\n",
        "x =  {'Antonio':'tio', 'Marlene':'prima', 'andressa': 'namorada', 'Rucelio': 'Amigo', 'Antonieta': 'Vovó',\n",
        "      'Joarez': 45, 'Joao Neto': 37, 'Karina': 45}\n",
        "x"
      ],
      "execution_count": 44,
      "outputs": [
        {
          "output_type": "execute_result",
          "data": {
            "text/plain": [
              "{'Antonieta': 'Vovó',\n",
              " 'Antonio': 'tio',\n",
              " 'Joao Neto': 37,\n",
              " 'Joarez': 45,\n",
              " 'Karina': 45,\n",
              " 'Marlene': 'prima',\n",
              " 'Rucelio': 'Amigo',\n",
              " 'andressa': 'namorada'}"
            ]
          },
          "metadata": {
            "tags": []
          },
          "execution_count": 44
        }
      ]
    },
    {
      "cell_type": "code",
      "metadata": {
        "id": "ORiT97daWhuV",
        "outputId": "5ee21614-c1df-4323-b6e5-46ced5f54987",
        "colab": {
          "base_uri": "https://localhost:8080/",
          "height": 35
        }
      },
      "source": [
        "y = x['Marlene'] #acessando valor específico no dicionário no exemplo acima \"prima\"\n",
        "y"
      ],
      "execution_count": 59,
      "outputs": [
        {
          "output_type": "execute_result",
          "data": {
            "application/vnd.google.colaboratory.intrinsic+json": {
              "type": "string"
            },
            "text/plain": [
              "'prima'"
            ]
          },
          "metadata": {
            "tags": []
          },
          "execution_count": 59
        }
      ]
    },
    {
      "cell_type": "code",
      "metadata": {
        "id": "xZLJwHnnYOXF"
      },
      "source": [
        "# del x['Joarez'] # excluiu Joarez da lista / comentei o comando pois, a chave ja foi excluida se rodar novamente vai dar erro. "
      ],
      "execution_count": 70,
      "outputs": []
    },
    {
      "cell_type": "code",
      "metadata": {
        "id": "w-oDEUqdZAi-",
        "outputId": "3a23d790-7881-4a85-a467-2fc91028a501",
        "colab": {
          "base_uri": "https://localhost:8080/"
        }
      },
      "source": [
        "x"
      ],
      "execution_count": 72,
      "outputs": [
        {
          "output_type": "execute_result",
          "data": {
            "text/plain": [
              "{'Antonieta': 'Vovó',\n",
              " 'Antonio': 'tio',\n",
              " 'Joao Neto': 37,\n",
              " 'Marlene': 'prima',\n",
              " 'Rucelio': 'Amigo',\n",
              " 'andressa': 'namorada'}"
            ]
          },
          "metadata": {
            "tags": []
          },
          "execution_count": 72
        }
      ]
    },
    {
      "cell_type": "code",
      "metadata": {
        "id": "gh2RDV8kZJ60",
        "outputId": "c8fed00b-d1cf-4206-9f85-268f289d89c6",
        "colab": {
          "base_uri": "https://localhost:8080/"
        }
      },
      "source": [
        "'Antonia' in x # Comando 'in' verifica se tem a chave no dicionario e retorna verdadeiro ou falso\n"
      ],
      "execution_count": 75,
      "outputs": [
        {
          "output_type": "execute_result",
          "data": {
            "text/plain": [
              "False"
            ]
          },
          "metadata": {
            "tags": []
          },
          "execution_count": 75
        }
      ]
    },
    {
      "cell_type": "code",
      "metadata": {
        "id": "S5kQ-ciffQ3U",
        "outputId": "634cf514-a6f5-491d-9415-67c2f5b3d23c",
        "colab": {
          "base_uri": "https://localhost:8080/"
        }
      },
      "source": [
        "'Marlene' in x # verifica se tem a chave no dicionario e retorna verdadeiro ou falso"
      ],
      "execution_count": 77,
      "outputs": [
        {
          "output_type": "execute_result",
          "data": {
            "text/plain": [
              "True"
            ]
          },
          "metadata": {
            "tags": []
          },
          "execution_count": 77
        }
      ]
    },
    {
      "cell_type": "code",
      "metadata": {
        "id": "bBnq5b8Sfjgu",
        "outputId": "4214c7e5-172b-44c6-fe22-0da01736b536",
        "colab": {
          "base_uri": "https://localhost:8080/"
        }
      },
      "source": [
        "x.keys() # retorna as chaves do dicionário"
      ],
      "execution_count": 79,
      "outputs": [
        {
          "output_type": "execute_result",
          "data": {
            "text/plain": [
              "dict_keys(['Antonio', 'Marlene', 'andressa', 'Rucelio', 'Antonieta', 'Joao Neto'])"
            ]
          },
          "metadata": {
            "tags": []
          },
          "execution_count": 79
        }
      ]
    },
    {
      "cell_type": "code",
      "metadata": {
        "id": "8nQx6_5Xfv-E",
        "outputId": "9f8ad9d7-8720-4719-8f5d-2aefed248868",
        "colab": {
          "base_uri": "https://localhost:8080/"
        }
      },
      "source": [
        "x.values()"
      ],
      "execution_count": 80,
      "outputs": [
        {
          "output_type": "execute_result",
          "data": {
            "text/plain": [
              "dict_values(['tio', 'prima', 'namorada', 'Amigo', 'Vovó', 37])"
            ]
          },
          "metadata": {
            "tags": []
          },
          "execution_count": 80
        }
      ]
    },
    {
      "cell_type": "code",
      "metadata": {
        "id": "MROw0ovcgBEl",
        "outputId": "3d8bed69-8634-4d48-f26e-849815957fce",
        "colab": {
          "base_uri": "https://localhost:8080/"
        }
      },
      "source": [
        "x['Vitor Eduardo'] = 'genro' # inclyuindo uma cheve e um valor no dicionário\n",
        "x"
      ],
      "execution_count": 82,
      "outputs": [
        {
          "output_type": "execute_result",
          "data": {
            "text/plain": [
              "{'Antonieta': 'Vovó',\n",
              " 'Antonio': 'tio',\n",
              " 'Joao Neto': 37,\n",
              " 'Marlene': 'prima',\n",
              " 'Rucelio': 'Amigo',\n",
              " 'Vitor Eduardo': 'genro',\n",
              " 'andressa': 'namorada'}"
            ]
          },
          "metadata": {
            "tags": []
          },
          "execution_count": 82
        }
      ]
    },
    {
      "cell_type": "code",
      "metadata": {
        "id": "y0GNwa9vgbRg",
        "outputId": "7cc78e1c-d061-473b-860d-c28f651abf05",
        "colab": {
          "base_uri": "https://localhost:8080/",
          "height": 35
        }
      },
      "source": [
        "x['Vitor Eduardo'] # mostrando dado"
      ],
      "execution_count": 85,
      "outputs": [
        {
          "output_type": "execute_result",
          "data": {
            "application/vnd.google.colaboratory.intrinsic+json": {
              "type": "string"
            },
            "text/plain": [
              "'genro'"
            ]
          },
          "metadata": {
            "tags": []
          },
          "execution_count": 85
        }
      ]
    },
    {
      "cell_type": "markdown",
      "metadata": {
        "id": "dtbepIbjiY1M"
      },
      "source": [
        "### Sets"
      ]
    },
    {
      "cell_type": "code",
      "metadata": {
        "id": "S-yVgDMbjEii"
      },
      "source": [
        ""
      ],
      "execution_count": null,
      "outputs": []
    },
    {
      "cell_type": "code",
      "metadata": {
        "id": "JF5hXcBTibtw"
      },
      "source": [
        "animais = {'','','','',''}"
      ],
      "execution_count": null,
      "outputs": []
    }
  ]
}