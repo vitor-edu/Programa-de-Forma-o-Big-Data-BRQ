{
  "nbformat": 4,
  "nbformat_minor": 0,
  "metadata": {
    "colab": {
      "name": "Estruturas_De_Dados.ipynb",
      "provenance": [],
      "collapsed_sections": [],
      "authorship_tag": "ABX9TyOwP5ggZdTqMFxTP88bAfAy",
      "include_colab_link": true
    },
    "kernelspec": {
      "name": "python3",
      "display_name": "Python 3"
    },
    "language_info": {
      "name": "python"
    }
  },
  "cells": [
    {
      "cell_type": "markdown",
      "metadata": {
        "id": "view-in-github",
        "colab_type": "text"
      },
      "source": [
        "<a href=\"https://colab.research.google.com/github/vitor-edu/Programa-de-Formacao-Big-Data-BRQ/blob/main/Estruturas_De_Dados.ipynb\" target=\"_parent\"><img src=\"https://colab.research.google.com/assets/colab-badge.svg\" alt=\"Open In Colab\"/></a>"
      ]
    },
    {
      "cell_type": "code",
      "metadata": {
        "colab": {
          "base_uri": "https://localhost:8080/"
        },
        "id": "gzKksTAwzHCV",
        "outputId": "7ce849e8-bf93-4f01-9227-ddbd19e797ce"
      },
      "source": [
        "#tipos de variavéis comprando com a função type e retornando boleano\n",
        "\n",
        "variavel_1 = 3.5\n",
        "print(type(variavel_1) is float)\n",
        "\n",
        "variavel_2 = 10\n",
        "print(type(variavel_2) is int)\n",
        "\n",
        "variavel_3 = True\n",
        "print(type(variavel_3) is bool)\n",
        "\n",
        "variavel_4 = 'palavra'\n",
        "print(type(variavel_4) is str)"
      ],
      "execution_count": 1,
      "outputs": [
        {
          "output_type": "stream",
          "text": [
            "True\n",
            "True\n",
            "True\n",
            "True\n"
          ],
          "name": "stdout"
        }
      ]
    },
    {
      "cell_type": "markdown",
      "metadata": {
        "id": "8pUGakEa0i9v"
      },
      "source": [
        "### Estruturas de dados - Listas"
      ]
    },
    {
      "cell_type": "code",
      "metadata": {
        "colab": {
          "base_uri": "https://localhost:8080/"
        },
        "id": "E98eNwzt0iBP",
        "outputId": "8d7dc75c-51ce-4ec5-f857-69cbf575c167"
      },
      "source": [
        "# criando uma lista com tipos de dados diferentes\n",
        "x = [23, 45, 65, 65, 'vitor', 'Gabriela', 'Guilherme', 'Nelson', 'Lais', 3, 5, 7, [34,54,65], 'Nilane',\n",
        "     ['Maria', 'Claudio', 45,78], 65, 'Marilia', ['Corinthians', 'São paulo', 'paulemiras'], 67, 87, 90]\n",
        "x"
      ],
      "execution_count": 10,
      "outputs": [
        {
          "output_type": "execute_result",
          "data": {
            "text/plain": [
              "[23,\n",
              " 45,\n",
              " 65,\n",
              " 65,\n",
              " 'vitor',\n",
              " 'Gabriela',\n",
              " 'Guilherme',\n",
              " 'Nelson',\n",
              " 'Lais',\n",
              " 3,\n",
              " 5,\n",
              " 7,\n",
              " [34, 54, 65],\n",
              " 'Nilane',\n",
              " ['Maria', 'Claudio', 45, 78],\n",
              " 65,\n",
              " 'Marilia',\n",
              " ['Corinthians', 'São paulo', 'paulemiras'],\n",
              " 67,\n",
              " 87,\n",
              " 90]"
            ]
          },
          "metadata": {
            "tags": []
          },
          "execution_count": 10
        }
      ]
    },
    {
      "cell_type": "code",
      "metadata": {
        "colab": {
          "base_uri": "https://localhost:8080/"
        },
        "id": "IDQJWOhF4_pd",
        "outputId": "1b575b83-ef18-45db-c047-56fb1584d09c"
      },
      "source": [
        "type(x) # verificando o tipo de arquivo"
      ],
      "execution_count": 11,
      "outputs": [
        {
          "output_type": "execute_result",
          "data": {
            "text/plain": [
              "list"
            ]
          },
          "metadata": {
            "tags": []
          },
          "execution_count": 11
        }
      ]
    },
    {
      "cell_type": "code",
      "metadata": {
        "colab": {
          "base_uri": "https://localhost:8080/"
        },
        "id": "hc-vee2T6SuQ",
        "outputId": "fa66011c-3603-4182-ec73-fbd3d6a5f313"
      },
      "source": [
        "len(x) # verificando o tamanho da lista"
      ],
      "execution_count": 12,
      "outputs": [
        {
          "output_type": "execute_result",
          "data": {
            "text/plain": [
              "21"
            ]
          },
          "metadata": {
            "tags": []
          },
          "execution_count": 12
        }
      ]
    },
    {
      "cell_type": "code",
      "metadata": {
        "id": "PVaVylIx3GFG",
        "outputId": "a8a225a8-7cc8-4424-839e-1eb053f7a9f0",
        "colab": {
          "base_uri": "https://localhost:8080/"
        }
      },
      "source": [
        "#criando uma lista com tipos de dados numericos\n",
        "z = [10,4,76,65,34,65,65,34,54,34,56,78,98,88,76,76,23,54,567,4567,2345,333,33,567,654,59,876,789,22,44,]\n",
        "z"
      ],
      "execution_count": 45,
      "outputs": [
        {
          "output_type": "execute_result",
          "data": {
            "text/plain": [
              "[10,\n",
              " 4,\n",
              " 76,\n",
              " 65,\n",
              " 34,\n",
              " 65,\n",
              " 65,\n",
              " 34,\n",
              " 54,\n",
              " 34,\n",
              " 56,\n",
              " 78,\n",
              " 98,\n",
              " 88,\n",
              " 76,\n",
              " 76,\n",
              " 23,\n",
              " 54,\n",
              " 567,\n",
              " 4567,\n",
              " 2345,\n",
              " 333,\n",
              " 33,\n",
              " 567,\n",
              " 654,\n",
              " 59,\n",
              " 876,\n",
              " 789,\n",
              " 22,\n",
              " 44]"
            ]
          },
          "metadata": {
            "tags": []
          },
          "execution_count": 45
        }
      ]
    },
    {
      "cell_type": "code",
      "metadata": {
        "id": "Lrwb26223_YA",
        "outputId": "c72106d9-66d2-4c56-f600-a15864ff5953",
        "colab": {
          "base_uri": "https://localhost:8080/"
        }
      },
      "source": [
        "max(z) # retorna o maior valor da lista"
      ],
      "execution_count": 47,
      "outputs": [
        {
          "output_type": "execute_result",
          "data": {
            "text/plain": [
              "4567"
            ]
          },
          "metadata": {
            "tags": []
          },
          "execution_count": 47
        }
      ]
    },
    {
      "cell_type": "code",
      "metadata": {
        "id": "jYM61ZUT3Ly7",
        "outputId": "394617ce-0f07-412c-9581-d0a22f15cde8",
        "colab": {
          "base_uri": "https://localhost:8080/"
        }
      },
      "source": [
        "min(z) # retorna o menor valor da lista"
      ],
      "execution_count": 48,
      "outputs": [
        {
          "output_type": "execute_result",
          "data": {
            "text/plain": [
              "4"
            ]
          },
          "metadata": {
            "tags": []
          },
          "execution_count": 48
        }
      ]
    },
    {
      "cell_type": "code",
      "metadata": {
        "id": "dGXZa9X-5M9M",
        "outputId": "290e8545-d8b1-41f3-dac5-cf19969a8d17",
        "colab": {
          "base_uri": "https://localhost:8080/"
        }
      },
      "source": [
        "sum(z) # retorna a soma dos valores d list\n"
      ],
      "execution_count": 49,
      "outputs": [
        {
          "output_type": "execute_result",
          "data": {
            "text/plain": [
              "11846"
            ]
          },
          "metadata": {
            "tags": []
          },
          "execution_count": 49
        }
      ]
    },
    {
      "cell_type": "code",
      "metadata": {
        "id": "mhOZUYMy5wev",
        "outputId": "d39998be-140c-47df-fead-224d8e7dec65",
        "colab": {
          "base_uri": "https://localhost:8080/"
        }
      },
      "source": [
        "z.append(989) # add o valor ao final da lista\n",
        "z"
      ],
      "execution_count": 50,
      "outputs": [
        {
          "output_type": "execute_result",
          "data": {
            "text/plain": [
              "[10,\n",
              " 4,\n",
              " 76,\n",
              " 65,\n",
              " 34,\n",
              " 65,\n",
              " 65,\n",
              " 34,\n",
              " 54,\n",
              " 34,\n",
              " 56,\n",
              " 78,\n",
              " 98,\n",
              " 88,\n",
              " 76,\n",
              " 76,\n",
              " 23,\n",
              " 54,\n",
              " 567,\n",
              " 4567,\n",
              " 2345,\n",
              " 333,\n",
              " 33,\n",
              " 567,\n",
              " 654,\n",
              " 59,\n",
              " 876,\n",
              " 789,\n",
              " 22,\n",
              " 44,\n",
              " 989]"
            ]
          },
          "metadata": {
            "tags": []
          },
          "execution_count": 50
        }
      ]
    },
    {
      "cell_type": "code",
      "metadata": {
        "id": "Gpb62lpE78zx"
      },
      "source": [
        "z.extend(x) # add a o conteúdo da lista x dentro da lista z "
      ],
      "execution_count": 51,
      "outputs": []
    },
    {
      "cell_type": "code",
      "metadata": {
        "id": "DGC7jxVA808a",
        "outputId": "91d761c6-fee4-4e8f-f226-f5daf72a9816",
        "colab": {
          "base_uri": "https://localhost:8080/"
        }
      },
      "source": [
        "z"
      ],
      "execution_count": 53,
      "outputs": [
        {
          "output_type": "execute_result",
          "data": {
            "text/plain": [
              "[10,\n",
              " 4,\n",
              " 76,\n",
              " 65,\n",
              " 34,\n",
              " 65,\n",
              " 65,\n",
              " 34,\n",
              " 54,\n",
              " 34,\n",
              " 56,\n",
              " 78,\n",
              " 98,\n",
              " 88,\n",
              " 76,\n",
              " 76,\n",
              " 23,\n",
              " 54,\n",
              " 567,\n",
              " 4567,\n",
              " 2345,\n",
              " 333,\n",
              " 33,\n",
              " 567,\n",
              " 654,\n",
              " 59,\n",
              " 876,\n",
              " 789,\n",
              " 22,\n",
              " 44,\n",
              " 989,\n",
              " 23,\n",
              " 45,\n",
              " 65,\n",
              " 65,\n",
              " 'vitor',\n",
              " 'Gabriela',\n",
              " 'Guilherme',\n",
              " 'Nelson',\n",
              " 'Lais',\n",
              " 3,\n",
              " 5,\n",
              " 7,\n",
              " [34, 54, 65],\n",
              " 'Nilane',\n",
              " ['Maria', 'Claudio', 45, 78],\n",
              " 65,\n",
              " 'Marilia',\n",
              " ['Corinthians', 'São paulo', 'paulemiras'],\n",
              " 67,\n",
              " 87,\n",
              " 90]"
            ]
          },
          "metadata": {
            "tags": []
          },
          "execution_count": 53
        }
      ]
    },
    {
      "cell_type": "code",
      "metadata": {
        "id": "0ClxxvrG9BWm",
        "outputId": "ed5a1f6a-0fce-42ad-c081-69391bdf84b9",
        "colab": {
          "base_uri": "https://localhost:8080/"
        }
      },
      "source": [
        "del z[1] # remove o item da lista de acordo com indice especificado, no exemplo excluido o item 1 ou seja o \"4\"\n",
        "z"
      ],
      "execution_count": 56,
      "outputs": [
        {
          "output_type": "execute_result",
          "data": {
            "text/plain": [
              "[10,\n",
              " 34,\n",
              " 65,\n",
              " 65,\n",
              " 34,\n",
              " 54,\n",
              " 34,\n",
              " 56,\n",
              " 78,\n",
              " 98,\n",
              " 88,\n",
              " 76,\n",
              " 76,\n",
              " 23,\n",
              " 54,\n",
              " 567,\n",
              " 4567,\n",
              " 2345,\n",
              " 333,\n",
              " 33,\n",
              " 567,\n",
              " 654,\n",
              " 59,\n",
              " 876,\n",
              " 789,\n",
              " 22,\n",
              " 44,\n",
              " 989,\n",
              " 23,\n",
              " 45,\n",
              " 65,\n",
              " 65,\n",
              " 'vitor',\n",
              " 'Gabriela',\n",
              " 'Guilherme',\n",
              " 'Nelson',\n",
              " 'Lais',\n",
              " 3,\n",
              " 5,\n",
              " 7,\n",
              " [34, 54, 65],\n",
              " 'Nilane',\n",
              " ['Maria', 'Claudio', 45, 78],\n",
              " 65,\n",
              " 'Marilia',\n",
              " ['Corinthians', 'São paulo', 'paulemiras'],\n",
              " 67,\n",
              " 87,\n",
              " 90]"
            ]
          },
          "metadata": {
            "tags": []
          },
          "execution_count": 56
        }
      ]
    },
    {
      "cell_type": "code",
      "metadata": {
        "id": "JsC5Yy6u9ryC",
        "outputId": "741e7d66-b5db-4a2a-e829-b3d443a9c44a",
        "colab": {
          "base_uri": "https://localhost:8080/"
        }
      },
      "source": [
        "'Osvaldo' in z # verifica se o item especificado se encontra na lista retornando verdadeiro ou falso"
      ],
      "execution_count": 58,
      "outputs": [
        {
          "output_type": "execute_result",
          "data": {
            "text/plain": [
              "False"
            ]
          },
          "metadata": {
            "tags": []
          },
          "execution_count": 58
        }
      ]
    },
    {
      "cell_type": "code",
      "metadata": {
        "id": "YaxsBlrX97ki",
        "outputId": "212aa305-1bd6-4eb5-9a54-a155e524cd2a",
        "colab": {
          "base_uri": "https://localhost:8080/"
        }
      },
      "source": [
        " y = [87,78,67,54,34,56,54,34,44,87,89] # criando uma lista com dados numericos\n",
        " y"
      ],
      "execution_count": 61,
      "outputs": [
        {
          "output_type": "execute_result",
          "data": {
            "text/plain": [
              "[87, 78, 67, 54, 34, 56, 54, 34, 44, 87, 89]"
            ]
          },
          "metadata": {
            "tags": []
          },
          "execution_count": 61
        }
      ]
    },
    {
      "cell_type": "code",
      "metadata": {
        "id": "yKEsrajH-Y0t",
        "outputId": "af974181-378a-4f2f-f456-dc80247af849",
        "colab": {
          "base_uri": "https://localhost:8080/"
        }
      },
      "source": [
        "y.sort() # colocando dados da lista em ordem crescente\n",
        "y"
      ],
      "execution_count": 63,
      "outputs": [
        {
          "output_type": "execute_result",
          "data": {
            "text/plain": [
              "[34, 34, 44, 54, 54, 56, 67, 78, 87, 87, 89]"
            ]
          },
          "metadata": {
            "tags": []
          },
          "execution_count": 63
        }
      ]
    },
    {
      "cell_type": "code",
      "metadata": {
        "id": "KVbhTQfR-kvg",
        "outputId": "90098398-6ba6-45f7-8564-d50c474db183",
        "colab": {
          "base_uri": "https://localhost:8080/"
        }
      },
      "source": [
        "z.reverse() # invertendo os elementos da lista\n",
        "z"
      ],
      "execution_count": 64,
      "outputs": [
        {
          "output_type": "execute_result",
          "data": {
            "text/plain": [
              "[90,\n",
              " 87,\n",
              " 67,\n",
              " ['Corinthians', 'São paulo', 'paulemiras'],\n",
              " 'Marilia',\n",
              " 65,\n",
              " ['Maria', 'Claudio', 45, 78],\n",
              " 'Nilane',\n",
              " [34, 54, 65],\n",
              " 7,\n",
              " 5,\n",
              " 3,\n",
              " 'Lais',\n",
              " 'Nelson',\n",
              " 'Guilherme',\n",
              " 'Gabriela',\n",
              " 'vitor',\n",
              " 4567,\n",
              " 2345,\n",
              " 989,\n",
              " 876,\n",
              " 789,\n",
              " 654,\n",
              " 567,\n",
              " 567,\n",
              " 333,\n",
              " 98,\n",
              " 88,\n",
              " 78,\n",
              " 76,\n",
              " 76,\n",
              " 65,\n",
              " 65,\n",
              " 65,\n",
              " 65,\n",
              " 59,\n",
              " 56,\n",
              " 54,\n",
              " 54,\n",
              " 45,\n",
              " 44,\n",
              " 34,\n",
              " 34,\n",
              " 34,\n",
              " 33,\n",
              " 23,\n",
              " 23,\n",
              " 22,\n",
              " 10]"
            ]
          },
          "metadata": {
            "tags": []
          },
          "execution_count": 64
        }
      ]
    },
    {
      "cell_type": "code",
      "metadata": {
        "id": "H2xwaPD4-wyr",
        "outputId": "21618f84-defe-4aa5-863f-2d4e202a4184",
        "colab": {
          "base_uri": "https://localhost:8080/"
        }
      },
      "source": [
        "print(z, z[3]) # mostra a lista e o item 3 da lista"
      ],
      "execution_count": 65,
      "outputs": [
        {
          "output_type": "stream",
          "text": [
            "[90, 87, 67, ['Corinthians', 'São paulo', 'paulemiras'], 'Marilia', 65, ['Maria', 'Claudio', 45, 78], 'Nilane', [34, 54, 65], 7, 5, 3, 'Lais', 'Nelson', 'Guilherme', 'Gabriela', 'vitor', 4567, 2345, 989, 876, 789, 654, 567, 567, 333, 98, 88, 78, 76, 76, 65, 65, 65, 65, 59, 56, 54, 54, 45, 44, 34, 34, 34, 33, 23, 23, 22, 10] ['Corinthians', 'São paulo', 'paulemiras']\n"
          ],
          "name": "stdout"
        }
      ]
    },
    {
      "cell_type": "code",
      "metadata": {
        "id": "mv2raKGcAQDL",
        "outputId": "2e6248db-3da9-4762-a18a-e57238d8bd8f",
        "colab": {
          "base_uri": "https://localhost:8080/"
        }
      },
      "source": [
        "print(z[-1]) # mostra o ultimo item da lista"
      ],
      "execution_count": 66,
      "outputs": [
        {
          "output_type": "stream",
          "text": [
            "10\n"
          ],
          "name": "stdout"
        }
      ]
    },
    {
      "cell_type": "code",
      "metadata": {
        "id": "YQX0b519AuZy",
        "outputId": "5535d052-3ca0-46f4-c193-aa62d6c776de",
        "colab": {
          "base_uri": "https://localhost:8080/"
        }
      },
      "source": [
        "z.pop() # remove e retorna o ultimo elemento da lista"
      ],
      "execution_count": 67,
      "outputs": [
        {
          "output_type": "execute_result",
          "data": {
            "text/plain": [
              "10"
            ]
          },
          "metadata": {
            "tags": []
          },
          "execution_count": 67
        }
      ]
    },
    {
      "cell_type": "code",
      "metadata": {
        "id": "jmG-imbxA3mR",
        "outputId": "e996b823-e455-401e-8b50-08deaac1036c",
        "colab": {
          "base_uri": "https://localhost:8080/"
        }
      },
      "source": [
        "for lista in z: # um loop com a lista de animais\n",
        "  print(lista)"
      ],
      "execution_count": 70,
      "outputs": [
        {
          "output_type": "stream",
          "text": [
            "90\n",
            "87\n",
            "67\n",
            "['Corinthians', 'São paulo', 'paulemiras']\n",
            "Marilia\n",
            "65\n",
            "['Maria', 'Claudio', 45, 78]\n",
            "Nilane\n",
            "[34, 54, 65]\n",
            "7\n",
            "5\n",
            "3\n",
            "Lais\n",
            "Nelson\n",
            "Guilherme\n",
            "Gabriela\n",
            "vitor\n",
            "4567\n",
            "2345\n",
            "989\n",
            "876\n",
            "789\n",
            "654\n",
            "567\n",
            "567\n",
            "333\n",
            "98\n",
            "88\n",
            "78\n",
            "76\n",
            "76\n",
            "65\n",
            "65\n",
            "65\n",
            "65\n",
            "59\n",
            "56\n",
            "54\n",
            "54\n",
            "45\n",
            "44\n",
            "34\n",
            "34\n",
            "34\n",
            "33\n",
            "23\n",
            "23\n",
            "22\n"
          ],
          "name": "stdout"
        }
      ]
    }
  ]
}