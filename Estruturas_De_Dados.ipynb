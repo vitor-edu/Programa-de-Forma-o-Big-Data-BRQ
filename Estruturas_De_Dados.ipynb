{
  "nbformat": 4,
  "nbformat_minor": 0,
  "metadata": {
    "colab": {
      "name": "Estruturas_De_Dados.ipynb",
      "provenance": [],
      "collapsed_sections": [],
      "authorship_tag": "ABX9TyPH/meXxq2z3yk0aVoSlNuc",
      "include_colab_link": true
    },
    "kernelspec": {
      "name": "python3",
      "display_name": "Python 3"
    },
    "language_info": {
      "name": "python"
    }
  },
  "cells": [
    {
      "cell_type": "markdown",
      "metadata": {
        "id": "view-in-github",
        "colab_type": "text"
      },
      "source": [
        "<a href=\"https://colab.research.google.com/github/vitor-edu/Programa-de-Formacao-Big-Data-BRQ/blob/main/Estruturas_De_Dados.ipynb\" target=\"_parent\"><img src=\"https://colab.research.google.com/assets/colab-badge.svg\" alt=\"Open In Colab\"/></a>"
      ]
    },
    {
      "cell_type": "code",
      "metadata": {
        "colab": {
          "base_uri": "https://localhost:8080/"
        },
        "id": "gzKksTAwzHCV",
        "outputId": "e3e3a50f-ff35-4956-e834-825c0a4b48e7"
      },
      "source": [
        "# Indentificando tipos de variavéis com a função type e is, e retornando boleano\n",
        "\n",
        "variavel_1 = 3.5\n",
        "print(type(variavel_1) is float)\n",
        "\n",
        "variavel_2 = 10\n",
        "print(type(variavel_2) is int)\n",
        "\n",
        "variavel_3 = True\n",
        "print(type(variavel_3) is bool)\n",
        "\n",
        "variavel_4 = 'palavra'\n",
        "print(type(variavel_4) is str)"
      ],
      "execution_count": 1,
      "outputs": [
        {
          "output_type": "stream",
          "text": [
            "True\n",
            "True\n",
            "True\n",
            "True\n"
          ],
          "name": "stdout"
        }
      ]
    },
    {
      "cell_type": "code",
      "metadata": {
        "id": "js2ZzPeFQPpY"
      },
      "source": [
        ""
      ],
      "execution_count": 1,
      "outputs": []
    },
    {
      "cell_type": "markdown",
      "metadata": {
        "id": "8pUGakEa0i9v"
      },
      "source": [
        "### Estruturas de dados - Listas"
      ]
    },
    {
      "cell_type": "code",
      "metadata": {
        "colab": {
          "base_uri": "https://localhost:8080/"
        },
        "id": "E98eNwzt0iBP",
        "outputId": "c36fe8ba-8e63-47c1-9f92-d8b92db7dad3"
      },
      "source": [
        "# criando uma lista com tipos de dados diferentes\n",
        "x = [23, 45, 65, 65, 'vitor', 'Gabriela', 'Guilherme', 'Nelson', 'Lais', 3, 5, 7, [34,54,65], 'Nilane',\n",
        "     ['Maria', 'Claudio', 45,78], 65, 'Marilia', ['Corinthians', 'São paulo', 'paulemiras'], 67, 87, 90]\n",
        "x"
      ],
      "execution_count": 2,
      "outputs": [
        {
          "output_type": "execute_result",
          "data": {
            "text/plain": [
              "[23,\n",
              " 45,\n",
              " 65,\n",
              " 65,\n",
              " 'vitor',\n",
              " 'Gabriela',\n",
              " 'Guilherme',\n",
              " 'Nelson',\n",
              " 'Lais',\n",
              " 3,\n",
              " 5,\n",
              " 7,\n",
              " [34, 54, 65],\n",
              " 'Nilane',\n",
              " ['Maria', 'Claudio', 45, 78],\n",
              " 65,\n",
              " 'Marilia',\n",
              " ['Corinthians', 'São paulo', 'paulemiras'],\n",
              " 67,\n",
              " 87,\n",
              " 90]"
            ]
          },
          "metadata": {
            "tags": []
          },
          "execution_count": 2
        }
      ]
    },
    {
      "cell_type": "code",
      "metadata": {
        "colab": {
          "base_uri": "https://localhost:8080/"
        },
        "id": "IDQJWOhF4_pd",
        "outputId": "0bb0d49f-e908-4162-a92c-aa4d75a4e4a3"
      },
      "source": [
        "type(x) # verificando o tipo de arquivo"
      ],
      "execution_count": 3,
      "outputs": [
        {
          "output_type": "execute_result",
          "data": {
            "text/plain": [
              "list"
            ]
          },
          "metadata": {
            "tags": []
          },
          "execution_count": 3
        }
      ]
    },
    {
      "cell_type": "code",
      "metadata": {
        "colab": {
          "base_uri": "https://localhost:8080/"
        },
        "id": "hc-vee2T6SuQ",
        "outputId": "a8fa59c2-f88f-427a-ea2d-a6be467b7fdf"
      },
      "source": [
        "len(x) # verificando o tamanho da lista"
      ],
      "execution_count": 4,
      "outputs": [
        {
          "output_type": "execute_result",
          "data": {
            "text/plain": [
              "21"
            ]
          },
          "metadata": {
            "tags": []
          },
          "execution_count": 4
        }
      ]
    },
    {
      "cell_type": "code",
      "metadata": {
        "id": "PVaVylIx3GFG",
        "colab": {
          "base_uri": "https://localhost:8080/"
        },
        "outputId": "75e17cbf-6e8d-4ddc-e22d-b5442dfc2783"
      },
      "source": [
        "#criando uma lista com tipos de dados numericos\n",
        "z = [10,4,76,65,34,65,65,34,54,34,56,78,98,88,76,76,23,54,567,4567,2345,333,33,567,654,59,876,789,22,44,]\n",
        "z"
      ],
      "execution_count": 5,
      "outputs": [
        {
          "output_type": "execute_result",
          "data": {
            "text/plain": [
              "[10,\n",
              " 4,\n",
              " 76,\n",
              " 65,\n",
              " 34,\n",
              " 65,\n",
              " 65,\n",
              " 34,\n",
              " 54,\n",
              " 34,\n",
              " 56,\n",
              " 78,\n",
              " 98,\n",
              " 88,\n",
              " 76,\n",
              " 76,\n",
              " 23,\n",
              " 54,\n",
              " 567,\n",
              " 4567,\n",
              " 2345,\n",
              " 333,\n",
              " 33,\n",
              " 567,\n",
              " 654,\n",
              " 59,\n",
              " 876,\n",
              " 789,\n",
              " 22,\n",
              " 44]"
            ]
          },
          "metadata": {
            "tags": []
          },
          "execution_count": 5
        }
      ]
    },
    {
      "cell_type": "code",
      "metadata": {
        "id": "Lrwb26223_YA",
        "colab": {
          "base_uri": "https://localhost:8080/"
        },
        "outputId": "144a595d-da34-449d-ee6b-86a420c4dcc7"
      },
      "source": [
        "max(z) # retorna o maior valor da lista"
      ],
      "execution_count": 6,
      "outputs": [
        {
          "output_type": "execute_result",
          "data": {
            "text/plain": [
              "4567"
            ]
          },
          "metadata": {
            "tags": []
          },
          "execution_count": 6
        }
      ]
    },
    {
      "cell_type": "code",
      "metadata": {
        "id": "jYM61ZUT3Ly7",
        "colab": {
          "base_uri": "https://localhost:8080/"
        },
        "outputId": "ebce6c95-f693-4bdc-fcf6-7581ac21f24f"
      },
      "source": [
        "min(z) # retorna o menor valor da lista"
      ],
      "execution_count": 7,
      "outputs": [
        {
          "output_type": "execute_result",
          "data": {
            "text/plain": [
              "4"
            ]
          },
          "metadata": {
            "tags": []
          },
          "execution_count": 7
        }
      ]
    },
    {
      "cell_type": "code",
      "metadata": {
        "id": "dGXZa9X-5M9M",
        "colab": {
          "base_uri": "https://localhost:8080/"
        },
        "outputId": "dd9f068e-b410-4be5-cb63-1bf8183fcb60"
      },
      "source": [
        "sum(z) # retorna a soma dos valores d list\n"
      ],
      "execution_count": 8,
      "outputs": [
        {
          "output_type": "execute_result",
          "data": {
            "text/plain": [
              "11846"
            ]
          },
          "metadata": {
            "tags": []
          },
          "execution_count": 8
        }
      ]
    },
    {
      "cell_type": "code",
      "metadata": {
        "id": "mhOZUYMy5wev",
        "colab": {
          "base_uri": "https://localhost:8080/"
        },
        "outputId": "2edd808d-af71-42ae-a3f6-7b3a26434604"
      },
      "source": [
        "z.append(989) # add o valor ao final da lista\n",
        "z"
      ],
      "execution_count": 9,
      "outputs": [
        {
          "output_type": "execute_result",
          "data": {
            "text/plain": [
              "[10,\n",
              " 4,\n",
              " 76,\n",
              " 65,\n",
              " 34,\n",
              " 65,\n",
              " 65,\n",
              " 34,\n",
              " 54,\n",
              " 34,\n",
              " 56,\n",
              " 78,\n",
              " 98,\n",
              " 88,\n",
              " 76,\n",
              " 76,\n",
              " 23,\n",
              " 54,\n",
              " 567,\n",
              " 4567,\n",
              " 2345,\n",
              " 333,\n",
              " 33,\n",
              " 567,\n",
              " 654,\n",
              " 59,\n",
              " 876,\n",
              " 789,\n",
              " 22,\n",
              " 44,\n",
              " 989]"
            ]
          },
          "metadata": {
            "tags": []
          },
          "execution_count": 9
        }
      ]
    },
    {
      "cell_type": "code",
      "metadata": {
        "id": "Gpb62lpE78zx"
      },
      "source": [
        "z.extend(x) # add a o conteúdo da lista x dentro da lista z "
      ],
      "execution_count": 10,
      "outputs": []
    },
    {
      "cell_type": "code",
      "metadata": {
        "id": "DGC7jxVA808a",
        "colab": {
          "base_uri": "https://localhost:8080/"
        },
        "outputId": "8b45c9cd-57ea-4c44-f47a-839118fbdf1b"
      },
      "source": [
        "z"
      ],
      "execution_count": 11,
      "outputs": [
        {
          "output_type": "execute_result",
          "data": {
            "text/plain": [
              "[10,\n",
              " 4,\n",
              " 76,\n",
              " 65,\n",
              " 34,\n",
              " 65,\n",
              " 65,\n",
              " 34,\n",
              " 54,\n",
              " 34,\n",
              " 56,\n",
              " 78,\n",
              " 98,\n",
              " 88,\n",
              " 76,\n",
              " 76,\n",
              " 23,\n",
              " 54,\n",
              " 567,\n",
              " 4567,\n",
              " 2345,\n",
              " 333,\n",
              " 33,\n",
              " 567,\n",
              " 654,\n",
              " 59,\n",
              " 876,\n",
              " 789,\n",
              " 22,\n",
              " 44,\n",
              " 989,\n",
              " 23,\n",
              " 45,\n",
              " 65,\n",
              " 65,\n",
              " 'vitor',\n",
              " 'Gabriela',\n",
              " 'Guilherme',\n",
              " 'Nelson',\n",
              " 'Lais',\n",
              " 3,\n",
              " 5,\n",
              " 7,\n",
              " [34, 54, 65],\n",
              " 'Nilane',\n",
              " ['Maria', 'Claudio', 45, 78],\n",
              " 65,\n",
              " 'Marilia',\n",
              " ['Corinthians', 'São paulo', 'paulemiras'],\n",
              " 67,\n",
              " 87,\n",
              " 90]"
            ]
          },
          "metadata": {
            "tags": []
          },
          "execution_count": 11
        }
      ]
    },
    {
      "cell_type": "code",
      "metadata": {
        "id": "0ClxxvrG9BWm",
        "colab": {
          "base_uri": "https://localhost:8080/"
        },
        "outputId": "82562dc3-f245-4890-a988-7fda4e0ad797"
      },
      "source": [
        "del z[1] # remove o item da lista de acordo com indice especificado, no exemplo excluido o item 1 ou seja o \"4\"\n",
        "z"
      ],
      "execution_count": 12,
      "outputs": [
        {
          "output_type": "execute_result",
          "data": {
            "text/plain": [
              "[10,\n",
              " 76,\n",
              " 65,\n",
              " 34,\n",
              " 65,\n",
              " 65,\n",
              " 34,\n",
              " 54,\n",
              " 34,\n",
              " 56,\n",
              " 78,\n",
              " 98,\n",
              " 88,\n",
              " 76,\n",
              " 76,\n",
              " 23,\n",
              " 54,\n",
              " 567,\n",
              " 4567,\n",
              " 2345,\n",
              " 333,\n",
              " 33,\n",
              " 567,\n",
              " 654,\n",
              " 59,\n",
              " 876,\n",
              " 789,\n",
              " 22,\n",
              " 44,\n",
              " 989,\n",
              " 23,\n",
              " 45,\n",
              " 65,\n",
              " 65,\n",
              " 'vitor',\n",
              " 'Gabriela',\n",
              " 'Guilherme',\n",
              " 'Nelson',\n",
              " 'Lais',\n",
              " 3,\n",
              " 5,\n",
              " 7,\n",
              " [34, 54, 65],\n",
              " 'Nilane',\n",
              " ['Maria', 'Claudio', 45, 78],\n",
              " 65,\n",
              " 'Marilia',\n",
              " ['Corinthians', 'São paulo', 'paulemiras'],\n",
              " 67,\n",
              " 87,\n",
              " 90]"
            ]
          },
          "metadata": {
            "tags": []
          },
          "execution_count": 12
        }
      ]
    },
    {
      "cell_type": "code",
      "metadata": {
        "id": "JsC5Yy6u9ryC",
        "colab": {
          "base_uri": "https://localhost:8080/"
        },
        "outputId": "ae536612-710a-4a23-9f20-31a461bc414e"
      },
      "source": [
        "'Osvaldo' in z # verifica se o item especificado se encontra na lista retornando verdadeiro ou falso"
      ],
      "execution_count": 13,
      "outputs": [
        {
          "output_type": "execute_result",
          "data": {
            "text/plain": [
              "False"
            ]
          },
          "metadata": {
            "tags": []
          },
          "execution_count": 13
        }
      ]
    },
    {
      "cell_type": "code",
      "metadata": {
        "id": "YaxsBlrX97ki",
        "colab": {
          "base_uri": "https://localhost:8080/"
        },
        "outputId": "7782de61-d918-48f6-acd9-fed2fc8a1d40"
      },
      "source": [
        " y = [87,78,67,54,34,56,54,34,44,87,89] # criando uma lista com dados numericos\n",
        " y"
      ],
      "execution_count": 14,
      "outputs": [
        {
          "output_type": "execute_result",
          "data": {
            "text/plain": [
              "[87, 78, 67, 54, 34, 56, 54, 34, 44, 87, 89]"
            ]
          },
          "metadata": {
            "tags": []
          },
          "execution_count": 14
        }
      ]
    },
    {
      "cell_type": "code",
      "metadata": {
        "id": "yKEsrajH-Y0t",
        "colab": {
          "base_uri": "https://localhost:8080/"
        },
        "outputId": "901b1de1-b7a2-4577-abdb-4d6bd9737258"
      },
      "source": [
        "y.sort() # colocando dados da lista em ordem crescente\n",
        "y"
      ],
      "execution_count": 15,
      "outputs": [
        {
          "output_type": "execute_result",
          "data": {
            "text/plain": [
              "[34, 34, 44, 54, 54, 56, 67, 78, 87, 87, 89]"
            ]
          },
          "metadata": {
            "tags": []
          },
          "execution_count": 15
        }
      ]
    },
    {
      "cell_type": "code",
      "metadata": {
        "id": "KVbhTQfR-kvg",
        "colab": {
          "base_uri": "https://localhost:8080/"
        },
        "outputId": "57ac328a-ce37-48f2-a31c-55c2d39b3917"
      },
      "source": [
        "z.reverse() # invertendo os elementos da lista\n",
        "z"
      ],
      "execution_count": 16,
      "outputs": [
        {
          "output_type": "execute_result",
          "data": {
            "text/plain": [
              "[90,\n",
              " 87,\n",
              " 67,\n",
              " ['Corinthians', 'São paulo', 'paulemiras'],\n",
              " 'Marilia',\n",
              " 65,\n",
              " ['Maria', 'Claudio', 45, 78],\n",
              " 'Nilane',\n",
              " [34, 54, 65],\n",
              " 7,\n",
              " 5,\n",
              " 3,\n",
              " 'Lais',\n",
              " 'Nelson',\n",
              " 'Guilherme',\n",
              " 'Gabriela',\n",
              " 'vitor',\n",
              " 65,\n",
              " 65,\n",
              " 45,\n",
              " 23,\n",
              " 989,\n",
              " 44,\n",
              " 22,\n",
              " 789,\n",
              " 876,\n",
              " 59,\n",
              " 654,\n",
              " 567,\n",
              " 33,\n",
              " 333,\n",
              " 2345,\n",
              " 4567,\n",
              " 567,\n",
              " 54,\n",
              " 23,\n",
              " 76,\n",
              " 76,\n",
              " 88,\n",
              " 98,\n",
              " 78,\n",
              " 56,\n",
              " 34,\n",
              " 54,\n",
              " 34,\n",
              " 65,\n",
              " 65,\n",
              " 34,\n",
              " 65,\n",
              " 76,\n",
              " 10]"
            ]
          },
          "metadata": {
            "tags": []
          },
          "execution_count": 16
        }
      ]
    },
    {
      "cell_type": "code",
      "metadata": {
        "id": "H2xwaPD4-wyr",
        "colab": {
          "base_uri": "https://localhost:8080/"
        },
        "outputId": "9e0298dd-e000-4d6f-ba46-824f44835167"
      },
      "source": [
        "print(z, z[3]) # mostra a lista e o item 3 da lista"
      ],
      "execution_count": 17,
      "outputs": [
        {
          "output_type": "stream",
          "text": [
            "[90, 87, 67, ['Corinthians', 'São paulo', 'paulemiras'], 'Marilia', 65, ['Maria', 'Claudio', 45, 78], 'Nilane', [34, 54, 65], 7, 5, 3, 'Lais', 'Nelson', 'Guilherme', 'Gabriela', 'vitor', 65, 65, 45, 23, 989, 44, 22, 789, 876, 59, 654, 567, 33, 333, 2345, 4567, 567, 54, 23, 76, 76, 88, 98, 78, 56, 34, 54, 34, 65, 65, 34, 65, 76, 10] ['Corinthians', 'São paulo', 'paulemiras']\n"
          ],
          "name": "stdout"
        }
      ]
    },
    {
      "cell_type": "code",
      "metadata": {
        "id": "mv2raKGcAQDL",
        "colab": {
          "base_uri": "https://localhost:8080/"
        },
        "outputId": "28f2b033-5d14-41d7-a896-efc788ac2ef1"
      },
      "source": [
        "print(z[-1]) # mostra o ultimo item da lista"
      ],
      "execution_count": 18,
      "outputs": [
        {
          "output_type": "stream",
          "text": [
            "10\n"
          ],
          "name": "stdout"
        }
      ]
    },
    {
      "cell_type": "code",
      "metadata": {
        "id": "YQX0b519AuZy",
        "colab": {
          "base_uri": "https://localhost:8080/"
        },
        "outputId": "be1b4247-e0b2-4e24-aaf8-d617b2fcf02a"
      },
      "source": [
        "z.pop() # remove e retorna o ultimo elemento da lista"
      ],
      "execution_count": 19,
      "outputs": [
        {
          "output_type": "execute_result",
          "data": {
            "text/plain": [
              "10"
            ]
          },
          "metadata": {
            "tags": []
          },
          "execution_count": 19
        }
      ]
    },
    {
      "cell_type": "code",
      "metadata": {
        "id": "jmG-imbxA3mR",
        "colab": {
          "base_uri": "https://localhost:8080/"
        },
        "outputId": "99db3cbe-d375-4883-955e-da3fbc6f26a0"
      },
      "source": [
        "for lista in z: # um loop com a lista de dados\n",
        "  print(lista)"
      ],
      "execution_count": 20,
      "outputs": [
        {
          "output_type": "stream",
          "text": [
            "90\n",
            "87\n",
            "67\n",
            "['Corinthians', 'São paulo', 'paulemiras']\n",
            "Marilia\n",
            "65\n",
            "['Maria', 'Claudio', 45, 78]\n",
            "Nilane\n",
            "[34, 54, 65]\n",
            "7\n",
            "5\n",
            "3\n",
            "Lais\n",
            "Nelson\n",
            "Guilherme\n",
            "Gabriela\n",
            "vitor\n",
            "65\n",
            "65\n",
            "45\n",
            "23\n",
            "989\n",
            "44\n",
            "22\n",
            "789\n",
            "876\n",
            "59\n",
            "654\n",
            "567\n",
            "33\n",
            "333\n",
            "2345\n",
            "4567\n",
            "567\n",
            "54\n",
            "23\n",
            "76\n",
            "76\n",
            "88\n",
            "98\n",
            "78\n",
            "56\n",
            "34\n",
            "54\n",
            "34\n",
            "65\n",
            "65\n",
            "34\n",
            "65\n",
            "76\n"
          ],
          "name": "stdout"
        }
      ]
    },
    {
      "cell_type": "code",
      "metadata": {
        "id": "iZhaSToWQVU7"
      },
      "source": [
        "conjunto_listas = x + z + y # concatenando todas as listas"
      ],
      "execution_count": 21,
      "outputs": []
    },
    {
      "cell_type": "code",
      "metadata": {
        "id": "-vGRrZ3ZQz7E",
        "colab": {
          "base_uri": "https://localhost:8080/"
        },
        "outputId": "857fa68a-7921-4397-c760-1746f7632c47"
      },
      "source": [
        "conjunto_listas"
      ],
      "execution_count": 22,
      "outputs": [
        {
          "output_type": "execute_result",
          "data": {
            "text/plain": [
              "[23,\n",
              " 45,\n",
              " 65,\n",
              " 65,\n",
              " 'vitor',\n",
              " 'Gabriela',\n",
              " 'Guilherme',\n",
              " 'Nelson',\n",
              " 'Lais',\n",
              " 3,\n",
              " 5,\n",
              " 7,\n",
              " [34, 54, 65],\n",
              " 'Nilane',\n",
              " ['Maria', 'Claudio', 45, 78],\n",
              " 65,\n",
              " 'Marilia',\n",
              " ['Corinthians', 'São paulo', 'paulemiras'],\n",
              " 67,\n",
              " 87,\n",
              " 90,\n",
              " 90,\n",
              " 87,\n",
              " 67,\n",
              " ['Corinthians', 'São paulo', 'paulemiras'],\n",
              " 'Marilia',\n",
              " 65,\n",
              " ['Maria', 'Claudio', 45, 78],\n",
              " 'Nilane',\n",
              " [34, 54, 65],\n",
              " 7,\n",
              " 5,\n",
              " 3,\n",
              " 'Lais',\n",
              " 'Nelson',\n",
              " 'Guilherme',\n",
              " 'Gabriela',\n",
              " 'vitor',\n",
              " 65,\n",
              " 65,\n",
              " 45,\n",
              " 23,\n",
              " 989,\n",
              " 44,\n",
              " 22,\n",
              " 789,\n",
              " 876,\n",
              " 59,\n",
              " 654,\n",
              " 567,\n",
              " 33,\n",
              " 333,\n",
              " 2345,\n",
              " 4567,\n",
              " 567,\n",
              " 54,\n",
              " 23,\n",
              " 76,\n",
              " 76,\n",
              " 88,\n",
              " 98,\n",
              " 78,\n",
              " 56,\n",
              " 34,\n",
              " 54,\n",
              " 34,\n",
              " 65,\n",
              " 65,\n",
              " 34,\n",
              " 65,\n",
              " 76,\n",
              " 34,\n",
              " 34,\n",
              " 44,\n",
              " 54,\n",
              " 54,\n",
              " 56,\n",
              " 67,\n",
              " 78,\n",
              " 87,\n",
              " 87,\n",
              " 89]"
            ]
          },
          "metadata": {
            "tags": []
          },
          "execution_count": 22
        }
      ]
    },
    {
      "cell_type": "code",
      "metadata": {
        "id": "66FoKyYSRBz_"
      },
      "source": [
        "repetição_conjuntos =  conjunto_listas * 5  # multiplicando a listas 5 vezes"
      ],
      "execution_count": 23,
      "outputs": []
    },
    {
      "cell_type": "code",
      "metadata": {
        "id": "QW_xlXUTR5VO",
        "colab": {
          "base_uri": "https://localhost:8080/"
        },
        "outputId": "bfb44358-5064-440f-a955-6fcea48ce4ea"
      },
      "source": [
        "repetição_conjuntos"
      ],
      "execution_count": 24,
      "outputs": [
        {
          "output_type": "execute_result",
          "data": {
            "text/plain": [
              "[23,\n",
              " 45,\n",
              " 65,\n",
              " 65,\n",
              " 'vitor',\n",
              " 'Gabriela',\n",
              " 'Guilherme',\n",
              " 'Nelson',\n",
              " 'Lais',\n",
              " 3,\n",
              " 5,\n",
              " 7,\n",
              " [34, 54, 65],\n",
              " 'Nilane',\n",
              " ['Maria', 'Claudio', 45, 78],\n",
              " 65,\n",
              " 'Marilia',\n",
              " ['Corinthians', 'São paulo', 'paulemiras'],\n",
              " 67,\n",
              " 87,\n",
              " 90,\n",
              " 90,\n",
              " 87,\n",
              " 67,\n",
              " ['Corinthians', 'São paulo', 'paulemiras'],\n",
              " 'Marilia',\n",
              " 65,\n",
              " ['Maria', 'Claudio', 45, 78],\n",
              " 'Nilane',\n",
              " [34, 54, 65],\n",
              " 7,\n",
              " 5,\n",
              " 3,\n",
              " 'Lais',\n",
              " 'Nelson',\n",
              " 'Guilherme',\n",
              " 'Gabriela',\n",
              " 'vitor',\n",
              " 65,\n",
              " 65,\n",
              " 45,\n",
              " 23,\n",
              " 989,\n",
              " 44,\n",
              " 22,\n",
              " 789,\n",
              " 876,\n",
              " 59,\n",
              " 654,\n",
              " 567,\n",
              " 33,\n",
              " 333,\n",
              " 2345,\n",
              " 4567,\n",
              " 567,\n",
              " 54,\n",
              " 23,\n",
              " 76,\n",
              " 76,\n",
              " 88,\n",
              " 98,\n",
              " 78,\n",
              " 56,\n",
              " 34,\n",
              " 54,\n",
              " 34,\n",
              " 65,\n",
              " 65,\n",
              " 34,\n",
              " 65,\n",
              " 76,\n",
              " 34,\n",
              " 34,\n",
              " 44,\n",
              " 54,\n",
              " 54,\n",
              " 56,\n",
              " 67,\n",
              " 78,\n",
              " 87,\n",
              " 87,\n",
              " 89,\n",
              " 23,\n",
              " 45,\n",
              " 65,\n",
              " 65,\n",
              " 'vitor',\n",
              " 'Gabriela',\n",
              " 'Guilherme',\n",
              " 'Nelson',\n",
              " 'Lais',\n",
              " 3,\n",
              " 5,\n",
              " 7,\n",
              " [34, 54, 65],\n",
              " 'Nilane',\n",
              " ['Maria', 'Claudio', 45, 78],\n",
              " 65,\n",
              " 'Marilia',\n",
              " ['Corinthians', 'São paulo', 'paulemiras'],\n",
              " 67,\n",
              " 87,\n",
              " 90,\n",
              " 90,\n",
              " 87,\n",
              " 67,\n",
              " ['Corinthians', 'São paulo', 'paulemiras'],\n",
              " 'Marilia',\n",
              " 65,\n",
              " ['Maria', 'Claudio', 45, 78],\n",
              " 'Nilane',\n",
              " [34, 54, 65],\n",
              " 7,\n",
              " 5,\n",
              " 3,\n",
              " 'Lais',\n",
              " 'Nelson',\n",
              " 'Guilherme',\n",
              " 'Gabriela',\n",
              " 'vitor',\n",
              " 65,\n",
              " 65,\n",
              " 45,\n",
              " 23,\n",
              " 989,\n",
              " 44,\n",
              " 22,\n",
              " 789,\n",
              " 876,\n",
              " 59,\n",
              " 654,\n",
              " 567,\n",
              " 33,\n",
              " 333,\n",
              " 2345,\n",
              " 4567,\n",
              " 567,\n",
              " 54,\n",
              " 23,\n",
              " 76,\n",
              " 76,\n",
              " 88,\n",
              " 98,\n",
              " 78,\n",
              " 56,\n",
              " 34,\n",
              " 54,\n",
              " 34,\n",
              " 65,\n",
              " 65,\n",
              " 34,\n",
              " 65,\n",
              " 76,\n",
              " 34,\n",
              " 34,\n",
              " 44,\n",
              " 54,\n",
              " 54,\n",
              " 56,\n",
              " 67,\n",
              " 78,\n",
              " 87,\n",
              " 87,\n",
              " 89,\n",
              " 23,\n",
              " 45,\n",
              " 65,\n",
              " 65,\n",
              " 'vitor',\n",
              " 'Gabriela',\n",
              " 'Guilherme',\n",
              " 'Nelson',\n",
              " 'Lais',\n",
              " 3,\n",
              " 5,\n",
              " 7,\n",
              " [34, 54, 65],\n",
              " 'Nilane',\n",
              " ['Maria', 'Claudio', 45, 78],\n",
              " 65,\n",
              " 'Marilia',\n",
              " ['Corinthians', 'São paulo', 'paulemiras'],\n",
              " 67,\n",
              " 87,\n",
              " 90,\n",
              " 90,\n",
              " 87,\n",
              " 67,\n",
              " ['Corinthians', 'São paulo', 'paulemiras'],\n",
              " 'Marilia',\n",
              " 65,\n",
              " ['Maria', 'Claudio', 45, 78],\n",
              " 'Nilane',\n",
              " [34, 54, 65],\n",
              " 7,\n",
              " 5,\n",
              " 3,\n",
              " 'Lais',\n",
              " 'Nelson',\n",
              " 'Guilherme',\n",
              " 'Gabriela',\n",
              " 'vitor',\n",
              " 65,\n",
              " 65,\n",
              " 45,\n",
              " 23,\n",
              " 989,\n",
              " 44,\n",
              " 22,\n",
              " 789,\n",
              " 876,\n",
              " 59,\n",
              " 654,\n",
              " 567,\n",
              " 33,\n",
              " 333,\n",
              " 2345,\n",
              " 4567,\n",
              " 567,\n",
              " 54,\n",
              " 23,\n",
              " 76,\n",
              " 76,\n",
              " 88,\n",
              " 98,\n",
              " 78,\n",
              " 56,\n",
              " 34,\n",
              " 54,\n",
              " 34,\n",
              " 65,\n",
              " 65,\n",
              " 34,\n",
              " 65,\n",
              " 76,\n",
              " 34,\n",
              " 34,\n",
              " 44,\n",
              " 54,\n",
              " 54,\n",
              " 56,\n",
              " 67,\n",
              " 78,\n",
              " 87,\n",
              " 87,\n",
              " 89,\n",
              " 23,\n",
              " 45,\n",
              " 65,\n",
              " 65,\n",
              " 'vitor',\n",
              " 'Gabriela',\n",
              " 'Guilherme',\n",
              " 'Nelson',\n",
              " 'Lais',\n",
              " 3,\n",
              " 5,\n",
              " 7,\n",
              " [34, 54, 65],\n",
              " 'Nilane',\n",
              " ['Maria', 'Claudio', 45, 78],\n",
              " 65,\n",
              " 'Marilia',\n",
              " ['Corinthians', 'São paulo', 'paulemiras'],\n",
              " 67,\n",
              " 87,\n",
              " 90,\n",
              " 90,\n",
              " 87,\n",
              " 67,\n",
              " ['Corinthians', 'São paulo', 'paulemiras'],\n",
              " 'Marilia',\n",
              " 65,\n",
              " ['Maria', 'Claudio', 45, 78],\n",
              " 'Nilane',\n",
              " [34, 54, 65],\n",
              " 7,\n",
              " 5,\n",
              " 3,\n",
              " 'Lais',\n",
              " 'Nelson',\n",
              " 'Guilherme',\n",
              " 'Gabriela',\n",
              " 'vitor',\n",
              " 65,\n",
              " 65,\n",
              " 45,\n",
              " 23,\n",
              " 989,\n",
              " 44,\n",
              " 22,\n",
              " 789,\n",
              " 876,\n",
              " 59,\n",
              " 654,\n",
              " 567,\n",
              " 33,\n",
              " 333,\n",
              " 2345,\n",
              " 4567,\n",
              " 567,\n",
              " 54,\n",
              " 23,\n",
              " 76,\n",
              " 76,\n",
              " 88,\n",
              " 98,\n",
              " 78,\n",
              " 56,\n",
              " 34,\n",
              " 54,\n",
              " 34,\n",
              " 65,\n",
              " 65,\n",
              " 34,\n",
              " 65,\n",
              " 76,\n",
              " 34,\n",
              " 34,\n",
              " 44,\n",
              " 54,\n",
              " 54,\n",
              " 56,\n",
              " 67,\n",
              " 78,\n",
              " 87,\n",
              " 87,\n",
              " 89,\n",
              " 23,\n",
              " 45,\n",
              " 65,\n",
              " 65,\n",
              " 'vitor',\n",
              " 'Gabriela',\n",
              " 'Guilherme',\n",
              " 'Nelson',\n",
              " 'Lais',\n",
              " 3,\n",
              " 5,\n",
              " 7,\n",
              " [34, 54, 65],\n",
              " 'Nilane',\n",
              " ['Maria', 'Claudio', 45, 78],\n",
              " 65,\n",
              " 'Marilia',\n",
              " ['Corinthians', 'São paulo', 'paulemiras'],\n",
              " 67,\n",
              " 87,\n",
              " 90,\n",
              " 90,\n",
              " 87,\n",
              " 67,\n",
              " ['Corinthians', 'São paulo', 'paulemiras'],\n",
              " 'Marilia',\n",
              " 65,\n",
              " ['Maria', 'Claudio', 45, 78],\n",
              " 'Nilane',\n",
              " [34, 54, 65],\n",
              " 7,\n",
              " 5,\n",
              " 3,\n",
              " 'Lais',\n",
              " 'Nelson',\n",
              " 'Guilherme',\n",
              " 'Gabriela',\n",
              " 'vitor',\n",
              " 65,\n",
              " 65,\n",
              " 45,\n",
              " 23,\n",
              " 989,\n",
              " 44,\n",
              " 22,\n",
              " 789,\n",
              " 876,\n",
              " 59,\n",
              " 654,\n",
              " 567,\n",
              " 33,\n",
              " 333,\n",
              " 2345,\n",
              " 4567,\n",
              " 567,\n",
              " 54,\n",
              " 23,\n",
              " 76,\n",
              " 76,\n",
              " 88,\n",
              " 98,\n",
              " 78,\n",
              " 56,\n",
              " 34,\n",
              " 54,\n",
              " 34,\n",
              " 65,\n",
              " 65,\n",
              " 34,\n",
              " 65,\n",
              " 76,\n",
              " 34,\n",
              " 34,\n",
              " 44,\n",
              " 54,\n",
              " 54,\n",
              " 56,\n",
              " 67,\n",
              " 78,\n",
              " 87,\n",
              " 87,\n",
              " 89]"
            ]
          },
          "metadata": {
            "tags": []
          },
          "execution_count": 24
        }
      ]
    },
    {
      "cell_type": "code",
      "metadata": {
        "id": "kBB3I5FMSHVT"
      },
      "source": [
        "lista_fatiada1 = repetição_conjuntos[10:40] # fatiando lista da posição 10 até a posição 40\n",
        "lista_fatiada2 = repetição_conjuntos[4:14]\n",
        "lista_fatiada3 = repetição_conjuntos[5:15]\n"
      ],
      "execution_count": 25,
      "outputs": []
    },
    {
      "cell_type": "code",
      "metadata": {
        "id": "bj0DKQS3TZgX",
        "colab": {
          "base_uri": "https://localhost:8080/"
        },
        "outputId": "6d6b8f38-b3c4-4037-bc52-17804378151b"
      },
      "source": [
        "lista_fatiada1"
      ],
      "execution_count": 26,
      "outputs": [
        {
          "output_type": "execute_result",
          "data": {
            "text/plain": [
              "[5,\n",
              " 7,\n",
              " [34, 54, 65],\n",
              " 'Nilane',\n",
              " ['Maria', 'Claudio', 45, 78],\n",
              " 65,\n",
              " 'Marilia',\n",
              " ['Corinthians', 'São paulo', 'paulemiras'],\n",
              " 67,\n",
              " 87,\n",
              " 90,\n",
              " 90,\n",
              " 87,\n",
              " 67,\n",
              " ['Corinthians', 'São paulo', 'paulemiras'],\n",
              " 'Marilia',\n",
              " 65,\n",
              " ['Maria', 'Claudio', 45, 78],\n",
              " 'Nilane',\n",
              " [34, 54, 65],\n",
              " 7,\n",
              " 5,\n",
              " 3,\n",
              " 'Lais',\n",
              " 'Nelson',\n",
              " 'Guilherme',\n",
              " 'Gabriela',\n",
              " 'vitor',\n",
              " 65,\n",
              " 65]"
            ]
          },
          "metadata": {
            "tags": []
          },
          "execution_count": 26
        }
      ]
    },
    {
      "cell_type": "code",
      "metadata": {
        "id": "3zu4zYPXTfpL",
        "colab": {
          "base_uri": "https://localhost:8080/"
        },
        "outputId": "70b62d0d-6915-4293-a95c-a49e9f79b92d"
      },
      "source": [
        "lista_fatiada2"
      ],
      "execution_count": 27,
      "outputs": [
        {
          "output_type": "execute_result",
          "data": {
            "text/plain": [
              "['vitor',\n",
              " 'Gabriela',\n",
              " 'Guilherme',\n",
              " 'Nelson',\n",
              " 'Lais',\n",
              " 3,\n",
              " 5,\n",
              " 7,\n",
              " [34, 54, 65],\n",
              " 'Nilane']"
            ]
          },
          "metadata": {
            "tags": []
          },
          "execution_count": 27
        }
      ]
    },
    {
      "cell_type": "code",
      "metadata": {
        "id": "L9IyigQlTiVY",
        "colab": {
          "base_uri": "https://localhost:8080/"
        },
        "outputId": "ad341aa4-49ab-45b8-ed8d-1721b74afc74"
      },
      "source": [
        "lista_fatiada3"
      ],
      "execution_count": 28,
      "outputs": [
        {
          "output_type": "execute_result",
          "data": {
            "text/plain": [
              "['Gabriela',\n",
              " 'Guilherme',\n",
              " 'Nelson',\n",
              " 'Lais',\n",
              " 3,\n",
              " 5,\n",
              " 7,\n",
              " [34, 54, 65],\n",
              " 'Nilane',\n",
              " ['Maria', 'Claudio', 45, 78]]"
            ]
          },
          "metadata": {
            "tags": []
          },
          "execution_count": 28
        }
      ]
    },
    {
      "cell_type": "code",
      "metadata": {
        "id": "aQMk9irYTmYv",
        "colab": {
          "base_uri": "https://localhost:8080/"
        },
        "outputId": "704659a3-b9c6-4a31-e898-f80fb7fa979c"
      },
      "source": [
        "l1 = list(range(5)) #comando range cria uma lista com 5 inteiros\n",
        "l1\n",
        "type(l1)"
      ],
      "execution_count": 29,
      "outputs": [
        {
          "output_type": "execute_result",
          "data": {
            "text/plain": [
              "list"
            ]
          },
          "metadata": {
            "tags": []
          },
          "execution_count": 29
        }
      ]
    },
    {
      "cell_type": "code",
      "metadata": {
        "id": "m7HoqpaYUPtL",
        "colab": {
          "base_uri": "https://localhost:8080/"
        },
        "outputId": "0f540398-cbcc-45cb-a52b-721cf2500b4e"
      },
      "source": [
        "l2 = list(range(3,33,3)) # função range criando uma lista da posição 3 até a 30 pulando 3 numeros\n",
        "l2"
      ],
      "execution_count": 30,
      "outputs": [
        {
          "output_type": "execute_result",
          "data": {
            "text/plain": [
              "[3, 6, 9, 12, 15, 18, 21, 24, 27, 30]"
            ]
          },
          "metadata": {
            "tags": []
          },
          "execution_count": 30
        }
      ]
    },
    {
      "cell_type": "markdown",
      "metadata": {
        "id": "qsXaIyMPUrRY"
      },
      "source": [
        "### Dicionários"
      ]
    },
    {
      "cell_type": "code",
      "metadata": {
        "id": "eNnNG0qAUvy5",
        "colab": {
          "base_uri": "https://localhost:8080/"
        },
        "outputId": "acd58dc3-c80e-4a9c-9934-db9d650d4641"
      },
      "source": [
        "# criando um dicionário usando chaves de string e valores de string e inteiros. \n",
        "\n",
        "x =  {'Antonio':'tio', 'Marlene':'prima', 'andressa': 'namorada', 'Rucelio': 'Amigo', 'Antonieta': 'Vovó',\n",
        "      'Joarez': 45, 'Joao Neto': 37, 'Karina': 45}\n",
        "x"
      ],
      "execution_count": 31,
      "outputs": [
        {
          "output_type": "execute_result",
          "data": {
            "text/plain": [
              "{'Antonieta': 'Vovó',\n",
              " 'Antonio': 'tio',\n",
              " 'Joao Neto': 37,\n",
              " 'Joarez': 45,\n",
              " 'Karina': 45,\n",
              " 'Marlene': 'prima',\n",
              " 'Rucelio': 'Amigo',\n",
              " 'andressa': 'namorada'}"
            ]
          },
          "metadata": {
            "tags": []
          },
          "execution_count": 31
        }
      ]
    },
    {
      "cell_type": "code",
      "metadata": {
        "id": "ORiT97daWhuV",
        "colab": {
          "base_uri": "https://localhost:8080/",
          "height": 35
        },
        "outputId": "9a560290-58c7-4f90-b637-f30687201eed"
      },
      "source": [
        "y = x['Marlene'] #acessando valor específico no dicionário no exemplo acima \"prima\"\n",
        "y"
      ],
      "execution_count": 32,
      "outputs": [
        {
          "output_type": "execute_result",
          "data": {
            "application/vnd.google.colaboratory.intrinsic+json": {
              "type": "string"
            },
            "text/plain": [
              "'prima'"
            ]
          },
          "metadata": {
            "tags": []
          },
          "execution_count": 32
        }
      ]
    },
    {
      "cell_type": "code",
      "metadata": {
        "id": "xZLJwHnnYOXF"
      },
      "source": [
        "# del x['Joarez'] # excluiu Joarez da lista / comentei o comando pois, a chave ja foi excluida se rodar novamente vai dar erro. "
      ],
      "execution_count": 33,
      "outputs": []
    },
    {
      "cell_type": "code",
      "metadata": {
        "id": "w-oDEUqdZAi-",
        "colab": {
          "base_uri": "https://localhost:8080/"
        },
        "outputId": "2e91011b-e44e-460a-8d7d-cf5acd8aa29e"
      },
      "source": [
        "x"
      ],
      "execution_count": 34,
      "outputs": [
        {
          "output_type": "execute_result",
          "data": {
            "text/plain": [
              "{'Antonieta': 'Vovó',\n",
              " 'Antonio': 'tio',\n",
              " 'Joao Neto': 37,\n",
              " 'Joarez': 45,\n",
              " 'Karina': 45,\n",
              " 'Marlene': 'prima',\n",
              " 'Rucelio': 'Amigo',\n",
              " 'andressa': 'namorada'}"
            ]
          },
          "metadata": {
            "tags": []
          },
          "execution_count": 34
        }
      ]
    },
    {
      "cell_type": "code",
      "metadata": {
        "id": "gh2RDV8kZJ60",
        "colab": {
          "base_uri": "https://localhost:8080/"
        },
        "outputId": "1dd8940b-4118-47c8-fc67-e942f652b482"
      },
      "source": [
        "'Antonia' in x # Comando 'in' verifica se tem a chave no dicionario e retorna verdadeiro ou falso\n"
      ],
      "execution_count": 35,
      "outputs": [
        {
          "output_type": "execute_result",
          "data": {
            "text/plain": [
              "False"
            ]
          },
          "metadata": {
            "tags": []
          },
          "execution_count": 35
        }
      ]
    },
    {
      "cell_type": "code",
      "metadata": {
        "id": "S5kQ-ciffQ3U",
        "colab": {
          "base_uri": "https://localhost:8080/"
        },
        "outputId": "30bcb7d8-bd56-432c-a573-6b75e11feccd"
      },
      "source": [
        "'Marlene' in x # verifica se tem a chave no dicionario e retorna verdadeiro ou falso"
      ],
      "execution_count": 36,
      "outputs": [
        {
          "output_type": "execute_result",
          "data": {
            "text/plain": [
              "True"
            ]
          },
          "metadata": {
            "tags": []
          },
          "execution_count": 36
        }
      ]
    },
    {
      "cell_type": "code",
      "metadata": {
        "id": "bBnq5b8Sfjgu",
        "colab": {
          "base_uri": "https://localhost:8080/"
        },
        "outputId": "7944a293-e35a-4a06-8e76-6e1e90285b03"
      },
      "source": [
        "x.keys() # retorna as chaves do dicionário"
      ],
      "execution_count": 37,
      "outputs": [
        {
          "output_type": "execute_result",
          "data": {
            "text/plain": [
              "dict_keys(['Antonio', 'Marlene', 'andressa', 'Rucelio', 'Antonieta', 'Joarez', 'Joao Neto', 'Karina'])"
            ]
          },
          "metadata": {
            "tags": []
          },
          "execution_count": 37
        }
      ]
    },
    {
      "cell_type": "code",
      "metadata": {
        "id": "8nQx6_5Xfv-E",
        "colab": {
          "base_uri": "https://localhost:8080/"
        },
        "outputId": "90483f59-a29b-4b46-ef68-a3d56fd13f67"
      },
      "source": [
        "x.values()"
      ],
      "execution_count": 38,
      "outputs": [
        {
          "output_type": "execute_result",
          "data": {
            "text/plain": [
              "dict_values(['tio', 'prima', 'namorada', 'Amigo', 'Vovó', 45, 37, 45])"
            ]
          },
          "metadata": {
            "tags": []
          },
          "execution_count": 38
        }
      ]
    },
    {
      "cell_type": "code",
      "metadata": {
        "id": "MROw0ovcgBEl",
        "colab": {
          "base_uri": "https://localhost:8080/"
        },
        "outputId": "7960bbad-cb50-4538-cbe2-a59e2a191eb5"
      },
      "source": [
        "x['Vitor Eduardo'] = 'genro' # incluindo uma cheve e um valor no dicionário\n",
        "x"
      ],
      "execution_count": 39,
      "outputs": [
        {
          "output_type": "execute_result",
          "data": {
            "text/plain": [
              "{'Antonieta': 'Vovó',\n",
              " 'Antonio': 'tio',\n",
              " 'Joao Neto': 37,\n",
              " 'Joarez': 45,\n",
              " 'Karina': 45,\n",
              " 'Marlene': 'prima',\n",
              " 'Rucelio': 'Amigo',\n",
              " 'Vitor Eduardo': 'genro',\n",
              " 'andressa': 'namorada'}"
            ]
          },
          "metadata": {
            "tags": []
          },
          "execution_count": 39
        }
      ]
    },
    {
      "cell_type": "code",
      "metadata": {
        "id": "y0GNwa9vgbRg",
        "colab": {
          "base_uri": "https://localhost:8080/",
          "height": 35
        },
        "outputId": "6d328807-c2b1-4cde-ecc5-e934e64093d9"
      },
      "source": [
        "x['Vitor Eduardo'] # mostrando dado"
      ],
      "execution_count": 40,
      "outputs": [
        {
          "output_type": "execute_result",
          "data": {
            "application/vnd.google.colaboratory.intrinsic+json": {
              "type": "string"
            },
            "text/plain": [
              "'genro'"
            ]
          },
          "metadata": {
            "tags": []
          },
          "execution_count": 40
        }
      ]
    },
    {
      "cell_type": "markdown",
      "metadata": {
        "id": "dtbepIbjiY1M"
      },
      "source": [
        "### Sets"
      ]
    },
    {
      "cell_type": "code",
      "metadata": {
        "id": "S-yVgDMbjEii"
      },
      "source": [
        ""
      ],
      "execution_count": 40,
      "outputs": []
    },
    {
      "cell_type": "code",
      "metadata": {
        "id": "JF5hXcBTibtw",
        "colab": {
          "base_uri": "https://localhost:8080/"
        },
        "outputId": "c76c8ede-b25a-4924-9896-4d66c30755db"
      },
      "source": [
        "animais = {'gato','cachorro','baleia','leão','tigre', 'macaco', 'papagaio'} # criando conjunto de dados set\n",
        "animais"
      ],
      "execution_count": 43,
      "outputs": [
        {
          "output_type": "execute_result",
          "data": {
            "text/plain": [
              "{'baleia', 'cachorro', 'gato', 'leão', 'macaco', 'papagaio', 'tigre'}"
            ]
          },
          "metadata": {
            "tags": []
          },
          "execution_count": 43
        }
      ]
    },
    {
      "cell_type": "code",
      "metadata": {
        "colab": {
          "base_uri": "https://localhost:8080/"
        },
        "id": "-LpRNwRhbE0W",
        "outputId": "1fbc84bb-69ab-494c-cb9d-dd359d4865e6"
      },
      "source": [
        "'gato' in animais # comando in verifica se existe o dados especificado e retorna verdadeiro ou falso"
      ],
      "execution_count": 45,
      "outputs": [
        {
          "output_type": "execute_result",
          "data": {
            "text/plain": [
              "True"
            ]
          },
          "metadata": {
            "tags": []
          },
          "execution_count": 45
        }
      ]
    },
    {
      "cell_type": "code",
      "metadata": {
        "colab": {
          "base_uri": "https://localhost:8080/"
        },
        "id": "w3l109-7cDmK",
        "outputId": "4316ab7c-5a28-4c07-af21-505c1a67546e"
      },
      "source": [
        "'cavalo' in animais # comando in verifica se existe o dados especificado e retorna verdadeiro ou falso"
      ],
      "execution_count": 47,
      "outputs": [
        {
          "output_type": "execute_result",
          "data": {
            "text/plain": [
              "False"
            ]
          },
          "metadata": {
            "tags": []
          },
          "execution_count": 47
        }
      ]
    },
    {
      "cell_type": "code",
      "metadata": {
        "colab": {
          "base_uri": "https://localhost:8080/"
        },
        "id": "TEqlX1LicNYM",
        "outputId": "ed31aa81-df58-4b11-cab6-6ce2e959948e"
      },
      "source": [
        "animais.add('urso') # adiciona um elemento no set\n",
        "animais"
      ],
      "execution_count": 50,
      "outputs": [
        {
          "output_type": "execute_result",
          "data": {
            "text/plain": [
              "{'baleia', 'cachorro', 'gato', 'leão', 'macaco', 'papagaio', 'tigre', 'urso'}"
            ]
          },
          "metadata": {
            "tags": []
          },
          "execution_count": 50
        }
      ]
    },
    {
      "cell_type": "code",
      "metadata": {
        "colab": {
          "base_uri": "https://localhost:8080/"
        },
        "id": "kRc8gClgcgb2",
        "outputId": "fe0e269e-ed51-4a56-b046-8dadcb748295"
      },
      "source": [
        "len(animais) # mostra a quantidade de elemento no set"
      ],
      "execution_count": 51,
      "outputs": [
        {
          "output_type": "execute_result",
          "data": {
            "text/plain": [
              "8"
            ]
          },
          "metadata": {
            "tags": []
          },
          "execution_count": 51
        }
      ]
    },
    {
      "cell_type": "code",
      "metadata": {
        "colab": {
          "base_uri": "https://localhost:8080/"
        },
        "id": "XO9hEwdlcnx4",
        "outputId": "e2aea175-b74d-4593-8b6c-3149e430449c"
      },
      "source": [
        "animais.add('urso') # incluir um elemento existente não será incluso\n",
        "animais"
      ],
      "execution_count": 58,
      "outputs": [
        {
          "output_type": "execute_result",
          "data": {
            "text/plain": [
              "{'baleia', 'cachorro', 'gato', 'leão', 'macaco', 'papagaio', 'tigre', 'urso'}"
            ]
          },
          "metadata": {
            "tags": []
          },
          "execution_count": 58
        }
      ]
    },
    {
      "cell_type": "code",
      "metadata": {
        "colab": {
          "base_uri": "https://localhost:8080/"
        },
        "id": "BeCiW6eIc5aZ",
        "outputId": "e7a402c8-2f4c-4928-880f-70fd74a92401"
      },
      "source": [
        "animais"
      ],
      "execution_count": 59,
      "outputs": [
        {
          "output_type": "execute_result",
          "data": {
            "text/plain": [
              "{'baleia', 'cachorro', 'gato', 'leão', 'macaco', 'papagaio', 'tigre', 'urso'}"
            ]
          },
          "metadata": {
            "tags": []
          },
          "execution_count": 59
        }
      ]
    },
    {
      "cell_type": "code",
      "metadata": {
        "id": "Qp-02-Z0di_9"
      },
      "source": [
        "animais.remove('urso') # remove o dados urso do set"
      ],
      "execution_count": 60,
      "outputs": []
    },
    {
      "cell_type": "code",
      "metadata": {
        "colab": {
          "base_uri": "https://localhost:8080/"
        },
        "id": "5H3LA81gdmXr",
        "outputId": "931e31eb-1c6c-4dfe-e814-37190507bd4b"
      },
      "source": [
        "animais"
      ],
      "execution_count": 61,
      "outputs": [
        {
          "output_type": "execute_result",
          "data": {
            "text/plain": [
              "{'baleia', 'cachorro', 'gato', 'leão', 'macaco', 'papagaio', 'tigre'}"
            ]
          },
          "metadata": {
            "tags": []
          },
          "execution_count": 61
        }
      ]
    },
    {
      "cell_type": "markdown",
      "metadata": {
        "id": "cnwEJZXueCHf"
      },
      "source": [
        "### Tuplas"
      ]
    },
    {
      "cell_type": "code",
      "metadata": {
        "colab": {
          "base_uri": "https://localhost:8080/"
        },
        "id": "OikZMro2eEtT",
        "outputId": "bf33d3fb-c657-448f-f089-a54187a63594"
      },
      "source": [
        "# criando uma tupla com dados numericos\n",
        "tupla_1 = (1,33,54,65,77,88,98,45,65,33,45,654,789,234,543,456,7878,6,23,1,65,9,78,789,99,87,8765,9)\n",
        "tupla_1"
      ],
      "execution_count": 64,
      "outputs": [
        {
          "output_type": "execute_result",
          "data": {
            "text/plain": [
              "(1,\n",
              " 33,\n",
              " 54,\n",
              " 65,\n",
              " 77,\n",
              " 88,\n",
              " 98,\n",
              " 45,\n",
              " 65,\n",
              " 33,\n",
              " 45,\n",
              " 654,\n",
              " 789,\n",
              " 234,\n",
              " 543,\n",
              " 456,\n",
              " 7878,\n",
              " 6,\n",
              " 23,\n",
              " 1,\n",
              " 65,\n",
              " 9,\n",
              " 78,\n",
              " 789,\n",
              " 99,\n",
              " 87,\n",
              " 8765,\n",
              " 9)"
            ]
          },
          "metadata": {
            "tags": []
          },
          "execution_count": 64
        }
      ]
    },
    {
      "cell_type": "code",
      "metadata": {
        "colab": {
          "base_uri": "https://localhost:8080/"
        },
        "id": "TSeRMbXvkkww",
        "outputId": "717de969-3e09-4d97-f4f0-f444af9bb56b"
      },
      "source": [
        "tupla_1[5]# chamando o item da posição 5 na tupla "
      ],
      "execution_count": 69,
      "outputs": [
        {
          "output_type": "execute_result",
          "data": {
            "text/plain": [
              "88"
            ]
          },
          "metadata": {
            "tags": []
          },
          "execution_count": 69
        }
      ]
    },
    {
      "cell_type": "code",
      "metadata": {
        "colab": {
          "base_uri": "https://localhost:8080/"
        },
        "id": "6JgcdGNZk-58",
        "outputId": "fdc00e54-b027-49a8-9c20-5e5a57811f36"
      },
      "source": [
        "# criado dicionario com tuplas como chave\n",
        "dici_tupla = {(0,1): 0, (1,2): 1, (2,3): 2, (3,4): 3, (4,5): 4, (5,6): 5, (6,7): 6, (7,8): 7, (8,9): 8, (9,10): 9, (10,11): 10, \n",
        "              (11,12): 11, (12,13): 12, (13,14): 13} \n",
        "dici_tupla              "
      ],
      "execution_count": 72,
      "outputs": [
        {
          "output_type": "execute_result",
          "data": {
            "text/plain": [
              "{(0, 1): 0,\n",
              " (1, 2): 1,\n",
              " (2, 3): 2,\n",
              " (3, 4): 3,\n",
              " (4, 5): 4,\n",
              " (5, 6): 5,\n",
              " (6, 7): 6,\n",
              " (7, 8): 7,\n",
              " (8, 9): 8,\n",
              " (9, 10): 9,\n",
              " (10, 11): 10,\n",
              " (11, 12): 11,\n",
              " (12, 13): 12,\n",
              " (13, 14): 13}"
            ]
          },
          "metadata": {
            "tags": []
          },
          "execution_count": 72
        }
      ]
    },
    {
      "cell_type": "code",
      "metadata": {
        "colab": {
          "base_uri": "https://localhost:8080/"
        },
        "id": "70HZCRyGm-3l",
        "outputId": "8b1c86c5-d185-40b7-b924-3b91b1aadf75"
      },
      "source": [
        "tupla_2 = (5,6) # criando uma segunda tupla\n",
        "tupla_2 "
      ],
      "execution_count": 82,
      "outputs": [
        {
          "output_type": "execute_result",
          "data": {
            "text/plain": [
              "(5, 6)"
            ]
          },
          "metadata": {
            "tags": []
          },
          "execution_count": 82
        }
      ]
    },
    {
      "cell_type": "code",
      "metadata": {
        "colab": {
          "base_uri": "https://localhost:8080/"
        },
        "id": "ivT2gDMbn-Kl",
        "outputId": "a8259ba3-5a61-4da0-f2f2-cf3baf5cd4b8"
      },
      "source": [
        "type(tupla_2) # mostrando o tipo da variável"
      ],
      "execution_count": 84,
      "outputs": [
        {
          "output_type": "execute_result",
          "data": {
            "text/plain": [
              "tuple"
            ]
          },
          "metadata": {
            "tags": []
          },
          "execution_count": 84
        }
      ]
    },
    {
      "cell_type": "code",
      "metadata": {
        "colab": {
          "base_uri": "https://localhost:8080/"
        },
        "id": "mxv5HWFmoJCB",
        "outputId": "123469cb-609d-4097-d6f8-b59c1fd17ae4"
      },
      "source": [
        "dici_tupla[tupla_2] # chamando a tupla com chave (5,6), no dicionario \"dici_tupla\""
      ],
      "execution_count": 86,
      "outputs": [
        {
          "output_type": "execute_result",
          "data": {
            "text/plain": [
              "5"
            ]
          },
          "metadata": {
            "tags": []
          },
          "execution_count": 86
        }
      ]
    },
    {
      "cell_type": "code",
      "metadata": {
        "colab": {
          "base_uri": "https://localhost:8080/"
        },
        "id": "NKjeOaXMpJRf",
        "outputId": "7cb305ae-b9fc-4051-bf11-1419e7b0a724"
      },
      "source": [
        "dici_tupla_2 = {(y, y+1): y for y in range(20)} #criando um dicionario com tuplas como chave usando for \n",
        "dici_tupla_2"
      ],
      "execution_count": 90,
      "outputs": [
        {
          "output_type": "execute_result",
          "data": {
            "text/plain": [
              "{(0, 1): 0,\n",
              " (1, 2): 1,\n",
              " (2, 3): 2,\n",
              " (3, 4): 3,\n",
              " (4, 5): 4,\n",
              " (5, 6): 5,\n",
              " (6, 7): 6,\n",
              " (7, 8): 7,\n",
              " (8, 9): 8,\n",
              " (9, 10): 9,\n",
              " (10, 11): 10,\n",
              " (11, 12): 11,\n",
              " (12, 13): 12,\n",
              " (13, 14): 13,\n",
              " (14, 15): 14,\n",
              " (15, 16): 15,\n",
              " (16, 17): 16,\n",
              " (17, 18): 17,\n",
              " (18, 19): 18,\n",
              " (19, 20): 19}"
            ]
          },
          "metadata": {
            "tags": []
          },
          "execution_count": 90
        }
      ]
    }
  ]
}