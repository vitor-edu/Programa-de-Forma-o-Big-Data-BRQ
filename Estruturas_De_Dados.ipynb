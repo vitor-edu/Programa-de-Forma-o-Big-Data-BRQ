{
  "nbformat": 4,
  "nbformat_minor": 0,
  "metadata": {
    "colab": {
      "name": "Estruturas_De_Dados.ipynb",
      "provenance": [],
      "collapsed_sections": [],
      "authorship_tag": "ABX9TyPB3bOEaphIBD6vOTDn4zHj",
      "include_colab_link": true
    },
    "kernelspec": {
      "name": "python3",
      "display_name": "Python 3"
    },
    "language_info": {
      "name": "python"
    }
  },
  "cells": [
    {
      "cell_type": "markdown",
      "metadata": {
        "id": "view-in-github",
        "colab_type": "text"
      },
      "source": [
        "<a href=\"https://colab.research.google.com/github/vitor-edu/Programa-de-Formacao-Big-Data-BRQ/blob/main/Estruturas_De_Dados.ipynb\" target=\"_parent\"><img src=\"https://colab.research.google.com/assets/colab-badge.svg\" alt=\"Open In Colab\"/></a>"
      ]
    },
    {
      "cell_type": "code",
      "metadata": {
        "colab": {
          "base_uri": "https://localhost:8080/"
        },
        "id": "gzKksTAwzHCV",
        "outputId": "4a93b0a4-b091-46e9-d74f-3d2576eb99ca"
      },
      "source": [
        "#tipos de variavéis comprando com a função type e retornando boleano\n",
        "\n",
        "variavel_1 = 3.5\n",
        "print(type(variavel_1) is float)\n",
        "\n",
        "variavel_2 = 10\n",
        "print(type(variavel_2) is int)\n",
        "\n",
        "variavel_3 = True\n",
        "print(type(variavel_3) is bool)\n",
        "\n",
        "variavel_4 = 'palavra'\n",
        "print(type(variavel_4) is str)"
      ],
      "execution_count": 5,
      "outputs": [
        {
          "output_type": "stream",
          "text": [
            "True\n",
            "True\n",
            "True\n",
            "True\n"
          ],
          "name": "stdout"
        }
      ]
    },
    {
      "cell_type": "markdown",
      "metadata": {
        "id": "8pUGakEa0i9v"
      },
      "source": [
        "### Estruturas de dados - Listas"
      ]
    },
    {
      "cell_type": "code",
      "metadata": {
        "colab": {
          "base_uri": "https://localhost:8080/"
        },
        "id": "E98eNwzt0iBP",
        "outputId": "a085cbff-ce53-433b-b18f-727bf2eb5775"
      },
      "source": [
        "from google.colab import drive  # importando arquivo do drive\n",
        "\n",
        "drive.mount('/content/drive')\n",
        "infile = open('/content/drive/My Drive/qbdata.txt','r') # o caminho do arquivo no drive\n",
        "#x = infile.read()\n",
        "x = infile.readlines()  # comando readlines para o corpus ficar mais apresentável com quebra de linhas"
      ],
      "execution_count": 24,
      "outputs": [
        {
          "output_type": "stream",
          "text": [
            "Drive already mounted at /content/drive; to attempt to forcibly remount, call drive.mount(\"/content/drive\", force_remount=True).\n"
          ],
          "name": "stdout"
        }
      ]
    },
    {
      "cell_type": "code",
      "metadata": {
        "colab": {
          "base_uri": "https://localhost:8080/"
        },
        "id": "jx_knX9Y48Pm",
        "outputId": "4d1aa881-dbee-4b80-9d8c-310005e70d37"
      },
      "source": [
        "x"
      ],
      "execution_count": 25,
      "outputs": [
        {
          "output_type": "execute_result",
          "data": {
            "text/plain": [
              "['First Name, Last Name, Position, Team, Completions, Attempts, Yards, TDs Ints, Comp%, Rating\\n',\n",
              " 'Colt McCoy QB, CLE  135 222 1576    6   9   60.8%   74.5\\n',\n",
              " 'Josh Freeman QB, TB 291 474 3451    25  6   61.4%   95.9\\n',\n",
              " 'Michael Vick QB, PHI    233 372 3018    21  6   62.6%   100.2\\n',\n",
              " 'Matt Schaub QB, HOU 365 574 4370    24  12  63.6%   92.0\\n',\n",
              " 'Philip Rivers QB, SD    357 541 4710    30  13  66.0%   101.8\\n',\n",
              " 'Matt Hasselbeck QB, SEA 266 444 3001    12  17  59.9%   73.2\\n',\n",
              " 'Jimmy Clausen QB, CAR   157 299 1558    3   9   52.5%   58.4\\n',\n",
              " 'Joe Flacco QB, BAL  306 489 3622    25  10  62.6%   93.6\\n',\n",
              " 'Kyle Orton QB, DEN  293 498 3653    20  9   58.8%   87.5\\n',\n",
              " 'Jason Campbell QB, OAK  194 329 2387    13  8   59.0%   84.5\\n',\n",
              " 'Peyton Manning QB, IND  450 679 4700    33  17  66.3%   91.9\\n',\n",
              " 'Drew Brees QB, NO   448 658 4620    33  22  68.1%   90.9\\n',\n",
              " 'Matt Ryan QB, ATL   357 571 3705    28  9   62.5%   91.0\\n',\n",
              " 'Matt Cassel QB, KC  262 450 3116    27  7   58.2%   93.0\\n',\n",
              " 'Mark Sanchez QB, NYJ    278 507 3291    17  13  54.8%   75.3\\n',\n",
              " 'Brett Favre QB, MIN 217 358 2509    11  19  60.6%   69.9\\n',\n",
              " 'David Garrard QB, JAC   236 366 2734    23  15  64.5%   90.8\\n',\n",
              " 'Eli Manning QB, NYG 339 539 4002    31  25  62.9%   85.3\\n',\n",
              " 'Carson Palmer QB, CIN   362 586 3970    26  20  61.8%   82.4\\n',\n",
              " 'Alex Smith QB, SF   204 342 2370    14  10  59.6%   82.1\\n',\n",
              " 'Chad Henne QB, MIA  301 490 3301    15  19  61.4%   75.4\\n',\n",
              " 'Tony Romo QB, DAL   148 213 1605    11  7   69.5%   94.9\\n',\n",
              " 'Jay Cutler QB, CHI  261 432 3274    23  16  60.4%   86.3\\n',\n",
              " 'Jon Kitna QB, DAL   209 318 2365    16  12  65.7%   88.9\\n',\n",
              " 'Tom Brady QB, NE    324 492 3900    36  4   65.9%   111.0\\n',\n",
              " 'Ben Roethlisberger QB, PIT  240 389 3200    17  5   61.7%   97.0\\n',\n",
              " 'Kerry Collins QB, TEN   160 278 1823    14  8   57.6%   82.2\\n',\n",
              " 'Derek Anderson QB, ARI  169 327 2065    7   10  51.7%   65.9\\n',\n",
              " 'Ryan Fitzpatrick QB, BUF    255 441 3000    23  15  57.8%   81.8\\n',\n",
              " 'Donovan McNabb QB, WAS  275 472 3377    14  15  58.3%   77.1\\n',\n",
              " 'Kevin Kolb QB, PHI  115 189 1197    7   7   60.8%   76.1\\n',\n",
              " 'Aaron Rodgers QB, GB    312 475 3922    28  11  65.7%   101.2\\n',\n",
              " 'Sam Bradford QB, STL    354 590 3512    18  15  60.0%   76.5\\n',\n",
              " 'Shaun Hill QB, DET  257 416 2686    16  12  61.8%   81.3']"
            ]
          },
          "metadata": {
            "tags": []
          },
          "execution_count": 25
        }
      ]
    },
    {
      "cell_type": "code",
      "metadata": {
        "colab": {
          "base_uri": "https://localhost:8080/"
        },
        "id": "IDQJWOhF4_pd",
        "outputId": "40f846e6-08f2-4834-ffc2-001f801c9117"
      },
      "source": [
        "type(x) # verificando o tipo de arquivo"
      ],
      "execution_count": 26,
      "outputs": [
        {
          "output_type": "execute_result",
          "data": {
            "text/plain": [
              "list"
            ]
          },
          "metadata": {
            "tags": []
          },
          "execution_count": 26
        }
      ]
    },
    {
      "cell_type": "code",
      "metadata": {
        "colab": {
          "base_uri": "https://localhost:8080/"
        },
        "id": "hc-vee2T6SuQ",
        "outputId": "afb20969-0978-4cdf-89bf-bffb7f1c2b37"
      },
      "source": [
        "len(x) # verificando o tamanho da lista"
      ],
      "execution_count": 28,
      "outputs": [
        {
          "output_type": "execute_result",
          "data": {
            "text/plain": [
              "35"
            ]
          },
          "metadata": {
            "tags": []
          },
          "execution_count": 28
        }
      ]
    },
    {
      "cell_type": "code",
      "metadata": {
        "colab": {
          "base_uri": "https://localhost:8080/",
          "height": 35
        },
        "id": "jqQfnQ8s7QWH",
        "outputId": "85ec60b3-d108-49d5-bd64-68fdd5b3eb9e"
      },
      "source": [
        "menor_v_lista = min(x) # retornando o menor valor da lista e atribuindo o resultado para variavel\n",
        "menor_v_lista"
      ],
      "execution_count": 33,
      "outputs": [
        {
          "output_type": "execute_result",
          "data": {
            "application/vnd.google.colaboratory.intrinsic+json": {
              "type": "string"
            },
            "text/plain": [
              "'Aaron Rodgers QB, GB    312 475 3922    28  11  65.7%   101.2\\n'"
            ]
          },
          "metadata": {
            "tags": []
          },
          "execution_count": 33
        }
      ]
    },
    {
      "cell_type": "code",
      "metadata": {
        "colab": {
          "base_uri": "https://localhost:8080/",
          "height": 35
        },
        "id": "sdoKc6pt73iQ",
        "outputId": "0b634ab2-ac23-423b-ac25-a9fedd35a417"
      },
      "source": [
        "maior_v_lista = max(x)\n",
        "maior_v_lista"
      ],
      "execution_count": 35,
      "outputs": [
        {
          "output_type": "execute_result",
          "data": {
            "application/vnd.google.colaboratory.intrinsic+json": {
              "type": "string"
            },
            "text/plain": [
              "'Tony Romo QB, DAL   148 213 1605    11  7   69.5%   94.9\\n'"
            ]
          },
          "metadata": {
            "tags": []
          },
          "execution_count": 35
        }
      ]
    }
  ]
}