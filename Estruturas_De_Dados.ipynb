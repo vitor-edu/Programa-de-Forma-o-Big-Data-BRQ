{
  "nbformat": 4,
  "nbformat_minor": 0,
  "metadata": {
    "colab": {
      "name": "Estruturas_De_Dados.ipynb",
      "provenance": [],
      "collapsed_sections": [],
      "authorship_tag": "ABX9TyPDpbAORrThbymu455d/5l1",
      "include_colab_link": true
    },
    "kernelspec": {
      "name": "python3",
      "display_name": "Python 3"
    },
    "language_info": {
      "name": "python"
    }
  },
  "cells": [
    {
      "cell_type": "markdown",
      "metadata": {
        "id": "view-in-github",
        "colab_type": "text"
      },
      "source": [
        "<a href=\"https://colab.research.google.com/github/vitor-edu/Programa-de-Formacao-Big-Data-BRQ/blob/main/Estruturas_De_Dados.ipynb\" target=\"_parent\"><img src=\"https://colab.research.google.com/assets/colab-badge.svg\" alt=\"Open In Colab\"/></a>"
      ]
    },
    {
      "cell_type": "code",
      "metadata": {
        "colab": {
          "base_uri": "https://localhost:8080/"
        },
        "id": "gzKksTAwzHCV",
        "outputId": "4a93b0a4-b091-46e9-d74f-3d2576eb99ca"
      },
      "source": [
        "#tipos de variavéis comprando com a função type e retornando boleano\n",
        "\n",
        "variavel_1 = 3.5\n",
        "print(type(variavel_1) is float)\n",
        "\n",
        "variavel_2 = 10\n",
        "print(type(variavel_2) is int)\n",
        "\n",
        "variavel_3 = True\n",
        "print(type(variavel_3) is bool)\n",
        "\n",
        "variavel_4 = 'palavra'\n",
        "print(type(variavel_4) is str)"
      ],
      "execution_count": 5,
      "outputs": [
        {
          "output_type": "stream",
          "text": [
            "True\n",
            "True\n",
            "True\n",
            "True\n"
          ],
          "name": "stdout"
        }
      ]
    },
    {
      "cell_type": "markdown",
      "metadata": {
        "id": "8pUGakEa0i9v"
      },
      "source": [
        "### Estruturas de dados - Listas"
      ]
    },
    {
      "cell_type": "code",
      "metadata": {
        "id": "E98eNwzt0iBP"
      },
      "source": [
        ""
      ],
      "execution_count": null,
      "outputs": []
    }
  ]
}