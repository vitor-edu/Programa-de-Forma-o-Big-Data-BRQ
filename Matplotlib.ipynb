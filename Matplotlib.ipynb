{
  "nbformat": 4,
  "nbformat_minor": 0,
  "metadata": {
    "colab": {
      "name": "Matplotlib.ipynb",
      "provenance": [],
      "collapsed_sections": [],
      "authorship_tag": "ABX9TyPncNQkKa30raAaZ28ajODY",
      "include_colab_link": true
    },
    "kernelspec": {
      "name": "python3",
      "display_name": "Python 3"
    },
    "language_info": {
      "name": "python"
    }
  },
  "cells": [
    {
      "cell_type": "markdown",
      "metadata": {
        "id": "view-in-github",
        "colab_type": "text"
      },
      "source": [
        "<a href=\"https://colab.research.google.com/github/vitor-edu/Programa-de-Formacao-Big-Data-BRQ/blob/main/Matplotlib.ipynb\" target=\"_parent\"><img src=\"https://colab.research.google.com/assets/colab-badge.svg\" alt=\"Open In Colab\"/></a>"
      ]
    },
    {
      "cell_type": "markdown",
      "metadata": {
        "id": "BwOqzDljlLht"
      },
      "source": [
        "### MatPlotlib"
      ]
    },
    {
      "cell_type": "code",
      "metadata": {
        "id": "ysnmhR0mk4ru"
      },
      "source": [
        "#MatPlotLib\n",
        "import pandas as pd # Importando bibliotecas. \n",
        "from google.colab import files "
      ],
      "execution_count": 59,
      "outputs": []
    },
    {
      "cell_type": "code",
      "metadata": {
        "colab": {
          "resources": {
            "http://localhost:8080/nbextensions/google.colab/files.js": {
              "data": "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",
              "ok": true,
              "headers": [
                [
                  "content-type",
                  "application/javascript"
                ]
              ],
              "status": 200,
              "status_text": ""
            }
          },
          "base_uri": "https://localhost:8080/",
          "height": 72
        },
        "id": "jKh9t2lqdv4d",
        "outputId": "85264932-3108-4c9d-fc29-1b4ab3c27b9b"
      },
      "source": [
        "uploaded = files.upload() # Carregando a base de dados. \n"
      ],
      "execution_count": 60,
      "outputs": [
        {
          "output_type": "display_data",
          "data": {
            "text/html": [
              "\n",
              "     <input type=\"file\" id=\"files-0ca1f439-ae57-4d3d-b656-1dedb0316d4a\" name=\"files[]\" multiple disabled\n",
              "        style=\"border:none\" />\n",
              "     <output id=\"result-0ca1f439-ae57-4d3d-b656-1dedb0316d4a\">\n",
              "      Upload widget is only available when the cell has been executed in the\n",
              "      current browser session. Please rerun this cell to enable.\n",
              "      </output>\n",
              "      <script src=\"/nbextensions/google.colab/files.js\"></script> "
            ],
            "text/plain": [
              "<IPython.core.display.HTML object>"
            ]
          },
          "metadata": {
            "tags": []
          }
        },
        {
          "output_type": "stream",
          "text": [
            "Saving ENADE2017.xlsx to ENADE2017 (1).xlsx\n"
          ],
          "name": "stdout"
        }
      ]
    },
    {
      "cell_type": "code",
      "metadata": {
        "colab": {
          "base_uri": "https://localhost:8080/",
          "height": 881
        },
        "id": "Vc8uaCtwfWsF",
        "outputId": "52afec36-2ff0-45fc-90d5-3a610b957761"
      },
      "source": [
        "enade = pd.read_excel('ENADE2017.xlsx') # Comando read lendo o arquivo excel. \n",
        "enade\n"
      ],
      "execution_count": 61,
      "outputs": [
        {
          "output_type": "execute_result",
          "data": {
            "text/html": [
              "<div>\n",
              "<style scoped>\n",
              "    .dataframe tbody tr th:only-of-type {\n",
              "        vertical-align: middle;\n",
              "    }\n",
              "\n",
              "    .dataframe tbody tr th {\n",
              "        vertical-align: top;\n",
              "    }\n",
              "\n",
              "    .dataframe thead th {\n",
              "        text-align: right;\n",
              "    }\n",
              "</style>\n",
              "<table border=\"1\" class=\"dataframe\">\n",
              "  <thead>\n",
              "    <tr style=\"text-align: right;\">\n",
              "      <th></th>\n",
              "      <th>Ano</th>\n",
              "      <th>Código da Área</th>\n",
              "      <th>Área de Avaliação</th>\n",
              "      <th>Código da IES</th>\n",
              "      <th>Nome da IES</th>\n",
              "      <th>Sigla da IES</th>\n",
              "      <th>Organização Acadêmica</th>\n",
              "      <th>Categoria Administrativa</th>\n",
              "      <th>Código do Curso</th>\n",
              "      <th>Modalidade de Ensino</th>\n",
              "      <th>Código do Município</th>\n",
              "      <th>Município do Curso</th>\n",
              "      <th>Sigla da UF</th>\n",
              "      <th>Nº de Concluintes Inscritos</th>\n",
              "      <th>Nº  de Concluintes Participantes</th>\n",
              "      <th>Nota Bruta - FG</th>\n",
              "      <th>Nota Padronizada - FG</th>\n",
              "      <th>Nota Bruta - CE</th>\n",
              "      <th>Nota Padronizada - CE</th>\n",
              "      <th>Conceito Enade (Contínuo)</th>\n",
              "      <th>Conceito Enade (Faixa)</th>\n",
              "    </tr>\n",
              "  </thead>\n",
              "  <tbody>\n",
              "    <tr>\n",
              "      <th>0</th>\n",
              "      <td>2017</td>\n",
              "      <td>4004</td>\n",
              "      <td>CIÊNCIA DA COMPUTAÇÃO (BACHARELADO)</td>\n",
              "      <td>550</td>\n",
              "      <td>UNIVERSIDADE ESTADUAL DA PARAÍBA</td>\n",
              "      <td>UEPB</td>\n",
              "      <td>Universidade</td>\n",
              "      <td>Pública Estadual</td>\n",
              "      <td>1265453</td>\n",
              "      <td>Educação Presencial</td>\n",
              "      <td>2510808</td>\n",
              "      <td>Patos</td>\n",
              "      <td>PB</td>\n",
              "      <td>27</td>\n",
              "      <td>1</td>\n",
              "      <td>48.300000</td>\n",
              "      <td>NaN</td>\n",
              "      <td>31.300000</td>\n",
              "      <td>NaN</td>\n",
              "      <td>NaN</td>\n",
              "      <td>SC</td>\n",
              "    </tr>\n",
              "    <tr>\n",
              "      <th>1</th>\n",
              "      <td>2017</td>\n",
              "      <td>4004</td>\n",
              "      <td>CIÊNCIA DA COMPUTAÇÃO (BACHARELADO)</td>\n",
              "      <td>1066</td>\n",
              "      <td>INSTITUTO DE ENSINO E PESQUISA OBJETIVO</td>\n",
              "      <td>IEPO</td>\n",
              "      <td>Faculdade</td>\n",
              "      <td>Privada com fins lucrativos</td>\n",
              "      <td>58808</td>\n",
              "      <td>Educação Presencial</td>\n",
              "      <td>1721000</td>\n",
              "      <td>Palmas</td>\n",
              "      <td>TO</td>\n",
              "      <td>1</td>\n",
              "      <td>0</td>\n",
              "      <td>NaN</td>\n",
              "      <td>NaN</td>\n",
              "      <td>NaN</td>\n",
              "      <td>NaN</td>\n",
              "      <td>NaN</td>\n",
              "      <td>SC</td>\n",
              "    </tr>\n",
              "    <tr>\n",
              "      <th>2</th>\n",
              "      <td>2017</td>\n",
              "      <td>4004</td>\n",
              "      <td>CIÊNCIA DA COMPUTAÇÃO (BACHARELADO)</td>\n",
              "      <td>2676</td>\n",
              "      <td>FACULDADE LA SALLE</td>\n",
              "      <td>NaN</td>\n",
              "      <td>Faculdade</td>\n",
              "      <td>Privada sem fins lucrativos</td>\n",
              "      <td>73438</td>\n",
              "      <td>Educação Presencial</td>\n",
              "      <td>1302603</td>\n",
              "      <td>Manaus</td>\n",
              "      <td>AM</td>\n",
              "      <td>45</td>\n",
              "      <td>6</td>\n",
              "      <td>NaN</td>\n",
              "      <td>NaN</td>\n",
              "      <td>NaN</td>\n",
              "      <td>NaN</td>\n",
              "      <td>NaN</td>\n",
              "      <td>SC</td>\n",
              "    </tr>\n",
              "    <tr>\n",
              "      <th>3</th>\n",
              "      <td>2017</td>\n",
              "      <td>4004</td>\n",
              "      <td>CIÊNCIA DA COMPUTAÇÃO (BACHARELADO)</td>\n",
              "      <td>4656</td>\n",
              "      <td>FACULDADE ANHANGÜERA DE PIRACICABA</td>\n",
              "      <td>NaN</td>\n",
              "      <td>Faculdade</td>\n",
              "      <td>Privada com fins lucrativos</td>\n",
              "      <td>104836</td>\n",
              "      <td>Educação Presencial</td>\n",
              "      <td>3538709</td>\n",
              "      <td>Piracicaba</td>\n",
              "      <td>SP</td>\n",
              "      <td>2</td>\n",
              "      <td>1</td>\n",
              "      <td>49.400000</td>\n",
              "      <td>NaN</td>\n",
              "      <td>39.900000</td>\n",
              "      <td>NaN</td>\n",
              "      <td>NaN</td>\n",
              "      <td>SC</td>\n",
              "    </tr>\n",
              "    <tr>\n",
              "      <th>4</th>\n",
              "      <td>2017</td>\n",
              "      <td>4004</td>\n",
              "      <td>CIÊNCIA DA COMPUTAÇÃO (BACHARELADO)</td>\n",
              "      <td>575</td>\n",
              "      <td>UNIVERSIDADE FEDERAL DE MINAS GERAIS</td>\n",
              "      <td>UFMG</td>\n",
              "      <td>Universidade</td>\n",
              "      <td>Pública Federal</td>\n",
              "      <td>12946</td>\n",
              "      <td>Educação Presencial</td>\n",
              "      <td>3106200</td>\n",
              "      <td>Belo Horizonte</td>\n",
              "      <td>MG</td>\n",
              "      <td>79</td>\n",
              "      <td>72</td>\n",
              "      <td>64.683333</td>\n",
              "      <td>4.526723</td>\n",
              "      <td>59.127778</td>\n",
              "      <td>5.000000</td>\n",
              "      <td>4.881681</td>\n",
              "      <td>5</td>\n",
              "    </tr>\n",
              "    <tr>\n",
              "      <th>...</th>\n",
              "      <td>...</td>\n",
              "      <td>...</td>\n",
              "      <td>...</td>\n",
              "      <td>...</td>\n",
              "      <td>...</td>\n",
              "      <td>...</td>\n",
              "      <td>...</td>\n",
              "      <td>...</td>\n",
              "      <td>...</td>\n",
              "      <td>...</td>\n",
              "      <td>...</td>\n",
              "      <td>...</td>\n",
              "      <td>...</td>\n",
              "      <td>...</td>\n",
              "      <td>...</td>\n",
              "      <td>...</td>\n",
              "      <td>...</td>\n",
              "      <td>...</td>\n",
              "      <td>...</td>\n",
              "      <td>...</td>\n",
              "      <td>...</td>\n",
              "    </tr>\n",
              "    <tr>\n",
              "      <th>1690</th>\n",
              "      <td>2017</td>\n",
              "      <td>79</td>\n",
              "      <td>TECNOLOGIA EM REDES DE COMPUTADORES</td>\n",
              "      <td>5439</td>\n",
              "      <td>FACULDADES INTEGRADAS DA UNIÃO EDUCACIONAL DO ...</td>\n",
              "      <td>FACIPLAC</td>\n",
              "      <td>Faculdade</td>\n",
              "      <td>Privada com fins lucrativos</td>\n",
              "      <td>1073286</td>\n",
              "      <td>Educação Presencial</td>\n",
              "      <td>5300108</td>\n",
              "      <td>Brasília</td>\n",
              "      <td>DF</td>\n",
              "      <td>15</td>\n",
              "      <td>12</td>\n",
              "      <td>35.700000</td>\n",
              "      <td>1.687043</td>\n",
              "      <td>20.500000</td>\n",
              "      <td>1.180022</td>\n",
              "      <td>1.306777</td>\n",
              "      <td>2</td>\n",
              "    </tr>\n",
              "    <tr>\n",
              "      <th>1691</th>\n",
              "      <td>2017</td>\n",
              "      <td>79</td>\n",
              "      <td>TECNOLOGIA EM REDES DE COMPUTADORES</td>\n",
              "      <td>4173</td>\n",
              "      <td>FACULDADE JK DE TECNOLOGIA</td>\n",
              "      <td>FACJK</td>\n",
              "      <td>Faculdade</td>\n",
              "      <td>Privada sem fins lucrativos</td>\n",
              "      <td>82672</td>\n",
              "      <td>Educação Presencial</td>\n",
              "      <td>5300108</td>\n",
              "      <td>Brasília</td>\n",
              "      <td>DF</td>\n",
              "      <td>8</td>\n",
              "      <td>4</td>\n",
              "      <td>45.350000</td>\n",
              "      <td>2.843701</td>\n",
              "      <td>18.000000</td>\n",
              "      <td>0.768386</td>\n",
              "      <td>1.287215</td>\n",
              "      <td>2</td>\n",
              "    </tr>\n",
              "    <tr>\n",
              "      <th>1692</th>\n",
              "      <td>2017</td>\n",
              "      <td>79</td>\n",
              "      <td>TECNOLOGIA EM REDES DE COMPUTADORES</td>\n",
              "      <td>3979</td>\n",
              "      <td>FACULDADE DE BAURU</td>\n",
              "      <td>-</td>\n",
              "      <td>Faculdade</td>\n",
              "      <td>Privada com fins lucrativos</td>\n",
              "      <td>73612</td>\n",
              "      <td>Educação Presencial</td>\n",
              "      <td>3506003</td>\n",
              "      <td>Bauru</td>\n",
              "      <td>SP</td>\n",
              "      <td>4</td>\n",
              "      <td>2</td>\n",
              "      <td>34.350000</td>\n",
              "      <td>1.525231</td>\n",
              "      <td>15.000000</td>\n",
              "      <td>0.274424</td>\n",
              "      <td>0.587125</td>\n",
              "      <td>1</td>\n",
              "    </tr>\n",
              "    <tr>\n",
              "      <th>1693</th>\n",
              "      <td>2017</td>\n",
              "      <td>79</td>\n",
              "      <td>TECNOLOGIA EM REDES DE COMPUTADORES</td>\n",
              "      <td>1494</td>\n",
              "      <td>CENTRO UNIVERSITÁRIO CATÓLICO DE VITÓRIA</td>\n",
              "      <td>NaN</td>\n",
              "      <td>Centro Universitário</td>\n",
              "      <td>Privada sem fins lucrativos</td>\n",
              "      <td>1117749</td>\n",
              "      <td>Educação Presencial</td>\n",
              "      <td>3205309</td>\n",
              "      <td>Vitória</td>\n",
              "      <td>ES</td>\n",
              "      <td>18</td>\n",
              "      <td>2</td>\n",
              "      <td>15.000000</td>\n",
              "      <td>0.000000</td>\n",
              "      <td>17.500000</td>\n",
              "      <td>0.686059</td>\n",
              "      <td>0.514544</td>\n",
              "      <td>1</td>\n",
              "    </tr>\n",
              "    <tr>\n",
              "      <th>1694</th>\n",
              "      <td>2017</td>\n",
              "      <td>79</td>\n",
              "      <td>TECNOLOGIA EM REDES DE COMPUTADORES</td>\n",
              "      <td>163</td>\n",
              "      <td>UNIVERSIDADE ESTÁCIO DE SÁ</td>\n",
              "      <td>UNESA</td>\n",
              "      <td>Universidade</td>\n",
              "      <td>Privada com fins lucrativos</td>\n",
              "      <td>80570</td>\n",
              "      <td>Educação Presencial</td>\n",
              "      <td>3303302</td>\n",
              "      <td>Niterói</td>\n",
              "      <td>RJ</td>\n",
              "      <td>4</td>\n",
              "      <td>3</td>\n",
              "      <td>25.700000</td>\n",
              "      <td>0.488433</td>\n",
              "      <td>13.333333</td>\n",
              "      <td>0.000000</td>\n",
              "      <td>0.122108</td>\n",
              "      <td>1</td>\n",
              "    </tr>\n",
              "  </tbody>\n",
              "</table>\n",
              "<p>1695 rows × 21 columns</p>\n",
              "</div>"
            ],
            "text/plain": [
              "       Ano  Código da Área  ... Conceito Enade (Contínuo)  Conceito Enade (Faixa)\n",
              "0     2017            4004  ...                       NaN                      SC\n",
              "1     2017            4004  ...                       NaN                      SC\n",
              "2     2017            4004  ...                       NaN                      SC\n",
              "3     2017            4004  ...                       NaN                      SC\n",
              "4     2017            4004  ...                  4.881681                       5\n",
              "...    ...             ...  ...                       ...                     ...\n",
              "1690  2017              79  ...                  1.306777                       2\n",
              "1691  2017              79  ...                  1.287215                       2\n",
              "1692  2017              79  ...                  0.587125                       1\n",
              "1693  2017              79  ...                  0.514544                       1\n",
              "1694  2017              79  ...                  0.122108                       1\n",
              "\n",
              "[1695 rows x 21 columns]"
            ]
          },
          "metadata": {
            "tags": []
          },
          "execution_count": 61
        }
      ]
    },
    {
      "cell_type": "code",
      "metadata": {
        "colab": {
          "base_uri": "https://localhost:8080/"
        },
        "id": "Ilz4CM37gkE1",
        "outputId": "4a92307b-5bf2-47a8-dca2-aa8cf5c7ce88"
      },
      "source": [
        "enade.shape # Comando shape verificar a quantidade de linhas e colunas. "
      ],
      "execution_count": 62,
      "outputs": [
        {
          "output_type": "execute_result",
          "data": {
            "text/plain": [
              "(1695, 21)"
            ]
          },
          "metadata": {
            "tags": []
          },
          "execution_count": 62
        }
      ]
    },
    {
      "cell_type": "code",
      "metadata": {
        "colab": {
          "base_uri": "https://localhost:8080/",
          "height": 315
        },
        "id": "TfVWcOTFgxBh",
        "outputId": "12413cf3-cca2-4bc6-dc85-b99d6abbfb63"
      },
      "source": [
        "enade.head(3) # Comando head retorna a quantidade de linha estipulada no parâmetro. "
      ],
      "execution_count": 63,
      "outputs": [
        {
          "output_type": "execute_result",
          "data": {
            "text/html": [
              "<div>\n",
              "<style scoped>\n",
              "    .dataframe tbody tr th:only-of-type {\n",
              "        vertical-align: middle;\n",
              "    }\n",
              "\n",
              "    .dataframe tbody tr th {\n",
              "        vertical-align: top;\n",
              "    }\n",
              "\n",
              "    .dataframe thead th {\n",
              "        text-align: right;\n",
              "    }\n",
              "</style>\n",
              "<table border=\"1\" class=\"dataframe\">\n",
              "  <thead>\n",
              "    <tr style=\"text-align: right;\">\n",
              "      <th></th>\n",
              "      <th>Ano</th>\n",
              "      <th>Código da Área</th>\n",
              "      <th>Área de Avaliação</th>\n",
              "      <th>Código da IES</th>\n",
              "      <th>Nome da IES</th>\n",
              "      <th>Sigla da IES</th>\n",
              "      <th>Organização Acadêmica</th>\n",
              "      <th>Categoria Administrativa</th>\n",
              "      <th>Código do Curso</th>\n",
              "      <th>Modalidade de Ensino</th>\n",
              "      <th>Código do Município</th>\n",
              "      <th>Município do Curso</th>\n",
              "      <th>Sigla da UF</th>\n",
              "      <th>Nº de Concluintes Inscritos</th>\n",
              "      <th>Nº  de Concluintes Participantes</th>\n",
              "      <th>Nota Bruta - FG</th>\n",
              "      <th>Nota Padronizada - FG</th>\n",
              "      <th>Nota Bruta - CE</th>\n",
              "      <th>Nota Padronizada - CE</th>\n",
              "      <th>Conceito Enade (Contínuo)</th>\n",
              "      <th>Conceito Enade (Faixa)</th>\n",
              "    </tr>\n",
              "  </thead>\n",
              "  <tbody>\n",
              "    <tr>\n",
              "      <th>0</th>\n",
              "      <td>2017</td>\n",
              "      <td>4004</td>\n",
              "      <td>CIÊNCIA DA COMPUTAÇÃO (BACHARELADO)</td>\n",
              "      <td>550</td>\n",
              "      <td>UNIVERSIDADE ESTADUAL DA PARAÍBA</td>\n",
              "      <td>UEPB</td>\n",
              "      <td>Universidade</td>\n",
              "      <td>Pública Estadual</td>\n",
              "      <td>1265453</td>\n",
              "      <td>Educação Presencial</td>\n",
              "      <td>2510808</td>\n",
              "      <td>Patos</td>\n",
              "      <td>PB</td>\n",
              "      <td>27</td>\n",
              "      <td>1</td>\n",
              "      <td>48.3</td>\n",
              "      <td>NaN</td>\n",
              "      <td>31.3</td>\n",
              "      <td>NaN</td>\n",
              "      <td>NaN</td>\n",
              "      <td>SC</td>\n",
              "    </tr>\n",
              "    <tr>\n",
              "      <th>1</th>\n",
              "      <td>2017</td>\n",
              "      <td>4004</td>\n",
              "      <td>CIÊNCIA DA COMPUTAÇÃO (BACHARELADO)</td>\n",
              "      <td>1066</td>\n",
              "      <td>INSTITUTO DE ENSINO E PESQUISA OBJETIVO</td>\n",
              "      <td>IEPO</td>\n",
              "      <td>Faculdade</td>\n",
              "      <td>Privada com fins lucrativos</td>\n",
              "      <td>58808</td>\n",
              "      <td>Educação Presencial</td>\n",
              "      <td>1721000</td>\n",
              "      <td>Palmas</td>\n",
              "      <td>TO</td>\n",
              "      <td>1</td>\n",
              "      <td>0</td>\n",
              "      <td>NaN</td>\n",
              "      <td>NaN</td>\n",
              "      <td>NaN</td>\n",
              "      <td>NaN</td>\n",
              "      <td>NaN</td>\n",
              "      <td>SC</td>\n",
              "    </tr>\n",
              "    <tr>\n",
              "      <th>2</th>\n",
              "      <td>2017</td>\n",
              "      <td>4004</td>\n",
              "      <td>CIÊNCIA DA COMPUTAÇÃO (BACHARELADO)</td>\n",
              "      <td>2676</td>\n",
              "      <td>FACULDADE LA SALLE</td>\n",
              "      <td>NaN</td>\n",
              "      <td>Faculdade</td>\n",
              "      <td>Privada sem fins lucrativos</td>\n",
              "      <td>73438</td>\n",
              "      <td>Educação Presencial</td>\n",
              "      <td>1302603</td>\n",
              "      <td>Manaus</td>\n",
              "      <td>AM</td>\n",
              "      <td>45</td>\n",
              "      <td>6</td>\n",
              "      <td>NaN</td>\n",
              "      <td>NaN</td>\n",
              "      <td>NaN</td>\n",
              "      <td>NaN</td>\n",
              "      <td>NaN</td>\n",
              "      <td>SC</td>\n",
              "    </tr>\n",
              "  </tbody>\n",
              "</table>\n",
              "</div>"
            ],
            "text/plain": [
              "    Ano  Código da Área  ... Conceito Enade (Contínuo)  Conceito Enade (Faixa)\n",
              "0  2017            4004  ...                       NaN                      SC\n",
              "1  2017            4004  ...                       NaN                      SC\n",
              "2  2017            4004  ...                       NaN                      SC\n",
              "\n",
              "[3 rows x 21 columns]"
            ]
          },
          "metadata": {
            "tags": []
          },
          "execution_count": 63
        }
      ]
    },
    {
      "cell_type": "code",
      "metadata": {
        "colab": {
          "base_uri": "https://localhost:8080/"
        },
        "id": "KqzfGO4Oij7l",
        "outputId": "daa63837-ac9d-4e90-8811-827fe6cdc8e4"
      },
      "source": [
        "enade.columns # Retornar os nomes das colunas. "
      ],
      "execution_count": 64,
      "outputs": [
        {
          "output_type": "execute_result",
          "data": {
            "text/plain": [
              "Index(['Ano', 'Código da Área', 'Área de Avaliação', 'Código da IES',\n",
              "       'Nome da IES', 'Sigla da IES', 'Organização Acadêmica',\n",
              "       'Categoria Administrativa', 'Código do Curso', 'Modalidade de Ensino',\n",
              "       'Código do Município', 'Município do Curso', 'Sigla da UF',\n",
              "       'Nº de Concluintes Inscritos', 'Nº  de Concluintes Participantes',\n",
              "       'Nota Bruta - FG', 'Nota Padronizada - FG', 'Nota Bruta - CE',\n",
              "       'Nota Padronizada - CE', 'Conceito Enade (Contínuo)',\n",
              "       'Conceito Enade (Faixa)'],\n",
              "      dtype='object')"
            ]
          },
          "metadata": {
            "tags": []
          },
          "execution_count": 64
        }
      ]
    },
    {
      "cell_type": "code",
      "metadata": {
        "colab": {
          "base_uri": "https://localhost:8080/",
          "height": 881
        },
        "id": "vYKRmYr9hglM",
        "outputId": "ef618723-dad1-4251-b154-bf5a256943d3"
      },
      "source": [
        "new_table_enade = enade.drop(columns=[\"Código da Área\"]) # Comando drop exclui coluna passada como parâmetro. \n",
        "new_table_enade"
      ],
      "execution_count": 65,
      "outputs": [
        {
          "output_type": "execute_result",
          "data": {
            "text/html": [
              "<div>\n",
              "<style scoped>\n",
              "    .dataframe tbody tr th:only-of-type {\n",
              "        vertical-align: middle;\n",
              "    }\n",
              "\n",
              "    .dataframe tbody tr th {\n",
              "        vertical-align: top;\n",
              "    }\n",
              "\n",
              "    .dataframe thead th {\n",
              "        text-align: right;\n",
              "    }\n",
              "</style>\n",
              "<table border=\"1\" class=\"dataframe\">\n",
              "  <thead>\n",
              "    <tr style=\"text-align: right;\">\n",
              "      <th></th>\n",
              "      <th>Ano</th>\n",
              "      <th>Área de Avaliação</th>\n",
              "      <th>Código da IES</th>\n",
              "      <th>Nome da IES</th>\n",
              "      <th>Sigla da IES</th>\n",
              "      <th>Organização Acadêmica</th>\n",
              "      <th>Categoria Administrativa</th>\n",
              "      <th>Código do Curso</th>\n",
              "      <th>Modalidade de Ensino</th>\n",
              "      <th>Código do Município</th>\n",
              "      <th>Município do Curso</th>\n",
              "      <th>Sigla da UF</th>\n",
              "      <th>Nº de Concluintes Inscritos</th>\n",
              "      <th>Nº  de Concluintes Participantes</th>\n",
              "      <th>Nota Bruta - FG</th>\n",
              "      <th>Nota Padronizada - FG</th>\n",
              "      <th>Nota Bruta - CE</th>\n",
              "      <th>Nota Padronizada - CE</th>\n",
              "      <th>Conceito Enade (Contínuo)</th>\n",
              "      <th>Conceito Enade (Faixa)</th>\n",
              "    </tr>\n",
              "  </thead>\n",
              "  <tbody>\n",
              "    <tr>\n",
              "      <th>0</th>\n",
              "      <td>2017</td>\n",
              "      <td>CIÊNCIA DA COMPUTAÇÃO (BACHARELADO)</td>\n",
              "      <td>550</td>\n",
              "      <td>UNIVERSIDADE ESTADUAL DA PARAÍBA</td>\n",
              "      <td>UEPB</td>\n",
              "      <td>Universidade</td>\n",
              "      <td>Pública Estadual</td>\n",
              "      <td>1265453</td>\n",
              "      <td>Educação Presencial</td>\n",
              "      <td>2510808</td>\n",
              "      <td>Patos</td>\n",
              "      <td>PB</td>\n",
              "      <td>27</td>\n",
              "      <td>1</td>\n",
              "      <td>48.300000</td>\n",
              "      <td>NaN</td>\n",
              "      <td>31.300000</td>\n",
              "      <td>NaN</td>\n",
              "      <td>NaN</td>\n",
              "      <td>SC</td>\n",
              "    </tr>\n",
              "    <tr>\n",
              "      <th>1</th>\n",
              "      <td>2017</td>\n",
              "      <td>CIÊNCIA DA COMPUTAÇÃO (BACHARELADO)</td>\n",
              "      <td>1066</td>\n",
              "      <td>INSTITUTO DE ENSINO E PESQUISA OBJETIVO</td>\n",
              "      <td>IEPO</td>\n",
              "      <td>Faculdade</td>\n",
              "      <td>Privada com fins lucrativos</td>\n",
              "      <td>58808</td>\n",
              "      <td>Educação Presencial</td>\n",
              "      <td>1721000</td>\n",
              "      <td>Palmas</td>\n",
              "      <td>TO</td>\n",
              "      <td>1</td>\n",
              "      <td>0</td>\n",
              "      <td>NaN</td>\n",
              "      <td>NaN</td>\n",
              "      <td>NaN</td>\n",
              "      <td>NaN</td>\n",
              "      <td>NaN</td>\n",
              "      <td>SC</td>\n",
              "    </tr>\n",
              "    <tr>\n",
              "      <th>2</th>\n",
              "      <td>2017</td>\n",
              "      <td>CIÊNCIA DA COMPUTAÇÃO (BACHARELADO)</td>\n",
              "      <td>2676</td>\n",
              "      <td>FACULDADE LA SALLE</td>\n",
              "      <td>NaN</td>\n",
              "      <td>Faculdade</td>\n",
              "      <td>Privada sem fins lucrativos</td>\n",
              "      <td>73438</td>\n",
              "      <td>Educação Presencial</td>\n",
              "      <td>1302603</td>\n",
              "      <td>Manaus</td>\n",
              "      <td>AM</td>\n",
              "      <td>45</td>\n",
              "      <td>6</td>\n",
              "      <td>NaN</td>\n",
              "      <td>NaN</td>\n",
              "      <td>NaN</td>\n",
              "      <td>NaN</td>\n",
              "      <td>NaN</td>\n",
              "      <td>SC</td>\n",
              "    </tr>\n",
              "    <tr>\n",
              "      <th>3</th>\n",
              "      <td>2017</td>\n",
              "      <td>CIÊNCIA DA COMPUTAÇÃO (BACHARELADO)</td>\n",
              "      <td>4656</td>\n",
              "      <td>FACULDADE ANHANGÜERA DE PIRACICABA</td>\n",
              "      <td>NaN</td>\n",
              "      <td>Faculdade</td>\n",
              "      <td>Privada com fins lucrativos</td>\n",
              "      <td>104836</td>\n",
              "      <td>Educação Presencial</td>\n",
              "      <td>3538709</td>\n",
              "      <td>Piracicaba</td>\n",
              "      <td>SP</td>\n",
              "      <td>2</td>\n",
              "      <td>1</td>\n",
              "      <td>49.400000</td>\n",
              "      <td>NaN</td>\n",
              "      <td>39.900000</td>\n",
              "      <td>NaN</td>\n",
              "      <td>NaN</td>\n",
              "      <td>SC</td>\n",
              "    </tr>\n",
              "    <tr>\n",
              "      <th>4</th>\n",
              "      <td>2017</td>\n",
              "      <td>CIÊNCIA DA COMPUTAÇÃO (BACHARELADO)</td>\n",
              "      <td>575</td>\n",
              "      <td>UNIVERSIDADE FEDERAL DE MINAS GERAIS</td>\n",
              "      <td>UFMG</td>\n",
              "      <td>Universidade</td>\n",
              "      <td>Pública Federal</td>\n",
              "      <td>12946</td>\n",
              "      <td>Educação Presencial</td>\n",
              "      <td>3106200</td>\n",
              "      <td>Belo Horizonte</td>\n",
              "      <td>MG</td>\n",
              "      <td>79</td>\n",
              "      <td>72</td>\n",
              "      <td>64.683333</td>\n",
              "      <td>4.526723</td>\n",
              "      <td>59.127778</td>\n",
              "      <td>5.000000</td>\n",
              "      <td>4.881681</td>\n",
              "      <td>5</td>\n",
              "    </tr>\n",
              "    <tr>\n",
              "      <th>...</th>\n",
              "      <td>...</td>\n",
              "      <td>...</td>\n",
              "      <td>...</td>\n",
              "      <td>...</td>\n",
              "      <td>...</td>\n",
              "      <td>...</td>\n",
              "      <td>...</td>\n",
              "      <td>...</td>\n",
              "      <td>...</td>\n",
              "      <td>...</td>\n",
              "      <td>...</td>\n",
              "      <td>...</td>\n",
              "      <td>...</td>\n",
              "      <td>...</td>\n",
              "      <td>...</td>\n",
              "      <td>...</td>\n",
              "      <td>...</td>\n",
              "      <td>...</td>\n",
              "      <td>...</td>\n",
              "      <td>...</td>\n",
              "    </tr>\n",
              "    <tr>\n",
              "      <th>1690</th>\n",
              "      <td>2017</td>\n",
              "      <td>TECNOLOGIA EM REDES DE COMPUTADORES</td>\n",
              "      <td>5439</td>\n",
              "      <td>FACULDADES INTEGRADAS DA UNIÃO EDUCACIONAL DO ...</td>\n",
              "      <td>FACIPLAC</td>\n",
              "      <td>Faculdade</td>\n",
              "      <td>Privada com fins lucrativos</td>\n",
              "      <td>1073286</td>\n",
              "      <td>Educação Presencial</td>\n",
              "      <td>5300108</td>\n",
              "      <td>Brasília</td>\n",
              "      <td>DF</td>\n",
              "      <td>15</td>\n",
              "      <td>12</td>\n",
              "      <td>35.700000</td>\n",
              "      <td>1.687043</td>\n",
              "      <td>20.500000</td>\n",
              "      <td>1.180022</td>\n",
              "      <td>1.306777</td>\n",
              "      <td>2</td>\n",
              "    </tr>\n",
              "    <tr>\n",
              "      <th>1691</th>\n",
              "      <td>2017</td>\n",
              "      <td>TECNOLOGIA EM REDES DE COMPUTADORES</td>\n",
              "      <td>4173</td>\n",
              "      <td>FACULDADE JK DE TECNOLOGIA</td>\n",
              "      <td>FACJK</td>\n",
              "      <td>Faculdade</td>\n",
              "      <td>Privada sem fins lucrativos</td>\n",
              "      <td>82672</td>\n",
              "      <td>Educação Presencial</td>\n",
              "      <td>5300108</td>\n",
              "      <td>Brasília</td>\n",
              "      <td>DF</td>\n",
              "      <td>8</td>\n",
              "      <td>4</td>\n",
              "      <td>45.350000</td>\n",
              "      <td>2.843701</td>\n",
              "      <td>18.000000</td>\n",
              "      <td>0.768386</td>\n",
              "      <td>1.287215</td>\n",
              "      <td>2</td>\n",
              "    </tr>\n",
              "    <tr>\n",
              "      <th>1692</th>\n",
              "      <td>2017</td>\n",
              "      <td>TECNOLOGIA EM REDES DE COMPUTADORES</td>\n",
              "      <td>3979</td>\n",
              "      <td>FACULDADE DE BAURU</td>\n",
              "      <td>-</td>\n",
              "      <td>Faculdade</td>\n",
              "      <td>Privada com fins lucrativos</td>\n",
              "      <td>73612</td>\n",
              "      <td>Educação Presencial</td>\n",
              "      <td>3506003</td>\n",
              "      <td>Bauru</td>\n",
              "      <td>SP</td>\n",
              "      <td>4</td>\n",
              "      <td>2</td>\n",
              "      <td>34.350000</td>\n",
              "      <td>1.525231</td>\n",
              "      <td>15.000000</td>\n",
              "      <td>0.274424</td>\n",
              "      <td>0.587125</td>\n",
              "      <td>1</td>\n",
              "    </tr>\n",
              "    <tr>\n",
              "      <th>1693</th>\n",
              "      <td>2017</td>\n",
              "      <td>TECNOLOGIA EM REDES DE COMPUTADORES</td>\n",
              "      <td>1494</td>\n",
              "      <td>CENTRO UNIVERSITÁRIO CATÓLICO DE VITÓRIA</td>\n",
              "      <td>NaN</td>\n",
              "      <td>Centro Universitário</td>\n",
              "      <td>Privada sem fins lucrativos</td>\n",
              "      <td>1117749</td>\n",
              "      <td>Educação Presencial</td>\n",
              "      <td>3205309</td>\n",
              "      <td>Vitória</td>\n",
              "      <td>ES</td>\n",
              "      <td>18</td>\n",
              "      <td>2</td>\n",
              "      <td>15.000000</td>\n",
              "      <td>0.000000</td>\n",
              "      <td>17.500000</td>\n",
              "      <td>0.686059</td>\n",
              "      <td>0.514544</td>\n",
              "      <td>1</td>\n",
              "    </tr>\n",
              "    <tr>\n",
              "      <th>1694</th>\n",
              "      <td>2017</td>\n",
              "      <td>TECNOLOGIA EM REDES DE COMPUTADORES</td>\n",
              "      <td>163</td>\n",
              "      <td>UNIVERSIDADE ESTÁCIO DE SÁ</td>\n",
              "      <td>UNESA</td>\n",
              "      <td>Universidade</td>\n",
              "      <td>Privada com fins lucrativos</td>\n",
              "      <td>80570</td>\n",
              "      <td>Educação Presencial</td>\n",
              "      <td>3303302</td>\n",
              "      <td>Niterói</td>\n",
              "      <td>RJ</td>\n",
              "      <td>4</td>\n",
              "      <td>3</td>\n",
              "      <td>25.700000</td>\n",
              "      <td>0.488433</td>\n",
              "      <td>13.333333</td>\n",
              "      <td>0.000000</td>\n",
              "      <td>0.122108</td>\n",
              "      <td>1</td>\n",
              "    </tr>\n",
              "  </tbody>\n",
              "</table>\n",
              "<p>1695 rows × 20 columns</p>\n",
              "</div>"
            ],
            "text/plain": [
              "       Ano  ... Conceito Enade (Faixa)\n",
              "0     2017  ...                     SC\n",
              "1     2017  ...                     SC\n",
              "2     2017  ...                     SC\n",
              "3     2017  ...                     SC\n",
              "4     2017  ...                      5\n",
              "...    ...  ...                    ...\n",
              "1690  2017  ...                      2\n",
              "1691  2017  ...                      2\n",
              "1692  2017  ...                      1\n",
              "1693  2017  ...                      1\n",
              "1694  2017  ...                      1\n",
              "\n",
              "[1695 rows x 20 columns]"
            ]
          },
          "metadata": {
            "tags": []
          },
          "execution_count": 65
        }
      ]
    },
    {
      "cell_type": "code",
      "metadata": {
        "colab": {
          "base_uri": "https://localhost:8080/"
        },
        "id": "jtAC3afpj2jb",
        "outputId": "66ca03d9-6bb0-4977-bd0e-da811da05ddd"
      },
      "source": [
        "new_table_enade.columns # Retornando nome de colunas do dataframe. "
      ],
      "execution_count": 66,
      "outputs": [
        {
          "output_type": "execute_result",
          "data": {
            "text/plain": [
              "Index(['Ano', 'Área de Avaliação', 'Código da IES', 'Nome da IES',\n",
              "       'Sigla da IES', 'Organização Acadêmica', 'Categoria Administrativa',\n",
              "       'Código do Curso', 'Modalidade de Ensino', 'Código do Município',\n",
              "       'Município do Curso', 'Sigla da UF', 'Nº de Concluintes Inscritos',\n",
              "       'Nº  de Concluintes Participantes', 'Nota Bruta - FG',\n",
              "       'Nota Padronizada - FG', 'Nota Bruta - CE', 'Nota Padronizada - CE',\n",
              "       'Conceito Enade (Contínuo)', 'Conceito Enade (Faixa)'],\n",
              "      dtype='object')"
            ]
          },
          "metadata": {
            "tags": []
          },
          "execution_count": 66
        }
      ]
    },
    {
      "cell_type": "code",
      "metadata": {
        "id": "wklYVlZOkT5v"
      },
      "source": [
        "new_table_enade_2 = new_table_enade.drop(columns=[\"Código da IES\", \"Código do Curso\"]) # Comando drop exclui coluna passada como parâmetro. \n"
      ],
      "execution_count": 67,
      "outputs": []
    },
    {
      "cell_type": "code",
      "metadata": {
        "colab": {
          "base_uri": "https://localhost:8080/",
          "height": 250
        },
        "id": "N66ihlBHkFJa",
        "outputId": "17698375-55b0-490c-8500-46e127c811db"
      },
      "source": [
        "new_table_enade_2.head(2)\n"
      ],
      "execution_count": 68,
      "outputs": [
        {
          "output_type": "execute_result",
          "data": {
            "text/html": [
              "<div>\n",
              "<style scoped>\n",
              "    .dataframe tbody tr th:only-of-type {\n",
              "        vertical-align: middle;\n",
              "    }\n",
              "\n",
              "    .dataframe tbody tr th {\n",
              "        vertical-align: top;\n",
              "    }\n",
              "\n",
              "    .dataframe thead th {\n",
              "        text-align: right;\n",
              "    }\n",
              "</style>\n",
              "<table border=\"1\" class=\"dataframe\">\n",
              "  <thead>\n",
              "    <tr style=\"text-align: right;\">\n",
              "      <th></th>\n",
              "      <th>Ano</th>\n",
              "      <th>Área de Avaliação</th>\n",
              "      <th>Nome da IES</th>\n",
              "      <th>Sigla da IES</th>\n",
              "      <th>Organização Acadêmica</th>\n",
              "      <th>Categoria Administrativa</th>\n",
              "      <th>Modalidade de Ensino</th>\n",
              "      <th>Código do Município</th>\n",
              "      <th>Município do Curso</th>\n",
              "      <th>Sigla da UF</th>\n",
              "      <th>Nº de Concluintes Inscritos</th>\n",
              "      <th>Nº  de Concluintes Participantes</th>\n",
              "      <th>Nota Bruta - FG</th>\n",
              "      <th>Nota Padronizada - FG</th>\n",
              "      <th>Nota Bruta - CE</th>\n",
              "      <th>Nota Padronizada - CE</th>\n",
              "      <th>Conceito Enade (Contínuo)</th>\n",
              "      <th>Conceito Enade (Faixa)</th>\n",
              "    </tr>\n",
              "  </thead>\n",
              "  <tbody>\n",
              "    <tr>\n",
              "      <th>0</th>\n",
              "      <td>2017</td>\n",
              "      <td>CIÊNCIA DA COMPUTAÇÃO (BACHARELADO)</td>\n",
              "      <td>UNIVERSIDADE ESTADUAL DA PARAÍBA</td>\n",
              "      <td>UEPB</td>\n",
              "      <td>Universidade</td>\n",
              "      <td>Pública Estadual</td>\n",
              "      <td>Educação Presencial</td>\n",
              "      <td>2510808</td>\n",
              "      <td>Patos</td>\n",
              "      <td>PB</td>\n",
              "      <td>27</td>\n",
              "      <td>1</td>\n",
              "      <td>48.3</td>\n",
              "      <td>NaN</td>\n",
              "      <td>31.3</td>\n",
              "      <td>NaN</td>\n",
              "      <td>NaN</td>\n",
              "      <td>SC</td>\n",
              "    </tr>\n",
              "    <tr>\n",
              "      <th>1</th>\n",
              "      <td>2017</td>\n",
              "      <td>CIÊNCIA DA COMPUTAÇÃO (BACHARELADO)</td>\n",
              "      <td>INSTITUTO DE ENSINO E PESQUISA OBJETIVO</td>\n",
              "      <td>IEPO</td>\n",
              "      <td>Faculdade</td>\n",
              "      <td>Privada com fins lucrativos</td>\n",
              "      <td>Educação Presencial</td>\n",
              "      <td>1721000</td>\n",
              "      <td>Palmas</td>\n",
              "      <td>TO</td>\n",
              "      <td>1</td>\n",
              "      <td>0</td>\n",
              "      <td>NaN</td>\n",
              "      <td>NaN</td>\n",
              "      <td>NaN</td>\n",
              "      <td>NaN</td>\n",
              "      <td>NaN</td>\n",
              "      <td>SC</td>\n",
              "    </tr>\n",
              "  </tbody>\n",
              "</table>\n",
              "</div>"
            ],
            "text/plain": [
              "    Ano  ... Conceito Enade (Faixa)\n",
              "0  2017  ...                     SC\n",
              "1  2017  ...                     SC\n",
              "\n",
              "[2 rows x 18 columns]"
            ]
          },
          "metadata": {
            "tags": []
          },
          "execution_count": 68
        }
      ]
    },
    {
      "cell_type": "code",
      "metadata": {
        "colab": {
          "base_uri": "https://localhost:8080/",
          "height": 436
        },
        "id": "Qjv9Vb8xmcx6",
        "outputId": "28aea78b-1942-4b6f-dcf8-81e6ecf1acc7"
      },
      "source": [
        "x = new_table_enade_2.iloc[:,[0,10,11,12,13,14,15,16]] #Selecionando algumas colunas pertinentes para análise matemática e colocando em uma variável. \n",
        "x\n"
      ],
      "execution_count": 69,
      "outputs": [
        {
          "output_type": "execute_result",
          "data": {
            "text/html": [
              "<div>\n",
              "<style scoped>\n",
              "    .dataframe tbody tr th:only-of-type {\n",
              "        vertical-align: middle;\n",
              "    }\n",
              "\n",
              "    .dataframe tbody tr th {\n",
              "        vertical-align: top;\n",
              "    }\n",
              "\n",
              "    .dataframe thead th {\n",
              "        text-align: right;\n",
              "    }\n",
              "</style>\n",
              "<table border=\"1\" class=\"dataframe\">\n",
              "  <thead>\n",
              "    <tr style=\"text-align: right;\">\n",
              "      <th></th>\n",
              "      <th>Ano</th>\n",
              "      <th>Nº de Concluintes Inscritos</th>\n",
              "      <th>Nº  de Concluintes Participantes</th>\n",
              "      <th>Nota Bruta - FG</th>\n",
              "      <th>Nota Padronizada - FG</th>\n",
              "      <th>Nota Bruta - CE</th>\n",
              "      <th>Nota Padronizada - CE</th>\n",
              "      <th>Conceito Enade (Contínuo)</th>\n",
              "    </tr>\n",
              "  </thead>\n",
              "  <tbody>\n",
              "    <tr>\n",
              "      <th>0</th>\n",
              "      <td>2017</td>\n",
              "      <td>27</td>\n",
              "      <td>1</td>\n",
              "      <td>48.300000</td>\n",
              "      <td>NaN</td>\n",
              "      <td>31.300000</td>\n",
              "      <td>NaN</td>\n",
              "      <td>NaN</td>\n",
              "    </tr>\n",
              "    <tr>\n",
              "      <th>1</th>\n",
              "      <td>2017</td>\n",
              "      <td>1</td>\n",
              "      <td>0</td>\n",
              "      <td>NaN</td>\n",
              "      <td>NaN</td>\n",
              "      <td>NaN</td>\n",
              "      <td>NaN</td>\n",
              "      <td>NaN</td>\n",
              "    </tr>\n",
              "    <tr>\n",
              "      <th>2</th>\n",
              "      <td>2017</td>\n",
              "      <td>45</td>\n",
              "      <td>6</td>\n",
              "      <td>NaN</td>\n",
              "      <td>NaN</td>\n",
              "      <td>NaN</td>\n",
              "      <td>NaN</td>\n",
              "      <td>NaN</td>\n",
              "    </tr>\n",
              "    <tr>\n",
              "      <th>3</th>\n",
              "      <td>2017</td>\n",
              "      <td>2</td>\n",
              "      <td>1</td>\n",
              "      <td>49.400000</td>\n",
              "      <td>NaN</td>\n",
              "      <td>39.900000</td>\n",
              "      <td>NaN</td>\n",
              "      <td>NaN</td>\n",
              "    </tr>\n",
              "    <tr>\n",
              "      <th>4</th>\n",
              "      <td>2017</td>\n",
              "      <td>79</td>\n",
              "      <td>72</td>\n",
              "      <td>64.683333</td>\n",
              "      <td>4.526723</td>\n",
              "      <td>59.127778</td>\n",
              "      <td>5.000000</td>\n",
              "      <td>4.881681</td>\n",
              "    </tr>\n",
              "    <tr>\n",
              "      <th>...</th>\n",
              "      <td>...</td>\n",
              "      <td>...</td>\n",
              "      <td>...</td>\n",
              "      <td>...</td>\n",
              "      <td>...</td>\n",
              "      <td>...</td>\n",
              "      <td>...</td>\n",
              "      <td>...</td>\n",
              "    </tr>\n",
              "    <tr>\n",
              "      <th>1690</th>\n",
              "      <td>2017</td>\n",
              "      <td>15</td>\n",
              "      <td>12</td>\n",
              "      <td>35.700000</td>\n",
              "      <td>1.687043</td>\n",
              "      <td>20.500000</td>\n",
              "      <td>1.180022</td>\n",
              "      <td>1.306777</td>\n",
              "    </tr>\n",
              "    <tr>\n",
              "      <th>1691</th>\n",
              "      <td>2017</td>\n",
              "      <td>8</td>\n",
              "      <td>4</td>\n",
              "      <td>45.350000</td>\n",
              "      <td>2.843701</td>\n",
              "      <td>18.000000</td>\n",
              "      <td>0.768386</td>\n",
              "      <td>1.287215</td>\n",
              "    </tr>\n",
              "    <tr>\n",
              "      <th>1692</th>\n",
              "      <td>2017</td>\n",
              "      <td>4</td>\n",
              "      <td>2</td>\n",
              "      <td>34.350000</td>\n",
              "      <td>1.525231</td>\n",
              "      <td>15.000000</td>\n",
              "      <td>0.274424</td>\n",
              "      <td>0.587125</td>\n",
              "    </tr>\n",
              "    <tr>\n",
              "      <th>1693</th>\n",
              "      <td>2017</td>\n",
              "      <td>18</td>\n",
              "      <td>2</td>\n",
              "      <td>15.000000</td>\n",
              "      <td>0.000000</td>\n",
              "      <td>17.500000</td>\n",
              "      <td>0.686059</td>\n",
              "      <td>0.514544</td>\n",
              "    </tr>\n",
              "    <tr>\n",
              "      <th>1694</th>\n",
              "      <td>2017</td>\n",
              "      <td>4</td>\n",
              "      <td>3</td>\n",
              "      <td>25.700000</td>\n",
              "      <td>0.488433</td>\n",
              "      <td>13.333333</td>\n",
              "      <td>0.000000</td>\n",
              "      <td>0.122108</td>\n",
              "    </tr>\n",
              "  </tbody>\n",
              "</table>\n",
              "<p>1695 rows × 8 columns</p>\n",
              "</div>"
            ],
            "text/plain": [
              "       Ano  ...  Conceito Enade (Contínuo)\n",
              "0     2017  ...                        NaN\n",
              "1     2017  ...                        NaN\n",
              "2     2017  ...                        NaN\n",
              "3     2017  ...                        NaN\n",
              "4     2017  ...                   4.881681\n",
              "...    ...  ...                        ...\n",
              "1690  2017  ...                   1.306777\n",
              "1691  2017  ...                   1.287215\n",
              "1692  2017  ...                   0.587125\n",
              "1693  2017  ...                   0.514544\n",
              "1694  2017  ...                   0.122108\n",
              "\n",
              "[1695 rows x 8 columns]"
            ]
          },
          "metadata": {
            "tags": []
          },
          "execution_count": 69
        }
      ]
    },
    {
      "cell_type": "code",
      "metadata": {
        "id": "a9UFRfPYmU0N"
      },
      "source": [
        "y = x.describe() # Comando describe retorna alguns cálculos matemáticos realizado com os dados da tabela, como por exemplo média, menor valor,  maior valor e etc. "
      ],
      "execution_count": 70,
      "outputs": []
    },
    {
      "cell_type": "code",
      "metadata": {
        "colab": {
          "base_uri": "https://localhost:8080/",
          "height": 314
        },
        "id": "f35k8voAoI2h",
        "outputId": "b88a0a51-b4be-4248-e451-7d234329ec07"
      },
      "source": [
        "y"
      ],
      "execution_count": 71,
      "outputs": [
        {
          "output_type": "execute_result",
          "data": {
            "text/html": [
              "<div>\n",
              "<style scoped>\n",
              "    .dataframe tbody tr th:only-of-type {\n",
              "        vertical-align: middle;\n",
              "    }\n",
              "\n",
              "    .dataframe tbody tr th {\n",
              "        vertical-align: top;\n",
              "    }\n",
              "\n",
              "    .dataframe thead th {\n",
              "        text-align: right;\n",
              "    }\n",
              "</style>\n",
              "<table border=\"1\" class=\"dataframe\">\n",
              "  <thead>\n",
              "    <tr style=\"text-align: right;\">\n",
              "      <th></th>\n",
              "      <th>Ano</th>\n",
              "      <th>Nº de Concluintes Inscritos</th>\n",
              "      <th>Nº  de Concluintes Participantes</th>\n",
              "      <th>Nota Bruta - FG</th>\n",
              "      <th>Nota Padronizada - FG</th>\n",
              "      <th>Nota Bruta - CE</th>\n",
              "      <th>Nota Padronizada - CE</th>\n",
              "      <th>Conceito Enade (Contínuo)</th>\n",
              "    </tr>\n",
              "  </thead>\n",
              "  <tbody>\n",
              "    <tr>\n",
              "      <th>count</th>\n",
              "      <td>1695.0</td>\n",
              "      <td>1695.000000</td>\n",
              "      <td>1695.000000</td>\n",
              "      <td>1642.000000</td>\n",
              "      <td>1604.000000</td>\n",
              "      <td>1642.000000</td>\n",
              "      <td>1604.000000</td>\n",
              "      <td>1604.000000</td>\n",
              "    </tr>\n",
              "    <tr>\n",
              "      <th>mean</th>\n",
              "      <td>2017.0</td>\n",
              "      <td>30.095575</td>\n",
              "      <td>23.948083</td>\n",
              "      <td>49.832162</td>\n",
              "      <td>2.641239</td>\n",
              "      <td>38.783531</td>\n",
              "      <td>2.391709</td>\n",
              "      <td>2.454092</td>\n",
              "    </tr>\n",
              "    <tr>\n",
              "      <th>std</th>\n",
              "      <td>0.0</td>\n",
              "      <td>36.146433</td>\n",
              "      <td>27.539254</td>\n",
              "      <td>8.598895</td>\n",
              "      <td>0.980454</td>\n",
              "      <td>8.652268</td>\n",
              "      <td>1.022342</td>\n",
              "      <td>0.926690</td>\n",
              "    </tr>\n",
              "    <tr>\n",
              "      <th>min</th>\n",
              "      <td>2017.0</td>\n",
              "      <td>1.000000</td>\n",
              "      <td>0.000000</td>\n",
              "      <td>6.400000</td>\n",
              "      <td>0.000000</td>\n",
              "      <td>5.000000</td>\n",
              "      <td>0.000000</td>\n",
              "      <td>0.000000</td>\n",
              "    </tr>\n",
              "    <tr>\n",
              "      <th>25%</th>\n",
              "      <td>2017.0</td>\n",
              "      <td>11.000000</td>\n",
              "      <td>9.000000</td>\n",
              "      <td>44.575184</td>\n",
              "      <td>2.028761</td>\n",
              "      <td>32.428585</td>\n",
              "      <td>1.636685</td>\n",
              "      <td>1.785986</td>\n",
              "    </tr>\n",
              "    <tr>\n",
              "      <th>50%</th>\n",
              "      <td>2017.0</td>\n",
              "      <td>21.000000</td>\n",
              "      <td>17.000000</td>\n",
              "      <td>50.069067</td>\n",
              "      <td>2.647404</td>\n",
              "      <td>38.851316</td>\n",
              "      <td>2.353891</td>\n",
              "      <td>2.415933</td>\n",
              "    </tr>\n",
              "    <tr>\n",
              "      <th>75%</th>\n",
              "      <td>2017.0</td>\n",
              "      <td>37.000000</td>\n",
              "      <td>30.000000</td>\n",
              "      <td>55.399324</td>\n",
              "      <td>3.319948</td>\n",
              "      <td>44.569737</td>\n",
              "      <td>3.089926</td>\n",
              "      <td>3.087379</td>\n",
              "    </tr>\n",
              "    <tr>\n",
              "      <th>max</th>\n",
              "      <td>2017.0</td>\n",
              "      <td>541.000000</td>\n",
              "      <td>378.000000</td>\n",
              "      <td>92.100000</td>\n",
              "      <td>5.000000</td>\n",
              "      <td>75.700000</td>\n",
              "      <td>5.000000</td>\n",
              "      <td>5.000000</td>\n",
              "    </tr>\n",
              "  </tbody>\n",
              "</table>\n",
              "</div>"
            ],
            "text/plain": [
              "          Ano  ...  Conceito Enade (Contínuo)\n",
              "count  1695.0  ...                1604.000000\n",
              "mean   2017.0  ...                   2.454092\n",
              "std       0.0  ...                   0.926690\n",
              "min    2017.0  ...                   0.000000\n",
              "25%    2017.0  ...                   1.785986\n",
              "50%    2017.0  ...                   2.415933\n",
              "75%    2017.0  ...                   3.087379\n",
              "max    2017.0  ...                   5.000000\n",
              "\n",
              "[8 rows x 8 columns]"
            ]
          },
          "metadata": {
            "tags": []
          },
          "execution_count": 71
        }
      ]
    },
    {
      "cell_type": "code",
      "metadata": {
        "id": "0-ZGsKy9urGS",
        "colab": {
          "base_uri": "https://localhost:8080/"
        },
        "outputId": "42de53d6-6b35-4cf4-c7c8-24f3faf982a1"
      },
      "source": [
        "z = x.iloc[:,7] # Retornando a cioluna  'Conceito Enade', para posterior análise com demonstrações em gráficos, utilizando a biblioteca matplotlib. \n",
        "z"
      ],
      "execution_count": 72,
      "outputs": [
        {
          "output_type": "execute_result",
          "data": {
            "text/plain": [
              "0            NaN\n",
              "1            NaN\n",
              "2            NaN\n",
              "3            NaN\n",
              "4       4.881681\n",
              "          ...   \n",
              "1690    1.306777\n",
              "1691    1.287215\n",
              "1692    0.587125\n",
              "1693    0.514544\n",
              "1694    0.122108\n",
              "Name: Conceito Enade (Contínuo), Length: 1695, dtype: float64"
            ]
          },
          "metadata": {
            "tags": []
          },
          "execution_count": 72
        }
      ]
    },
    {
      "cell_type": "code",
      "metadata": {
        "colab": {
          "base_uri": "https://localhost:8080/"
        },
        "id": "_FonJ2Oxp-91",
        "outputId": "344f0af4-054e-4039-8aff-3fed9985a879"
      },
      "source": [
        "z.mean() # Verificando a média da coluna. "
      ],
      "execution_count": 73,
      "outputs": [
        {
          "output_type": "execute_result",
          "data": {
            "text/plain": [
              "2.454091922948767"
            ]
          },
          "metadata": {
            "tags": []
          },
          "execution_count": 73
        }
      ]
    },
    {
      "cell_type": "code",
      "metadata": {
        "colab": {
          "base_uri": "https://localhost:8080/"
        },
        "id": "62pea25WsDu1",
        "outputId": "cc2c9e1b-b7bd-46c9-d5d3-473c8bc21e67"
      },
      "source": [
        "z.fillna(z.mean()) # Subistituindo os campos da coluna contendo 'NaN', pela média. "
      ],
      "execution_count": 74,
      "outputs": [
        {
          "output_type": "execute_result",
          "data": {
            "text/plain": [
              "0       2.454092\n",
              "1       2.454092\n",
              "2       2.454092\n",
              "3       2.454092\n",
              "4       4.881681\n",
              "          ...   \n",
              "1690    1.306777\n",
              "1691    1.287215\n",
              "1692    0.587125\n",
              "1693    0.514544\n",
              "1694    0.122108\n",
              "Name: Conceito Enade (Contínuo), Length: 1695, dtype: float64"
            ]
          },
          "metadata": {
            "tags": []
          },
          "execution_count": 74
        }
      ]
    },
    {
      "cell_type": "code",
      "metadata": {
        "colab": {
          "base_uri": "https://localhost:8080/"
        },
        "id": "kx--pn4mtfkg",
        "outputId": "3608c7ba-f93d-4dba-e58e-5018cb7556de"
      },
      "source": [
        "print(z.count()) # Retornando a contagem de dados não-nulos da coluna. \n",
        "# O último numero sendo 1694 foi retornado a quantidade de campos prenchidos 1604, sendo assim contem 90 campos que precisa ser tratado."
      ],
      "execution_count": 75,
      "outputs": [
        {
          "output_type": "stream",
          "text": [
            "1604\n"
          ],
          "name": "stdout"
        }
      ]
    },
    {
      "cell_type": "code",
      "metadata": {
        "colab": {
          "base_uri": "https://localhost:8080/"
        },
        "id": "BITQoeqBvyrn",
        "outputId": "23316dc1-0699-4d75-9288-3556a421793b"
      },
      "source": [
        "print(z.isnull().sum()) # Retorna a quantidade de campos nulos da coluna. \n"
      ],
      "execution_count": 76,
      "outputs": [
        {
          "output_type": "stream",
          "text": [
            "91\n"
          ],
          "name": "stdout"
        }
      ]
    },
    {
      "cell_type": "code",
      "metadata": {
        "colab": {
          "base_uri": "https://localhost:8080/"
        },
        "id": "L2VbLD0kwMVe",
        "outputId": "b4e66a83-2694-4050-ff4f-15b01518bd4d"
      },
      "source": [
        "print(z.isna().sum()) # Função isna retorna a quantidade de campos vazios. \n"
      ],
      "execution_count": 77,
      "outputs": [
        {
          "output_type": "stream",
          "text": [
            "91\n"
          ],
          "name": "stdout"
        }
      ]
    },
    {
      "cell_type": "markdown",
      "metadata": {
        "id": "9Xg5xOie2WWE"
      },
      "source": [
        "### Histograma - Gráfico de barras"
      ]
    },
    {
      "cell_type": "code",
      "metadata": {
        "colab": {
          "base_uri": "https://localhost:8080/",
          "height": 265
        },
        "id": "pESa9ZA-5h2y",
        "outputId": "2c5a1646-168c-4746-cf17-b939f6cd87c9"
      },
      "source": [
        "import matplotlib.pyplot as plt # Importando biblioteca para composição dos gráficos, o conjunto de dados escolhido para análise sera a coluna . \n",
        "z.hist(bins = 100)\n",
        "plt.show()"
      ],
      "execution_count": 78,
      "outputs": [
        {
          "output_type": "display_data",
          "data": {
            "image/png": "[encoded data removed]",
            "text/plain": [
              "<Figure size 432x288 with 1 Axes>"
            ]
          },
          "metadata": {
            "tags": [],
            "needs_background": "light"
          }
        }
      ]
    },
    {
      "cell_type": "code",
      "metadata": {
        "colab": {
          "base_uri": "https://localhost:8080/",
          "height": 265
        },
        "id": "f6CFVAEnNBEf",
        "outputId": "fda5ac56-29f4-4278-c765-e9e8caf52689"
      },
      "source": [
        "z.hist(bins = 5) # Gráfico de barras com valor 5 no 'bins', Intervalos  de classe igualmente espaçados, usados para classificar os dados.\n",
        "plt.show()"
      ],
      "execution_count": 79,
      "outputs": [
        {
          "output_type": "display_data",
          "data": {
            "image/png": "[encoded data removed]",
            "text/plain": [
              "<Figure size 432x288 with 1 Axes>"
            ]
          },
          "metadata": {
            "tags": [],
            "needs_background": "light"
          }
        }
      ]
    },
    {
      "cell_type": "code",
      "metadata": {
        "colab": {
          "base_uri": "https://localhost:8080/"
        },
        "id": "nw2EnbqwQst0",
        "outputId": "bfe894b1-9bf2-4fa4-c3ec-308157b167b8"
      },
      "source": [
        "# Criada duas linstas uma com inteiros e uma vazia, tirando a raiz quadrada de cada elemento da lista x e inbserindo na y.\n",
        "x = [1,2,3,4,5,6,7,8,9,10,11,12,13,14,15] \n",
        "y = []\n",
        "\n",
        "for i in x:\n",
        "  y.append(i**2)\n",
        "print(y) "
      ],
      "execution_count": 85,
      "outputs": [
        {
          "output_type": "stream",
          "text": [
            "[1, 4, 9, 16, 25, 36, 49, 64, 81, 100, 121, 144, 169, 196, 225]\n"
          ],
          "name": "stdout"
        }
      ]
    },
    {
      "cell_type": "code",
      "metadata": {
        "colab": {
          "base_uri": "https://localhost:8080/",
          "height": 265
        },
        "id": "7H7FXPDYUQTv",
        "outputId": "fcb93261-2069-4931-c2f7-b4733d7b67cc"
      },
      "source": [
        "plt.scatter(x,y)\n",
        "plt.show()"
      ],
      "execution_count": 88,
      "outputs": [
        {
          "output_type": "display_data",
          "data": {
            "image/png": "[encoded data removed]",
            "text/plain": [
              "<Figure size 432x288 with 1 Axes>"
            ]
          },
          "metadata": {
            "tags": [],
            "needs_background": "light"
          }
        }
      ]
    },
    {
      "cell_type": "code",
      "metadata": {
        "colab": {
          "base_uri": "https://localhost:8080/"
        },
        "id": "4ymRZ9VQUl5w",
        "outputId": "cb8b0a1d-b566-4a90-d168-8e5b57222fe3"
      },
      "source": [
        "import numpy as np # Utilizando funcão range  e gerando um array con numeros entre 0 e 50, com intervalo de dois inteiros. \n",
        "e  = np.arange(0,50,2) \n",
        "print(e)\n",
        "type(e)"
      ],
      "execution_count": 94,
      "outputs": [
        {
          "output_type": "stream",
          "text": [
            "[ 0  2  4  6  8 10 12 14 16 18 20 22 24 26 28 30 32 34 36 38 40 42 44 46\n",
            " 48]\n"
          ],
          "name": "stdout"
        },
        {
          "output_type": "execute_result",
          "data": {
            "text/plain": [
              "numpy.ndarray"
            ]
          },
          "metadata": {
            "tags": []
          },
          "execution_count": 94
        }
      ]
    },
    {
      "cell_type": "code",
      "metadata": {
        "colab": {
          "base_uri": "https://localhost:8080/",
          "height": 265
        },
        "id": "Oa6mkF5wZZ2E",
        "outputId": "c2911a16-b9d0-4cae-8705-8067ec6de650"
      },
      "source": [
        " #plotar o gráfico gerando os valores direto no próprio “plot” temos:\n",
        "plt.plot(e,e**2)\n",
        "plt.show()"
      ],
      "execution_count": 98,
      "outputs": [
        {
          "output_type": "display_data",
          "data": {
            "image/png": "[encoded data removed]",
            "text/plain": [
              "<Figure size 432x288 with 1 Axes>"
            ]
          },
          "metadata": {
            "tags": [],
            "needs_background": "light"
          }
        }
      ]
    },
    {
      "cell_type": "code",
      "metadata": {
        "colab": {
          "base_uri": "https://localhost:8080/",
          "height": 268
        },
        "id": "V4PXHDJWa58Y",
        "outputId": "d240ed56-ad30-4723-8386-fc517ef478dd"
      },
      "source": [
        "plt.plot(e,e)\n",
        "plt.show()"
      ],
      "execution_count": 99,
      "outputs": [
        {
          "output_type": "display_data",
          "data": {
            "image/png": "[encoded data removed]",
            "text/plain": [
              "<Figure size 432x288 with 1 Axes>"
            ]
          },
          "metadata": {
            "tags": [],
            "needs_background": "light"
          }
        }
      ]
    },
    {
      "cell_type": "code",
      "metadata": {
        "colab": {
          "base_uri": "https://localhost:8080/",
          "height": 276
        },
        "id": "70RJ1zqubEoL",
        "outputId": "bbc0703a-af42-4eca-d106-7066f959826c"
      },
      "source": [
        "z2 = np.arange(-1000,1000,2)\n",
        "plt.plot(z2,z2**2)\n",
        "plt.show()"
      ],
      "execution_count": 101,
      "outputs": [
        {
          "output_type": "display_data",
          "data": {
            "image/png": "[encoded data removed]",
            "text/plain": [
              "<Figure size 432x288 with 1 Axes>"
            ]
          },
          "metadata": {
            "tags": [],
            "needs_background": "light"
          }
        }
      ]
    },
    {
      "cell_type": "code",
      "metadata": {
        "id": "VIpMRxVhbSRW"
      },
      "source": [
        ""
      ],
      "execution_count": null,
      "outputs": []
    }
  ]
}