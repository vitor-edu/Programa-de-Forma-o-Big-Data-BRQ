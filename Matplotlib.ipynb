{
  "nbformat": 4,
  "nbformat_minor": 0,
  "metadata": {
    "colab": {
      "name": "Matplotlib.ipynb",
      "provenance": [],
      "collapsed_sections": [],
      "authorship_tag": "ABX9TyMzR8BsYN5vZmOdXh0cXjQe",
      "include_colab_link": true
    },
    "kernelspec": {
      "name": "python3",
      "display_name": "Python 3"
    },
    "language_info": {
      "name": "python"
    }
  },
  "cells": [
    {
      "cell_type": "markdown",
      "metadata": {
        "id": "view-in-github",
        "colab_type": "text"
      },
      "source": [
        "<a href=\"https://colab.research.google.com/github/vitor-edu/Programa-de-Formacao-Big-Data-BRQ/blob/main/Matplotlib.ipynb\" target=\"_parent\"><img src=\"https://colab.research.google.com/assets/colab-badge.svg\" alt=\"Open In Colab\"/></a>"
      ]
    },
    {
      "cell_type": "markdown",
      "metadata": {
        "id": "BwOqzDljlLht"
      },
      "source": [
        "### MatPlotlib"
      ]
    },
    {
      "cell_type": "code",
      "metadata": {
        "id": "ysnmhR0mk4ru"
      },
      "source": [
        "#MatPlotLib\n",
        "import pandas as pd # Importando bibliotecas. \n",
        "from google.colab import files "
      ],
      "execution_count": 4,
      "outputs": []
    },
    {
      "cell_type": "code",
      "metadata": {
        "colab": {
          "resources": {
            "http://localhost:8080/nbextensions/google.colab/files.js": {
              "data": "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",
              "ok": true,
              "headers": [
                [
                  "content-type",
                  "application/javascript"
                ]
              ],
              "status": 200,
              "status_text": ""
            }
          },
          "base_uri": "https://localhost:8080/",
          "height": 72
        },
        "id": "jKh9t2lqdv4d",
        "outputId": "d51da41f-3104-4c62-8de3-53a31211677c"
      },
      "source": [
        "uploaded = files.upload() # Carregando a base de dados. \n"
      ],
      "execution_count": 5,
      "outputs": [
        {
          "output_type": "display_data",
          "data": {
            "text/html": [
              "\n",
              "     <input type=\"file\" id=\"files-2a715038-4d55-4fa8-b996-9d7b5cacf179\" name=\"files[]\" multiple disabled\n",
              "        style=\"border:none\" />\n",
              "     <output id=\"result-2a715038-4d55-4fa8-b996-9d7b5cacf179\">\n",
              "      Upload widget is only available when the cell has been executed in the\n",
              "      current browser session. Please rerun this cell to enable.\n",
              "      </output>\n",
              "      <script src=\"/nbextensions/google.colab/files.js\"></script> "
            ],
            "text/plain": [
              "<IPython.core.display.HTML object>"
            ]
          },
          "metadata": {
            "tags": []
          }
        },
        {
          "output_type": "stream",
          "text": [
            "Saving ENADE2017.xlsx to ENADE2017 (1).xlsx\n"
          ],
          "name": "stdout"
        }
      ]
    },
    {
      "cell_type": "code",
      "metadata": {
        "colab": {
          "base_uri": "https://localhost:8080/",
          "height": 881
        },
        "id": "Vc8uaCtwfWsF",
        "outputId": "b4412517-8434-4e78-f623-ed34153e06ff"
      },
      "source": [
        "enade = pd.read_excel('ENADE2017.xlsx') # Comando read lendo o arquivo excel. \n",
        "enade\n"
      ],
      "execution_count": 6,
      "outputs": [
        {
          "output_type": "execute_result",
          "data": {
            "text/html": [
              "<div>\n",
              "<style scoped>\n",
              "    .dataframe tbody tr th:only-of-type {\n",
              "        vertical-align: middle;\n",
              "    }\n",
              "\n",
              "    .dataframe tbody tr th {\n",
              "        vertical-align: top;\n",
              "    }\n",
              "\n",
              "    .dataframe thead th {\n",
              "        text-align: right;\n",
              "    }\n",
              "</style>\n",
              "<table border=\"1\" class=\"dataframe\">\n",
              "  <thead>\n",
              "    <tr style=\"text-align: right;\">\n",
              "      <th></th>\n",
              "      <th>Ano</th>\n",
              "      <th>Código da Área</th>\n",
              "      <th>Área de Avaliação</th>\n",
              "      <th>Código da IES</th>\n",
              "      <th>Nome da IES</th>\n",
              "      <th>Sigla da IES</th>\n",
              "      <th>Organização Acadêmica</th>\n",
              "      <th>Categoria Administrativa</th>\n",
              "      <th>Código do Curso</th>\n",
              "      <th>Modalidade de Ensino</th>\n",
              "      <th>Código do Município</th>\n",
              "      <th>Município do Curso</th>\n",
              "      <th>Sigla da UF</th>\n",
              "      <th>Nº de Concluintes Inscritos</th>\n",
              "      <th>Nº  de Concluintes Participantes</th>\n",
              "      <th>Nota Bruta - FG</th>\n",
              "      <th>Nota Padronizada - FG</th>\n",
              "      <th>Nota Bruta - CE</th>\n",
              "      <th>Nota Padronizada - CE</th>\n",
              "      <th>Conceito Enade (Contínuo)</th>\n",
              "      <th>Conceito Enade (Faixa)</th>\n",
              "    </tr>\n",
              "  </thead>\n",
              "  <tbody>\n",
              "    <tr>\n",
              "      <th>0</th>\n",
              "      <td>2017</td>\n",
              "      <td>4004</td>\n",
              "      <td>CIÊNCIA DA COMPUTAÇÃO (BACHARELADO)</td>\n",
              "      <td>550</td>\n",
              "      <td>UNIVERSIDADE ESTADUAL DA PARAÍBA</td>\n",
              "      <td>UEPB</td>\n",
              "      <td>Universidade</td>\n",
              "      <td>Pública Estadual</td>\n",
              "      <td>1265453</td>\n",
              "      <td>Educação Presencial</td>\n",
              "      <td>2510808</td>\n",
              "      <td>Patos</td>\n",
              "      <td>PB</td>\n",
              "      <td>27</td>\n",
              "      <td>1</td>\n",
              "      <td>48.300000</td>\n",
              "      <td>NaN</td>\n",
              "      <td>31.300000</td>\n",
              "      <td>NaN</td>\n",
              "      <td>NaN</td>\n",
              "      <td>SC</td>\n",
              "    </tr>\n",
              "    <tr>\n",
              "      <th>1</th>\n",
              "      <td>2017</td>\n",
              "      <td>4004</td>\n",
              "      <td>CIÊNCIA DA COMPUTAÇÃO (BACHARELADO)</td>\n",
              "      <td>1066</td>\n",
              "      <td>INSTITUTO DE ENSINO E PESQUISA OBJETIVO</td>\n",
              "      <td>IEPO</td>\n",
              "      <td>Faculdade</td>\n",
              "      <td>Privada com fins lucrativos</td>\n",
              "      <td>58808</td>\n",
              "      <td>Educação Presencial</td>\n",
              "      <td>1721000</td>\n",
              "      <td>Palmas</td>\n",
              "      <td>TO</td>\n",
              "      <td>1</td>\n",
              "      <td>0</td>\n",
              "      <td>NaN</td>\n",
              "      <td>NaN</td>\n",
              "      <td>NaN</td>\n",
              "      <td>NaN</td>\n",
              "      <td>NaN</td>\n",
              "      <td>SC</td>\n",
              "    </tr>\n",
              "    <tr>\n",
              "      <th>2</th>\n",
              "      <td>2017</td>\n",
              "      <td>4004</td>\n",
              "      <td>CIÊNCIA DA COMPUTAÇÃO (BACHARELADO)</td>\n",
              "      <td>2676</td>\n",
              "      <td>FACULDADE LA SALLE</td>\n",
              "      <td>NaN</td>\n",
              "      <td>Faculdade</td>\n",
              "      <td>Privada sem fins lucrativos</td>\n",
              "      <td>73438</td>\n",
              "      <td>Educação Presencial</td>\n",
              "      <td>1302603</td>\n",
              "      <td>Manaus</td>\n",
              "      <td>AM</td>\n",
              "      <td>45</td>\n",
              "      <td>6</td>\n",
              "      <td>NaN</td>\n",
              "      <td>NaN</td>\n",
              "      <td>NaN</td>\n",
              "      <td>NaN</td>\n",
              "      <td>NaN</td>\n",
              "      <td>SC</td>\n",
              "    </tr>\n",
              "    <tr>\n",
              "      <th>3</th>\n",
              "      <td>2017</td>\n",
              "      <td>4004</td>\n",
              "      <td>CIÊNCIA DA COMPUTAÇÃO (BACHARELADO)</td>\n",
              "      <td>4656</td>\n",
              "      <td>FACULDADE ANHANGÜERA DE PIRACICABA</td>\n",
              "      <td>NaN</td>\n",
              "      <td>Faculdade</td>\n",
              "      <td>Privada com fins lucrativos</td>\n",
              "      <td>104836</td>\n",
              "      <td>Educação Presencial</td>\n",
              "      <td>3538709</td>\n",
              "      <td>Piracicaba</td>\n",
              "      <td>SP</td>\n",
              "      <td>2</td>\n",
              "      <td>1</td>\n",
              "      <td>49.400000</td>\n",
              "      <td>NaN</td>\n",
              "      <td>39.900000</td>\n",
              "      <td>NaN</td>\n",
              "      <td>NaN</td>\n",
              "      <td>SC</td>\n",
              "    </tr>\n",
              "    <tr>\n",
              "      <th>4</th>\n",
              "      <td>2017</td>\n",
              "      <td>4004</td>\n",
              "      <td>CIÊNCIA DA COMPUTAÇÃO (BACHARELADO)</td>\n",
              "      <td>575</td>\n",
              "      <td>UNIVERSIDADE FEDERAL DE MINAS GERAIS</td>\n",
              "      <td>UFMG</td>\n",
              "      <td>Universidade</td>\n",
              "      <td>Pública Federal</td>\n",
              "      <td>12946</td>\n",
              "      <td>Educação Presencial</td>\n",
              "      <td>3106200</td>\n",
              "      <td>Belo Horizonte</td>\n",
              "      <td>MG</td>\n",
              "      <td>79</td>\n",
              "      <td>72</td>\n",
              "      <td>64.683333</td>\n",
              "      <td>4.526723</td>\n",
              "      <td>59.127778</td>\n",
              "      <td>5.000000</td>\n",
              "      <td>4.881681</td>\n",
              "      <td>5</td>\n",
              "    </tr>\n",
              "    <tr>\n",
              "      <th>...</th>\n",
              "      <td>...</td>\n",
              "      <td>...</td>\n",
              "      <td>...</td>\n",
              "      <td>...</td>\n",
              "      <td>...</td>\n",
              "      <td>...</td>\n",
              "      <td>...</td>\n",
              "      <td>...</td>\n",
              "      <td>...</td>\n",
              "      <td>...</td>\n",
              "      <td>...</td>\n",
              "      <td>...</td>\n",
              "      <td>...</td>\n",
              "      <td>...</td>\n",
              "      <td>...</td>\n",
              "      <td>...</td>\n",
              "      <td>...</td>\n",
              "      <td>...</td>\n",
              "      <td>...</td>\n",
              "      <td>...</td>\n",
              "      <td>...</td>\n",
              "    </tr>\n",
              "    <tr>\n",
              "      <th>1690</th>\n",
              "      <td>2017</td>\n",
              "      <td>79</td>\n",
              "      <td>TECNOLOGIA EM REDES DE COMPUTADORES</td>\n",
              "      <td>5439</td>\n",
              "      <td>FACULDADES INTEGRADAS DA UNIÃO EDUCACIONAL DO ...</td>\n",
              "      <td>FACIPLAC</td>\n",
              "      <td>Faculdade</td>\n",
              "      <td>Privada com fins lucrativos</td>\n",
              "      <td>1073286</td>\n",
              "      <td>Educação Presencial</td>\n",
              "      <td>5300108</td>\n",
              "      <td>Brasília</td>\n",
              "      <td>DF</td>\n",
              "      <td>15</td>\n",
              "      <td>12</td>\n",
              "      <td>35.700000</td>\n",
              "      <td>1.687043</td>\n",
              "      <td>20.500000</td>\n",
              "      <td>1.180022</td>\n",
              "      <td>1.306777</td>\n",
              "      <td>2</td>\n",
              "    </tr>\n",
              "    <tr>\n",
              "      <th>1691</th>\n",
              "      <td>2017</td>\n",
              "      <td>79</td>\n",
              "      <td>TECNOLOGIA EM REDES DE COMPUTADORES</td>\n",
              "      <td>4173</td>\n",
              "      <td>FACULDADE JK DE TECNOLOGIA</td>\n",
              "      <td>FACJK</td>\n",
              "      <td>Faculdade</td>\n",
              "      <td>Privada sem fins lucrativos</td>\n",
              "      <td>82672</td>\n",
              "      <td>Educação Presencial</td>\n",
              "      <td>5300108</td>\n",
              "      <td>Brasília</td>\n",
              "      <td>DF</td>\n",
              "      <td>8</td>\n",
              "      <td>4</td>\n",
              "      <td>45.350000</td>\n",
              "      <td>2.843701</td>\n",
              "      <td>18.000000</td>\n",
              "      <td>0.768386</td>\n",
              "      <td>1.287215</td>\n",
              "      <td>2</td>\n",
              "    </tr>\n",
              "    <tr>\n",
              "      <th>1692</th>\n",
              "      <td>2017</td>\n",
              "      <td>79</td>\n",
              "      <td>TECNOLOGIA EM REDES DE COMPUTADORES</td>\n",
              "      <td>3979</td>\n",
              "      <td>FACULDADE DE BAURU</td>\n",
              "      <td>-</td>\n",
              "      <td>Faculdade</td>\n",
              "      <td>Privada com fins lucrativos</td>\n",
              "      <td>73612</td>\n",
              "      <td>Educação Presencial</td>\n",
              "      <td>3506003</td>\n",
              "      <td>Bauru</td>\n",
              "      <td>SP</td>\n",
              "      <td>4</td>\n",
              "      <td>2</td>\n",
              "      <td>34.350000</td>\n",
              "      <td>1.525231</td>\n",
              "      <td>15.000000</td>\n",
              "      <td>0.274424</td>\n",
              "      <td>0.587125</td>\n",
              "      <td>1</td>\n",
              "    </tr>\n",
              "    <tr>\n",
              "      <th>1693</th>\n",
              "      <td>2017</td>\n",
              "      <td>79</td>\n",
              "      <td>TECNOLOGIA EM REDES DE COMPUTADORES</td>\n",
              "      <td>1494</td>\n",
              "      <td>CENTRO UNIVERSITÁRIO CATÓLICO DE VITÓRIA</td>\n",
              "      <td>NaN</td>\n",
              "      <td>Centro Universitário</td>\n",
              "      <td>Privada sem fins lucrativos</td>\n",
              "      <td>1117749</td>\n",
              "      <td>Educação Presencial</td>\n",
              "      <td>3205309</td>\n",
              "      <td>Vitória</td>\n",
              "      <td>ES</td>\n",
              "      <td>18</td>\n",
              "      <td>2</td>\n",
              "      <td>15.000000</td>\n",
              "      <td>0.000000</td>\n",
              "      <td>17.500000</td>\n",
              "      <td>0.686059</td>\n",
              "      <td>0.514544</td>\n",
              "      <td>1</td>\n",
              "    </tr>\n",
              "    <tr>\n",
              "      <th>1694</th>\n",
              "      <td>2017</td>\n",
              "      <td>79</td>\n",
              "      <td>TECNOLOGIA EM REDES DE COMPUTADORES</td>\n",
              "      <td>163</td>\n",
              "      <td>UNIVERSIDADE ESTÁCIO DE SÁ</td>\n",
              "      <td>UNESA</td>\n",
              "      <td>Universidade</td>\n",
              "      <td>Privada com fins lucrativos</td>\n",
              "      <td>80570</td>\n",
              "      <td>Educação Presencial</td>\n",
              "      <td>3303302</td>\n",
              "      <td>Niterói</td>\n",
              "      <td>RJ</td>\n",
              "      <td>4</td>\n",
              "      <td>3</td>\n",
              "      <td>25.700000</td>\n",
              "      <td>0.488433</td>\n",
              "      <td>13.333333</td>\n",
              "      <td>0.000000</td>\n",
              "      <td>0.122108</td>\n",
              "      <td>1</td>\n",
              "    </tr>\n",
              "  </tbody>\n",
              "</table>\n",
              "<p>1695 rows × 21 columns</p>\n",
              "</div>"
            ],
            "text/plain": [
              "       Ano  Código da Área  ... Conceito Enade (Contínuo)  Conceito Enade (Faixa)\n",
              "0     2017            4004  ...                       NaN                      SC\n",
              "1     2017            4004  ...                       NaN                      SC\n",
              "2     2017            4004  ...                       NaN                      SC\n",
              "3     2017            4004  ...                       NaN                      SC\n",
              "4     2017            4004  ...                  4.881681                       5\n",
              "...    ...             ...  ...                       ...                     ...\n",
              "1690  2017              79  ...                  1.306777                       2\n",
              "1691  2017              79  ...                  1.287215                       2\n",
              "1692  2017              79  ...                  0.587125                       1\n",
              "1693  2017              79  ...                  0.514544                       1\n",
              "1694  2017              79  ...                  0.122108                       1\n",
              "\n",
              "[1695 rows x 21 columns]"
            ]
          },
          "metadata": {
            "tags": []
          },
          "execution_count": 6
        }
      ]
    },
    {
      "cell_type": "code",
      "metadata": {
        "colab": {
          "base_uri": "https://localhost:8080/"
        },
        "id": "Ilz4CM37gkE1",
        "outputId": "da63b4d2-dc44-4db8-9291-6dd68048ead2"
      },
      "source": [
        "enade.shape # Comando shape verificar a quantidade de linhas e colunas. "
      ],
      "execution_count": 7,
      "outputs": [
        {
          "output_type": "execute_result",
          "data": {
            "text/plain": [
              "(1695, 21)"
            ]
          },
          "metadata": {
            "tags": []
          },
          "execution_count": 7
        }
      ]
    },
    {
      "cell_type": "code",
      "metadata": {
        "colab": {
          "base_uri": "https://localhost:8080/",
          "height": 315
        },
        "id": "TfVWcOTFgxBh",
        "outputId": "8710a7e2-eb30-4b43-abef-c515d752eafc"
      },
      "source": [
        "enade.head(3) # Comando head retorna a quantidade de linha estipulada no parâmetro. "
      ],
      "execution_count": 8,
      "outputs": [
        {
          "output_type": "execute_result",
          "data": {
            "text/html": [
              "<div>\n",
              "<style scoped>\n",
              "    .dataframe tbody tr th:only-of-type {\n",
              "        vertical-align: middle;\n",
              "    }\n",
              "\n",
              "    .dataframe tbody tr th {\n",
              "        vertical-align: top;\n",
              "    }\n",
              "\n",
              "    .dataframe thead th {\n",
              "        text-align: right;\n",
              "    }\n",
              "</style>\n",
              "<table border=\"1\" class=\"dataframe\">\n",
              "  <thead>\n",
              "    <tr style=\"text-align: right;\">\n",
              "      <th></th>\n",
              "      <th>Ano</th>\n",
              "      <th>Código da Área</th>\n",
              "      <th>Área de Avaliação</th>\n",
              "      <th>Código da IES</th>\n",
              "      <th>Nome da IES</th>\n",
              "      <th>Sigla da IES</th>\n",
              "      <th>Organização Acadêmica</th>\n",
              "      <th>Categoria Administrativa</th>\n",
              "      <th>Código do Curso</th>\n",
              "      <th>Modalidade de Ensino</th>\n",
              "      <th>Código do Município</th>\n",
              "      <th>Município do Curso</th>\n",
              "      <th>Sigla da UF</th>\n",
              "      <th>Nº de Concluintes Inscritos</th>\n",
              "      <th>Nº  de Concluintes Participantes</th>\n",
              "      <th>Nota Bruta - FG</th>\n",
              "      <th>Nota Padronizada - FG</th>\n",
              "      <th>Nota Bruta - CE</th>\n",
              "      <th>Nota Padronizada - CE</th>\n",
              "      <th>Conceito Enade (Contínuo)</th>\n",
              "      <th>Conceito Enade (Faixa)</th>\n",
              "    </tr>\n",
              "  </thead>\n",
              "  <tbody>\n",
              "    <tr>\n",
              "      <th>0</th>\n",
              "      <td>2017</td>\n",
              "      <td>4004</td>\n",
              "      <td>CIÊNCIA DA COMPUTAÇÃO (BACHARELADO)</td>\n",
              "      <td>550</td>\n",
              "      <td>UNIVERSIDADE ESTADUAL DA PARAÍBA</td>\n",
              "      <td>UEPB</td>\n",
              "      <td>Universidade</td>\n",
              "      <td>Pública Estadual</td>\n",
              "      <td>1265453</td>\n",
              "      <td>Educação Presencial</td>\n",
              "      <td>2510808</td>\n",
              "      <td>Patos</td>\n",
              "      <td>PB</td>\n",
              "      <td>27</td>\n",
              "      <td>1</td>\n",
              "      <td>48.3</td>\n",
              "      <td>NaN</td>\n",
              "      <td>31.3</td>\n",
              "      <td>NaN</td>\n",
              "      <td>NaN</td>\n",
              "      <td>SC</td>\n",
              "    </tr>\n",
              "    <tr>\n",
              "      <th>1</th>\n",
              "      <td>2017</td>\n",
              "      <td>4004</td>\n",
              "      <td>CIÊNCIA DA COMPUTAÇÃO (BACHARELADO)</td>\n",
              "      <td>1066</td>\n",
              "      <td>INSTITUTO DE ENSINO E PESQUISA OBJETIVO</td>\n",
              "      <td>IEPO</td>\n",
              "      <td>Faculdade</td>\n",
              "      <td>Privada com fins lucrativos</td>\n",
              "      <td>58808</td>\n",
              "      <td>Educação Presencial</td>\n",
              "      <td>1721000</td>\n",
              "      <td>Palmas</td>\n",
              "      <td>TO</td>\n",
              "      <td>1</td>\n",
              "      <td>0</td>\n",
              "      <td>NaN</td>\n",
              "      <td>NaN</td>\n",
              "      <td>NaN</td>\n",
              "      <td>NaN</td>\n",
              "      <td>NaN</td>\n",
              "      <td>SC</td>\n",
              "    </tr>\n",
              "    <tr>\n",
              "      <th>2</th>\n",
              "      <td>2017</td>\n",
              "      <td>4004</td>\n",
              "      <td>CIÊNCIA DA COMPUTAÇÃO (BACHARELADO)</td>\n",
              "      <td>2676</td>\n",
              "      <td>FACULDADE LA SALLE</td>\n",
              "      <td>NaN</td>\n",
              "      <td>Faculdade</td>\n",
              "      <td>Privada sem fins lucrativos</td>\n",
              "      <td>73438</td>\n",
              "      <td>Educação Presencial</td>\n",
              "      <td>1302603</td>\n",
              "      <td>Manaus</td>\n",
              "      <td>AM</td>\n",
              "      <td>45</td>\n",
              "      <td>6</td>\n",
              "      <td>NaN</td>\n",
              "      <td>NaN</td>\n",
              "      <td>NaN</td>\n",
              "      <td>NaN</td>\n",
              "      <td>NaN</td>\n",
              "      <td>SC</td>\n",
              "    </tr>\n",
              "  </tbody>\n",
              "</table>\n",
              "</div>"
            ],
            "text/plain": [
              "    Ano  Código da Área  ... Conceito Enade (Contínuo)  Conceito Enade (Faixa)\n",
              "0  2017            4004  ...                       NaN                      SC\n",
              "1  2017            4004  ...                       NaN                      SC\n",
              "2  2017            4004  ...                       NaN                      SC\n",
              "\n",
              "[3 rows x 21 columns]"
            ]
          },
          "metadata": {
            "tags": []
          },
          "execution_count": 8
        }
      ]
    },
    {
      "cell_type": "code",
      "metadata": {
        "colab": {
          "base_uri": "https://localhost:8080/"
        },
        "id": "KqzfGO4Oij7l",
        "outputId": "93e58f91-ca50-4e41-ef8a-5d4b4c1cef78"
      },
      "source": [
        "enade.columns # Retornar os nomes das colunas. "
      ],
      "execution_count": 9,
      "outputs": [
        {
          "output_type": "execute_result",
          "data": {
            "text/plain": [
              "Index(['Ano', 'Código da Área', 'Área de Avaliação', 'Código da IES',\n",
              "       'Nome da IES', 'Sigla da IES', 'Organização Acadêmica',\n",
              "       'Categoria Administrativa', 'Código do Curso', 'Modalidade de Ensino',\n",
              "       'Código do Município', 'Município do Curso', 'Sigla da UF',\n",
              "       'Nº de Concluintes Inscritos', 'Nº  de Concluintes Participantes',\n",
              "       'Nota Bruta - FG', 'Nota Padronizada - FG', 'Nota Bruta - CE',\n",
              "       'Nota Padronizada - CE', 'Conceito Enade (Contínuo)',\n",
              "       'Conceito Enade (Faixa)'],\n",
              "      dtype='object')"
            ]
          },
          "metadata": {
            "tags": []
          },
          "execution_count": 9
        }
      ]
    },
    {
      "cell_type": "code",
      "metadata": {
        "colab": {
          "base_uri": "https://localhost:8080/",
          "height": 881
        },
        "id": "vYKRmYr9hglM",
        "outputId": "72bc11d3-8704-476c-a2f1-e2f7140e2cd8"
      },
      "source": [
        "new_table_enade = enade.drop(columns=[\"Código da Área\"]) # Comando drop exclui coluna passada como parâmetro. \n",
        "new_table_enade"
      ],
      "execution_count": 10,
      "outputs": [
        {
          "output_type": "execute_result",
          "data": {
            "text/html": [
              "<div>\n",
              "<style scoped>\n",
              "    .dataframe tbody tr th:only-of-type {\n",
              "        vertical-align: middle;\n",
              "    }\n",
              "\n",
              "    .dataframe tbody tr th {\n",
              "        vertical-align: top;\n",
              "    }\n",
              "\n",
              "    .dataframe thead th {\n",
              "        text-align: right;\n",
              "    }\n",
              "</style>\n",
              "<table border=\"1\" class=\"dataframe\">\n",
              "  <thead>\n",
              "    <tr style=\"text-align: right;\">\n",
              "      <th></th>\n",
              "      <th>Ano</th>\n",
              "      <th>Área de Avaliação</th>\n",
              "      <th>Código da IES</th>\n",
              "      <th>Nome da IES</th>\n",
              "      <th>Sigla da IES</th>\n",
              "      <th>Organização Acadêmica</th>\n",
              "      <th>Categoria Administrativa</th>\n",
              "      <th>Código do Curso</th>\n",
              "      <th>Modalidade de Ensino</th>\n",
              "      <th>Código do Município</th>\n",
              "      <th>Município do Curso</th>\n",
              "      <th>Sigla da UF</th>\n",
              "      <th>Nº de Concluintes Inscritos</th>\n",
              "      <th>Nº  de Concluintes Participantes</th>\n",
              "      <th>Nota Bruta - FG</th>\n",
              "      <th>Nota Padronizada - FG</th>\n",
              "      <th>Nota Bruta - CE</th>\n",
              "      <th>Nota Padronizada - CE</th>\n",
              "      <th>Conceito Enade (Contínuo)</th>\n",
              "      <th>Conceito Enade (Faixa)</th>\n",
              "    </tr>\n",
              "  </thead>\n",
              "  <tbody>\n",
              "    <tr>\n",
              "      <th>0</th>\n",
              "      <td>2017</td>\n",
              "      <td>CIÊNCIA DA COMPUTAÇÃO (BACHARELADO)</td>\n",
              "      <td>550</td>\n",
              "      <td>UNIVERSIDADE ESTADUAL DA PARAÍBA</td>\n",
              "      <td>UEPB</td>\n",
              "      <td>Universidade</td>\n",
              "      <td>Pública Estadual</td>\n",
              "      <td>1265453</td>\n",
              "      <td>Educação Presencial</td>\n",
              "      <td>2510808</td>\n",
              "      <td>Patos</td>\n",
              "      <td>PB</td>\n",
              "      <td>27</td>\n",
              "      <td>1</td>\n",
              "      <td>48.300000</td>\n",
              "      <td>NaN</td>\n",
              "      <td>31.300000</td>\n",
              "      <td>NaN</td>\n",
              "      <td>NaN</td>\n",
              "      <td>SC</td>\n",
              "    </tr>\n",
              "    <tr>\n",
              "      <th>1</th>\n",
              "      <td>2017</td>\n",
              "      <td>CIÊNCIA DA COMPUTAÇÃO (BACHARELADO)</td>\n",
              "      <td>1066</td>\n",
              "      <td>INSTITUTO DE ENSINO E PESQUISA OBJETIVO</td>\n",
              "      <td>IEPO</td>\n",
              "      <td>Faculdade</td>\n",
              "      <td>Privada com fins lucrativos</td>\n",
              "      <td>58808</td>\n",
              "      <td>Educação Presencial</td>\n",
              "      <td>1721000</td>\n",
              "      <td>Palmas</td>\n",
              "      <td>TO</td>\n",
              "      <td>1</td>\n",
              "      <td>0</td>\n",
              "      <td>NaN</td>\n",
              "      <td>NaN</td>\n",
              "      <td>NaN</td>\n",
              "      <td>NaN</td>\n",
              "      <td>NaN</td>\n",
              "      <td>SC</td>\n",
              "    </tr>\n",
              "    <tr>\n",
              "      <th>2</th>\n",
              "      <td>2017</td>\n",
              "      <td>CIÊNCIA DA COMPUTAÇÃO (BACHARELADO)</td>\n",
              "      <td>2676</td>\n",
              "      <td>FACULDADE LA SALLE</td>\n",
              "      <td>NaN</td>\n",
              "      <td>Faculdade</td>\n",
              "      <td>Privada sem fins lucrativos</td>\n",
              "      <td>73438</td>\n",
              "      <td>Educação Presencial</td>\n",
              "      <td>1302603</td>\n",
              "      <td>Manaus</td>\n",
              "      <td>AM</td>\n",
              "      <td>45</td>\n",
              "      <td>6</td>\n",
              "      <td>NaN</td>\n",
              "      <td>NaN</td>\n",
              "      <td>NaN</td>\n",
              "      <td>NaN</td>\n",
              "      <td>NaN</td>\n",
              "      <td>SC</td>\n",
              "    </tr>\n",
              "    <tr>\n",
              "      <th>3</th>\n",
              "      <td>2017</td>\n",
              "      <td>CIÊNCIA DA COMPUTAÇÃO (BACHARELADO)</td>\n",
              "      <td>4656</td>\n",
              "      <td>FACULDADE ANHANGÜERA DE PIRACICABA</td>\n",
              "      <td>NaN</td>\n",
              "      <td>Faculdade</td>\n",
              "      <td>Privada com fins lucrativos</td>\n",
              "      <td>104836</td>\n",
              "      <td>Educação Presencial</td>\n",
              "      <td>3538709</td>\n",
              "      <td>Piracicaba</td>\n",
              "      <td>SP</td>\n",
              "      <td>2</td>\n",
              "      <td>1</td>\n",
              "      <td>49.400000</td>\n",
              "      <td>NaN</td>\n",
              "      <td>39.900000</td>\n",
              "      <td>NaN</td>\n",
              "      <td>NaN</td>\n",
              "      <td>SC</td>\n",
              "    </tr>\n",
              "    <tr>\n",
              "      <th>4</th>\n",
              "      <td>2017</td>\n",
              "      <td>CIÊNCIA DA COMPUTAÇÃO (BACHARELADO)</td>\n",
              "      <td>575</td>\n",
              "      <td>UNIVERSIDADE FEDERAL DE MINAS GERAIS</td>\n",
              "      <td>UFMG</td>\n",
              "      <td>Universidade</td>\n",
              "      <td>Pública Federal</td>\n",
              "      <td>12946</td>\n",
              "      <td>Educação Presencial</td>\n",
              "      <td>3106200</td>\n",
              "      <td>Belo Horizonte</td>\n",
              "      <td>MG</td>\n",
              "      <td>79</td>\n",
              "      <td>72</td>\n",
              "      <td>64.683333</td>\n",
              "      <td>4.526723</td>\n",
              "      <td>59.127778</td>\n",
              "      <td>5.000000</td>\n",
              "      <td>4.881681</td>\n",
              "      <td>5</td>\n",
              "    </tr>\n",
              "    <tr>\n",
              "      <th>...</th>\n",
              "      <td>...</td>\n",
              "      <td>...</td>\n",
              "      <td>...</td>\n",
              "      <td>...</td>\n",
              "      <td>...</td>\n",
              "      <td>...</td>\n",
              "      <td>...</td>\n",
              "      <td>...</td>\n",
              "      <td>...</td>\n",
              "      <td>...</td>\n",
              "      <td>...</td>\n",
              "      <td>...</td>\n",
              "      <td>...</td>\n",
              "      <td>...</td>\n",
              "      <td>...</td>\n",
              "      <td>...</td>\n",
              "      <td>...</td>\n",
              "      <td>...</td>\n",
              "      <td>...</td>\n",
              "      <td>...</td>\n",
              "    </tr>\n",
              "    <tr>\n",
              "      <th>1690</th>\n",
              "      <td>2017</td>\n",
              "      <td>TECNOLOGIA EM REDES DE COMPUTADORES</td>\n",
              "      <td>5439</td>\n",
              "      <td>FACULDADES INTEGRADAS DA UNIÃO EDUCACIONAL DO ...</td>\n",
              "      <td>FACIPLAC</td>\n",
              "      <td>Faculdade</td>\n",
              "      <td>Privada com fins lucrativos</td>\n",
              "      <td>1073286</td>\n",
              "      <td>Educação Presencial</td>\n",
              "      <td>5300108</td>\n",
              "      <td>Brasília</td>\n",
              "      <td>DF</td>\n",
              "      <td>15</td>\n",
              "      <td>12</td>\n",
              "      <td>35.700000</td>\n",
              "      <td>1.687043</td>\n",
              "      <td>20.500000</td>\n",
              "      <td>1.180022</td>\n",
              "      <td>1.306777</td>\n",
              "      <td>2</td>\n",
              "    </tr>\n",
              "    <tr>\n",
              "      <th>1691</th>\n",
              "      <td>2017</td>\n",
              "      <td>TECNOLOGIA EM REDES DE COMPUTADORES</td>\n",
              "      <td>4173</td>\n",
              "      <td>FACULDADE JK DE TECNOLOGIA</td>\n",
              "      <td>FACJK</td>\n",
              "      <td>Faculdade</td>\n",
              "      <td>Privada sem fins lucrativos</td>\n",
              "      <td>82672</td>\n",
              "      <td>Educação Presencial</td>\n",
              "      <td>5300108</td>\n",
              "      <td>Brasília</td>\n",
              "      <td>DF</td>\n",
              "      <td>8</td>\n",
              "      <td>4</td>\n",
              "      <td>45.350000</td>\n",
              "      <td>2.843701</td>\n",
              "      <td>18.000000</td>\n",
              "      <td>0.768386</td>\n",
              "      <td>1.287215</td>\n",
              "      <td>2</td>\n",
              "    </tr>\n",
              "    <tr>\n",
              "      <th>1692</th>\n",
              "      <td>2017</td>\n",
              "      <td>TECNOLOGIA EM REDES DE COMPUTADORES</td>\n",
              "      <td>3979</td>\n",
              "      <td>FACULDADE DE BAURU</td>\n",
              "      <td>-</td>\n",
              "      <td>Faculdade</td>\n",
              "      <td>Privada com fins lucrativos</td>\n",
              "      <td>73612</td>\n",
              "      <td>Educação Presencial</td>\n",
              "      <td>3506003</td>\n",
              "      <td>Bauru</td>\n",
              "      <td>SP</td>\n",
              "      <td>4</td>\n",
              "      <td>2</td>\n",
              "      <td>34.350000</td>\n",
              "      <td>1.525231</td>\n",
              "      <td>15.000000</td>\n",
              "      <td>0.274424</td>\n",
              "      <td>0.587125</td>\n",
              "      <td>1</td>\n",
              "    </tr>\n",
              "    <tr>\n",
              "      <th>1693</th>\n",
              "      <td>2017</td>\n",
              "      <td>TECNOLOGIA EM REDES DE COMPUTADORES</td>\n",
              "      <td>1494</td>\n",
              "      <td>CENTRO UNIVERSITÁRIO CATÓLICO DE VITÓRIA</td>\n",
              "      <td>NaN</td>\n",
              "      <td>Centro Universitário</td>\n",
              "      <td>Privada sem fins lucrativos</td>\n",
              "      <td>1117749</td>\n",
              "      <td>Educação Presencial</td>\n",
              "      <td>3205309</td>\n",
              "      <td>Vitória</td>\n",
              "      <td>ES</td>\n",
              "      <td>18</td>\n",
              "      <td>2</td>\n",
              "      <td>15.000000</td>\n",
              "      <td>0.000000</td>\n",
              "      <td>17.500000</td>\n",
              "      <td>0.686059</td>\n",
              "      <td>0.514544</td>\n",
              "      <td>1</td>\n",
              "    </tr>\n",
              "    <tr>\n",
              "      <th>1694</th>\n",
              "      <td>2017</td>\n",
              "      <td>TECNOLOGIA EM REDES DE COMPUTADORES</td>\n",
              "      <td>163</td>\n",
              "      <td>UNIVERSIDADE ESTÁCIO DE SÁ</td>\n",
              "      <td>UNESA</td>\n",
              "      <td>Universidade</td>\n",
              "      <td>Privada com fins lucrativos</td>\n",
              "      <td>80570</td>\n",
              "      <td>Educação Presencial</td>\n",
              "      <td>3303302</td>\n",
              "      <td>Niterói</td>\n",
              "      <td>RJ</td>\n",
              "      <td>4</td>\n",
              "      <td>3</td>\n",
              "      <td>25.700000</td>\n",
              "      <td>0.488433</td>\n",
              "      <td>13.333333</td>\n",
              "      <td>0.000000</td>\n",
              "      <td>0.122108</td>\n",
              "      <td>1</td>\n",
              "    </tr>\n",
              "  </tbody>\n",
              "</table>\n",
              "<p>1695 rows × 20 columns</p>\n",
              "</div>"
            ],
            "text/plain": [
              "       Ano  ... Conceito Enade (Faixa)\n",
              "0     2017  ...                     SC\n",
              "1     2017  ...                     SC\n",
              "2     2017  ...                     SC\n",
              "3     2017  ...                     SC\n",
              "4     2017  ...                      5\n",
              "...    ...  ...                    ...\n",
              "1690  2017  ...                      2\n",
              "1691  2017  ...                      2\n",
              "1692  2017  ...                      1\n",
              "1693  2017  ...                      1\n",
              "1694  2017  ...                      1\n",
              "\n",
              "[1695 rows x 20 columns]"
            ]
          },
          "metadata": {
            "tags": []
          },
          "execution_count": 10
        }
      ]
    },
    {
      "cell_type": "code",
      "metadata": {
        "colab": {
          "base_uri": "https://localhost:8080/"
        },
        "id": "jtAC3afpj2jb",
        "outputId": "9530d646-1bab-4b5a-e0c7-6195a02a90fa"
      },
      "source": [
        "new_table_enade.columns # Retornando nome de colunas do dataframe. "
      ],
      "execution_count": 11,
      "outputs": [
        {
          "output_type": "execute_result",
          "data": {
            "text/plain": [
              "Index(['Ano', 'Área de Avaliação', 'Código da IES', 'Nome da IES',\n",
              "       'Sigla da IES', 'Organização Acadêmica', 'Categoria Administrativa',\n",
              "       'Código do Curso', 'Modalidade de Ensino', 'Código do Município',\n",
              "       'Município do Curso', 'Sigla da UF', 'Nº de Concluintes Inscritos',\n",
              "       'Nº  de Concluintes Participantes', 'Nota Bruta - FG',\n",
              "       'Nota Padronizada - FG', 'Nota Bruta - CE', 'Nota Padronizada - CE',\n",
              "       'Conceito Enade (Contínuo)', 'Conceito Enade (Faixa)'],\n",
              "      dtype='object')"
            ]
          },
          "metadata": {
            "tags": []
          },
          "execution_count": 11
        }
      ]
    },
    {
      "cell_type": "code",
      "metadata": {
        "id": "wklYVlZOkT5v"
      },
      "source": [
        "new_table_enade_2 = new_table_enade.drop(columns=[\"Código da IES\", \"Código do Curso\"]) # Comando drop exclui coluna passada como parâmetro. \n"
      ],
      "execution_count": 12,
      "outputs": []
    },
    {
      "cell_type": "code",
      "metadata": {
        "colab": {
          "base_uri": "https://localhost:8080/",
          "height": 250
        },
        "id": "N66ihlBHkFJa",
        "outputId": "e29ddac1-a888-4608-ec44-ad365e46d2e3"
      },
      "source": [
        "new_table_enade_2.head(2)\n"
      ],
      "execution_count": 13,
      "outputs": [
        {
          "output_type": "execute_result",
          "data": {
            "text/html": [
              "<div>\n",
              "<style scoped>\n",
              "    .dataframe tbody tr th:only-of-type {\n",
              "        vertical-align: middle;\n",
              "    }\n",
              "\n",
              "    .dataframe tbody tr th {\n",
              "        vertical-align: top;\n",
              "    }\n",
              "\n",
              "    .dataframe thead th {\n",
              "        text-align: right;\n",
              "    }\n",
              "</style>\n",
              "<table border=\"1\" class=\"dataframe\">\n",
              "  <thead>\n",
              "    <tr style=\"text-align: right;\">\n",
              "      <th></th>\n",
              "      <th>Ano</th>\n",
              "      <th>Área de Avaliação</th>\n",
              "      <th>Nome da IES</th>\n",
              "      <th>Sigla da IES</th>\n",
              "      <th>Organização Acadêmica</th>\n",
              "      <th>Categoria Administrativa</th>\n",
              "      <th>Modalidade de Ensino</th>\n",
              "      <th>Código do Município</th>\n",
              "      <th>Município do Curso</th>\n",
              "      <th>Sigla da UF</th>\n",
              "      <th>Nº de Concluintes Inscritos</th>\n",
              "      <th>Nº  de Concluintes Participantes</th>\n",
              "      <th>Nota Bruta - FG</th>\n",
              "      <th>Nota Padronizada - FG</th>\n",
              "      <th>Nota Bruta - CE</th>\n",
              "      <th>Nota Padronizada - CE</th>\n",
              "      <th>Conceito Enade (Contínuo)</th>\n",
              "      <th>Conceito Enade (Faixa)</th>\n",
              "    </tr>\n",
              "  </thead>\n",
              "  <tbody>\n",
              "    <tr>\n",
              "      <th>0</th>\n",
              "      <td>2017</td>\n",
              "      <td>CIÊNCIA DA COMPUTAÇÃO (BACHARELADO)</td>\n",
              "      <td>UNIVERSIDADE ESTADUAL DA PARAÍBA</td>\n",
              "      <td>UEPB</td>\n",
              "      <td>Universidade</td>\n",
              "      <td>Pública Estadual</td>\n",
              "      <td>Educação Presencial</td>\n",
              "      <td>2510808</td>\n",
              "      <td>Patos</td>\n",
              "      <td>PB</td>\n",
              "      <td>27</td>\n",
              "      <td>1</td>\n",
              "      <td>48.3</td>\n",
              "      <td>NaN</td>\n",
              "      <td>31.3</td>\n",
              "      <td>NaN</td>\n",
              "      <td>NaN</td>\n",
              "      <td>SC</td>\n",
              "    </tr>\n",
              "    <tr>\n",
              "      <th>1</th>\n",
              "      <td>2017</td>\n",
              "      <td>CIÊNCIA DA COMPUTAÇÃO (BACHARELADO)</td>\n",
              "      <td>INSTITUTO DE ENSINO E PESQUISA OBJETIVO</td>\n",
              "      <td>IEPO</td>\n",
              "      <td>Faculdade</td>\n",
              "      <td>Privada com fins lucrativos</td>\n",
              "      <td>Educação Presencial</td>\n",
              "      <td>1721000</td>\n",
              "      <td>Palmas</td>\n",
              "      <td>TO</td>\n",
              "      <td>1</td>\n",
              "      <td>0</td>\n",
              "      <td>NaN</td>\n",
              "      <td>NaN</td>\n",
              "      <td>NaN</td>\n",
              "      <td>NaN</td>\n",
              "      <td>NaN</td>\n",
              "      <td>SC</td>\n",
              "    </tr>\n",
              "  </tbody>\n",
              "</table>\n",
              "</div>"
            ],
            "text/plain": [
              "    Ano  ... Conceito Enade (Faixa)\n",
              "0  2017  ...                     SC\n",
              "1  2017  ...                     SC\n",
              "\n",
              "[2 rows x 18 columns]"
            ]
          },
          "metadata": {
            "tags": []
          },
          "execution_count": 13
        }
      ]
    },
    {
      "cell_type": "code",
      "metadata": {
        "colab": {
          "base_uri": "https://localhost:8080/",
          "height": 436
        },
        "id": "Qjv9Vb8xmcx6",
        "outputId": "2f5150e9-1c58-4c58-8e7e-0cdd97bc3f2e"
      },
      "source": [
        "x = new_table_enade_2.iloc[:,[0,10,11,12,13,14,15,16]] #Selecionando algumas colunas pertinentes para análise matemática e colocando em uma variável. \n",
        "x\n"
      ],
      "execution_count": 14,
      "outputs": [
        {
          "output_type": "execute_result",
          "data": {
            "text/html": [
              "<div>\n",
              "<style scoped>\n",
              "    .dataframe tbody tr th:only-of-type {\n",
              "        vertical-align: middle;\n",
              "    }\n",
              "\n",
              "    .dataframe tbody tr th {\n",
              "        vertical-align: top;\n",
              "    }\n",
              "\n",
              "    .dataframe thead th {\n",
              "        text-align: right;\n",
              "    }\n",
              "</style>\n",
              "<table border=\"1\" class=\"dataframe\">\n",
              "  <thead>\n",
              "    <tr style=\"text-align: right;\">\n",
              "      <th></th>\n",
              "      <th>Ano</th>\n",
              "      <th>Nº de Concluintes Inscritos</th>\n",
              "      <th>Nº  de Concluintes Participantes</th>\n",
              "      <th>Nota Bruta - FG</th>\n",
              "      <th>Nota Padronizada - FG</th>\n",
              "      <th>Nota Bruta - CE</th>\n",
              "      <th>Nota Padronizada - CE</th>\n",
              "      <th>Conceito Enade (Contínuo)</th>\n",
              "    </tr>\n",
              "  </thead>\n",
              "  <tbody>\n",
              "    <tr>\n",
              "      <th>0</th>\n",
              "      <td>2017</td>\n",
              "      <td>27</td>\n",
              "      <td>1</td>\n",
              "      <td>48.300000</td>\n",
              "      <td>NaN</td>\n",
              "      <td>31.300000</td>\n",
              "      <td>NaN</td>\n",
              "      <td>NaN</td>\n",
              "    </tr>\n",
              "    <tr>\n",
              "      <th>1</th>\n",
              "      <td>2017</td>\n",
              "      <td>1</td>\n",
              "      <td>0</td>\n",
              "      <td>NaN</td>\n",
              "      <td>NaN</td>\n",
              "      <td>NaN</td>\n",
              "      <td>NaN</td>\n",
              "      <td>NaN</td>\n",
              "    </tr>\n",
              "    <tr>\n",
              "      <th>2</th>\n",
              "      <td>2017</td>\n",
              "      <td>45</td>\n",
              "      <td>6</td>\n",
              "      <td>NaN</td>\n",
              "      <td>NaN</td>\n",
              "      <td>NaN</td>\n",
              "      <td>NaN</td>\n",
              "      <td>NaN</td>\n",
              "    </tr>\n",
              "    <tr>\n",
              "      <th>3</th>\n",
              "      <td>2017</td>\n",
              "      <td>2</td>\n",
              "      <td>1</td>\n",
              "      <td>49.400000</td>\n",
              "      <td>NaN</td>\n",
              "      <td>39.900000</td>\n",
              "      <td>NaN</td>\n",
              "      <td>NaN</td>\n",
              "    </tr>\n",
              "    <tr>\n",
              "      <th>4</th>\n",
              "      <td>2017</td>\n",
              "      <td>79</td>\n",
              "      <td>72</td>\n",
              "      <td>64.683333</td>\n",
              "      <td>4.526723</td>\n",
              "      <td>59.127778</td>\n",
              "      <td>5.000000</td>\n",
              "      <td>4.881681</td>\n",
              "    </tr>\n",
              "    <tr>\n",
              "      <th>...</th>\n",
              "      <td>...</td>\n",
              "      <td>...</td>\n",
              "      <td>...</td>\n",
              "      <td>...</td>\n",
              "      <td>...</td>\n",
              "      <td>...</td>\n",
              "      <td>...</td>\n",
              "      <td>...</td>\n",
              "    </tr>\n",
              "    <tr>\n",
              "      <th>1690</th>\n",
              "      <td>2017</td>\n",
              "      <td>15</td>\n",
              "      <td>12</td>\n",
              "      <td>35.700000</td>\n",
              "      <td>1.687043</td>\n",
              "      <td>20.500000</td>\n",
              "      <td>1.180022</td>\n",
              "      <td>1.306777</td>\n",
              "    </tr>\n",
              "    <tr>\n",
              "      <th>1691</th>\n",
              "      <td>2017</td>\n",
              "      <td>8</td>\n",
              "      <td>4</td>\n",
              "      <td>45.350000</td>\n",
              "      <td>2.843701</td>\n",
              "      <td>18.000000</td>\n",
              "      <td>0.768386</td>\n",
              "      <td>1.287215</td>\n",
              "    </tr>\n",
              "    <tr>\n",
              "      <th>1692</th>\n",
              "      <td>2017</td>\n",
              "      <td>4</td>\n",
              "      <td>2</td>\n",
              "      <td>34.350000</td>\n",
              "      <td>1.525231</td>\n",
              "      <td>15.000000</td>\n",
              "      <td>0.274424</td>\n",
              "      <td>0.587125</td>\n",
              "    </tr>\n",
              "    <tr>\n",
              "      <th>1693</th>\n",
              "      <td>2017</td>\n",
              "      <td>18</td>\n",
              "      <td>2</td>\n",
              "      <td>15.000000</td>\n",
              "      <td>0.000000</td>\n",
              "      <td>17.500000</td>\n",
              "      <td>0.686059</td>\n",
              "      <td>0.514544</td>\n",
              "    </tr>\n",
              "    <tr>\n",
              "      <th>1694</th>\n",
              "      <td>2017</td>\n",
              "      <td>4</td>\n",
              "      <td>3</td>\n",
              "      <td>25.700000</td>\n",
              "      <td>0.488433</td>\n",
              "      <td>13.333333</td>\n",
              "      <td>0.000000</td>\n",
              "      <td>0.122108</td>\n",
              "    </tr>\n",
              "  </tbody>\n",
              "</table>\n",
              "<p>1695 rows × 8 columns</p>\n",
              "</div>"
            ],
            "text/plain": [
              "       Ano  ...  Conceito Enade (Contínuo)\n",
              "0     2017  ...                        NaN\n",
              "1     2017  ...                        NaN\n",
              "2     2017  ...                        NaN\n",
              "3     2017  ...                        NaN\n",
              "4     2017  ...                   4.881681\n",
              "...    ...  ...                        ...\n",
              "1690  2017  ...                   1.306777\n",
              "1691  2017  ...                   1.287215\n",
              "1692  2017  ...                   0.587125\n",
              "1693  2017  ...                   0.514544\n",
              "1694  2017  ...                   0.122108\n",
              "\n",
              "[1695 rows x 8 columns]"
            ]
          },
          "metadata": {
            "tags": []
          },
          "execution_count": 14
        }
      ]
    },
    {
      "cell_type": "code",
      "metadata": {
        "id": "a9UFRfPYmU0N"
      },
      "source": [
        "y = x.describe() # Comando describe retorna alguns cálculos matemáticos realizado com os dados da tabela, como por exemplo média, menor valor,  maior valor e etc. "
      ],
      "execution_count": 15,
      "outputs": []
    },
    {
      "cell_type": "code",
      "metadata": {
        "colab": {
          "base_uri": "https://localhost:8080/",
          "height": 314
        },
        "id": "f35k8voAoI2h",
        "outputId": "95854903-db35-4af1-ed32-052ea348696c"
      },
      "source": [
        "y"
      ],
      "execution_count": 16,
      "outputs": [
        {
          "output_type": "execute_result",
          "data": {
            "text/html": [
              "<div>\n",
              "<style scoped>\n",
              "    .dataframe tbody tr th:only-of-type {\n",
              "        vertical-align: middle;\n",
              "    }\n",
              "\n",
              "    .dataframe tbody tr th {\n",
              "        vertical-align: top;\n",
              "    }\n",
              "\n",
              "    .dataframe thead th {\n",
              "        text-align: right;\n",
              "    }\n",
              "</style>\n",
              "<table border=\"1\" class=\"dataframe\">\n",
              "  <thead>\n",
              "    <tr style=\"text-align: right;\">\n",
              "      <th></th>\n",
              "      <th>Ano</th>\n",
              "      <th>Nº de Concluintes Inscritos</th>\n",
              "      <th>Nº  de Concluintes Participantes</th>\n",
              "      <th>Nota Bruta - FG</th>\n",
              "      <th>Nota Padronizada - FG</th>\n",
              "      <th>Nota Bruta - CE</th>\n",
              "      <th>Nota Padronizada - CE</th>\n",
              "      <th>Conceito Enade (Contínuo)</th>\n",
              "    </tr>\n",
              "  </thead>\n",
              "  <tbody>\n",
              "    <tr>\n",
              "      <th>count</th>\n",
              "      <td>1695.0</td>\n",
              "      <td>1695.000000</td>\n",
              "      <td>1695.000000</td>\n",
              "      <td>1642.000000</td>\n",
              "      <td>1604.000000</td>\n",
              "      <td>1642.000000</td>\n",
              "      <td>1604.000000</td>\n",
              "      <td>1604.000000</td>\n",
              "    </tr>\n",
              "    <tr>\n",
              "      <th>mean</th>\n",
              "      <td>2017.0</td>\n",
              "      <td>30.095575</td>\n",
              "      <td>23.948083</td>\n",
              "      <td>49.832162</td>\n",
              "      <td>2.641239</td>\n",
              "      <td>38.783531</td>\n",
              "      <td>2.391709</td>\n",
              "      <td>2.454092</td>\n",
              "    </tr>\n",
              "    <tr>\n",
              "      <th>std</th>\n",
              "      <td>0.0</td>\n",
              "      <td>36.146433</td>\n",
              "      <td>27.539254</td>\n",
              "      <td>8.598895</td>\n",
              "      <td>0.980454</td>\n",
              "      <td>8.652268</td>\n",
              "      <td>1.022342</td>\n",
              "      <td>0.926690</td>\n",
              "    </tr>\n",
              "    <tr>\n",
              "      <th>min</th>\n",
              "      <td>2017.0</td>\n",
              "      <td>1.000000</td>\n",
              "      <td>0.000000</td>\n",
              "      <td>6.400000</td>\n",
              "      <td>0.000000</td>\n",
              "      <td>5.000000</td>\n",
              "      <td>0.000000</td>\n",
              "      <td>0.000000</td>\n",
              "    </tr>\n",
              "    <tr>\n",
              "      <th>25%</th>\n",
              "      <td>2017.0</td>\n",
              "      <td>11.000000</td>\n",
              "      <td>9.000000</td>\n",
              "      <td>44.575184</td>\n",
              "      <td>2.028761</td>\n",
              "      <td>32.428585</td>\n",
              "      <td>1.636685</td>\n",
              "      <td>1.785986</td>\n",
              "    </tr>\n",
              "    <tr>\n",
              "      <th>50%</th>\n",
              "      <td>2017.0</td>\n",
              "      <td>21.000000</td>\n",
              "      <td>17.000000</td>\n",
              "      <td>50.069067</td>\n",
              "      <td>2.647404</td>\n",
              "      <td>38.851316</td>\n",
              "      <td>2.353891</td>\n",
              "      <td>2.415933</td>\n",
              "    </tr>\n",
              "    <tr>\n",
              "      <th>75%</th>\n",
              "      <td>2017.0</td>\n",
              "      <td>37.000000</td>\n",
              "      <td>30.000000</td>\n",
              "      <td>55.399324</td>\n",
              "      <td>3.319948</td>\n",
              "      <td>44.569737</td>\n",
              "      <td>3.089926</td>\n",
              "      <td>3.087379</td>\n",
              "    </tr>\n",
              "    <tr>\n",
              "      <th>max</th>\n",
              "      <td>2017.0</td>\n",
              "      <td>541.000000</td>\n",
              "      <td>378.000000</td>\n",
              "      <td>92.100000</td>\n",
              "      <td>5.000000</td>\n",
              "      <td>75.700000</td>\n",
              "      <td>5.000000</td>\n",
              "      <td>5.000000</td>\n",
              "    </tr>\n",
              "  </tbody>\n",
              "</table>\n",
              "</div>"
            ],
            "text/plain": [
              "          Ano  ...  Conceito Enade (Contínuo)\n",
              "count  1695.0  ...                1604.000000\n",
              "mean   2017.0  ...                   2.454092\n",
              "std       0.0  ...                   0.926690\n",
              "min    2017.0  ...                   0.000000\n",
              "25%    2017.0  ...                   1.785986\n",
              "50%    2017.0  ...                   2.415933\n",
              "75%    2017.0  ...                   3.087379\n",
              "max    2017.0  ...                   5.000000\n",
              "\n",
              "[8 rows x 8 columns]"
            ]
          },
          "metadata": {
            "tags": []
          },
          "execution_count": 16
        }
      ]
    },
    {
      "cell_type": "code",
      "metadata": {
        "id": "0-ZGsKy9urGS",
        "colab": {
          "base_uri": "https://localhost:8080/"
        },
        "outputId": "bd849b5d-02dd-4266-d172-930327eeb45e"
      },
      "source": [
        "z = x.iloc[:,7] # Retornando a cioluna  'Conceito Enade', para posterior análise com demonstrações em gráficos, utilizando a biblioteca matplotlib. \n",
        "z"
      ],
      "execution_count": 17,
      "outputs": [
        {
          "output_type": "execute_result",
          "data": {
            "text/plain": [
              "0            NaN\n",
              "1            NaN\n",
              "2            NaN\n",
              "3            NaN\n",
              "4       4.881681\n",
              "          ...   \n",
              "1690    1.306777\n",
              "1691    1.287215\n",
              "1692    0.587125\n",
              "1693    0.514544\n",
              "1694    0.122108\n",
              "Name: Conceito Enade (Contínuo), Length: 1695, dtype: float64"
            ]
          },
          "metadata": {
            "tags": []
          },
          "execution_count": 17
        }
      ]
    },
    {
      "cell_type": "code",
      "metadata": {
        "colab": {
          "base_uri": "https://localhost:8080/"
        },
        "id": "_FonJ2Oxp-91",
        "outputId": "491f47f8-659c-4fef-8da1-f0d47d83c41f"
      },
      "source": [
        "z.mean() # Verificando a média da coluna. "
      ],
      "execution_count": 18,
      "outputs": [
        {
          "output_type": "execute_result",
          "data": {
            "text/plain": [
              "2.454091922948767"
            ]
          },
          "metadata": {
            "tags": []
          },
          "execution_count": 18
        }
      ]
    },
    {
      "cell_type": "code",
      "metadata": {
        "colab": {
          "base_uri": "https://localhost:8080/"
        },
        "id": "62pea25WsDu1",
        "outputId": "4e73ea9e-c9de-4d39-8958-031b69790ff9"
      },
      "source": [
        "z.fillna(z.mean()) # Subistituindo os campos da coluna contendo 'NaN', pela média. "
      ],
      "execution_count": 19,
      "outputs": [
        {
          "output_type": "execute_result",
          "data": {
            "text/plain": [
              "0       2.454092\n",
              "1       2.454092\n",
              "2       2.454092\n",
              "3       2.454092\n",
              "4       4.881681\n",
              "          ...   \n",
              "1690    1.306777\n",
              "1691    1.287215\n",
              "1692    0.587125\n",
              "1693    0.514544\n",
              "1694    0.122108\n",
              "Name: Conceito Enade (Contínuo), Length: 1695, dtype: float64"
            ]
          },
          "metadata": {
            "tags": []
          },
          "execution_count": 19
        }
      ]
    },
    {
      "cell_type": "code",
      "metadata": {
        "colab": {
          "base_uri": "https://localhost:8080/"
        },
        "id": "kx--pn4mtfkg",
        "outputId": "31454460-3bc0-43e1-8af8-f495e075323a"
      },
      "source": [
        "print(z.count()) # Retornando a contagem de dados não-nulos da coluna. \n",
        "# O último numero sendo 1694 foi retornado a quantidade de campos prenchidos 1604, sendo assim contem 90 campos que precisa ser tratado."
      ],
      "execution_count": 20,
      "outputs": [
        {
          "output_type": "stream",
          "text": [
            "1604\n"
          ],
          "name": "stdout"
        }
      ]
    },
    {
      "cell_type": "code",
      "metadata": {
        "colab": {
          "base_uri": "https://localhost:8080/"
        },
        "id": "BITQoeqBvyrn",
        "outputId": "24758fee-65e4-49e8-fbec-8f8214cf9974"
      },
      "source": [
        "print(z.isnull().sum()) # Retorna a quantidade de campos nulos da coluna. \n"
      ],
      "execution_count": 21,
      "outputs": [
        {
          "output_type": "stream",
          "text": [
            "91\n"
          ],
          "name": "stdout"
        }
      ]
    },
    {
      "cell_type": "code",
      "metadata": {
        "colab": {
          "base_uri": "https://localhost:8080/"
        },
        "id": "L2VbLD0kwMVe",
        "outputId": "91d27dc6-e8a7-4292-d329-78ec4dad5de7"
      },
      "source": [
        "print(z.isna().sum()) # Função isna retorna a quantidade de campos vazios. \n"
      ],
      "execution_count": 22,
      "outputs": [
        {
          "output_type": "stream",
          "text": [
            "91\n"
          ],
          "name": "stdout"
        }
      ]
    },
    {
      "cell_type": "markdown",
      "metadata": {
        "id": "9Xg5xOie2WWE"
      },
      "source": [
        "### Histograma - Gráfico de barras"
      ]
    },
    {
      "cell_type": "code",
      "metadata": {
        "colab": {
          "base_uri": "https://localhost:8080/",
          "height": 265
        },
        "id": "pESa9ZA-5h2y",
        "outputId": "8dc617f0-dd2d-4707-f3f6-fc3c39081e69"
      },
      "source": [
        "import matplotlib.pyplot as plt # Importando biblioteca para composição dos gráficos, o conjunto de dados escolhido para análise sera a coluna . \n",
        "z.hist(bins = 100)\n",
        "plt.show()"
      ],
      "execution_count": 23,
      "outputs": [
        {
          "output_type": "display_data",
          "data": {
            "image/png": "[encoded data removed]",
            "text/plain": [
              "<Figure size 432x288 with 1 Axes>"
            ]
          },
          "metadata": {
            "tags": [],
            "needs_background": "light"
          }
        }
      ]
    },
    {
      "cell_type": "code",
      "metadata": {
        "colab": {
          "base_uri": "https://localhost:8080/",
          "height": 265
        },
        "id": "f6CFVAEnNBEf",
        "outputId": "8b15bfeb-99b4-4ba5-cf4a-1df68d8b774b"
      },
      "source": [
        "z.hist(bins = 5) # Gráfico de barras com valor 5 no 'bins', Intervalos  de classe igualmente espaçados, usados para classificar os dados.\n",
        "plt.show()"
      ],
      "execution_count": 24,
      "outputs": [
        {
          "output_type": "display_data",
          "data": {
            "image/png": "[encoded data removed]",
            "text/plain": [
              "<Figure size 432x288 with 1 Axes>"
            ]
          },
          "metadata": {
            "tags": [],
            "needs_background": "light"
          }
        }
      ]
    },
    {
      "cell_type": "code",
      "metadata": {
        "colab": {
          "base_uri": "https://localhost:8080/"
        },
        "id": "nw2EnbqwQst0",
        "outputId": "ffb90dd0-c2c8-4986-d5ab-15ede1aaa5e7"
      },
      "source": [
        "# Criada duas linstas uma com inteiros e uma vazia, tirando a raiz quadrada de cada elemento da lista x e inbserindo na y.\n",
        "x = [1,2,3,4,5,6,7,8,9,10,11,12,13,14,15] \n",
        "y = []\n",
        "\n",
        "for i in x:\n",
        "  y.append(i**2)\n",
        "print(y) "
      ],
      "execution_count": 25,
      "outputs": [
        {
          "output_type": "stream",
          "text": [
            "[1, 4, 9, 16, 25, 36, 49, 64, 81, 100, 121, 144, 169, 196, 225]\n"
          ],
          "name": "stdout"
        }
      ]
    },
    {
      "cell_type": "code",
      "metadata": {
        "colab": {
          "base_uri": "https://localhost:8080/",
          "height": 265
        },
        "id": "7H7FXPDYUQTv",
        "outputId": "5e2cbc2d-f2c5-4add-e841-396bf53db1a5"
      },
      "source": [
        "plt.scatter(x,y)\n",
        "plt.show()"
      ],
      "execution_count": 26,
      "outputs": [
        {
          "output_type": "display_data",
          "data": {
            "image/png": "[encoded data removed]",
            "text/plain": [
              "<Figure size 432x288 with 1 Axes>"
            ]
          },
          "metadata": {
            "tags": [],
            "needs_background": "light"
          }
        }
      ]
    },
    {
      "cell_type": "code",
      "metadata": {
        "colab": {
          "base_uri": "https://localhost:8080/"
        },
        "id": "4ymRZ9VQUl5w",
        "outputId": "e3fbd23c-f49d-4941-fb64-bfe1615a4350"
      },
      "source": [
        "import numpy as np # Utilizando funcão range  e gerando um array con numeros entre 0 e 50, com intervalo de dois inteiros. \n",
        "e  = np.arange(0,50,2) \n",
        "print(e)\n",
        "type(e)"
      ],
      "execution_count": 27,
      "outputs": [
        {
          "output_type": "stream",
          "text": [
            "[ 0  2  4  6  8 10 12 14 16 18 20 22 24 26 28 30 32 34 36 38 40 42 44 46\n",
            " 48]\n"
          ],
          "name": "stdout"
        },
        {
          "output_type": "execute_result",
          "data": {
            "text/plain": [
              "numpy.ndarray"
            ]
          },
          "metadata": {
            "tags": []
          },
          "execution_count": 27
        }
      ]
    },
    {
      "cell_type": "code",
      "metadata": {
        "colab": {
          "base_uri": "https://localhost:8080/",
          "height": 265
        },
        "id": "Oa6mkF5wZZ2E",
        "outputId": "6cd9b225-fc60-46c7-9701-e244a810e2de"
      },
      "source": [
        " #plotar o gráfico gerando os valores direto no próprio “plot” temos:\n",
        "plt.plot(e,e**2)\n",
        "plt.show()"
      ],
      "execution_count": 28,
      "outputs": [
        {
          "output_type": "display_data",
          "data": {
            "image/png": "[encoded data removed]",
            "text/plain": [
              "<Figure size 432x288 with 1 Axes>"
            ]
          },
          "metadata": {
            "tags": [],
            "needs_background": "light"
          }
        }
      ]
    },
    {
      "cell_type": "code",
      "metadata": {
        "colab": {
          "base_uri": "https://localhost:8080/",
          "height": 268
        },
        "id": "V4PXHDJWa58Y",
        "outputId": "ac80a208-f86e-4651-8d6b-e9d553f02117"
      },
      "source": [
        "plt.plot(e,e)\n",
        "plt.show()"
      ],
      "execution_count": 29,
      "outputs": [
        {
          "output_type": "display_data",
          "data": {
            "image/png": "[encoded data removed]",
            "text/plain": [
              "<Figure size 432x288 with 1 Axes>"
            ]
          },
          "metadata": {
            "tags": [],
            "needs_background": "light"
          }
        }
      ]
    },
    {
      "cell_type": "code",
      "metadata": {
        "colab": {
          "base_uri": "https://localhost:8080/",
          "height": 276
        },
        "id": "70RJ1zqubEoL",
        "outputId": "3a3b932a-2826-4390-f38d-5dea5d0f3968"
      },
      "source": [
        "z2 = np.arange(-1000,1000,2)\n",
        "plt.plot(z2,z2**2)\n",
        "plt.show()"
      ],
      "execution_count": 30,
      "outputs": [
        {
          "output_type": "display_data",
          "data": {
            "image/png": "[encoded data removed]",
            "text/plain": [
              "<Figure size 432x288 with 1 Axes>"
            ]
          },
          "metadata": {
            "tags": [],
            "needs_background": "light"
          }
        }
      ]
    },
    {
      "cell_type": "markdown",
      "metadata": {
        "id": "qY9sPj6a27d6"
      },
      "source": [
        "### Manipulação de dados e apresentação de gráficos de dispersão para encontrar tendências. \n"
      ]
    },
    {
      "cell_type": "code",
      "metadata": {
        "colab": {
          "base_uri": "https://localhost:8080/"
        },
        "id": "y_3edD0l3gRM",
        "outputId": "20c0eebc-7f70-4ae1-f5aa-6e6f203f833b"
      },
      "source": [
        "enade.columns # Retornando nome  da coluna"
      ],
      "execution_count": 31,
      "outputs": [
        {
          "output_type": "execute_result",
          "data": {
            "text/plain": [
              "Index(['Ano', 'Código da Área', 'Área de Avaliação', 'Código da IES',\n",
              "       'Nome da IES', 'Sigla da IES', 'Organização Acadêmica',\n",
              "       'Categoria Administrativa', 'Código do Curso', 'Modalidade de Ensino',\n",
              "       'Código do Município', 'Município do Curso', 'Sigla da UF',\n",
              "       'Nº de Concluintes Inscritos', 'Nº  de Concluintes Participantes',\n",
              "       'Nota Bruta - FG', 'Nota Padronizada - FG', 'Nota Bruta - CE',\n",
              "       'Nota Padronizada - CE', 'Conceito Enade (Contínuo)',\n",
              "       'Conceito Enade (Faixa)'],\n",
              "      dtype='object')"
            ]
          },
          "metadata": {
            "tags": []
          },
          "execution_count": 31
        }
      ]
    },
    {
      "cell_type": "code",
      "metadata": {
        "colab": {
          "base_uri": "https://localhost:8080/"
        },
        "id": "ECI035tG4Jz6",
        "outputId": "543c54ed-d7d2-4192-c32d-45e41f96548f"
      },
      "source": [
        "for column in enade: # Laço for percorrendo as colunas da tabela 'enade' e printando, visualmente fica melhor! \n",
        "   print(column)"
      ],
      "execution_count": 32,
      "outputs": [
        {
          "output_type": "stream",
          "text": [
            "Ano\n",
            "Código da Área\n",
            "Área de Avaliação\n",
            "Código da IES\n",
            "Nome da IES\n",
            "Sigla da IES\n",
            "Organização Acadêmica\n",
            "Categoria Administrativa\n",
            "Código do Curso\n",
            "Modalidade de Ensino\n",
            "Código do Município\n",
            "Município do Curso\n",
            "Sigla da UF\n",
            "Nº de Concluintes Inscritos\n",
            "Nº  de Concluintes Participantes\n",
            "Nota Bruta - FG\n",
            "Nota Padronizada - FG\n",
            "Nota Bruta - CE\n",
            "Nota Padronizada - CE\n",
            "Conceito Enade (Contínuo)\n",
            "Conceito Enade (Faixa)\n"
          ],
          "name": "stdout"
        }
      ]
    },
    {
      "cell_type": "code",
      "metadata": {
        "colab": {
          "base_uri": "https://localhost:8080/",
          "height": 847
        },
        "id": "vU1_91ug3DIM",
        "outputId": "a40b29e1-c597-40ad-d82d-589d4caa54d2"
      },
      "source": [
        "escolasp = enade.loc[enade['Sigla da UF'] == 'SP'] # Comando 'loc'retornando coluna expecificada no caso 'Sigla da UF filtrado por 'SP'.  \n",
        "escolasp"
      ],
      "execution_count": 36,
      "outputs": [
        {
          "output_type": "execute_result",
          "data": {
            "text/html": [
              "<div>\n",
              "<style scoped>\n",
              "    .dataframe tbody tr th:only-of-type {\n",
              "        vertical-align: middle;\n",
              "    }\n",
              "\n",
              "    .dataframe tbody tr th {\n",
              "        vertical-align: top;\n",
              "    }\n",
              "\n",
              "    .dataframe thead th {\n",
              "        text-align: right;\n",
              "    }\n",
              "</style>\n",
              "<table border=\"1\" class=\"dataframe\">\n",
              "  <thead>\n",
              "    <tr style=\"text-align: right;\">\n",
              "      <th></th>\n",
              "      <th>Ano</th>\n",
              "      <th>Código da Área</th>\n",
              "      <th>Área de Avaliação</th>\n",
              "      <th>Código da IES</th>\n",
              "      <th>Nome da IES</th>\n",
              "      <th>Sigla da IES</th>\n",
              "      <th>Organização Acadêmica</th>\n",
              "      <th>Categoria Administrativa</th>\n",
              "      <th>Código do Curso</th>\n",
              "      <th>Modalidade de Ensino</th>\n",
              "      <th>Código do Município</th>\n",
              "      <th>Município do Curso</th>\n",
              "      <th>Sigla da UF</th>\n",
              "      <th>Nº de Concluintes Inscritos</th>\n",
              "      <th>Nº  de Concluintes Participantes</th>\n",
              "      <th>Nota Bruta - FG</th>\n",
              "      <th>Nota Padronizada - FG</th>\n",
              "      <th>Nota Bruta - CE</th>\n",
              "      <th>Nota Padronizada - CE</th>\n",
              "      <th>Conceito Enade (Contínuo)</th>\n",
              "      <th>Conceito Enade (Faixa)</th>\n",
              "    </tr>\n",
              "  </thead>\n",
              "  <tbody>\n",
              "    <tr>\n",
              "      <th>3</th>\n",
              "      <td>2017</td>\n",
              "      <td>4004</td>\n",
              "      <td>CIÊNCIA DA COMPUTAÇÃO (BACHARELADO)</td>\n",
              "      <td>4656</td>\n",
              "      <td>FACULDADE ANHANGÜERA DE PIRACICABA</td>\n",
              "      <td>NaN</td>\n",
              "      <td>Faculdade</td>\n",
              "      <td>Privada com fins lucrativos</td>\n",
              "      <td>104836</td>\n",
              "      <td>Educação Presencial</td>\n",
              "      <td>3538709</td>\n",
              "      <td>Piracicaba</td>\n",
              "      <td>SP</td>\n",
              "      <td>2</td>\n",
              "      <td>1</td>\n",
              "      <td>49.400000</td>\n",
              "      <td>NaN</td>\n",
              "      <td>39.900000</td>\n",
              "      <td>NaN</td>\n",
              "      <td>NaN</td>\n",
              "      <td>SC</td>\n",
              "    </tr>\n",
              "    <tr>\n",
              "      <th>5</th>\n",
              "      <td>2017</td>\n",
              "      <td>4004</td>\n",
              "      <td>CIÊNCIA DA COMPUTAÇÃO (BACHARELADO)</td>\n",
              "      <td>54</td>\n",
              "      <td>UNIVERSIDADE ESTADUAL DE CAMPINAS</td>\n",
              "      <td>UNICAMP</td>\n",
              "      <td>Universidade</td>\n",
              "      <td>Pública Estadual</td>\n",
              "      <td>2717</td>\n",
              "      <td>Educação Presencial</td>\n",
              "      <td>3509502</td>\n",
              "      <td>Campinas</td>\n",
              "      <td>SP</td>\n",
              "      <td>48</td>\n",
              "      <td>45</td>\n",
              "      <td>64.480000</td>\n",
              "      <td>4.497562</td>\n",
              "      <td>58.597778</td>\n",
              "      <td>4.932273</td>\n",
              "      <td>4.823595</td>\n",
              "      <td>5</td>\n",
              "    </tr>\n",
              "    <tr>\n",
              "      <th>13</th>\n",
              "      <td>2017</td>\n",
              "      <td>4004</td>\n",
              "      <td>CIÊNCIA DA COMPUTAÇÃO (BACHARELADO)</td>\n",
              "      <td>591</td>\n",
              "      <td>UNIVERSIDADE FEDERAL DE SÃO PAULO</td>\n",
              "      <td>UNIFESP</td>\n",
              "      <td>Universidade</td>\n",
              "      <td>Pública Federal</td>\n",
              "      <td>110528</td>\n",
              "      <td>Educação Presencial</td>\n",
              "      <td>3549904</td>\n",
              "      <td>São José dos Campos</td>\n",
              "      <td>SP</td>\n",
              "      <td>45</td>\n",
              "      <td>38</td>\n",
              "      <td>64.542105</td>\n",
              "      <td>4.506469</td>\n",
              "      <td>53.265789</td>\n",
              "      <td>4.250917</td>\n",
              "      <td>4.314805</td>\n",
              "      <td>5</td>\n",
              "    </tr>\n",
              "    <tr>\n",
              "      <th>14</th>\n",
              "      <td>2017</td>\n",
              "      <td>4004</td>\n",
              "      <td>CIÊNCIA DA COMPUTAÇÃO (BACHARELADO)</td>\n",
              "      <td>7</td>\n",
              "      <td>UNIVERSIDADE FEDERAL DE SÃO CARLOS</td>\n",
              "      <td>UFSCAR</td>\n",
              "      <td>Universidade</td>\n",
              "      <td>Pública Federal</td>\n",
              "      <td>112680</td>\n",
              "      <td>Educação Presencial</td>\n",
              "      <td>3552205</td>\n",
              "      <td>Sorocaba</td>\n",
              "      <td>SP</td>\n",
              "      <td>44</td>\n",
              "      <td>43</td>\n",
              "      <td>61.920930</td>\n",
              "      <td>4.130547</td>\n",
              "      <td>54.158140</td>\n",
              "      <td>4.364948</td>\n",
              "      <td>4.306348</td>\n",
              "      <td>5</td>\n",
              "    </tr>\n",
              "    <tr>\n",
              "      <th>28</th>\n",
              "      <td>2017</td>\n",
              "      <td>4004</td>\n",
              "      <td>CIÊNCIA DA COMPUTAÇÃO (BACHARELADO)</td>\n",
              "      <td>4925</td>\n",
              "      <td>FUNDAÇÃO UNIVERSIDADE FEDERAL DO ABC</td>\n",
              "      <td>UFABC</td>\n",
              "      <td>Universidade</td>\n",
              "      <td>Pública Federal</td>\n",
              "      <td>1102342</td>\n",
              "      <td>Educação Presencial</td>\n",
              "      <td>3547809</td>\n",
              "      <td>Santo André</td>\n",
              "      <td>SP</td>\n",
              "      <td>93</td>\n",
              "      <td>69</td>\n",
              "      <td>64.811594</td>\n",
              "      <td>4.545118</td>\n",
              "      <td>50.160870</td>\n",
              "      <td>3.854151</td>\n",
              "      <td>4.026892</td>\n",
              "      <td>5</td>\n",
              "    </tr>\n",
              "    <tr>\n",
              "      <th>...</th>\n",
              "      <td>...</td>\n",
              "      <td>...</td>\n",
              "      <td>...</td>\n",
              "      <td>...</td>\n",
              "      <td>...</td>\n",
              "      <td>...</td>\n",
              "      <td>...</td>\n",
              "      <td>...</td>\n",
              "      <td>...</td>\n",
              "      <td>...</td>\n",
              "      <td>...</td>\n",
              "      <td>...</td>\n",
              "      <td>...</td>\n",
              "      <td>...</td>\n",
              "      <td>...</td>\n",
              "      <td>...</td>\n",
              "      <td>...</td>\n",
              "      <td>...</td>\n",
              "      <td>...</td>\n",
              "      <td>...</td>\n",
              "      <td>...</td>\n",
              "    </tr>\n",
              "    <tr>\n",
              "      <th>1680</th>\n",
              "      <td>2017</td>\n",
              "      <td>79</td>\n",
              "      <td>TECNOLOGIA EM REDES DE COMPUTADORES</td>\n",
              "      <td>4169</td>\n",
              "      <td>Faculdade Estácio de Carapicuíba</td>\n",
              "      <td>ESTÁCIO CARAPICUÍBA</td>\n",
              "      <td>Faculdade</td>\n",
              "      <td>Privada com fins lucrativos</td>\n",
              "      <td>1136481</td>\n",
              "      <td>Educação Presencial</td>\n",
              "      <td>3510609</td>\n",
              "      <td>Carapicuíba</td>\n",
              "      <td>SP</td>\n",
              "      <td>35</td>\n",
              "      <td>29</td>\n",
              "      <td>36.300000</td>\n",
              "      <td>1.758960</td>\n",
              "      <td>22.800000</td>\n",
              "      <td>1.558727</td>\n",
              "      <td>1.608785</td>\n",
              "      <td>2</td>\n",
              "    </tr>\n",
              "    <tr>\n",
              "      <th>1685</th>\n",
              "      <td>2017</td>\n",
              "      <td>79</td>\n",
              "      <td>TECNOLOGIA EM REDES DE COMPUTADORES</td>\n",
              "      <td>457</td>\n",
              "      <td>UNIVERSIDADE ANHANGUERA DE SÃO PAULO</td>\n",
              "      <td>UNIAN - SP</td>\n",
              "      <td>Universidade</td>\n",
              "      <td>Privada com fins lucrativos</td>\n",
              "      <td>75412</td>\n",
              "      <td>Educação Presencial</td>\n",
              "      <td>3547809</td>\n",
              "      <td>Santo André</td>\n",
              "      <td>SP</td>\n",
              "      <td>10</td>\n",
              "      <td>4</td>\n",
              "      <td>21.625000</td>\n",
              "      <td>0.000000</td>\n",
              "      <td>25.000000</td>\n",
              "      <td>1.920966</td>\n",
              "      <td>1.440724</td>\n",
              "      <td>2</td>\n",
              "    </tr>\n",
              "    <tr>\n",
              "      <th>1686</th>\n",
              "      <td>2017</td>\n",
              "      <td>79</td>\n",
              "      <td>TECNOLOGIA EM REDES DE COMPUTADORES</td>\n",
              "      <td>1294</td>\n",
              "      <td>Centro Universitário das Américas</td>\n",
              "      <td>CAM</td>\n",
              "      <td>Centro Universitário</td>\n",
              "      <td>Privada com fins lucrativos</td>\n",
              "      <td>1160974</td>\n",
              "      <td>Educação Presencial</td>\n",
              "      <td>3550308</td>\n",
              "      <td>São Paulo</td>\n",
              "      <td>SP</td>\n",
              "      <td>2</td>\n",
              "      <td>2</td>\n",
              "      <td>38.200000</td>\n",
              "      <td>1.986695</td>\n",
              "      <td>20.500000</td>\n",
              "      <td>1.180022</td>\n",
              "      <td>1.381690</td>\n",
              "      <td>2</td>\n",
              "    </tr>\n",
              "    <tr>\n",
              "      <th>1687</th>\n",
              "      <td>2017</td>\n",
              "      <td>79</td>\n",
              "      <td>TECNOLOGIA EM REDES DE COMPUTADORES</td>\n",
              "      <td>322</td>\n",
              "      <td>UNIVERSIDADE PAULISTA</td>\n",
              "      <td>UNIP</td>\n",
              "      <td>Universidade</td>\n",
              "      <td>Privada com fins lucrativos</td>\n",
              "      <td>65675</td>\n",
              "      <td>Educação Presencial</td>\n",
              "      <td>3509502</td>\n",
              "      <td>Campinas</td>\n",
              "      <td>SP</td>\n",
              "      <td>9</td>\n",
              "      <td>5</td>\n",
              "      <td>40.680000</td>\n",
              "      <td>2.283951</td>\n",
              "      <td>19.540000</td>\n",
              "      <td>1.021954</td>\n",
              "      <td>1.337453</td>\n",
              "      <td>2</td>\n",
              "    </tr>\n",
              "    <tr>\n",
              "      <th>1692</th>\n",
              "      <td>2017</td>\n",
              "      <td>79</td>\n",
              "      <td>TECNOLOGIA EM REDES DE COMPUTADORES</td>\n",
              "      <td>3979</td>\n",
              "      <td>FACULDADE DE BAURU</td>\n",
              "      <td>-</td>\n",
              "      <td>Faculdade</td>\n",
              "      <td>Privada com fins lucrativos</td>\n",
              "      <td>73612</td>\n",
              "      <td>Educação Presencial</td>\n",
              "      <td>3506003</td>\n",
              "      <td>Bauru</td>\n",
              "      <td>SP</td>\n",
              "      <td>4</td>\n",
              "      <td>2</td>\n",
              "      <td>34.350000</td>\n",
              "      <td>1.525231</td>\n",
              "      <td>15.000000</td>\n",
              "      <td>0.274424</td>\n",
              "      <td>0.587125</td>\n",
              "      <td>1</td>\n",
              "    </tr>\n",
              "  </tbody>\n",
              "</table>\n",
              "<p>517 rows × 21 columns</p>\n",
              "</div>"
            ],
            "text/plain": [
              "       Ano  Código da Área  ... Conceito Enade (Contínuo)  Conceito Enade (Faixa)\n",
              "3     2017            4004  ...                       NaN                      SC\n",
              "5     2017            4004  ...                  4.823595                       5\n",
              "13    2017            4004  ...                  4.314805                       5\n",
              "14    2017            4004  ...                  4.306348                       5\n",
              "28    2017            4004  ...                  4.026892                       5\n",
              "...    ...             ...  ...                       ...                     ...\n",
              "1680  2017              79  ...                  1.608785                       2\n",
              "1685  2017              79  ...                  1.440724                       2\n",
              "1686  2017              79  ...                  1.381690                       2\n",
              "1687  2017              79  ...                  1.337453                       2\n",
              "1692  2017              79  ...                  0.587125                       1\n",
              "\n",
              "[517 rows x 21 columns]"
            ]
          },
          "metadata": {
            "tags": []
          },
          "execution_count": 36
        }
      ]
    },
    {
      "cell_type": "code",
      "metadata": {
        "id": "1v-7AMNGGHFk"
      },
      "source": [
        "escolasp = enade.loc[enade['Sigla da UF'] == 'SP'] # Comando 'loc'retornando coluna expecificada no caso 'Sigla da UF \n"
      ],
      "execution_count": null,
      "outputs": []
    },
    {
      "cell_type": "code",
      "metadata": {
        "colab": {
          "base_uri": "https://localhost:8080/",
          "height": 315
        },
        "id": "5046BwOnGMQZ",
        "outputId": "bc468df1-458e-490f-e5d2-beb6fd210f5d"
      },
      "source": [
        "escolasp.head(3)"
      ],
      "execution_count": 37,
      "outputs": [
        {
          "output_type": "execute_result",
          "data": {
            "text/html": [
              "<div>\n",
              "<style scoped>\n",
              "    .dataframe tbody tr th:only-of-type {\n",
              "        vertical-align: middle;\n",
              "    }\n",
              "\n",
              "    .dataframe tbody tr th {\n",
              "        vertical-align: top;\n",
              "    }\n",
              "\n",
              "    .dataframe thead th {\n",
              "        text-align: right;\n",
              "    }\n",
              "</style>\n",
              "<table border=\"1\" class=\"dataframe\">\n",
              "  <thead>\n",
              "    <tr style=\"text-align: right;\">\n",
              "      <th></th>\n",
              "      <th>Ano</th>\n",
              "      <th>Código da Área</th>\n",
              "      <th>Área de Avaliação</th>\n",
              "      <th>Código da IES</th>\n",
              "      <th>Nome da IES</th>\n",
              "      <th>Sigla da IES</th>\n",
              "      <th>Organização Acadêmica</th>\n",
              "      <th>Categoria Administrativa</th>\n",
              "      <th>Código do Curso</th>\n",
              "      <th>Modalidade de Ensino</th>\n",
              "      <th>Código do Município</th>\n",
              "      <th>Município do Curso</th>\n",
              "      <th>Sigla da UF</th>\n",
              "      <th>Nº de Concluintes Inscritos</th>\n",
              "      <th>Nº  de Concluintes Participantes</th>\n",
              "      <th>Nota Bruta - FG</th>\n",
              "      <th>Nota Padronizada - FG</th>\n",
              "      <th>Nota Bruta - CE</th>\n",
              "      <th>Nota Padronizada - CE</th>\n",
              "      <th>Conceito Enade (Contínuo)</th>\n",
              "      <th>Conceito Enade (Faixa)</th>\n",
              "    </tr>\n",
              "  </thead>\n",
              "  <tbody>\n",
              "    <tr>\n",
              "      <th>3</th>\n",
              "      <td>2017</td>\n",
              "      <td>4004</td>\n",
              "      <td>CIÊNCIA DA COMPUTAÇÃO (BACHARELADO)</td>\n",
              "      <td>4656</td>\n",
              "      <td>FACULDADE ANHANGÜERA DE PIRACICABA</td>\n",
              "      <td>NaN</td>\n",
              "      <td>Faculdade</td>\n",
              "      <td>Privada com fins lucrativos</td>\n",
              "      <td>104836</td>\n",
              "      <td>Educação Presencial</td>\n",
              "      <td>3538709</td>\n",
              "      <td>Piracicaba</td>\n",
              "      <td>SP</td>\n",
              "      <td>2</td>\n",
              "      <td>1</td>\n",
              "      <td>49.400000</td>\n",
              "      <td>NaN</td>\n",
              "      <td>39.900000</td>\n",
              "      <td>NaN</td>\n",
              "      <td>NaN</td>\n",
              "      <td>SC</td>\n",
              "    </tr>\n",
              "    <tr>\n",
              "      <th>5</th>\n",
              "      <td>2017</td>\n",
              "      <td>4004</td>\n",
              "      <td>CIÊNCIA DA COMPUTAÇÃO (BACHARELADO)</td>\n",
              "      <td>54</td>\n",
              "      <td>UNIVERSIDADE ESTADUAL DE CAMPINAS</td>\n",
              "      <td>UNICAMP</td>\n",
              "      <td>Universidade</td>\n",
              "      <td>Pública Estadual</td>\n",
              "      <td>2717</td>\n",
              "      <td>Educação Presencial</td>\n",
              "      <td>3509502</td>\n",
              "      <td>Campinas</td>\n",
              "      <td>SP</td>\n",
              "      <td>48</td>\n",
              "      <td>45</td>\n",
              "      <td>64.480000</td>\n",
              "      <td>4.497562</td>\n",
              "      <td>58.597778</td>\n",
              "      <td>4.932273</td>\n",
              "      <td>4.823595</td>\n",
              "      <td>5</td>\n",
              "    </tr>\n",
              "    <tr>\n",
              "      <th>13</th>\n",
              "      <td>2017</td>\n",
              "      <td>4004</td>\n",
              "      <td>CIÊNCIA DA COMPUTAÇÃO (BACHARELADO)</td>\n",
              "      <td>591</td>\n",
              "      <td>UNIVERSIDADE FEDERAL DE SÃO PAULO</td>\n",
              "      <td>UNIFESP</td>\n",
              "      <td>Universidade</td>\n",
              "      <td>Pública Federal</td>\n",
              "      <td>110528</td>\n",
              "      <td>Educação Presencial</td>\n",
              "      <td>3549904</td>\n",
              "      <td>São José dos Campos</td>\n",
              "      <td>SP</td>\n",
              "      <td>45</td>\n",
              "      <td>38</td>\n",
              "      <td>64.542105</td>\n",
              "      <td>4.506469</td>\n",
              "      <td>53.265789</td>\n",
              "      <td>4.250917</td>\n",
              "      <td>4.314805</td>\n",
              "      <td>5</td>\n",
              "    </tr>\n",
              "  </tbody>\n",
              "</table>\n",
              "</div>"
            ],
            "text/plain": [
              "     Ano  Código da Área  ... Conceito Enade (Contínuo)  Conceito Enade (Faixa)\n",
              "3   2017            4004  ...                       NaN                      SC\n",
              "5   2017            4004  ...                  4.823595                       5\n",
              "13  2017            4004  ...                  4.314805                       5\n",
              "\n",
              "[3 rows x 21 columns]"
            ]
          },
          "metadata": {
            "tags": []
          },
          "execution_count": 37
        }
      ]
    },
    {
      "cell_type": "code",
      "metadata": {
        "colab": {
          "base_uri": "https://localhost:8080/"
        },
        "id": "nCs87rkQGQNN",
        "outputId": "479d4e52-d7a0-4a5c-8067-f7695575f1c8"
      },
      "source": [
        "# Retornando a coluna 12 da tabela enade\n",
        "municipios_curso = enade.iloc[:,11]\n",
        "municipios_curso"
      ],
      "execution_count": 46,
      "outputs": [
        {
          "output_type": "execute_result",
          "data": {
            "text/plain": [
              "0                Patos\n",
              "1               Palmas\n",
              "2               Manaus\n",
              "3           Piracicaba\n",
              "4       Belo Horizonte\n",
              "             ...      \n",
              "1690          Brasília\n",
              "1691          Brasília\n",
              "1692             Bauru\n",
              "1693           Vitória\n",
              "1694           Niterói\n",
              "Name: Município do Curso, Length: 1695, dtype: object"
            ]
          },
          "metadata": {
            "tags": []
          },
          "execution_count": 46
        }
      ]
    },
    {
      "cell_type": "code",
      "metadata": {
        "colab": {
          "base_uri": "https://localhost:8080/",
          "height": 813
        },
        "id": "RpMy5bmdIMTl",
        "outputId": "fc7cd104-fec3-400e-e954-927856d6f921"
      },
      "source": [
        "municipio_sp = enade.loc[enade['Município do Curso']=='São Paulo'] # Comando 'loc'retornando coluna expecificada no caso 'município do Curso`\n",
        "municipio_sp"
      ],
      "execution_count": 59,
      "outputs": [
        {
          "output_type": "execute_result",
          "data": {
            "text/html": [
              "<div>\n",
              "<style scoped>\n",
              "    .dataframe tbody tr th:only-of-type {\n",
              "        vertical-align: middle;\n",
              "    }\n",
              "\n",
              "    .dataframe tbody tr th {\n",
              "        vertical-align: top;\n",
              "    }\n",
              "\n",
              "    .dataframe thead th {\n",
              "        text-align: right;\n",
              "    }\n",
              "</style>\n",
              "<table border=\"1\" class=\"dataframe\">\n",
              "  <thead>\n",
              "    <tr style=\"text-align: right;\">\n",
              "      <th></th>\n",
              "      <th>Ano</th>\n",
              "      <th>Código da Área</th>\n",
              "      <th>Área de Avaliação</th>\n",
              "      <th>Código da IES</th>\n",
              "      <th>Nome da IES</th>\n",
              "      <th>Sigla da IES</th>\n",
              "      <th>Organização Acadêmica</th>\n",
              "      <th>Categoria Administrativa</th>\n",
              "      <th>Código do Curso</th>\n",
              "      <th>Modalidade de Ensino</th>\n",
              "      <th>Código do Município</th>\n",
              "      <th>Município do Curso</th>\n",
              "      <th>Sigla da UF</th>\n",
              "      <th>Nº de Concluintes Inscritos</th>\n",
              "      <th>Nº  de Concluintes Participantes</th>\n",
              "      <th>Nota Bruta - FG</th>\n",
              "      <th>Nota Padronizada - FG</th>\n",
              "      <th>Nota Bruta - CE</th>\n",
              "      <th>Nota Padronizada - CE</th>\n",
              "      <th>Conceito Enade (Contínuo)</th>\n",
              "      <th>Conceito Enade (Faixa)</th>\n",
              "    </tr>\n",
              "  </thead>\n",
              "  <tbody>\n",
              "    <tr>\n",
              "      <th>47</th>\n",
              "      <td>2017</td>\n",
              "      <td>4004</td>\n",
              "      <td>CIÊNCIA DA COMPUTAÇÃO (BACHARELADO)</td>\n",
              "      <td>3985</td>\n",
              "      <td>CENTRO UNIVERSITÁRIO SENAC</td>\n",
              "      <td>SENACSP</td>\n",
              "      <td>Centro Universitário</td>\n",
              "      <td>Privada sem fins lucrativos</td>\n",
              "      <td>18818</td>\n",
              "      <td>Educação Presencial</td>\n",
              "      <td>3550308</td>\n",
              "      <td>São Paulo</td>\n",
              "      <td>SP</td>\n",
              "      <td>14</td>\n",
              "      <td>14</td>\n",
              "      <td>57.164286</td>\n",
              "      <td>3.448363</td>\n",
              "      <td>48.371429</td>\n",
              "      <td>3.625484</td>\n",
              "      <td>3.581204</td>\n",
              "      <td>4</td>\n",
              "    </tr>\n",
              "    <tr>\n",
              "      <th>92</th>\n",
              "      <td>2017</td>\n",
              "      <td>4004</td>\n",
              "      <td>CIÊNCIA DA COMPUTAÇÃO (BACHARELADO)</td>\n",
              "      <td>22</td>\n",
              "      <td>UNIVERSIDADE PRESBITERIANA MACKENZIE</td>\n",
              "      <td>MACKENZIE</td>\n",
              "      <td>Universidade</td>\n",
              "      <td>Privada sem fins lucrativos</td>\n",
              "      <td>18974</td>\n",
              "      <td>Educação Presencial</td>\n",
              "      <td>3550308</td>\n",
              "      <td>São Paulo</td>\n",
              "      <td>SP</td>\n",
              "      <td>121</td>\n",
              "      <td>98</td>\n",
              "      <td>54.864286</td>\n",
              "      <td>3.118504</td>\n",
              "      <td>43.548980</td>\n",
              "      <td>3.009241</td>\n",
              "      <td>3.036556</td>\n",
              "      <td>4</td>\n",
              "    </tr>\n",
              "    <tr>\n",
              "      <th>104</th>\n",
              "      <td>2017</td>\n",
              "      <td>4004</td>\n",
              "      <td>CIÊNCIA DA COMPUTAÇÃO (BACHARELADO)</td>\n",
              "      <td>322</td>\n",
              "      <td>UNIVERSIDADE PAULISTA</td>\n",
              "      <td>UNIP</td>\n",
              "      <td>Universidade</td>\n",
              "      <td>Privada com fins lucrativos</td>\n",
              "      <td>69764</td>\n",
              "      <td>Educação Presencial</td>\n",
              "      <td>3550308</td>\n",
              "      <td>São Paulo</td>\n",
              "      <td>SP</td>\n",
              "      <td>17</td>\n",
              "      <td>16</td>\n",
              "      <td>64.262500</td>\n",
              "      <td>4.466369</td>\n",
              "      <td>38.837500</td>\n",
              "      <td>2.407177</td>\n",
              "      <td>2.921975</td>\n",
              "      <td>3</td>\n",
              "    </tr>\n",
              "    <tr>\n",
              "      <th>110</th>\n",
              "      <td>2017</td>\n",
              "      <td>4004</td>\n",
              "      <td>CIÊNCIA DA COMPUTAÇÃO (BACHARELADO)</td>\n",
              "      <td>466</td>\n",
              "      <td>UNIVERSIDADE ANHEMBI MORUMBI</td>\n",
              "      <td>UAM</td>\n",
              "      <td>Universidade</td>\n",
              "      <td>Privada com fins lucrativos</td>\n",
              "      <td>1165300</td>\n",
              "      <td>Educação Presencial</td>\n",
              "      <td>3550308</td>\n",
              "      <td>São Paulo</td>\n",
              "      <td>SP</td>\n",
              "      <td>47</td>\n",
              "      <td>38</td>\n",
              "      <td>57.918421</td>\n",
              "      <td>3.556519</td>\n",
              "      <td>40.389474</td>\n",
              "      <td>2.605499</td>\n",
              "      <td>2.843254</td>\n",
              "      <td>3</td>\n",
              "    </tr>\n",
              "    <tr>\n",
              "      <th>127</th>\n",
              "      <td>2017</td>\n",
              "      <td>4004</td>\n",
              "      <td>CIÊNCIA DA COMPUTAÇÃO (BACHARELADO)</td>\n",
              "      <td>322</td>\n",
              "      <td>UNIVERSIDADE PAULISTA</td>\n",
              "      <td>UNIP</td>\n",
              "      <td>Universidade</td>\n",
              "      <td>Privada com fins lucrativos</td>\n",
              "      <td>1155950</td>\n",
              "      <td>Educação Presencial</td>\n",
              "      <td>3550308</td>\n",
              "      <td>São Paulo</td>\n",
              "      <td>SP</td>\n",
              "      <td>7</td>\n",
              "      <td>5</td>\n",
              "      <td>58.600000</td>\n",
              "      <td>3.654269</td>\n",
              "      <td>38.020000</td>\n",
              "      <td>2.302712</td>\n",
              "      <td>2.640601</td>\n",
              "      <td>3</td>\n",
              "    </tr>\n",
              "    <tr>\n",
              "      <th>...</th>\n",
              "      <td>...</td>\n",
              "      <td>...</td>\n",
              "      <td>...</td>\n",
              "      <td>...</td>\n",
              "      <td>...</td>\n",
              "      <td>...</td>\n",
              "      <td>...</td>\n",
              "      <td>...</td>\n",
              "      <td>...</td>\n",
              "      <td>...</td>\n",
              "      <td>...</td>\n",
              "      <td>...</td>\n",
              "      <td>...</td>\n",
              "      <td>...</td>\n",
              "      <td>...</td>\n",
              "      <td>...</td>\n",
              "      <td>...</td>\n",
              "      <td>...</td>\n",
              "      <td>...</td>\n",
              "      <td>...</td>\n",
              "      <td>...</td>\n",
              "    </tr>\n",
              "    <tr>\n",
              "      <th>1655</th>\n",
              "      <td>2017</td>\n",
              "      <td>79</td>\n",
              "      <td>TECNOLOGIA EM REDES DE COMPUTADORES</td>\n",
              "      <td>316</td>\n",
              "      <td>UNIVERSIDADE NOVE DE JULHO</td>\n",
              "      <td>UNINOVE</td>\n",
              "      <td>Universidade</td>\n",
              "      <td>Privada sem fins lucrativos</td>\n",
              "      <td>102210</td>\n",
              "      <td>Educação Presencial</td>\n",
              "      <td>3550308</td>\n",
              "      <td>São Paulo</td>\n",
              "      <td>SP</td>\n",
              "      <td>42</td>\n",
              "      <td>38</td>\n",
              "      <td>41.676316</td>\n",
              "      <td>2.403370</td>\n",
              "      <td>25.305263</td>\n",
              "      <td>1.971229</td>\n",
              "      <td>2.079264</td>\n",
              "      <td>3</td>\n",
              "    </tr>\n",
              "    <tr>\n",
              "      <th>1656</th>\n",
              "      <td>2017</td>\n",
              "      <td>79</td>\n",
              "      <td>TECNOLOGIA EM REDES DE COMPUTADORES</td>\n",
              "      <td>1541</td>\n",
              "      <td>FACULDADE FLAMINGO</td>\n",
              "      <td>NaN</td>\n",
              "      <td>Faculdade</td>\n",
              "      <td>Privada com fins lucrativos</td>\n",
              "      <td>57134</td>\n",
              "      <td>Educação Presencial</td>\n",
              "      <td>3550308</td>\n",
              "      <td>São Paulo</td>\n",
              "      <td>SP</td>\n",
              "      <td>16</td>\n",
              "      <td>11</td>\n",
              "      <td>43.618182</td>\n",
              "      <td>2.636124</td>\n",
              "      <td>24.727273</td>\n",
              "      <td>1.876060</td>\n",
              "      <td>2.066076</td>\n",
              "      <td>3</td>\n",
              "    </tr>\n",
              "    <tr>\n",
              "      <th>1670</th>\n",
              "      <td>2017</td>\n",
              "      <td>79</td>\n",
              "      <td>TECNOLOGIA EM REDES DE COMPUTADORES</td>\n",
              "      <td>316</td>\n",
              "      <td>UNIVERSIDADE NOVE DE JULHO</td>\n",
              "      <td>UNINOVE</td>\n",
              "      <td>Universidade</td>\n",
              "      <td>Privada sem fins lucrativos</td>\n",
              "      <td>114401</td>\n",
              "      <td>Educação a Distância</td>\n",
              "      <td>3550308</td>\n",
              "      <td>São Paulo</td>\n",
              "      <td>SP</td>\n",
              "      <td>87</td>\n",
              "      <td>71</td>\n",
              "      <td>43.304225</td>\n",
              "      <td>2.598493</td>\n",
              "      <td>23.283099</td>\n",
              "      <td>1.638271</td>\n",
              "      <td>1.878326</td>\n",
              "      <td>2</td>\n",
              "    </tr>\n",
              "    <tr>\n",
              "      <th>1671</th>\n",
              "      <td>2017</td>\n",
              "      <td>79</td>\n",
              "      <td>TECNOLOGIA EM REDES DE COMPUTADORES</td>\n",
              "      <td>1853</td>\n",
              "      <td>Centro Universitário IBTA</td>\n",
              "      <td>NaN</td>\n",
              "      <td>Centro Universitário</td>\n",
              "      <td>Privada com fins lucrativos</td>\n",
              "      <td>49451</td>\n",
              "      <td>Educação Presencial</td>\n",
              "      <td>3550308</td>\n",
              "      <td>São Paulo</td>\n",
              "      <td>SP</td>\n",
              "      <td>14</td>\n",
              "      <td>12</td>\n",
              "      <td>40.933333</td>\n",
              "      <td>2.314315</td>\n",
              "      <td>23.683333</td>\n",
              "      <td>1.704171</td>\n",
              "      <td>1.856707</td>\n",
              "      <td>2</td>\n",
              "    </tr>\n",
              "    <tr>\n",
              "      <th>1686</th>\n",
              "      <td>2017</td>\n",
              "      <td>79</td>\n",
              "      <td>TECNOLOGIA EM REDES DE COMPUTADORES</td>\n",
              "      <td>1294</td>\n",
              "      <td>Centro Universitário das Américas</td>\n",
              "      <td>CAM</td>\n",
              "      <td>Centro Universitário</td>\n",
              "      <td>Privada com fins lucrativos</td>\n",
              "      <td>1160974</td>\n",
              "      <td>Educação Presencial</td>\n",
              "      <td>3550308</td>\n",
              "      <td>São Paulo</td>\n",
              "      <td>SP</td>\n",
              "      <td>2</td>\n",
              "      <td>2</td>\n",
              "      <td>38.200000</td>\n",
              "      <td>1.986695</td>\n",
              "      <td>20.500000</td>\n",
              "      <td>1.180022</td>\n",
              "      <td>1.381690</td>\n",
              "      <td>2</td>\n",
              "    </tr>\n",
              "  </tbody>\n",
              "</table>\n",
              "<p>181 rows × 21 columns</p>\n",
              "</div>"
            ],
            "text/plain": [
              "       Ano  Código da Área  ... Conceito Enade (Contínuo)  Conceito Enade (Faixa)\n",
              "47    2017            4004  ...                  3.581204                       4\n",
              "92    2017            4004  ...                  3.036556                       4\n",
              "104   2017            4004  ...                  2.921975                       3\n",
              "110   2017            4004  ...                  2.843254                       3\n",
              "127   2017            4004  ...                  2.640601                       3\n",
              "...    ...             ...  ...                       ...                     ...\n",
              "1655  2017              79  ...                  2.079264                       3\n",
              "1656  2017              79  ...                  2.066076                       3\n",
              "1670  2017              79  ...                  1.878326                       2\n",
              "1671  2017              79  ...                  1.856707                       2\n",
              "1686  2017              79  ...                  1.381690                       2\n",
              "\n",
              "[181 rows x 21 columns]"
            ]
          },
          "metadata": {
            "tags": []
          },
          "execution_count": 59
        }
      ]
    },
    {
      "cell_type": "code",
      "metadata": {
        "colab": {
          "base_uri": "https://localhost:8080/",
          "height": 233
        },
        "id": "p6xB_ChHQxkI",
        "outputId": "6b0552f3-9177-4e91-df1f-f19388d65b54"
      },
      "source": [
        "municipio_sp.head(2)"
      ],
      "execution_count": 75,
      "outputs": [
        {
          "output_type": "execute_result",
          "data": {
            "text/html": [
              "<div>\n",
              "<style scoped>\n",
              "    .dataframe tbody tr th:only-of-type {\n",
              "        vertical-align: middle;\n",
              "    }\n",
              "\n",
              "    .dataframe tbody tr th {\n",
              "        vertical-align: top;\n",
              "    }\n",
              "\n",
              "    .dataframe thead th {\n",
              "        text-align: right;\n",
              "    }\n",
              "</style>\n",
              "<table border=\"1\" class=\"dataframe\">\n",
              "  <thead>\n",
              "    <tr style=\"text-align: right;\">\n",
              "      <th></th>\n",
              "      <th>Ano</th>\n",
              "      <th>Código da Área</th>\n",
              "      <th>Área de Avaliação</th>\n",
              "      <th>Código da IES</th>\n",
              "      <th>Nome da IES</th>\n",
              "      <th>Sigla da IES</th>\n",
              "      <th>Organização Acadêmica</th>\n",
              "      <th>Categoria Administrativa</th>\n",
              "      <th>Código do Curso</th>\n",
              "      <th>Modalidade de Ensino</th>\n",
              "      <th>Código do Município</th>\n",
              "      <th>Município do Curso</th>\n",
              "      <th>Sigla da UF</th>\n",
              "      <th>Nº de Concluintes Inscritos</th>\n",
              "      <th>Nº  de Concluintes Participantes</th>\n",
              "      <th>Nota Bruta - FG</th>\n",
              "      <th>Nota Padronizada - FG</th>\n",
              "      <th>Nota Bruta - CE</th>\n",
              "      <th>Nota Padronizada - CE</th>\n",
              "      <th>Conceito Enade (Contínuo)</th>\n",
              "      <th>Conceito Enade (Faixa)</th>\n",
              "    </tr>\n",
              "  </thead>\n",
              "  <tbody>\n",
              "    <tr>\n",
              "      <th>47</th>\n",
              "      <td>2017</td>\n",
              "      <td>4004</td>\n",
              "      <td>CIÊNCIA DA COMPUTAÇÃO (BACHARELADO)</td>\n",
              "      <td>3985</td>\n",
              "      <td>CENTRO UNIVERSITÁRIO SENAC</td>\n",
              "      <td>SENACSP</td>\n",
              "      <td>Centro Universitário</td>\n",
              "      <td>Privada sem fins lucrativos</td>\n",
              "      <td>18818</td>\n",
              "      <td>Educação Presencial</td>\n",
              "      <td>3550308</td>\n",
              "      <td>São Paulo</td>\n",
              "      <td>SP</td>\n",
              "      <td>14</td>\n",
              "      <td>14</td>\n",
              "      <td>57.164286</td>\n",
              "      <td>3.448363</td>\n",
              "      <td>48.371429</td>\n",
              "      <td>3.625484</td>\n",
              "      <td>3.581204</td>\n",
              "      <td>4</td>\n",
              "    </tr>\n",
              "    <tr>\n",
              "      <th>92</th>\n",
              "      <td>2017</td>\n",
              "      <td>4004</td>\n",
              "      <td>CIÊNCIA DA COMPUTAÇÃO (BACHARELADO)</td>\n",
              "      <td>22</td>\n",
              "      <td>UNIVERSIDADE PRESBITERIANA MACKENZIE</td>\n",
              "      <td>MACKENZIE</td>\n",
              "      <td>Universidade</td>\n",
              "      <td>Privada sem fins lucrativos</td>\n",
              "      <td>18974</td>\n",
              "      <td>Educação Presencial</td>\n",
              "      <td>3550308</td>\n",
              "      <td>São Paulo</td>\n",
              "      <td>SP</td>\n",
              "      <td>121</td>\n",
              "      <td>98</td>\n",
              "      <td>54.864286</td>\n",
              "      <td>3.118504</td>\n",
              "      <td>43.548980</td>\n",
              "      <td>3.009241</td>\n",
              "      <td>3.036556</td>\n",
              "      <td>4</td>\n",
              "    </tr>\n",
              "  </tbody>\n",
              "</table>\n",
              "</div>"
            ],
            "text/plain": [
              "     Ano  Código da Área  ... Conceito Enade (Contínuo)  Conceito Enade (Faixa)\n",
              "47  2017            4004  ...                  3.581204                       4\n",
              "92  2017            4004  ...                  3.036556                       4\n",
              "\n",
              "[2 rows x 21 columns]"
            ]
          },
          "metadata": {
            "tags": []
          },
          "execution_count": 75
        }
      ]
    },
    {
      "cell_type": "code",
      "metadata": {
        "id": "aBR_Dk_DPYoz"
      },
      "source": [
        "cod_area = municipio_sp['Código da Área'] # Retornando coluna e colocando em uma variável\n",
        "nota = municipio_sp['Nota Padronizada - CE']"
      ],
      "execution_count": 82,
      "outputs": []
    },
    {
      "cell_type": "code",
      "metadata": {
        "colab": {
          "base_uri": "https://localhost:8080/"
        },
        "id": "2ULJdiKBo92o",
        "outputId": "814d777a-248d-4c05-ed22-c82d99749258"
      },
      "source": [
        "cod_area"
      ],
      "execution_count": 83,
      "outputs": [
        {
          "output_type": "execute_result",
          "data": {
            "text/plain": [
              "47      4004\n",
              "92      4004\n",
              "104     4004\n",
              "110     4004\n",
              "127     4004\n",
              "        ... \n",
              "1655      79\n",
              "1656      79\n",
              "1670      79\n",
              "1671      79\n",
              "1686      79\n",
              "Name: Código da Área, Length: 181, dtype: int64"
            ]
          },
          "metadata": {
            "tags": []
          },
          "execution_count": 83
        }
      ]
    },
    {
      "cell_type": "code",
      "metadata": {
        "colab": {
          "base_uri": "https://localhost:8080/"
        },
        "id": "IAk00ibho1q5",
        "outputId": "2a42cc1b-fc8f-4484-e418-3e1f2a1512cc"
      },
      "source": [
        "nota"
      ],
      "execution_count": 81,
      "outputs": [
        {
          "output_type": "execute_result",
          "data": {
            "text/plain": [
              "47      3.625484\n",
              "92      3.009241\n",
              "104     2.407177\n",
              "110     2.605499\n",
              "127     2.302712\n",
              "          ...   \n",
              "1655    1.971229\n",
              "1656    1.876060\n",
              "1670    1.638271\n",
              "1671    1.704171\n",
              "1686    1.180022\n",
              "Name: Nota Padronizada - CE, Length: 181, dtype: float64"
            ]
          },
          "metadata": {
            "tags": []
          },
          "execution_count": 81
        }
      ]
    },
    {
      "cell_type": "code",
      "metadata": {
        "colab": {
          "base_uri": "https://localhost:8080/",
          "height": 265
        },
        "id": "xPkU-mmZpLeG",
        "outputId": "8c8e60a8-0f80-4354-868a-10fb83713858"
      },
      "source": [
        "plt.scatter(cod_area,nota) # Verificando se ha relação entre os valores das colunas. \n",
        "plt.show()"
      ],
      "execution_count": 84,
      "outputs": [
        {
          "output_type": "display_data",
          "data": {
            "image/png": "[encoded data removed]",
            "text/plain": [
              "<Figure size 432x288 with 1 Axes>"
            ]
          },
          "metadata": {
            "tags": [],
            "needs_background": "light"
          }
        }
      ]
    },
    {
      "cell_type": "code",
      "metadata": {
        "colab": {
          "base_uri": "https://localhost:8080/",
          "height": 265
        },
        "id": "tAgAOU7lsn7C",
        "outputId": "204fc6df-04a8-4f35-e858-2f10618932ef"
      },
      "source": [
        "plt.scatter(nota,cod_area) # Invertendo valores. \n",
        "plt.show()"
      ],
      "execution_count": 85,
      "outputs": [
        {
          "output_type": "display_data",
          "data": {
            "image/png": "[encoded data removed]",
            "text/plain": [
              "<Figure size 432x288 with 1 Axes>"
            ]
          },
          "metadata": {
            "tags": [],
            "needs_background": "light"
          }
        }
      ]
    },
    {
      "cell_type": "code",
      "metadata": {
        "colab": {
          "base_uri": "https://localhost:8080/",
          "height": 298
        },
        "id": "qLvmovK21egA",
        "outputId": "65bb9a89-b569-4d86-b200-db4e3b1591c8"
      },
      "source": [
        "# Possíveis recursos de apresentação que podem ser usados\n",
        "# Colocar nome no eixo x e y com “xlabel” e “ylabel”\n",
        "plt.ylabel('Concluintes')\n",
        "plt.title('Participantes')\n"
      ],
      "execution_count": 95,
      "outputs": [
        {
          "output_type": "execute_result",
          "data": {
            "text/plain": [
              "Text(0.5, 1.0, 'Participantes')"
            ]
          },
          "metadata": {
            "tags": []
          },
          "execution_count": 95
        },
        {
          "output_type": "display_data",
          "data": {
            "image/png": "[encoded data removed]",
            "text/plain": [
              "<Figure size 432x288 with 1 Axes>"
            ]
          },
          "metadata": {
            "tags": [],
            "needs_background": "light"
          }
        }
      ]
    },
    {
      "cell_type": "code",
      "metadata": {
        "colab": {
          "base_uri": "https://localhost:8080/",
          "height": 286
        },
        "id": "dowkNxi92FPY",
        "outputId": "27c188f3-6ece-4117-bbf5-5b4795ecdda4"
      },
      "source": [
        "# Indicação dos limites dos eixos apresentados no gráfico com “xlim” e “ylim”:\n",
        "plt.xlim(0, 400) \n",
        "plt.ylim(0, 500)\n"
      ],
      "execution_count": 96,
      "outputs": [
        {
          "output_type": "execute_result",
          "data": {
            "text/plain": [
              "(0.0, 500.0)"
            ]
          },
          "metadata": {
            "tags": []
          },
          "execution_count": 96
        },
        {
          "output_type": "display_data",
          "data": {
            "image/png": "[encoded data removed]",
            "text/plain": [
              "<Figure size 432x288 with 1 Axes>"
            ]
          },
          "metadata": {
            "tags": [],
            "needs_background": "light"
          }
        }
      ]
    },
    {
      "cell_type": "code",
      "metadata": {
        "colab": {
          "base_uri": "https://localhost:8080/",
          "height": 269
        },
        "id": "5Q3d4Phd2WtD",
        "outputId": "e2da269c-c4b2-4789-d774-bda82129cf50"
      },
      "source": [
        "# Grade de apresentação com “grid”:\n",
        "plt.grid(True)"
      ],
      "execution_count": 97,
      "outputs": [
        {
          "output_type": "display_data",
          "data": {
            "image/png": "[encoded data removed]",
            "text/plain": [
              "<Figure size 432x288 with 1 Axes>"
            ]
          },
          "metadata": {
            "tags": [],
            "needs_background": "light"
          }
        }
      ]
    }
  ]
}