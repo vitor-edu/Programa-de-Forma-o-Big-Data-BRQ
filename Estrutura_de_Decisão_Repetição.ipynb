{
  "nbformat": 4,
  "nbformat_minor": 0,
  "metadata": {
    "colab": {
      "name": "Estrutura de Decisão / Repetição.ipynb",
      "provenance": [],
      "authorship_tag": "ABX9TyP+lA6QZuJcGehZuuCKqFUn",
      "include_colab_link": true
    },
    "kernelspec": {
      "name": "python3",
      "display_name": "Python 3"
    },
    "language_info": {
      "name": "python"
    }
  },
  "cells": [
    {
      "cell_type": "markdown",
      "metadata": {
        "id": "view-in-github",
        "colab_type": "text"
      },
      "source": [
        "<a href=\"https://colab.research.google.com/github/vitor-edu/Programa-de-Formacao-Big-Data-BRQ/blob/main/Estrutura_de_Decis%C3%A3o_Repeti%C3%A7%C3%A3o.ipynb\" target=\"_parent\"><img src=\"https://colab.research.google.com/assets/colab-badge.svg\" alt=\"Open In Colab\"/></a>"
      ]
    },
    {
      "cell_type": "markdown",
      "metadata": {
        "id": "wjIsFeiWi4h7"
      },
      "source": [
        "# Decisão"
      ]
    },
    {
      "cell_type": "markdown",
      "metadata": {
        "id": "w7DpuTDSjA0P"
      },
      "source": [
        "-------------------------------------------------------------------------"
      ]
    },
    {
      "cell_type": "markdown",
      "metadata": {
        "id": "5M7JuHqfiBYg"
      },
      "source": [
        "### Condicionais"
      ]
    },
    {
      "cell_type": "code",
      "metadata": {
        "colab": {
          "base_uri": "https://localhost:8080/"
        },
        "id": "TYaXEX5qhxlO",
        "outputId": "82b99dc5-8ed2-4b70-c5e7-38b6e23ff603"
      },
      "source": [
        "# Instrução if\n",
        "nota = float(input(\"digite a nota: \"))\n",
        "if nota < 6.0:\n",
        "  print(\"Reprovado\")"
      ],
      "execution_count": null,
      "outputs": [
        {
          "output_type": "stream",
          "text": [
            "digite a nota: 4\n",
            "reprovado\n"
          ],
          "name": "stdout"
        }
      ]
    },
    {
      "cell_type": "code",
      "metadata": {
        "colab": {
          "base_uri": "https://localhost:8080/"
        },
        "id": "y656CcUViFDC",
        "outputId": "905bb400-769e-4a6b-b86e-76f86129b712"
      },
      "source": [
        "# instrução if..else\n",
        "nota = float(input(\"digite a nota: \"))\n",
        "if nota < 6.0:\n",
        "  print(\"Reprovado\")\n",
        "else:\n",
        "    print(\"aprovado\") "
      ],
      "execution_count": null,
      "outputs": [
        {
          "output_type": "stream",
          "text": [
            "digite a nota: 4\n",
            "reprovado\n"
          ],
          "name": "stdout"
        }
      ]
    },
    {
      "cell_type": "code",
      "metadata": {
        "colab": {
          "base_uri": "https://localhost:8080/"
        },
        "id": "D6YpUmVAiM5Y",
        "outputId": "c650e39a-449b-435c-c9fe-5bf8375cd1aa"
      },
      "source": [
        "# instrução if..elif..else\n",
        "idade = int(input(\"difgite sua idade:\"))\n",
        "if idade < 3:\n",
        "  print(\"bebê\")\n",
        "elif idade < 10:\n",
        "  print(\"criança\")\n",
        "elif idade < 15:\n",
        "  print(\"pré-adolescente\")\n",
        "elif idade < 17:\n",
        "  print(\"adolescente\")  \n",
        "else:\n",
        "  print(\"adulto\")  "
      ],
      "execution_count": null,
      "outputs": [
        {
          "output_type": "stream",
          "text": [
            "difgite sua idade:4\n",
            "criança\n"
          ],
          "name": "stdout"
        }
      ]
    },
    {
      "cell_type": "markdown",
      "metadata": {
        "id": "NJaekldyis7J"
      },
      "source": [
        "# Estrutura de Repetição"
      ]
    },
    {
      "cell_type": "markdown",
      "metadata": {
        "id": "dCYl9bcYjICd"
      },
      "source": [
        "-------------------------------------------------------------------------"
      ]
    },
    {
      "cell_type": "markdown",
      "metadata": {
        "id": "qFS2zsV1jMzz"
      },
      "source": [
        "### Laço while"
      ]
    },
    {
      "cell_type": "code",
      "metadata": {
        "id": "Inq_givWin5x"
      },
      "source": [
        "# Criando uma função solicitando uma senha, caso a senha esteja errada, o programa solicita a senha novamente, e retorna acesso liberado ou negado. \n",
        "\n",
        "def senha():\n",
        "  senha = input('digite a senha: ')  \n",
        "  leitura = \"brq123\"\n",
        "  while (leitura != senha):\n",
        "    x = input('digite a senha: ')\n",
        "    if x == leitura:\n",
        "      print(\"acesso liberado\")\n",
        "      break\n",
        "    else:\n",
        "      print(\"senha incorreta tente novamente\")        \n",
        "  print(\"acesso liberado\")"
      ],
      "execution_count": null,
      "outputs": []
    },
    {
      "cell_type": "code",
      "metadata": {
        "id": "hbr7lS5toQ0I",
        "colab": {
          "base_uri": "https://localhost:8080/"
        },
        "outputId": "d65bafdb-c914-425f-c4da-fa54c1dd6aa0"
      },
      "source": [
        "senha()"
      ],
      "execution_count": null,
      "outputs": [
        {
          "output_type": "stream",
          "text": [
            "digite a senha: brq123\n",
            "acesso liberado\n"
          ],
          "name": "stdout"
        }
      ]
    },
    {
      "cell_type": "code",
      "metadata": {
        "id": "1UaIIn4FqJk4"
      },
      "source": [
        "\"\"\"\n",
        "cont = 0\n",
        "soma = 0\n",
        "\n",
        "while cont <= 10:\n",
        "cont = cont+1\n",
        "x = float(input('Digite o valor'))\n",
        "print(cont)\n",
        "print(\"esses\", sum(soma)) \n",
        "\n",
        "\"\"\""
      ],
      "execution_count": null,
      "outputs": []
    },
    {
      "cell_type": "code",
      "metadata": {
        "id": "dcfHoMerCqa9",
        "colab": {
          "base_uri": "https://localhost:8080/"
        },
        "outputId": "43c0a352-c13f-49a1-b39b-c4e3489a2154"
      },
      "source": [
        "# encontrar a senha de 5 valores\n",
        "\n",
        "contador = 0 \n",
        "somador = 0\n",
        "while contador < 5:\n",
        "    contador = contador + 1\n",
        "    x = float(input(\"digite o \" + str(contador) + \" valor: \"))\n",
        "    som = som + x \n",
        "print(\"soma= \", som)       "
      ],
      "execution_count": null,
      "outputs": [
        {
          "output_type": "stream",
          "text": [
            "digite o 1 valor: 3\n",
            "digite o 2 valor: 3\n",
            "digite o 3 valor: 3\n",
            "digite o 4 valor: 3\n",
            "digite o 5 valor: 3\n",
            "soma=  146.0\n"
          ],
          "name": "stdout"
        }
      ]
    },
    {
      "cell_type": "markdown",
      "metadata": {
        "id": "McsgzdigSj63"
      },
      "source": [
        "### Laço for"
      ]
    },
    {
      "cell_type": "code",
      "metadata": {
        "id": "QIP2BBEjGUcP",
        "colab": {
          "base_uri": "https://localhost:8080/"
        },
        "outputId": "3b939fb2-cbc4-4e57-a8dc-fd7483b232e3"
      },
      "source": [
        "s = 0  # Irei mostrar os númneros de 1 a 35 pulando cinco casas, depois mostrar as somas dos inteiros. \n",
        "for x in range(1,35,5): \n",
        "    s = s+x\n",
        "    print(s)\n",
        "print(\"soma = \", s)    "
      ],
      "execution_count": null,
      "outputs": [
        {
          "output_type": "stream",
          "text": [
            "1\n",
            "7\n",
            "18\n",
            "34\n",
            "55\n",
            "81\n",
            "112\n",
            "soma =  112\n"
          ],
          "name": "stdout"
        }
      ]
    },
    {
      "cell_type": "code",
      "metadata": {
        "id": "tQaNdYH7TN_F",
        "colab": {
          "base_uri": "https://localhost:8080/"
        },
        "outputId": "dc6ae7c9-3c6b-44ec-bdf1-a779914a7c31"
      },
      "source": [
        "lista_notas = [3.4, 4.0, 4.6, 8.9, 7.9, 9.3, 3.4, 9.0]  # Criando uma lista com 8 notas, somando a nota e tirando a média. \n",
        "y = len(lista_notas)\n",
        "soma = 0 \n",
        "for x in lista_notas: \n",
        "  soma = soma + x\n",
        "media = soma / y\n",
        "print(\"A média é:\", media) \n",
        "\n",
        "\n"
      ],
      "execution_count": null,
      "outputs": [
        {
          "output_type": "stream",
          "text": [
            "A média é: 6.312499999999999\n"
          ],
          "name": "stdout"
        }
      ]
    },
    {
      "cell_type": "code",
      "metadata": {
        "id": "mrGI_e2EYGmq"
      },
      "source": [
        "def calc_lista(x): # Criando uma função que retorna a média. \n",
        "  soma = 0\n",
        "  for nota in x:\n",
        "    soma = soma + nota\n",
        "  return soma/len(x)  \n",
        "\n"
      ],
      "execution_count": null,
      "outputs": []
    },
    {
      "cell_type": "code",
      "metadata": {
        "id": "8gJ12cIlZUNd",
        "colab": {
          "base_uri": "https://localhost:8080/"
        },
        "outputId": "417e03e2-0f68-43b4-ceca-5c768e940538"
      },
      "source": [
        "lista_notas_2 = [3.4, .67, 8.7, 9.8, 6.9, 0.9, 6.5]\n",
        "calc_lista(lista_notas) # Chamando a função "
      ],
      "execution_count": null,
      "outputs": [
        {
          "output_type": "execute_result",
          "data": {
            "text/plain": [
              "6.312499999999999"
            ]
          },
          "metadata": {
            "tags": []
          },
          "execution_count": 47
        }
      ]
    },
    {
      "cell_type": "code",
      "metadata": {
        "id": "Iwig-GNqadpK"
      },
      "source": [
        "def idade(x): # criando uma função que recebe um inteiro e diz qual a categoria de idade da pessoa\n",
        "  if x < 3:\n",
        "    ctg = \"bebê\"\n",
        "  elif  x < 12:\n",
        "    ctg = \"criança\"\n",
        "  elif  x < 15:\n",
        "    ctg = \"pré-adolescente\"   \n",
        "  elif  x < 18:\n",
        "    ctg = \"adolecente\"\n",
        "  elif  x < 21:\n",
        "    ctg = \"adulto\"\n",
        "  else:\n",
        "    ctg = \"vovô\" \n",
        "  return ctg  \n"
      ],
      "execution_count": null,
      "outputs": []
    },
    {
      "cell_type": "code",
      "metadata": {
        "id": "QpS7O3jke0Te",
        "colab": {
          "base_uri": "https://localhost:8080/",
          "height": 52
        },
        "outputId": "c201f228-e007-4960-c6d0-4f5ef901fe2a"
      },
      "source": [
        "idd = int(input(\"digite sua idade: \")) # Recebendo um inteiro através da função input. \n",
        "idade(idd)"
      ],
      "execution_count": 57,
      "outputs": [
        {
          "output_type": "stream",
          "text": [
            "digite sua idade: 3\n"
          ],
          "name": "stdout"
        },
        {
          "output_type": "execute_result",
          "data": {
            "application/vnd.google.colaboratory.intrinsic+json": {
              "type": "string"
            },
            "text/plain": [
              "'criança'"
            ]
          },
          "metadata": {
            "tags": []
          },
          "execution_count": 57
        }
      ]
    },
    {
      "cell_type": "code",
      "metadata": {
        "id": "eECRihHIogpi"
      },
      "source": [
        "def leitura(lista, qtd):  # ? \n",
        "  for i in range(1, qtd + 1):\n",
        "    lista.append(int(input(\"digite o valor \")))\n",
        "lista_notas = []"
      ],
      "execution_count": 73,
      "outputs": []
    },
    {
      "cell_type": "code",
      "metadata": {
        "colab": {
          "base_uri": "https://localhost:8080/"
        },
        "id": "QZ-367pFxsJM",
        "outputId": "83dee75b-1b50-48f4-8c8e-31c9f4b30051"
      },
      "source": [
        "leitura(lista_notas,5)"
      ],
      "execution_count": 71,
      "outputs": [
        {
          "output_type": "stream",
          "text": [
            "digite o valor5\n",
            "digite o valor6\n",
            "digite o valor7\n",
            "digite o valor8\n",
            "digite o valor3\n"
          ],
          "name": "stdout"
        }
      ]
    },
    {
      "cell_type": "code",
      "metadata": {
        "id": "KDAxZ5n5yT3t"
      },
      "source": [
        "\"\"\"\"\n",
        "Esse exercício não compreendi muito bem!\n",
        "irei esclarecer as dúvidas na sala.\n",
        "\n",
        "# agenda\n",
        "\n",
        "def cria(): # criando um dicionário vazio.\n",
        "  d = {}\n",
        "  return d \n",
        "\n",
        "def inclui(d): \n",
        " nome = input(\"Digite o nome a incluir : \")\n",
        " if nome in d:\n",
        "  print(\"Nome já existe não pode ser incluído\")\n",
        " else: \n",
        "    fone = input(\"Digite o fone: \")\n",
        "    d[nome]= fone\n",
        "\n",
        "def consulta(d):  \n",
        " nome = input(\"Digite o nome a consultar: \")\n",
        " print(\"Tel: \",d.get(nome, 'Não disponível'))\n",
        "\n",
        " def altera(d):\n",
        "   nome = input(\"Digite o nome do fone a alterar: \")\n",
        "   print(\"Telefone atual: \",d.get(nome, 'Não disponível'))\n",
        "   if nome in d:\n",
        "      fone = input(\"Digite o novo fone: \")\n",
        "      d[nome]=fone\n",
        "      print(\"Telefone alterado!\")\n",
        "   else:\n",
        "      print(\"Telefone não pode ser alterado!\")\n",
        " \n",
        "def exclui(d):\n",
        " nome = input(\"Digite o nome a excluir: \")\n",
        " if nome in d:\n",
        "  del d[nome]\n",
        "  print(\"Nome e fone excluídos!\")\n",
        " else:\n",
        "  print(\"Nome Inexistente!\")\n",
        "\n",
        "def mostra(d):\n",
        " print(\"Agenda:\")\n",
        " for nome in d.keys():\n",
        "  print(nome,d[nome])\n",
        " \n",
        "\"\"\"\""
      ],
      "execution_count": 92,
      "outputs": []
    },
    {
      "cell_type": "code",
      "metadata": {
        "colab": {
          "base_uri": "https://localhost:8080/"
        },
        "id": "1uTHPAo205jZ",
        "outputId": "58dc0ee9-0605-4c06-cfa5-26d1ed0b4412"
      },
      "source": [
        "cria() # Chamando a funçào que cria um dicionário vazio."
      ],
      "execution_count": 91,
      "outputs": [
        {
          "output_type": "execute_result",
          "data": {
            "text/plain": [
              "{}"
            ]
          },
          "metadata": {
            "tags": []
          },
          "execution_count": 91
        }
      ]
    },
    {
      "cell_type": "code",
      "metadata": {
        "colab": {
          "base_uri": "https://localhost:8080/"
        },
        "id": "TujncHyJ5hFY",
        "outputId": "f7130441-0135-47a6-dca5-64991909e2b2"
      },
      "source": [
        "tempc = [34,54,54,56,76,87,66] # Pegando o valor de uma lista fazendo um for,  uso a funçào append para inserir o resultado do inteiro depois de aplicar a fórmula. \n",
        "tempf = []\n",
        "for i in tempc:\n",
        " tempf.append((i * 9/5) + 32)\n",
        "print(tempc)\n",
        "print(tempf) "
      ],
      "execution_count": 96,
      "outputs": [
        {
          "output_type": "stream",
          "text": [
            "[34, 54, 54, 56, 76, 87, 66]\n",
            "[93.2, 129.2, 129.2, 132.8, 168.8, 188.6, 150.8]\n"
          ],
          "name": "stdout"
        }
      ]
    },
    {
      "cell_type": "code",
      "metadata": {
        "colab": {
          "base_uri": "https://localhost:8080/"
        },
        "id": "H0fVjmXS70nW",
        "outputId": "ab3150fb-53fb-4e22-9d52-35b0fb26c0c9"
      },
      "source": [
        "# usando a função lambda para obter o mesmo resultado porem com 4 linhas de comando\n",
        "\n",
        "t_celsius = [12, 34, 54, 100, 34, 54] # criando uma lista com inteiros\n",
        "t_Fahrenheit = list(map(lambda x: (x * 9/5) + 32, t_celsius)) \n",
        "print(t_celsius)\n",
        "print(t_Fahrenheit)\n"
      ],
      "execution_count": 98,
      "outputs": [
        {
          "output_type": "stream",
          "text": [
            "[12, 34, 54, 100, 34, 54]\n",
            "[53.6, 93.2, 129.2, 212.0, 93.2, 129.2]\n"
          ],
          "name": "stdout"
        }
      ]
    },
    {
      "cell_type": "code",
      "metadata": {
        "colab": {
          "base_uri": "https://localhost:8080/"
        },
        "id": "oogtp0a4_6Qg",
        "outputId": "fac36b21-fea3-45e7-dc4c-0bc2339bc079"
      },
      "source": [
        "tempc = [25,14,42,12,21] # possibilidade mais compacta de realizar a mesma chamada\n",
        "tempf = [(x*9/5)+32 for x in tempc] # chamou a função for dentro da lista junto com uma constante\n",
        "print(tempc)\n",
        "print(tempf)\n"
      ],
      "execution_count": 99,
      "outputs": [
        {
          "output_type": "stream",
          "text": [
            "[25, 14, 42, 12, 21]\n",
            "[77.0, 57.2, 107.6, 53.6, 69.8]\n"
          ],
          "name": "stdout"
        }
      ]
    },
    {
      "cell_type": "code",
      "metadata": {
        "colab": {
          "base_uri": "https://localhost:8080/"
        },
        "id": "nR5rmaNOBL6a",
        "outputId": "3750478d-9a16-4e68-a569-0fffabb5e351"
      },
      "source": [
        "# uma função para tokenizar a string\n",
        "x = \"Função tokenizar\"\n",
        "stk = [i for i in x]\n",
        "print(i)\n",
        "print(stk)"
      ],
      "execution_count": 105,
      "outputs": [
        {
          "output_type": "stream",
          "text": [
            "66\n",
            "['F', 'u', 'n', 'ç', 'ã', 'o', ' ', 't', 'o', 'k', 'e', 'n', 'i', 'z', 'a', 'r']\n"
          ],
          "name": "stdout"
        }
      ]
    }
  ]
}