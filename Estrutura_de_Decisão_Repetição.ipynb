{
  "nbformat": 4,
  "nbformat_minor": 0,
  "metadata": {
    "colab": {
      "name": "Estrutura de Decisão / Repetição.ipynb",
      "provenance": [],
      "authorship_tag": "ABX9TyO1AA8rBVMyAoUh5OBvledK",
      "include_colab_link": true
    },
    "kernelspec": {
      "name": "python3",
      "display_name": "Python 3"
    },
    "language_info": {
      "name": "python"
    }
  },
  "cells": [
    {
      "cell_type": "markdown",
      "metadata": {
        "id": "view-in-github",
        "colab_type": "text"
      },
      "source": [
        "<a href=\"https://colab.research.google.com/github/vitor-edu/Programa-de-Formacao-Big-Data-BRQ/blob/main/Estrutura_de_Decis%C3%A3o_Repeti%C3%A7%C3%A3o.ipynb\" target=\"_parent\"><img src=\"https://colab.research.google.com/assets/colab-badge.svg\" alt=\"Open In Colab\"/></a>"
      ]
    },
    {
      "cell_type": "markdown",
      "metadata": {
        "id": "wjIsFeiWi4h7"
      },
      "source": [
        "# Decisão"
      ]
    },
    {
      "cell_type": "markdown",
      "metadata": {
        "id": "w7DpuTDSjA0P"
      },
      "source": [
        "-------------------------------------------------------------------------"
      ]
    },
    {
      "cell_type": "markdown",
      "metadata": {
        "id": "5M7JuHqfiBYg"
      },
      "source": [
        "### Condicionais"
      ]
    },
    {
      "cell_type": "code",
      "metadata": {
        "colab": {
          "base_uri": "https://localhost:8080/"
        },
        "id": "TYaXEX5qhxlO",
        "outputId": "82b99dc5-8ed2-4b70-c5e7-38b6e23ff603"
      },
      "source": [
        "# Instrução if\n",
        "nota = float(input(\"digite a nota: \"))\n",
        "if nota < 6.0:\n",
        "  print(\"Reprovado\")"
      ],
      "execution_count": 1,
      "outputs": [
        {
          "output_type": "stream",
          "text": [
            "digite a nota: 4\n",
            "reprovado\n"
          ],
          "name": "stdout"
        }
      ]
    },
    {
      "cell_type": "code",
      "metadata": {
        "colab": {
          "base_uri": "https://localhost:8080/"
        },
        "id": "y656CcUViFDC",
        "outputId": "905bb400-769e-4a6b-b86e-76f86129b712"
      },
      "source": [
        "# instrução if..else\n",
        "nota = float(input(\"digite a nota: \"))\n",
        "if nota < 6.0:\n",
        "  print(\"Reprovado\")\n",
        "else:\n",
        "    print(\"aprovado\") "
      ],
      "execution_count": 2,
      "outputs": [
        {
          "output_type": "stream",
          "text": [
            "digite a nota: 4\n",
            "reprovado\n"
          ],
          "name": "stdout"
        }
      ]
    },
    {
      "cell_type": "code",
      "metadata": {
        "colab": {
          "base_uri": "https://localhost:8080/"
        },
        "id": "D6YpUmVAiM5Y",
        "outputId": "c650e39a-449b-435c-c9fe-5bf8375cd1aa"
      },
      "source": [
        "# instrução if..elif..else\n",
        "idade = int(input(\"difgite sua idade:\"))\n",
        "if idade < 3:\n",
        "  print(\"bebê\")\n",
        "elif idade < 10:\n",
        "  print(\"criança\")\n",
        "elif idade < 15:\n",
        "  print(\"pré-adolescente\")\n",
        "elif idade < 17:\n",
        "  print(\"adolescente\")  \n",
        "else:\n",
        "  print(\"adulto\")  "
      ],
      "execution_count": 3,
      "outputs": [
        {
          "output_type": "stream",
          "text": [
            "difgite sua idade:4\n",
            "criança\n"
          ],
          "name": "stdout"
        }
      ]
    },
    {
      "cell_type": "markdown",
      "metadata": {
        "id": "NJaekldyis7J"
      },
      "source": [
        "# Estrutura de Repetição"
      ]
    },
    {
      "cell_type": "markdown",
      "metadata": {
        "id": "dCYl9bcYjICd"
      },
      "source": [
        "-------------------------------------------------------------------------"
      ]
    },
    {
      "cell_type": "markdown",
      "metadata": {
        "id": "qFS2zsV1jMzz"
      },
      "source": [
        "### Laço while"
      ]
    },
    {
      "cell_type": "code",
      "metadata": {
        "id": "Inq_givWin5x"
      },
      "source": [
        "# Criando uma função solicitando uma senha, caso a senha esteja errada, o programa solicita a senha novamente, e retorna acesso liberado ou negado. \n",
        "\n",
        "def senha():\n",
        "  senha = input('digite a senha: ')  \n",
        "  leitura = \"brq123\"\n",
        "  while (leitura != senha):\n",
        "    x = input('digite a senha: ')\n",
        "    if x == leitura:\n",
        "      print(\"acesso liberado\")\n",
        "      break\n",
        "    else:\n",
        "      print(\"senha incorreta tente novamente\")        \n",
        "  print(\"acesso liberado\")"
      ],
      "execution_count": 4,
      "outputs": []
    },
    {
      "cell_type": "code",
      "metadata": {
        "id": "hbr7lS5toQ0I",
        "colab": {
          "base_uri": "https://localhost:8080/"
        },
        "outputId": "d65bafdb-c914-425f-c4da-fa54c1dd6aa0"
      },
      "source": [
        "senha()"
      ],
      "execution_count": 5,
      "outputs": [
        {
          "output_type": "stream",
          "text": [
            "digite a senha: brq123\n",
            "acesso liberado\n"
          ],
          "name": "stdout"
        }
      ]
    },
    {
      "cell_type": "code",
      "metadata": {
        "id": "1UaIIn4FqJk4"
      },
      "source": [
        "\"\"\"\n",
        "cont = 0\n",
        "soma = 0\n",
        "\n",
        "while cont <= 10:\n",
        "cont = cont+1\n",
        "x = float(input('Digite o valor'))\n",
        "print(cont)\n",
        "print(\"esses\", sum(soma)) \n",
        "\n",
        "\"\"\""
      ],
      "execution_count": null,
      "outputs": []
    },
    {
      "cell_type": "code",
      "metadata": {
        "id": "dcfHoMerCqa9",
        "outputId": "43c0a352-c13f-49a1-b39b-c4e3489a2154",
        "colab": {
          "base_uri": "https://localhost:8080/"
        }
      },
      "source": [
        "# encontrar a senha de 5 valores\n",
        "\n",
        "contador = 0 \n",
        "somador = 0\n",
        "while contador < 5:\n",
        "    contador = contador + 1\n",
        "    x = float(input(\"digite o \" + str(contador) + \" valor: \"))\n",
        "    som = som + x \n",
        "print(\"soma= \", som)       "
      ],
      "execution_count": 23,
      "outputs": [
        {
          "output_type": "stream",
          "text": [
            "digite o 1 valor: 3\n",
            "digite o 2 valor: 3\n",
            "digite o 3 valor: 3\n",
            "digite o 4 valor: 3\n",
            "digite o 5 valor: 3\n",
            "soma=  146.0\n"
          ],
          "name": "stdout"
        }
      ]
    },
    {
      "cell_type": "markdown",
      "metadata": {
        "id": "McsgzdigSj63"
      },
      "source": [
        "### Laço for"
      ]
    },
    {
      "cell_type": "code",
      "metadata": {
        "id": "QIP2BBEjGUcP",
        "outputId": "3b939fb2-cbc4-4e57-a8dc-fd7483b232e3",
        "colab": {
          "base_uri": "https://localhost:8080/"
        }
      },
      "source": [
        "s = 0  # Irei mostrar os númneros de 1 a 35 pulando cinco casas, depois mostrar as somas dos inteiros. \n",
        "for x in range(1,35,5): \n",
        "    s = s+x\n",
        "    print(s)\n",
        "print(\"soma = \", s)    "
      ],
      "execution_count": 30,
      "outputs": [
        {
          "output_type": "stream",
          "text": [
            "1\n",
            "7\n",
            "18\n",
            "34\n",
            "55\n",
            "81\n",
            "112\n",
            "soma =  112\n"
          ],
          "name": "stdout"
        }
      ]
    },
    {
      "cell_type": "code",
      "metadata": {
        "id": "tQaNdYH7TN_F",
        "outputId": "dc6ae7c9-3c6b-44ec-bdf1-a779914a7c31",
        "colab": {
          "base_uri": "https://localhost:8080/"
        }
      },
      "source": [
        "lista_notas = [3.4, 4.0, 4.6, 8.9, 7.9, 9.3, 3.4, 9.0]  # Criando uma lista com 8 notas, somando a nota e tirando a média. \n",
        "y = len(lista_notas)\n",
        "soma = 0 \n",
        "for x in lista_notas: \n",
        "  soma = soma + x\n",
        "media = soma / y\n",
        "print(\"A média é:\", media) \n",
        "\n",
        "\n"
      ],
      "execution_count": 41,
      "outputs": [
        {
          "output_type": "stream",
          "text": [
            "A média é: 6.312499999999999\n"
          ],
          "name": "stdout"
        }
      ]
    },
    {
      "cell_type": "code",
      "metadata": {
        "id": "mrGI_e2EYGmq"
      },
      "source": [
        "def calc_lista(x): # Criando uma função que retorna a média. \n",
        "  soma = 0\n",
        "  for nota in x:\n",
        "    soma = soma + nota\n",
        "  return soma/len(x)  \n",
        "\n"
      ],
      "execution_count": 45,
      "outputs": []
    },
    {
      "cell_type": "code",
      "metadata": {
        "id": "8gJ12cIlZUNd",
        "outputId": "417e03e2-0f68-43b4-ceca-5c768e940538",
        "colab": {
          "base_uri": "https://localhost:8080/"
        }
      },
      "source": [
        "lista_notas_2 = [3.4, .67, 8.7, 9.8, 6.9, 0.9, 6.5]\n",
        "calc_lista(lista_notas) # Chamando a função "
      ],
      "execution_count": 47,
      "outputs": [
        {
          "output_type": "execute_result",
          "data": {
            "text/plain": [
              "6.312499999999999"
            ]
          },
          "metadata": {
            "tags": []
          },
          "execution_count": 47
        }
      ]
    },
    {
      "cell_type": "code",
      "metadata": {
        "id": "Iwig-GNqadpK"
      },
      "source": [
        "def idade(x): # criando uma função que recebe um inteiro e diz qual a categoria de idade da pessoa\n",
        "  if x < 3:\n",
        "    ctg = \"bebê\"\n",
        "  elif  x < 12:\n",
        "    ctg = \"criança\"\n",
        "  elif  x < 15:\n",
        "    ctg = \"pré-adolescente\"   \n",
        "  elif  x < 18:\n",
        "    ctg = \"adolecente\"\n",
        "  elif  x < 21:\n",
        "    ctg = \"adulto\"\n",
        "  else:\n",
        "    ctg = \"vovô\" \n",
        "  return ctg  \n"
      ],
      "execution_count": 56,
      "outputs": []
    },
    {
      "cell_type": "code",
      "metadata": {
        "id": "QpS7O3jke0Te",
        "outputId": "b63fbdba-32c7-40fd-ac17-aa9b420463ef",
        "colab": {
          "base_uri": "https://localhost:8080/",
          "height": 52
        }
      },
      "source": [
        "idd = int(input(\"digite sua idade: \")) # Recebendo um inteiro atrav\n",
        "idade(idd)"
      ],
      "execution_count": 55,
      "outputs": [
        {
          "output_type": "stream",
          "text": [
            "digite sua idade: 18\n"
          ],
          "name": "stdout"
        },
        {
          "output_type": "execute_result",
          "data": {
            "application/vnd.google.colaboratory.intrinsic+json": {
              "type": "string"
            },
            "text/plain": [
              "'adulto'"
            ]
          },
          "metadata": {
            "tags": []
          },
          "execution_count": 55
        }
      ]
    }
  ]
}