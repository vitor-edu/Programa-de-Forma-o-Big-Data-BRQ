{
  "nbformat": 4,
  "nbformat_minor": 0,
  "metadata": {
    "colab": {
      "name": "Estrutura de Decisão / Repetição.ipynb",
      "provenance": [],
      "authorship_tag": "ABX9TyPmoByKfkRL5OiShj7vjPPU",
      "include_colab_link": true
    },
    "kernelspec": {
      "name": "python3",
      "display_name": "Python 3"
    },
    "language_info": {
      "name": "python"
    }
  },
  "cells": [
    {
      "cell_type": "markdown",
      "metadata": {
        "id": "view-in-github",
        "colab_type": "text"
      },
      "source": [
        "<a href=\"https://colab.research.google.com/github/vitor-edu/Programa-de-Formacao-Big-Data-BRQ/blob/main/Estrutura_de_Decis%C3%A3o_Repeti%C3%A7%C3%A3o.ipynb\" target=\"_parent\"><img src=\"https://colab.research.google.com/assets/colab-badge.svg\" alt=\"Open In Colab\"/></a>"
      ]
    },
    {
      "cell_type": "markdown",
      "metadata": {
        "id": "wjIsFeiWi4h7"
      },
      "source": [
        "# Decisão"
      ]
    },
    {
      "cell_type": "markdown",
      "metadata": {
        "id": "w7DpuTDSjA0P"
      },
      "source": [
        "-------------------------------------------------------------------------"
      ]
    },
    {
      "cell_type": "markdown",
      "metadata": {
        "id": "5M7JuHqfiBYg"
      },
      "source": [
        "### Condicionais"
      ]
    },
    {
      "cell_type": "code",
      "metadata": {
        "colab": {
          "base_uri": "https://localhost:8080/"
        },
        "id": "TYaXEX5qhxlO",
        "outputId": "55fd1f1a-f2c0-4921-8d5d-64140c5caf06"
      },
      "source": [
        "# Instrução if\n",
        "nota = float(input(\"digite a nota: \"))\n",
        "if nota < 6.0:\n",
        "  print(\"reprovado\")"
      ],
      "execution_count": null,
      "outputs": [
        {
          "output_type": "stream",
          "text": [
            "digite a nota: 3\n",
            "reprovado\n"
          ],
          "name": "stdout"
        }
      ]
    },
    {
      "cell_type": "code",
      "metadata": {
        "colab": {
          "base_uri": "https://localhost:8080/"
        },
        "id": "y656CcUViFDC",
        "outputId": "6384c2f1-40e4-4e4a-84d3-eee637f90165"
      },
      "source": [
        "# instrução if..else\n",
        "nota = float(input(\"digite a nota: \"))\n",
        "if nota < 6.0:\n",
        "  print(\"reprovado\")\n",
        "else:\n",
        "    print(\"aprovado\") "
      ],
      "execution_count": null,
      "outputs": [
        {
          "output_type": "stream",
          "text": [
            "digite a nota: 7\n",
            "aprovado\n"
          ],
          "name": "stdout"
        }
      ]
    },
    {
      "cell_type": "code",
      "metadata": {
        "colab": {
          "base_uri": "https://localhost:8080/"
        },
        "id": "D6YpUmVAiM5Y",
        "outputId": "74a8c86b-6f35-4a03-e27a-239c4994ae90"
      },
      "source": [
        "# instrução if..elif..else\n",
        "idade = int(input(\"difgite sua idade:\"))\n",
        "if idade < 3:\n",
        "  print(\"bebê\")\n",
        "elif idade < 10:\n",
        "  print(\"criança\")\n",
        "elif idade < 15:\n",
        "  print(\"pré-adolescente\")\n",
        "elif idade < 17:\n",
        "  print(\"adolescente\")  \n",
        "else:\n",
        "  print(\"adulto\")  "
      ],
      "execution_count": null,
      "outputs": [
        {
          "output_type": "stream",
          "text": [
            "difgite sua idade:7\n",
            "criança\n"
          ],
          "name": "stdout"
        }
      ]
    },
    {
      "cell_type": "markdown",
      "metadata": {
        "id": "NJaekldyis7J"
      },
      "source": [
        "# Estrutura de Repetição"
      ]
    },
    {
      "cell_type": "markdown",
      "metadata": {
        "id": "dCYl9bcYjICd"
      },
      "source": [
        "-------------------------------------------------------------------------"
      ]
    },
    {
      "cell_type": "markdown",
      "metadata": {
        "id": "qFS2zsV1jMzz"
      },
      "source": [
        "### Laço while"
      ]
    },
    {
      "cell_type": "code",
      "metadata": {
        "id": "Inq_givWin5x"
      },
      "source": [
        "# Criando uma função solicitando uma senha, caso a senha esteja errada, o programa solicita a senha novamente, e retorna acesso liberado ou negado. \n",
        "\n",
        "def senha():\n",
        "  senha = input('digite a senha: ')  \n",
        "  leitura = \"brq123\"\n",
        "  while (leitura != senha):\n",
        "    x = input('digite a senha: ')\n",
        "    if x == leitura:\n",
        "      print(\"acesso liberado\")\n",
        "      break\n",
        "    else:\n",
        "      print(\"senha incorreta tente novamente\")        \n",
        "  print(\"acesso liberado\")"
      ],
      "execution_count": 21,
      "outputs": []
    },
    {
      "cell_type": "code",
      "metadata": {
        "id": "hbr7lS5toQ0I",
        "outputId": "819613ce-96f6-48e5-cad0-d82a5d8c5056",
        "colab": {
          "base_uri": "https://localhost:8080/"
        }
      },
      "source": [
        "senha()"
      ],
      "execution_count": 22,
      "outputs": [
        {
          "output_type": "stream",
          "text": [
            "digite a senha: hyt\n",
            "digite a senha: gtr\n",
            "senha incorreta tente novamente\n",
            "digite a senha: brq123\n",
            "acesso liberado\n",
            "acesso liberado\n"
          ],
          "name": "stdout"
        }
      ]
    },
    {
      "cell_type": "code",
      "metadata": {
        "id": "1UaIIn4FqJk4",
        "outputId": "519de6cf-03c2-4003-9a0f-9b152249cc1b",
        "colab": {
          "base_uri": "https://localhost:8080/"
        }
      },
      "source": [
        "cont = 0\n",
        "soma = 0\n",
        "\n",
        "while cont <= 10:\n",
        "  cont = cont+1\n",
        "  x = float(input('Digite o valor'))\n",
        "  print(cont)\n",
        "print(\"esses\", sum(soma))"
      ],
      "execution_count": 44,
      "outputs": [
        {
          "output_type": "stream",
          "text": [
            "1\n",
            "2\n",
            "3\n",
            "4\n",
            "5\n",
            "6\n",
            "7\n",
            "8\n",
            "9\n",
            "10\n",
            "11\n",
            "esses 11\n"
          ],
          "name": "stdout"
        }
      ]
    },
    {
      "cell_type": "code",
      "metadata": {
        "id": "y0_c8BfYx0kd"
      },
      "source": [
        "contador = 0\n",
        "somador = 0\n",
        "while contador < 5:\n",
        "  contador = contador+1\n",
        "  x = float(input('Digite o ' + str(contador)+ 'valor'))\n",
        "  yield = somador + x \n",
        "print('soma =' ,y)  \n"
      ],
      "execution_count": null,
      "outputs": []
    },
    {
      "cell_type": "code",
      "metadata": {
        "id": "ECvRe5BNBSPQ"
      },
      "source": [
        ""
      ],
      "execution_count": null,
      "outputs": []
    }
  ]
}