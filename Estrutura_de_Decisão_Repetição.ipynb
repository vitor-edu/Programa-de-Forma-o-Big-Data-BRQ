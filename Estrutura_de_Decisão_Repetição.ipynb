{
  "nbformat": 4,
  "nbformat_minor": 0,
  "metadata": {
    "colab": {
      "name": "Estrutura de Decisão / Repetição.ipynb",
      "provenance": [],
      "authorship_tag": "ABX9TyPWZV5Rk+w3s3S+7qNQQu9T",
      "include_colab_link": true
    },
    "kernelspec": {
      "name": "python3",
      "display_name": "Python 3"
    },
    "language_info": {
      "name": "python"
    }
  },
  "cells": [
    {
      "cell_type": "markdown",
      "metadata": {
        "id": "view-in-github",
        "colab_type": "text"
      },
      "source": [
        "<a href=\"https://colab.research.google.com/github/vitor-edu/Programa-de-Formacao-Big-Data-BRQ/blob/main/Estrutura_de_Decis%C3%A3o_Repeti%C3%A7%C3%A3o.ipynb\" target=\"_parent\"><img src=\"https://colab.research.google.com/assets/colab-badge.svg\" alt=\"Open In Colab\"/></a>"
      ]
    },
    {
      "cell_type": "markdown",
      "metadata": {
        "id": "5M7JuHqfiBYg"
      },
      "source": [
        "### Condicionais"
      ]
    },
    {
      "cell_type": "code",
      "metadata": {
        "colab": {
          "base_uri": "https://localhost:8080/"
        },
        "id": "TYaXEX5qhxlO",
        "outputId": "55fd1f1a-f2c0-4921-8d5d-64140c5caf06"
      },
      "source": [
        "# Instrução if\n",
        "nota = float(input(\"digite a nota: \"))\n",
        "if nota < 6.0:\n",
        "  print(\"reprovado\")"
      ],
      "execution_count": 1,
      "outputs": [
        {
          "output_type": "stream",
          "text": [
            "digite a nota: 3\n",
            "reprovado\n"
          ],
          "name": "stdout"
        }
      ]
    },
    {
      "cell_type": "code",
      "metadata": {
        "colab": {
          "base_uri": "https://localhost:8080/"
        },
        "id": "y656CcUViFDC",
        "outputId": "6384c2f1-40e4-4e4a-84d3-eee637f90165"
      },
      "source": [
        "# instrução if..else\n",
        "nota = float(input(\"digite a nota: \"))\n",
        "if nota < 6.0:\n",
        "  print(\"reprovado\")\n",
        "else:\n",
        "    print(\"aprovado\") "
      ],
      "execution_count": 2,
      "outputs": [
        {
          "output_type": "stream",
          "text": [
            "digite a nota: 7\n",
            "aprovado\n"
          ],
          "name": "stdout"
        }
      ]
    },
    {
      "cell_type": "code",
      "metadata": {
        "colab": {
          "base_uri": "https://localhost:8080/"
        },
        "id": "D6YpUmVAiM5Y",
        "outputId": "74a8c86b-6f35-4a03-e27a-239c4994ae90"
      },
      "source": [
        "# instrução if..elif..else\n",
        "idade = int(input(\"difgite sua idade:\"))\n",
        "if idade < 3:\n",
        "  print(\"bebê\")\n",
        "elif idade < 10:\n",
        "  print(\"criança\")\n",
        "elif idade < 15:\n",
        "  print(\"pré-adolescente\")\n",
        "elif idade < 17:\n",
        "  print(\"adolescente\")  \n",
        "else:\n",
        "  print(\"adulto\")  "
      ],
      "execution_count": 3,
      "outputs": [
        {
          "output_type": "stream",
          "text": [
            "difgite sua idade:7\n",
            "criança\n"
          ],
          "name": "stdout"
        }
      ]
    }
  ]
}