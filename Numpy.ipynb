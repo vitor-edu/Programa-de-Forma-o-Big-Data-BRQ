{
  "nbformat": 4,
  "nbformat_minor": 0,
  "metadata": {
    "colab": {
      "name": "Numpy.ipynb",
      "provenance": [],
      "collapsed_sections": [],
      "authorship_tag": "ABX9TyPr2xYp267NV5uRoO2LGM7c",
      "include_colab_link": true
    },
    "kernelspec": {
      "name": "python3",
      "display_name": "Python 3"
    },
    "language_info": {
      "name": "python"
    }
  },
  "cells": [
    {
      "cell_type": "markdown",
      "metadata": {
        "id": "view-in-github",
        "colab_type": "text"
      },
      "source": [
        "<a href=\"https://colab.research.google.com/github/vitor-edu/Programa-de-Formacao-Big-Data-BRQ/blob/main/Numpy.ipynb\" target=\"_parent\"><img src=\"https://colab.research.google.com/assets/colab-badge.svg\" alt=\"Open In Colab\"/></a>"
      ]
    },
    {
      "cell_type": "code",
      "metadata": {
        "colab": {
          "base_uri": "https://localhost:8080/"
        },
        "id": "cisM00MEYhgR",
        "outputId": "2dc81143-fc3d-4010-d32c-4e8a4ecf5533"
      },
      "source": [
        "import numpy as np # importando a biblioteca numpy\n",
        "\n",
        "array = np.array([2,33,44,55,76,78]) # Criando uma matriz unidimencional. \n",
        "print(array)"
      ],
      "execution_count": 207,
      "outputs": [
        {
          "output_type": "stream",
          "text": [
            "[ 2 33 44 55 76 78]\n"
          ],
          "name": "stdout"
        }
      ]
    },
    {
      "cell_type": "code",
      "metadata": {
        "id": "q1qQANZsaLad",
        "colab": {
          "base_uri": "https://localhost:8080/"
        },
        "outputId": "d917339d-9598-456a-9e7f-09e5255f8b20"
      },
      "source": [
        "type(array)"
      ],
      "execution_count": 208,
      "outputs": [
        {
          "output_type": "execute_result",
          "data": {
            "text/plain": [
              "numpy.ndarray"
            ]
          },
          "metadata": {
            "tags": []
          },
          "execution_count": 208
        }
      ]
    },
    {
      "cell_type": "code",
      "metadata": {
        "id": "nE-sYGz8MZMt",
        "colab": {
          "base_uri": "https://localhost:8080/"
        },
        "outputId": "61728a29-1ad0-46ee-ffba-1f9571073256"
      },
      "source": [
        "x = np.array([1, 2, 3, 4, 5, 6], dtype = np.float64) # Chamando a função numpy criando um array com typo específico.  \n",
        "print(x)\n",
        "print(x.dtype)\n",
        "                                           \n",
        "y = np.array([1, 2, 3, 4, 5, 6], dtype = np.float32)\n",
        "print(y)\n",
        "print(y.dtype)"
      ],
      "execution_count": 209,
      "outputs": [
        {
          "output_type": "stream",
          "text": [
            "[1. 2. 3. 4. 5. 6.]\n",
            "float64\n",
            "[1. 2. 3. 4. 5. 6.]\n",
            "float32\n"
          ],
          "name": "stdout"
        }
      ]
    },
    {
      "cell_type": "code",
      "metadata": {
        "id": "4cH3_C6OPdUt",
        "colab": {
          "base_uri": "https://localhost:8080/"
        },
        "outputId": "ae5ffa18-ea66-48ca-ea21-c2889c42a211"
      },
      "source": [
        "x = np.array([3.5, 5.6, 7.8, 9.5, 78.8, 56.999, 76.000, 7.8]) # Criando array com typo de dados float. \n",
        "print(x)\n",
        "print(x.dtype)\n"
      ],
      "execution_count": 210,
      "outputs": [
        {
          "output_type": "stream",
          "text": [
            "[ 3.5    5.6    7.8    9.5   78.8   56.999 76.     7.8  ]\n",
            "float64\n"
          ],
          "name": "stdout"
        }
      ]
    },
    {
      "cell_type": "code",
      "metadata": {
        "id": "Z8k1HzAERXUl",
        "colab": {
          "base_uri": "https://localhost:8080/"
        },
        "outputId": "d40a4fb0-93e4-405c-c6d5-a7aba68cbc08"
      },
      "source": [
        "y = x.astype(np.int) # Convertendo o typo de dado do array, para inteiro. \n",
        "print(y)\n",
        "print(y.dtype)"
      ],
      "execution_count": 211,
      "outputs": [
        {
          "output_type": "stream",
          "text": [
            "[ 3  5  7  9 78 56 76  7]\n",
            "int64\n"
          ],
          "name": "stdout"
        }
      ]
    },
    {
      "cell_type": "code",
      "metadata": {
        "id": "h_YBeH5dSDIN",
        "colab": {
          "base_uri": "https://localhost:8080/"
        },
        "outputId": "b4349b87-ca90-4c20-83fa-7ab854195aa9"
      },
      "source": [
        "z = np.array([1, 3, 45, 65, 7, 8]) # Criando array com dados do tipo inteiro. \n",
        "print(z)\n",
        "print(z.dtype)"
      ],
      "execution_count": 212,
      "outputs": [
        {
          "output_type": "stream",
          "text": [
            "[ 1  3 45 65  7  8]\n",
            "int64\n"
          ],
          "name": "stdout"
        }
      ]
    },
    {
      "cell_type": "code",
      "metadata": {
        "id": "5iuIT5kfSjBi",
        "colab": {
          "base_uri": "https://localhost:8080/"
        },
        "outputId": "f893bba8-dbbe-4706-f5f3-04c1c3a57a8a"
      },
      "source": [
        "w = z.astype(np.float) # Convertendo o typo de dado do array, para float. \n",
        "print(w)\n",
        "print(w.dtype)"
      ],
      "execution_count": 213,
      "outputs": [
        {
          "output_type": "stream",
          "text": [
            "[ 1.  3. 45. 65.  7.  8.]\n",
            "float64\n"
          ],
          "name": "stdout"
        }
      ]
    },
    {
      "cell_type": "code",
      "metadata": {
        "id": "NJBU7QMtUJ9i",
        "colab": {
          "base_uri": "https://localhost:8080/"
        },
        "outputId": "a1b13dd1-eb54-423a-ec99-81f0056f5b8d"
      },
      "source": [
        "bi_dimencional = np.array([[2,4,5],[3,4,5], [2,4,6], [5,6,7], [4,5,6]]) # Criando uma matriz bidimencional. \n",
        "bi_dimencional\n"
      ],
      "execution_count": 214,
      "outputs": [
        {
          "output_type": "execute_result",
          "data": {
            "text/plain": [
              "array([[2, 4, 5],\n",
              "       [3, 4, 5],\n",
              "       [2, 4, 6],\n",
              "       [5, 6, 7],\n",
              "       [4, 5, 6]])"
            ]
          },
          "metadata": {
            "tags": []
          },
          "execution_count": 214
        }
      ]
    },
    {
      "cell_type": "code",
      "metadata": {
        "id": "z124F7NsV8yw",
        "colab": {
          "base_uri": "https://localhost:8080/"
        },
        "outputId": "fc0ddb7d-2b21-46a4-b4f4-a6342ce510af"
      },
      "source": [
        "bi_dimencional.dtype # Tipo de dados da matriz"
      ],
      "execution_count": 215,
      "outputs": [
        {
          "output_type": "execute_result",
          "data": {
            "text/plain": [
              "dtype('int64')"
            ]
          },
          "metadata": {
            "tags": []
          },
          "execution_count": 215
        }
      ]
    },
    {
      "cell_type": "code",
      "metadata": {
        "id": "dkqJJwMoWDMJ",
        "colab": {
          "base_uri": "https://localhost:8080/"
        },
        "outputId": "0c3fea28-bb1c-4952-b7ff-ad9a7860ec6f"
      },
      "source": [
        "c = np.empty([10,10], dtype = int) # Criando uma matriz bidimencional 10x10. \n",
        "print(c)\n"
      ],
      "execution_count": 218,
      "outputs": [
        {
          "output_type": "stream",
          "text": [
            "[[     94805802627264     140007877515088                  -4\n",
            "      140007343915009                   0      94805741586272\n",
            "                   31      94805802627296     140008490214144\n",
            "      140008575326560]\n",
            " [    140008490206224                   0      94805802617712\n",
            "                    0                   0     140007343915009\n",
            "                    0        523986010138     139637976727552\n",
            "        1529008357496]\n",
            " [       519691042816                 252                   0\n",
            "      140007877624816     140007877531376                   0\n",
            "         146028888067      94802813124609     140007877531376\n",
            "                   12]\n",
            " [    140007877531424                   0        146028888067\n",
            "                    1     140007877531424     140007877616400\n",
            "      140007877531472                   0        146028888067\n",
            "  8391086148885151745]\n",
            " [    140007877531472        120259084292     140007877531520\n",
            "                    0        146028888067     140007343915009\n",
            "      140007877531520      94802813124608     140007877531568\n",
            "                    0]\n",
            " [                  0                   0                   0\n",
            "                    0      94805741612480     140008107797312\n",
            "       94805742217728     140007879700224      94805741543680\n",
            "      140007879700224]\n",
            " [    140008573872368     140008573872368      94805775791776\n",
            "       94805741612480      94805741612480     140008107983824\n",
            "      140007877446928     140008544152752      94805741543712\n",
            "       94805741543712]\n",
            " [     94805770527776     140008562632256      94805741543680\n",
            "       94805741566496     140007878835440     140008574272240\n",
            "      140008575288240     140008110623152     140007343915009\n",
            "      140007877167312]\n",
            " [    140007948957744     140007949212208     140008010804320\n",
            "      140007948938576     140007948966704     140008010804000\n",
            "      140008574683440     140007948933856     140007948938688\n",
            "      140007948960848]\n",
            " [    140008574683440     140008010804080     140007948960944\n",
            "      140007948961040     140007948961136     140007948957872\n",
            "      140007948938800         17179869337 7310221941963489281\n",
            "      140007877156912]]\n"
          ],
          "name": "stdout"
        }
      ]
    },
    {
      "cell_type": "code",
      "metadata": {
        "colab": {
          "base_uri": "https://localhost:8080/"
        },
        "id": "MuP-Tfh4z7jr",
        "outputId": "943a2959-cf48-4ed4-e095-d2ac9a4abd04"
      },
      "source": [
        "x1 = np.zeros([10,10]) # cria uma matriz 10x10 com valores zero.\n",
        "x1"
      ],
      "execution_count": 219,
      "outputs": [
        {
          "output_type": "execute_result",
          "data": {
            "text/plain": [
              "array([[0., 0., 0., 0., 0., 0., 0., 0., 0., 0.],\n",
              "       [0., 0., 0., 0., 0., 0., 0., 0., 0., 0.],\n",
              "       [0., 0., 0., 0., 0., 0., 0., 0., 0., 0.],\n",
              "       [0., 0., 0., 0., 0., 0., 0., 0., 0., 0.],\n",
              "       [0., 0., 0., 0., 0., 0., 0., 0., 0., 0.],\n",
              "       [0., 0., 0., 0., 0., 0., 0., 0., 0., 0.],\n",
              "       [0., 0., 0., 0., 0., 0., 0., 0., 0., 0.],\n",
              "       [0., 0., 0., 0., 0., 0., 0., 0., 0., 0.],\n",
              "       [0., 0., 0., 0., 0., 0., 0., 0., 0., 0.],\n",
              "       [0., 0., 0., 0., 0., 0., 0., 0., 0., 0.]])"
            ]
          },
          "metadata": {
            "tags": []
          },
          "execution_count": 219
        }
      ]
    },
    {
      "cell_type": "code",
      "metadata": {
        "colab": {
          "base_uri": "https://localhost:8080/"
        },
        "id": "alzyELCy0fsS",
        "outputId": "488b50b1-9390-4c66-c08f-6c37b32c6b0b"
      },
      "source": [
        "e = np.ones([10,10])# Cria uma matriz de 10x10 com numero 1. \n",
        "print(e)"
      ],
      "execution_count": 220,
      "outputs": [
        {
          "output_type": "stream",
          "text": [
            "[[1. 1. 1. 1. 1. 1. 1. 1. 1. 1.]\n",
            " [1. 1. 1. 1. 1. 1. 1. 1. 1. 1.]\n",
            " [1. 1. 1. 1. 1. 1. 1. 1. 1. 1.]\n",
            " [1. 1. 1. 1. 1. 1. 1. 1. 1. 1.]\n",
            " [1. 1. 1. 1. 1. 1. 1. 1. 1. 1.]\n",
            " [1. 1. 1. 1. 1. 1. 1. 1. 1. 1.]\n",
            " [1. 1. 1. 1. 1. 1. 1. 1. 1. 1.]\n",
            " [1. 1. 1. 1. 1. 1. 1. 1. 1. 1.]\n",
            " [1. 1. 1. 1. 1. 1. 1. 1. 1. 1.]\n",
            " [1. 1. 1. 1. 1. 1. 1. 1. 1. 1.]]\n"
          ],
          "name": "stdout"
        }
      ]
    },
    {
      "cell_type": "code",
      "metadata": {
        "colab": {
          "base_uri": "https://localhost:8080/"
        },
        "id": "kt9ru2X50zHL",
        "outputId": "bb57c28b-8c69-40ad-ceef-b262c9e4d695"
      },
      "source": [
        "eye = np.eye(10) # Cria uma matriz com 10x10 formada por zeros e um traço diagonal formado pelo numero um.  \n",
        "eye"
      ],
      "execution_count": 222,
      "outputs": [
        {
          "output_type": "execute_result",
          "data": {
            "text/plain": [
              "array([[1., 0., 0., 0., 0., 0., 0., 0., 0., 0.],\n",
              "       [0., 1., 0., 0., 0., 0., 0., 0., 0., 0.],\n",
              "       [0., 0., 1., 0., 0., 0., 0., 0., 0., 0.],\n",
              "       [0., 0., 0., 1., 0., 0., 0., 0., 0., 0.],\n",
              "       [0., 0., 0., 0., 1., 0., 0., 0., 0., 0.],\n",
              "       [0., 0., 0., 0., 0., 1., 0., 0., 0., 0.],\n",
              "       [0., 0., 0., 0., 0., 0., 1., 0., 0., 0.],\n",
              "       [0., 0., 0., 0., 0., 0., 0., 1., 0., 0.],\n",
              "       [0., 0., 0., 0., 0., 0., 0., 0., 1., 0.],\n",
              "       [0., 0., 0., 0., 0., 0., 0., 0., 0., 1.]])"
            ]
          },
          "metadata": {
            "tags": []
          },
          "execution_count": 222
        }
      ]
    },
    {
      "cell_type": "code",
      "metadata": {
        "colab": {
          "base_uri": "https://localhost:8080/"
        },
        "id": "ioXduIQp1q6R",
        "outputId": "ebb13a32-0579-4a8e-8a9a-f241f09f3bc2"
      },
      "source": [
        "g = np.random.random((10)) # Gera 10 numeros randômicos entre 0 e 1. \n",
        "g\n"
      ],
      "execution_count": 226,
      "outputs": [
        {
          "output_type": "execute_result",
          "data": {
            "text/plain": [
              "array([0.03143043, 0.9259463 , 0.71597402, 0.97115562, 0.20630857,\n",
              "       0.44780464, 0.72808023, 0.61749269, 0.64556802, 0.15490762])"
            ]
          },
          "metadata": {
            "tags": []
          },
          "execution_count": 226
        }
      ]
    },
    {
      "cell_type": "code",
      "metadata": {
        "colab": {
          "base_uri": "https://localhost:8080/"
        },
        "id": "Kl8fnfhT2r5a",
        "outputId": "9ca9dcb9-a547-45bb-d0e8-e447fa8e6994"
      },
      "source": [
        "g2= np.random.randn((10)) # Gera 10 numeros randômicos entre 0 e 1.\n",
        "g2\n"
      ],
      "execution_count": 227,
      "outputs": [
        {
          "output_type": "execute_result",
          "data": {
            "text/plain": [
              "array([-1.19491171,  1.31474348, -0.61313422, -2.49878501,  0.10499893,\n",
              "        1.40540756, -0.49033613,  0.64521802, -0.8693972 ,  0.6685198 ])"
            ]
          },
          "metadata": {
            "tags": []
          },
          "execution_count": 227
        }
      ]
    },
    {
      "cell_type": "code",
      "metadata": {
        "colab": {
          "base_uri": "https://localhost:8080/"
        },
        "id": "-CanG-iJ23eg",
        "outputId": "53ba1771-5f9b-4899-e128-c97b90485b7b"
      },
      "source": [
        "array = np.floor(10*np.random.random((10,10))) # Criando arrays multidimencionais com valores entre 0 e 10 multiplicado pelo valor randomizado, retornando o valor absoluto através do comando floor.   \n",
        "array"
      ],
      "execution_count": 232,
      "outputs": [
        {
          "output_type": "execute_result",
          "data": {
            "text/plain": [
              "array([[8., 6., 4., 3., 5., 2., 9., 4., 2., 6.],\n",
              "       [4., 5., 6., 0., 4., 6., 0., 5., 1., 6.],\n",
              "       [6., 0., 3., 8., 4., 6., 6., 0., 9., 6.],\n",
              "       [0., 8., 4., 6., 1., 5., 8., 1., 3., 2.],\n",
              "       [4., 9., 3., 5., 9., 4., 5., 8., 4., 9.],\n",
              "       [8., 6., 6., 9., 6., 4., 4., 9., 6., 4.],\n",
              "       [3., 8., 5., 2., 6., 6., 3., 0., 3., 5.],\n",
              "       [1., 7., 6., 6., 5., 3., 6., 6., 8., 8.],\n",
              "       [6., 7., 9., 5., 2., 8., 8., 3., 0., 6.],\n",
              "       [9., 5., 4., 7., 0., 1., 2., 4., 8., 9.]])"
            ]
          },
          "metadata": {
            "tags": []
          },
          "execution_count": 232
        }
      ]
    },
    {
      "cell_type": "code",
      "metadata": {
        "colab": {
          "base_uri": "https://localhost:8080/"
        },
        "id": "AwNcNpkI4Qgr",
        "outputId": "d747f545-6dd4-491e-e4b5-2dcd3dbc5f95"
      },
      "source": [
        "array = (10*np.random.random((10,10))) # Criando arrays multidimencionais com valores entre 0 e 10 multiplicado pelo valor randomizado.\n",
        "array"
      ],
      "execution_count": 235,
      "outputs": [
        {
          "output_type": "execute_result",
          "data": {
            "text/plain": [
              "array([[3.40201604, 9.92478549, 9.09268203, 3.58042561, 6.33663248,\n",
              "        2.54035112, 2.48094391, 5.09418742, 2.81400217, 1.29243307],\n",
              "       [7.78914459, 5.38876969, 3.33067223, 4.27350047, 3.6027924 ,\n",
              "        7.07849359, 5.9099334 , 3.47635773, 4.23905174, 6.08915709],\n",
              "       [6.09161887, 5.48201015, 7.32426324, 3.62400937, 2.59447874,\n",
              "        5.99095065, 6.75490311, 9.31925826, 9.66454681, 3.37642055],\n",
              "       [7.87987248, 4.64237028, 3.56782017, 7.64479796, 6.63226053,\n",
              "        7.68324008, 4.62788675, 6.52992258, 5.28556368, 6.72785331],\n",
              "       [3.87937646, 8.90201803, 2.60819618, 2.17867976, 5.23387995,\n",
              "        8.63492322, 2.51145699, 1.19906722, 4.38130476, 5.08216153],\n",
              "       [1.23762447, 7.97972665, 8.18053565, 3.86600388, 6.1943604 ,\n",
              "        0.33352236, 5.51305306, 0.61472376, 2.68326588, 3.3112344 ],\n",
              "       [6.61221338, 2.9384739 , 8.36927305, 3.97530628, 7.7213996 ,\n",
              "        0.65145403, 8.94647759, 5.15137704, 6.57807981, 6.05725334],\n",
              "       [4.0331297 , 3.29862484, 5.76326836, 7.63784361, 7.29260917,\n",
              "        8.45204466, 2.55772509, 6.34905793, 4.56641623, 7.26203516],\n",
              "       [1.64755145, 8.74328071, 4.779559  , 9.43653227, 2.51705451,\n",
              "        2.63031154, 9.96537745, 8.28643161, 5.05075949, 2.24677956],\n",
              "       [7.73709186, 7.52826345, 1.8955043 , 6.82602379, 6.66024861,\n",
              "        3.7502628 , 9.38703556, 6.2127951 , 2.85085566, 3.67875523]])"
            ]
          },
          "metadata": {
            "tags": []
          },
          "execution_count": 235
        }
      ]
    },
    {
      "cell_type": "code",
      "metadata": {
        "colab": {
          "base_uri": "https://localhost:8080/"
        },
        "id": "6uRIu0VQ4KAb",
        "outputId": "9c1fcdf3-54ab-405c-f1ac-6ad33de7f1f2"
      },
      "source": [
        "array_2 = np.random.default_rng(0) # Criando um array com dez valores vazios randomicamente. \n",
        "i = array_2.random(10)\n",
        "i"
      ],
      "execution_count": 237,
      "outputs": [
        {
          "output_type": "execute_result",
          "data": {
            "text/plain": [
              "array([0.63696169, 0.26978671, 0.04097352, 0.01652764, 0.81327024,\n",
              "       0.91275558, 0.60663578, 0.72949656, 0.54362499, 0.93507242])"
            ]
          },
          "metadata": {
            "tags": []
          },
          "execution_count": 237
        }
      ]
    },
    {
      "cell_type": "code",
      "metadata": {
        "colab": {
          "base_uri": "https://localhost:8080/"
        },
        "id": "8bE-AuDf5fWH",
        "outputId": "757814de-6917-46b9-c7ed-2ea3bf9cab62"
      },
      "source": [
        "i = array_2.integers(10, size=(10, 10)) # Criando um array 10x10 com intervalo entre 0 e 10 com valores inteiros. \n",
        "i\n"
      ],
      "execution_count": 240,
      "outputs": [
        {
          "output_type": "execute_result",
          "data": {
            "text/plain": [
              "array([[8, 1, 7, 9, 0, 3, 6, 1, 5, 6],\n",
              "       [7, 9, 4, 4, 4, 9, 1, 4, 0, 4],\n",
              "       [9, 6, 3, 9, 6, 9, 0, 4, 8, 7],\n",
              "       [4, 4, 4, 5, 2, 7, 0, 4, 2, 7],\n",
              "       [7, 7, 9, 9, 1, 1, 1, 7, 9, 9],\n",
              "       [6, 9, 8, 0, 1, 8, 0, 9, 8, 9],\n",
              "       [3, 1, 5, 9, 3, 8, 3, 8, 2, 4],\n",
              "       [3, 2, 8, 8, 1, 9, 9, 2, 4, 5],\n",
              "       [6, 4, 1, 9, 6, 0, 8, 7, 1, 6],\n",
              "       [5, 0, 9, 7, 3, 0, 0, 7, 1, 5]])"
            ]
          },
          "metadata": {
            "tags": []
          },
          "execution_count": 240
        }
      ]
    },
    {
      "cell_type": "code",
      "metadata": {
        "colab": {
          "base_uri": "https://localhost:8080/"
        },
        "id": "ctHr9g_r5zv5",
        "outputId": "8c03cc32-51c2-4c80-e605-ec2fcedf33a8"
      },
      "source": [
        "# Função unique verifica todo o array e retorna os valores excluindo os repetidos. \n",
        "unique = np.array([11, 11, 11, 11, 12, 12, 12, 12, 12, 12, 13, 13, 13, 13, 13,13, 14, 14, 14, 14, 14, 15, 16, 17, 12, 13, 11, 18, 19, 20])\n",
        "unique = np.unique(unique)\n",
        "unique\n"
      ],
      "execution_count": 242,
      "outputs": [
        {
          "output_type": "execute_result",
          "data": {
            "text/plain": [
              "array([11, 12, 13, 14, 15, 16, 17, 18, 19, 20])"
            ]
          },
          "metadata": {
            "tags": []
          },
          "execution_count": 242
        }
      ]
    },
    {
      "cell_type": "code",
      "metadata": {
        "colab": {
          "base_uri": "https://localhost:8080/"
        },
        "id": "aaqML9UL6dKR",
        "outputId": "6b8b22de-48ac-43ea-a941-5289764cf213"
      },
      "source": [
        "matriz_bi = np.array([[17,22,43],[27,325,14],[15,424,32], [65,24,32], [15,424,32], [15,424,32], [15,424,32], [315,24,32], [15,5624,32]]) # Cria uma matriz bidimensional. \n",
        "matriz_bi\n"
      ],
      "execution_count": 245,
      "outputs": [
        {
          "output_type": "execute_result",
          "data": {
            "text/plain": [
              "array([[  17,   22,   43],\n",
              "       [  27,  325,   14],\n",
              "       [  15,  424,   32],\n",
              "       [  65,   24,   32],\n",
              "       [  15,  424,   32],\n",
              "       [  15,  424,   32],\n",
              "       [  15,  424,   32],\n",
              "       [ 315,   24,   32],\n",
              "       [  15, 5624,   32]])"
            ]
          },
          "metadata": {
            "tags": []
          },
          "execution_count": 245
        }
      ]
    },
    {
      "cell_type": "code",
      "metadata": {
        "colab": {
          "base_uri": "https://localhost:8080/"
        },
        "id": "E7m-GUWT7haF",
        "outputId": "5622c3e3-e4bd-4268-c139-9f077ff28bd4"
      },
      "source": [
        "matriz_bi[0][1] # Retornando um elemento da lista. "
      ],
      "execution_count": 250,
      "outputs": [
        {
          "output_type": "execute_result",
          "data": {
            "text/plain": [
              "22"
            ]
          },
          "metadata": {
            "tags": []
          },
          "execution_count": 250
        }
      ]
    },
    {
      "cell_type": "code",
      "metadata": {
        "colab": {
          "base_uri": "https://localhost:8080/"
        },
        "id": "e-Fvj3N58HdT",
        "outputId": "dcb91799-e54c-41c3-a63a-1348c0b8e0f6"
      },
      "source": [
        "matriz_bi[2][2] # Retornando um elemento da lista. "
      ],
      "execution_count": 251,
      "outputs": [
        {
          "output_type": "execute_result",
          "data": {
            "text/plain": [
              "32"
            ]
          },
          "metadata": {
            "tags": []
          },
          "execution_count": 251
        }
      ]
    },
    {
      "cell_type": "code",
      "metadata": {
        "colab": {
          "base_uri": "https://localhost:8080/"
        },
        "id": "-2hNP_Ol8Oj3",
        "outputId": "b476a0bc-765b-4dc9-ad77-f9df93feef33"
      },
      "source": [
        "matriz_bi[2][1] # Retornando um elemento da lista. "
      ],
      "execution_count": 253,
      "outputs": [
        {
          "output_type": "execute_result",
          "data": {
            "text/plain": [
              "424"
            ]
          },
          "metadata": {
            "tags": []
          },
          "execution_count": 253
        }
      ]
    },
    {
      "cell_type": "code",
      "metadata": {
        "colab": {
          "base_uri": "https://localhost:8080/"
        },
        "id": "utiMGPdp8Vr3",
        "outputId": "b1b5fe91-37f7-4eea-a54b-85f5150739a9"
      },
      "source": [
        "matriz_bi.shape # Mostra o tamanho da matriz dez linhas e trêz colunas. "
      ],
      "execution_count": 254,
      "outputs": [
        {
          "output_type": "execute_result",
          "data": {
            "text/plain": [
              "(9, 3)"
            ]
          },
          "metadata": {
            "tags": []
          },
          "execution_count": 254
        }
      ]
    },
    {
      "cell_type": "code",
      "metadata": {
        "colab": {
          "base_uri": "https://localhost:8080/"
        },
        "id": "oEs96s7R8lI2",
        "outputId": "4e47e46d-5452-4de7-989f-a8c9e2538202"
      },
      "source": [
        "  matriz_bi.max() # Mostra o maior valor da matriz. \n"
      ],
      "execution_count": 255,
      "outputs": [
        {
          "output_type": "execute_result",
          "data": {
            "text/plain": [
              "5624"
            ]
          },
          "metadata": {
            "tags": []
          },
          "execution_count": 255
        }
      ]
    },
    {
      "cell_type": "code",
      "metadata": {
        "colab": {
          "base_uri": "https://localhost:8080/"
        },
        "id": "I7nJsnCW8xyK",
        "outputId": "2ed27d62-99bd-4f51-c8cb-56174f51c4c2"
      },
      "source": [
        "matriz_bi.min() # Mostra o menor valior da matriz. "
      ],
      "execution_count": 256,
      "outputs": [
        {
          "output_type": "execute_result",
          "data": {
            "text/plain": [
              "14"
            ]
          },
          "metadata": {
            "tags": []
          },
          "execution_count": 256
        }
      ]
    },
    {
      "cell_type": "code",
      "metadata": {
        "colab": {
          "base_uri": "https://localhost:8080/"
        },
        "id": "5sn8073185I9",
        "outputId": "d3bf17e5-6af8-4b96-9ac5-8c82054d79d5"
      },
      "source": [
        "matriz_bi.sum()#  Mostra a soma da matriz. "
      ],
      "execution_count": 258,
      "outputs": [
        {
          "output_type": "execute_result",
          "data": {
            "text/plain": [
              "8495"
            ]
          },
          "metadata": {
            "tags": []
          },
          "execution_count": 258
        }
      ]
    },
    {
      "cell_type": "code",
      "metadata": {
        "colab": {
          "base_uri": "https://localhost:8080/"
        },
        "id": "SkP4ZtFv9Bw1",
        "outputId": "a7e43610-46b7-4e2b-c635-147f8d29772c"
      },
      "source": [
        "matriz_bi.mean() # Mostra a média dos valores da matriz. "
      ],
      "execution_count": 259,
      "outputs": [
        {
          "output_type": "execute_result",
          "data": {
            "text/plain": [
              "314.6296296296296"
            ]
          },
          "metadata": {
            "tags": []
          },
          "execution_count": 259
        }
      ]
    },
    {
      "cell_type": "code",
      "metadata": {
        "colab": {
          "base_uri": "https://localhost:8080/"
        },
        "id": "N5JnCYn69NIy",
        "outputId": "2a16ac29-c15b-45e5-c9df-cb968c05f35e"
      },
      "source": [
        "matriz_bi.std() # Mostra o desvio padrão, dos valores da matriz.  "
      ],
      "execution_count": 261,
      "outputs": [
        {
          "output_type": "execute_result",
          "data": {
            "text/plain": [
              "1052.2949927252707"
            ]
          },
          "metadata": {
            "tags": []
          },
          "execution_count": 261
        }
      ]
    },
    {
      "cell_type": "code",
      "metadata": {
        "colab": {
          "base_uri": "https://localhost:8080/"
        },
        "id": "R-B5MPqN9pnC",
        "outputId": "f5a35263-a3d6-4040-f02a-b69019d3c794"
      },
      "source": [
        "array_3 = np.array([2, 4, 6, 16, 25, 36, 100, 81]) # Criando um array de inteiros. \n",
        "array_3\n"
      ],
      "execution_count": 266,
      "outputs": [
        {
          "output_type": "execute_result",
          "data": {
            "text/plain": [
              "array([  2,   4,   6,  16,  25,  36, 100,  81])"
            ]
          },
          "metadata": {
            "tags": []
          },
          "execution_count": 266
        }
      ]
    },
    {
      "cell_type": "code",
      "metadata": {
        "colab": {
          "base_uri": "https://localhost:8080/"
        },
        "id": "7KJDeu12984b",
        "outputId": "6cefe6ad-2067-48dd-b621-8f24df9f6515"
      },
      "source": [
        "np.sqrt(array_3) # Retornando os valores da raiz dos elementos do array. "
      ],
      "execution_count": 268,
      "outputs": [
        {
          "output_type": "execute_result",
          "data": {
            "text/plain": [
              "array([ 1.41421356,  2.        ,  2.44948974,  4.        ,  5.        ,\n",
              "        6.        , 10.        ,  9.        ])"
            ]
          },
          "metadata": {
            "tags": []
          },
          "execution_count": 268
        }
      ]
    },
    {
      "cell_type": "code",
      "metadata": {
        "colab": {
          "base_uri": "https://localhost:8080/"
        },
        "id": "uTZX8LTR-kMy",
        "outputId": "3ca5ce2d-3863-48b2-9671-05d0f9c7b04d"
      },
      "source": [
        "np.exp(array_3) # Retornando os valores dos expoentes dos elementos. "
      ],
      "execution_count": 269,
      "outputs": [
        {
          "output_type": "execute_result",
          "data": {
            "text/plain": [
              "array([7.38905610e+00, 5.45981500e+01, 4.03428793e+02, 8.88611052e+06,\n",
              "       7.20048993e+10, 4.31123155e+15, 2.68811714e+43, 1.50609731e+35])"
            ]
          },
          "metadata": {
            "tags": []
          },
          "execution_count": 269
        }
      ]
    },
    {
      "cell_type": "code",
      "metadata": {
        "colab": {
          "base_uri": "https://localhost:8080/"
        },
        "id": "YoCvUPcp-vBJ",
        "outputId": "2f6a0d26-b9f0-4a8f-ea74-31290b9e5dce"
      },
      "source": [
        "#  Criando um array multidimencional. \n",
        "l = np.array([[4,5,6], [6,1,7], [7,4,7], [3,4,8], [4,5,5], [6,7,9], [4,5,5], [5,6,2],\n",
        "              [3,4,3], [3,4,7], [4,5,4], [4,5,3], [4,5,2], [5,6,2], [7,8,8], [7,8,8]]) \n",
        "                        \n",
        "print(l)"
      ],
      "execution_count": 286,
      "outputs": [
        {
          "output_type": "stream",
          "text": [
            "[[4 5 6]\n",
            " [6 1 7]\n",
            " [7 4 7]\n",
            " [3 4 8]\n",
            " [4 5 5]\n",
            " [6 7 9]\n",
            " [4 5 5]\n",
            " [5 6 2]\n",
            " [3 4 3]\n",
            " [3 4 7]\n",
            " [4 5 4]\n",
            " [4 5 3]\n",
            " [4 5 2]\n",
            " [5 6 2]\n",
            " [7 8 8]\n",
            " [7 8 8]]\n"
          ],
          "name": "stdout"
        }
      ]
    },
    {
      "cell_type": "code",
      "metadata": {
        "colab": {
          "base_uri": "https://localhost:8080/"
        },
        "id": "aitly83n_2vf",
        "outputId": "c68e839f-2f70-4c02-9bbc-b99b27357f71"
      },
      "source": [
        "l_linha_1 = l[0, :] # Retornando a primeira linha. \n",
        "print(l_linha_1)"
      ],
      "execution_count": 289,
      "outputs": [
        {
          "output_type": "stream",
          "text": [
            "[4 5 6]\n"
          ],
          "name": "stdout"
        }
      ]
    },
    {
      "cell_type": "code",
      "metadata": {
        "id": "rkSSzLq2F2qV",
        "outputId": "517e68fb-2658-493f-db04-57f8caf09bb5",
        "colab": {
          "base_uri": "https://localhost:8080/"
        }
      },
      "source": [
        "l_linha_2 = l[1, :] # Retornando a segunda lionha inteira. \n",
        "print(l_linha_2)"
      ],
      "execution_count": 291,
      "outputs": [
        {
          "output_type": "stream",
          "text": [
            "[6 1 7]\n"
          ],
          "name": "stdout"
        }
      ]
    },
    {
      "cell_type": "code",
      "metadata": {
        "id": "AzUEBBhoGmGX",
        "outputId": "0054fdaa-c20b-4f54-add9-64e40593fe67",
        "colab": {
          "base_uri": "https://localhost:8080/"
        }
      },
      "source": [
        "l_linha_3 = l[2, :] # Retornando a terceira linha inteira. \n",
        "print(l_linha_3)"
      ],
      "execution_count": 293,
      "outputs": [
        {
          "output_type": "stream",
          "text": [
            "[7 4 7]\n"
          ],
          "name": "stdout"
        }
      ]
    },
    {
      "cell_type": "code",
      "metadata": {
        "id": "CsqXuJshGzi-",
        "outputId": "49bd9d7a-d361-4d68-f066-b6757a14ffe5",
        "colab": {
          "base_uri": "https://localhost:8080/"
        }
      },
      "source": [
        "coluna_1 = l[:, 0] # retornando coluna 1. \n",
        "coluna_1\n"
      ],
      "execution_count": 299,
      "outputs": [
        {
          "output_type": "execute_result",
          "data": {
            "text/plain": [
              "array([4, 6, 7, 3, 4, 6, 4, 5, 3, 3, 4, 4, 4, 5, 7, 7])"
            ]
          },
          "metadata": {
            "tags": []
          },
          "execution_count": 299
        }
      ]
    },
    {
      "cell_type": "code",
      "metadata": {
        "id": "4prNLWt6HKOG",
        "outputId": "8284366d-8e8c-4174-fdce-412dad50bdad",
        "colab": {
          "base_uri": "https://localhost:8080/"
        }
      },
      "source": [
        "coluna_2 = l[:, 1] # Retornando coluna 2. \n",
        "coluna_2"
      ],
      "execution_count": 298,
      "outputs": [
        {
          "output_type": "execute_result",
          "data": {
            "text/plain": [
              "array([5, 1, 4, 4, 5, 7, 5, 6, 4, 4, 5, 5, 5, 6, 8, 8])"
            ]
          },
          "metadata": {
            "tags": []
          },
          "execution_count": 298
        }
      ]
    },
    {
      "cell_type": "code",
      "metadata": {
        "id": "PI39w9BLHWSl",
        "outputId": "c01b1c7f-a1f2-44ca-d2a3-46f9d6b3fe0d",
        "colab": {
          "base_uri": "https://localhost:8080/"
        }
      },
      "source": [
        "coluna_3 = l[:, 2] # Retornando coluna 3.\n",
        "coluna_3"
      ],
      "execution_count": 297,
      "outputs": [
        {
          "output_type": "execute_result",
          "data": {
            "text/plain": [
              "array([6, 7, 7, 8, 5, 9, 5, 2, 3, 7, 4, 3, 2, 2, 8, 8])"
            ]
          },
          "metadata": {
            "tags": []
          },
          "execution_count": 297
        }
      ]
    },
    {
      "cell_type": "code",
      "metadata": {
        "id": "3QMkACq6Hm2h",
        "outputId": "0296009d-cd93-4157-9a21-3003ba22e84d",
        "colab": {
          "base_uri": "https://localhost:8080/"
        }
      },
      "source": [
        "array_4 = np.array([1, 2, 3, 4, 5, 6, 3, 4, 5, 6, 5, 5, 7]) # Criando array com numeros inteiros. \n",
        "array_4"
      ],
      "execution_count": 303,
      "outputs": [
        {
          "output_type": "execute_result",
          "data": {
            "text/plain": [
              "array([1, 2, 3, 4, 5, 6, 3, 4, 5, 6, 5, 5, 7])"
            ]
          },
          "metadata": {
            "tags": []
          },
          "execution_count": 303
        }
      ]
    },
    {
      "cell_type": "code",
      "metadata": {
        "id": "zNBxAR0PIBSB",
        "outputId": "ef77bee5-7024-44c8-866a-778dd402e410",
        "colab": {
          "base_uri": "https://localhost:8080/"
        }
      },
      "source": [
        "array_4[2] # Retorna os dados da posição 2. "
      ],
      "execution_count": 305,
      "outputs": [
        {
          "output_type": "execute_result",
          "data": {
            "text/plain": [
              "3"
            ]
          },
          "metadata": {
            "tags": []
          },
          "execution_count": 305
        }
      ]
    },
    {
      "cell_type": "code",
      "metadata": {
        "id": "UUdvwg2-Ilkk",
        "outputId": "509c4333-45cf-47a9-edfc-c7037f4200fd",
        "colab": {
          "base_uri": "https://localhost:8080/"
        }
      },
      "source": [
        "array_4[0:4] # Retorna os dados da posiçào um até a posição 4. "
      ],
      "execution_count": 307,
      "outputs": [
        {
          "output_type": "execute_result",
          "data": {
            "text/plain": [
              "array([1, 2, 3, 4])"
            ]
          },
          "metadata": {
            "tags": []
          },
          "execution_count": 307
        }
      ]
    },
    {
      "cell_type": "code",
      "metadata": {
        "id": "10b84UflI9wa",
        "outputId": "08eb4a61-98b3-411a-df4d-e152af95d7c8",
        "colab": {
          "base_uri": "https://localhost:8080/"
        }
      },
      "source": [
        "array_4[1:8] # Retorna o dado da posição 2 até a posição 8. "
      ],
      "execution_count": 309,
      "outputs": [
        {
          "output_type": "execute_result",
          "data": {
            "text/plain": [
              "array([2, 3, 4, 5, 6, 3, 4])"
            ]
          },
          "metadata": {
            "tags": []
          },
          "execution_count": 309
        }
      ]
    },
    {
      "cell_type": "code",
      "metadata": {
        "id": "8GFF-cDxJWQl",
        "outputId": "e0e70351-5d51-418a-f78d-de75f54a26eb",
        "colab": {
          "base_uri": "https://localhost:8080/"
        }
      },
      "source": [
        "array_4[-3:] # Retorna o valor apartir da antipenultima posição. "
      ],
      "execution_count": 311,
      "outputs": [
        {
          "output_type": "execute_result",
          "data": {
            "text/plain": [
              "array([5, 5, 7])"
            ]
          },
          "metadata": {
            "tags": []
          },
          "execution_count": 311
        }
      ]
    },
    {
      "cell_type": "code",
      "metadata": {
        "id": "hU1ieIk6KUNC"
      },
      "source": [
        "n = np.array([[1, 2], [3, 4]]) # criando dois arrays multidimencionais\n",
        "o = np.array([[1, 1], [1, 1]])"
      ],
      "execution_count": 312,
      "outputs": []
    },
    {
      "cell_type": "code",
      "metadata": {
        "id": "XKZh-ctaKh3O",
        "outputId": "fe23e3dc-9209-4527-bd3a-87267ceed40d",
        "colab": {
          "base_uri": "https://localhost:8080/"
        }
      },
      "source": [
        "result = n+o # Somando os dois arrays e guardando em uma variavel o resultado. \n",
        "result"
      ],
      "execution_count": 314,
      "outputs": [
        {
          "output_type": "execute_result",
          "data": {
            "text/plain": [
              "array([[2, 3],\n",
              "       [4, 5]])"
            ]
          },
          "metadata": {
            "tags": []
          },
          "execution_count": 314
        }
      ]
    },
    {
      "cell_type": "code",
      "metadata": {
        "id": "V4UGRRPUKxjz",
        "outputId": "7208e782-b902-4fd3-ed64-54a3b8965c3d",
        "colab": {
          "base_uri": "https://localhost:8080/"
        }
      },
      "source": [
        "result_2 = n*o # Multiplicando os valores do array e guardando em uma variável. \n",
        "result_2"
      ],
      "execution_count": 316,
      "outputs": [
        {
          "output_type": "execute_result",
          "data": {
            "text/plain": [
              "array([[1, 2],\n",
              "       [3, 4]])"
            ]
          },
          "metadata": {
            "tags": []
          },
          "execution_count": 316
        }
      ]
    },
    {
      "cell_type": "code",
      "metadata": {
        "id": "qVUAM28ULDBp"
      },
      "source": [
        "p = np.array([[1, 2], [3, 4], [5, 6]]) # Criando um array com 3 listas\n",
        "q = np.array([[2, 1]]) # Criando um array com uma lista. \n"
      ],
      "execution_count": 317,
      "outputs": []
    },
    {
      "cell_type": "code",
      "metadata": {
        "id": "eTcXuH7QLoOm",
        "outputId": "742df05e-ad4c-4969-a1a2-4ad9884d06e1",
        "colab": {
          "base_uri": "https://localhost:8080/"
        }
      },
      "source": [
        "x = p + q # Somando o array q com uma lista com todas as listas do array p. \n",
        "x"
      ],
      "execution_count": 321,
      "outputs": [
        {
          "output_type": "execute_result",
          "data": {
            "text/plain": [
              "array([[3, 3],\n",
              "       [5, 5],\n",
              "       [7, 7]])"
            ]
          },
          "metadata": {
            "tags": []
          },
          "execution_count": 321
        }
      ]
    },
    {
      "cell_type": "code",
      "metadata": {
        "id": "JN3Q-H3EMBYc"
      },
      "source": [
        ""
      ],
      "execution_count": null,
      "outputs": []
    }
  ]
}