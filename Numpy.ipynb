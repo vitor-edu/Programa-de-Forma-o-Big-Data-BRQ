{
  "nbformat": 4,
  "nbformat_minor": 0,
  "metadata": {
    "colab": {
      "name": "Numpy.ipynb",
      "provenance": [],
      "collapsed_sections": [],
      "authorship_tag": "ABX9TyO119zcZbnnXmuLpGUnzN0X",
      "include_colab_link": true
    },
    "kernelspec": {
      "name": "python3",
      "display_name": "Python 3"
    },
    "language_info": {
      "name": "python"
    }
  },
  "cells": [
    {
      "cell_type": "markdown",
      "metadata": {
        "id": "view-in-github",
        "colab_type": "text"
      },
      "source": [
        "<a href=\"https://colab.research.google.com/github/vitor-edu/Programa-de-Formacao-Big-Data-BRQ/blob/main/Numpy.ipynb\" target=\"_parent\"><img src=\"https://colab.research.google.com/assets/colab-badge.svg\" alt=\"Open In Colab\"/></a>"
      ]
    },
    {
      "cell_type": "code",
      "metadata": {
        "colab": {
          "base_uri": "https://localhost:8080/"
        },
        "id": "SfnqxMHrZ8pg",
        "outputId": "3f7beae5-df5d-46fe-fd31-9d8321e97209"
      },
      "source": [
        "import pandas as pd  # importar a biblioteca pandas\n",
        "\n",
        "s1 = pd.Series([2,3,4,5,6,54,55,67,88]) # Comando series cria um index\n",
        "s1"
      ],
      "execution_count": 1,
      "outputs": [
        {
          "output_type": "execute_result",
          "data": {
            "text/plain": [
              "0     2\n",
              "1     3\n",
              "2     4\n",
              "3     5\n",
              "4     6\n",
              "5    54\n",
              "6    55\n",
              "7    67\n",
              "8    88\n",
              "dtype: int64"
            ]
          },
          "metadata": {
            "tags": []
          },
          "execution_count": 1
        }
      ]
    },
    {
      "cell_type": "code",
      "metadata": {
        "colab": {
          "base_uri": "https://localhost:8080/"
        },
        "id": "cisM00MEYhgR",
        "outputId": "e63dd622-0095-4d65-e1b1-5be91ecfc996"
      },
      "source": [
        "import numpy as np # importando a biblioteca numpy\n",
        "\n",
        "array = np.array([2,33,44,55,76,78]) # Criando uma matriz unidimencional. \n",
        "print(array)"
      ],
      "execution_count": 4,
      "outputs": [
        {
          "output_type": "stream",
          "text": [
            "[ 2 33 44 55 76 78]\n"
          ],
          "name": "stdout"
        }
      ]
    },
    {
      "cell_type": "code",
      "metadata": {
        "id": "q1qQANZsaLad",
        "outputId": "676275bf-7578-4e68-efea-a824d24af4e8",
        "colab": {
          "base_uri": "https://localhost:8080/"
        }
      },
      "source": [
        "type(array)"
      ],
      "execution_count": 16,
      "outputs": [
        {
          "output_type": "execute_result",
          "data": {
            "text/plain": [
              "numpy.ndarray"
            ]
          },
          "metadata": {
            "tags": []
          },
          "execution_count": 16
        }
      ]
    },
    {
      "cell_type": "code",
      "metadata": {
        "id": "nE-sYGz8MZMt",
        "outputId": "c2aae053-fbc7-40ce-d148-e2266477412b",
        "colab": {
          "base_uri": "https://localhost:8080/"
        }
      },
      "source": [
        "x = np.array([1, 2, 3, 4, 5, 6], dtype = np.float64) # Chamando a função numpy criando um array com typo específico.  \n",
        "print(x)\n",
        "print(x.dtype)\n",
        "                                           \n",
        "y = np.array([1, 2, 3, 4, 5, 6], dtype = np.float32)\n",
        "print(y)\n",
        "print(y.dtype)"
      ],
      "execution_count": 23,
      "outputs": [
        {
          "output_type": "stream",
          "text": [
            "[1. 2. 3. 4. 5. 6.]\n",
            "float64\n",
            "[1. 2. 3. 4. 5. 6.]\n",
            "float32\n"
          ],
          "name": "stdout"
        }
      ]
    },
    {
      "cell_type": "code",
      "metadata": {
        "id": "4cH3_C6OPdUt",
        "outputId": "602f96d2-3e33-4e7e-b436-645795b7e4da",
        "colab": {
          "base_uri": "https://localhost:8080/"
        }
      },
      "source": [
        "x = np.array([3.5, 5.6, 7.8, 9.5, 78.8, 56.999, 76.000, 7.8]) # Criando array com typo de dados float. \n",
        "print(x)\n",
        "print(x.dtype)\n"
      ],
      "execution_count": 25,
      "outputs": [
        {
          "output_type": "stream",
          "text": [
            "[ 3.5    5.6    7.8    9.5   78.8   56.999 76.     7.8  ]\n",
            "float64\n"
          ],
          "name": "stdout"
        }
      ]
    },
    {
      "cell_type": "code",
      "metadata": {
        "id": "Z8k1HzAERXUl",
        "outputId": "6a95fb3d-e4b3-422a-f48a-75c5cc43cea3",
        "colab": {
          "base_uri": "https://localhost:8080/"
        }
      },
      "source": [
        "y = x.astype(np.int) # Convertendo o typo de dado do array, para inteiro. \n",
        "print(y)\n",
        "print(y.dtype)"
      ],
      "execution_count": 28,
      "outputs": [
        {
          "output_type": "stream",
          "text": [
            "[ 3  5  7  9 78 56 76  7]\n",
            "int64\n"
          ],
          "name": "stdout"
        }
      ]
    },
    {
      "cell_type": "code",
      "metadata": {
        "id": "h_YBeH5dSDIN",
        "outputId": "08eaa1c1-31d6-4e6a-bf3c-fe939aad87ca",
        "colab": {
          "base_uri": "https://localhost:8080/"
        }
      },
      "source": [
        "z = np.array([1, 3, 45, 65, 7, 8]) # Criando array com dados do tipo inteiro. \n",
        "print(z)\n",
        "print(z.dtype)"
      ],
      "execution_count": 31,
      "outputs": [
        {
          "output_type": "stream",
          "text": [
            "[ 1  3 45 65  7  8]\n",
            "int64\n"
          ],
          "name": "stdout"
        }
      ]
    },
    {
      "cell_type": "code",
      "metadata": {
        "id": "5iuIT5kfSjBi",
        "outputId": "1a0904c8-dad3-4a1b-ab4c-a509d9f77b35",
        "colab": {
          "base_uri": "https://localhost:8080/"
        }
      },
      "source": [
        "w = z.astype(np.float) # Convertendo o typo de dado do array, para float. \n",
        "print(w)\n",
        "print(w.dtype)"
      ],
      "execution_count": 34,
      "outputs": [
        {
          "output_type": "stream",
          "text": [
            "[ 1.  3. 45. 65.  7.  8.]\n",
            "float64\n"
          ],
          "name": "stdout"
        }
      ]
    },
    {
      "cell_type": "code",
      "metadata": {
        "id": "NJBU7QMtUJ9i",
        "outputId": "f100d6a0-37dd-489e-ff47-9c8173059b3b",
        "colab": {
          "base_uri": "https://localhost:8080/"
        }
      },
      "source": [
        "bi_dimencional = np.array([[2,4,5],[3,4,5], [2,4,6], [5,6,7], [4,5,6]]) # Criando uma matriz bidimencional. \n",
        "bi_dimencional\n"
      ],
      "execution_count": 43,
      "outputs": [
        {
          "output_type": "execute_result",
          "data": {
            "text/plain": [
              "array([[2, 4, 5],\n",
              "       [3, 4, 5],\n",
              "       [2, 4, 6],\n",
              "       [5, 6, 7],\n",
              "       [4, 5, 6]])"
            ]
          },
          "metadata": {
            "tags": []
          },
          "execution_count": 43
        }
      ]
    },
    {
      "cell_type": "code",
      "metadata": {
        "id": "z124F7NsV8yw",
        "outputId": "4ee55461-8984-4fb2-b804-8cbfa4aa4682",
        "colab": {
          "base_uri": "https://localhost:8080/"
        }
      },
      "source": [
        "bi_dimencional.dtype # tipo de dados da matriz"
      ],
      "execution_count": 45,
      "outputs": [
        {
          "output_type": "execute_result",
          "data": {
            "text/plain": [
              "dtype('int64')"
            ]
          },
          "metadata": {
            "tags": []
          },
          "execution_count": 45
        }
      ]
    },
    {
      "cell_type": "code",
      "metadata": {
        "id": "dkqJJwMoWDMJ"
      },
      "source": [
        ""
      ],
      "execution_count": null,
      "outputs": []
    }
  ]
}