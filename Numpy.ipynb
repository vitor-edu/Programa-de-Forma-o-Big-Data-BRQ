{
  "nbformat": 4,
  "nbformat_minor": 0,
  "metadata": {
    "colab": {
      "name": "Numpy.ipynb",
      "provenance": [],
      "collapsed_sections": [],
      "authorship_tag": "ABX9TyNYGnsmMHx/4FOL4OWhvk/w",
      "include_colab_link": true
    },
    "kernelspec": {
      "name": "python3",
      "display_name": "Python 3"
    },
    "language_info": {
      "name": "python"
    }
  },
  "cells": [
    {
      "cell_type": "markdown",
      "metadata": {
        "id": "view-in-github",
        "colab_type": "text"
      },
      "source": [
        "<a href=\"https://colab.research.google.com/github/vitor-edu/Programa-de-Formacao-Big-Data-BRQ/blob/main/Numpy.ipynb\" target=\"_parent\"><img src=\"https://colab.research.google.com/assets/colab-badge.svg\" alt=\"Open In Colab\"/></a>"
      ]
    },
    {
      "cell_type": "code",
      "metadata": {
        "colab": {
          "base_uri": "https://localhost:8080/"
        },
        "id": "cisM00MEYhgR",
        "outputId": "2dc81143-fc3d-4010-d32c-4e8a4ecf5533"
      },
      "source": [
        "import numpy as np # importando a biblioteca numpy\n",
        "\n",
        "array = np.array([2,33,44,55,76,78]) # Criando uma matriz unidimencional. \n",
        "print(array)"
      ],
      "execution_count": 207,
      "outputs": [
        {
          "output_type": "stream",
          "text": [
            "[ 2 33 44 55 76 78]\n"
          ],
          "name": "stdout"
        }
      ]
    },
    {
      "cell_type": "code",
      "metadata": {
        "id": "q1qQANZsaLad",
        "colab": {
          "base_uri": "https://localhost:8080/"
        },
        "outputId": "d917339d-9598-456a-9e7f-09e5255f8b20"
      },
      "source": [
        "type(array)"
      ],
      "execution_count": 208,
      "outputs": [
        {
          "output_type": "execute_result",
          "data": {
            "text/plain": [
              "numpy.ndarray"
            ]
          },
          "metadata": {
            "tags": []
          },
          "execution_count": 208
        }
      ]
    },
    {
      "cell_type": "code",
      "metadata": {
        "id": "nE-sYGz8MZMt",
        "colab": {
          "base_uri": "https://localhost:8080/"
        },
        "outputId": "61728a29-1ad0-46ee-ffba-1f9571073256"
      },
      "source": [
        "x = np.array([1, 2, 3, 4, 5, 6], dtype = np.float64) # Chamando a função numpy criando um array com typo específico.  \n",
        "print(x)\n",
        "print(x.dtype)\n",
        "                                           \n",
        "y = np.array([1, 2, 3, 4, 5, 6], dtype = np.float32)\n",
        "print(y)\n",
        "print(y.dtype)"
      ],
      "execution_count": 209,
      "outputs": [
        {
          "output_type": "stream",
          "text": [
            "[1. 2. 3. 4. 5. 6.]\n",
            "float64\n",
            "[1. 2. 3. 4. 5. 6.]\n",
            "float32\n"
          ],
          "name": "stdout"
        }
      ]
    },
    {
      "cell_type": "code",
      "metadata": {
        "id": "4cH3_C6OPdUt",
        "colab": {
          "base_uri": "https://localhost:8080/"
        },
        "outputId": "ae5ffa18-ea66-48ca-ea21-c2889c42a211"
      },
      "source": [
        "x = np.array([3.5, 5.6, 7.8, 9.5, 78.8, 56.999, 76.000, 7.8]) # Criando array com typo de dados float. \n",
        "print(x)\n",
        "print(x.dtype)\n"
      ],
      "execution_count": 210,
      "outputs": [
        {
          "output_type": "stream",
          "text": [
            "[ 3.5    5.6    7.8    9.5   78.8   56.999 76.     7.8  ]\n",
            "float64\n"
          ],
          "name": "stdout"
        }
      ]
    },
    {
      "cell_type": "code",
      "metadata": {
        "id": "Z8k1HzAERXUl",
        "colab": {
          "base_uri": "https://localhost:8080/"
        },
        "outputId": "d40a4fb0-93e4-405c-c6d5-a7aba68cbc08"
      },
      "source": [
        "y = x.astype(np.int) # Convertendo o typo de dado do array, para inteiro. \n",
        "print(y)\n",
        "print(y.dtype)"
      ],
      "execution_count": 211,
      "outputs": [
        {
          "output_type": "stream",
          "text": [
            "[ 3  5  7  9 78 56 76  7]\n",
            "int64\n"
          ],
          "name": "stdout"
        }
      ]
    },
    {
      "cell_type": "code",
      "metadata": {
        "id": "h_YBeH5dSDIN",
        "colab": {
          "base_uri": "https://localhost:8080/"
        },
        "outputId": "b4349b87-ca90-4c20-83fa-7ab854195aa9"
      },
      "source": [
        "z = np.array([1, 3, 45, 65, 7, 8]) # Criando array com dados do tipo inteiro. \n",
        "print(z)\n",
        "print(z.dtype)"
      ],
      "execution_count": 212,
      "outputs": [
        {
          "output_type": "stream",
          "text": [
            "[ 1  3 45 65  7  8]\n",
            "int64\n"
          ],
          "name": "stdout"
        }
      ]
    },
    {
      "cell_type": "code",
      "metadata": {
        "id": "5iuIT5kfSjBi",
        "colab": {
          "base_uri": "https://localhost:8080/"
        },
        "outputId": "f893bba8-dbbe-4706-f5f3-04c1c3a57a8a"
      },
      "source": [
        "w = z.astype(np.float) # Convertendo o typo de dado do array, para float. \n",
        "print(w)\n",
        "print(w.dtype)"
      ],
      "execution_count": 213,
      "outputs": [
        {
          "output_type": "stream",
          "text": [
            "[ 1.  3. 45. 65.  7.  8.]\n",
            "float64\n"
          ],
          "name": "stdout"
        }
      ]
    },
    {
      "cell_type": "code",
      "metadata": {
        "id": "NJBU7QMtUJ9i",
        "colab": {
          "base_uri": "https://localhost:8080/"
        },
        "outputId": "a1b13dd1-eb54-423a-ec99-81f0056f5b8d"
      },
      "source": [
        "bi_dimencional = np.array([[2,4,5],[3,4,5], [2,4,6], [5,6,7], [4,5,6]]) # Criando uma matriz bidimencional. \n",
        "bi_dimencional\n"
      ],
      "execution_count": 214,
      "outputs": [
        {
          "output_type": "execute_result",
          "data": {
            "text/plain": [
              "array([[2, 4, 5],\n",
              "       [3, 4, 5],\n",
              "       [2, 4, 6],\n",
              "       [5, 6, 7],\n",
              "       [4, 5, 6]])"
            ]
          },
          "metadata": {
            "tags": []
          },
          "execution_count": 214
        }
      ]
    },
    {
      "cell_type": "code",
      "metadata": {
        "id": "z124F7NsV8yw",
        "colab": {
          "base_uri": "https://localhost:8080/"
        },
        "outputId": "fc0ddb7d-2b21-46a4-b4f4-a6342ce510af"
      },
      "source": [
        "bi_dimencional.dtype # Tipo de dados da matriz"
      ],
      "execution_count": 215,
      "outputs": [
        {
          "output_type": "execute_result",
          "data": {
            "text/plain": [
              "dtype('int64')"
            ]
          },
          "metadata": {
            "tags": []
          },
          "execution_count": 215
        }
      ]
    },
    {
      "cell_type": "code",
      "metadata": {
        "id": "dkqJJwMoWDMJ",
        "colab": {
          "base_uri": "https://localhost:8080/"
        },
        "outputId": "0c3fea28-bb1c-4952-b7ff-ad9a7860ec6f"
      },
      "source": [
        "c = np.empty([10,10], dtype = int) # Criando uma matriz bidimencional 10x10. \n",
        "print(c)\n"
      ],
      "execution_count": 218,
      "outputs": [
        {
          "output_type": "stream",
          "text": [
            "[[     94805802627264     140007877515088                  -4\n",
            "      140007343915009                   0      94805741586272\n",
            "                   31      94805802627296     140008490214144\n",
            "      140008575326560]\n",
            " [    140008490206224                   0      94805802617712\n",
            "                    0                   0     140007343915009\n",
            "                    0        523986010138     139637976727552\n",
            "        1529008357496]\n",
            " [       519691042816                 252                   0\n",
            "      140007877624816     140007877531376                   0\n",
            "         146028888067      94802813124609     140007877531376\n",
            "                   12]\n",
            " [    140007877531424                   0        146028888067\n",
            "                    1     140007877531424     140007877616400\n",
            "      140007877531472                   0        146028888067\n",
            "  8391086148885151745]\n",
            " [    140007877531472        120259084292     140007877531520\n",
            "                    0        146028888067     140007343915009\n",
            "      140007877531520      94802813124608     140007877531568\n",
            "                    0]\n",
            " [                  0                   0                   0\n",
            "                    0      94805741612480     140008107797312\n",
            "       94805742217728     140007879700224      94805741543680\n",
            "      140007879700224]\n",
            " [    140008573872368     140008573872368      94805775791776\n",
            "       94805741612480      94805741612480     140008107983824\n",
            "      140007877446928     140008544152752      94805741543712\n",
            "       94805741543712]\n",
            " [     94805770527776     140008562632256      94805741543680\n",
            "       94805741566496     140007878835440     140008574272240\n",
            "      140008575288240     140008110623152     140007343915009\n",
            "      140007877167312]\n",
            " [    140007948957744     140007949212208     140008010804320\n",
            "      140007948938576     140007948966704     140008010804000\n",
            "      140008574683440     140007948933856     140007948938688\n",
            "      140007948960848]\n",
            " [    140008574683440     140008010804080     140007948960944\n",
            "      140007948961040     140007948961136     140007948957872\n",
            "      140007948938800         17179869337 7310221941963489281\n",
            "      140007877156912]]\n"
          ],
          "name": "stdout"
        }
      ]
    },
    {
      "cell_type": "code",
      "metadata": {
        "colab": {
          "base_uri": "https://localhost:8080/"
        },
        "id": "MuP-Tfh4z7jr",
        "outputId": "943a2959-cf48-4ed4-e095-d2ac9a4abd04"
      },
      "source": [
        "x1 = np.zeros([10,10]) # cria uma matriz 10x10 com valores zero.\n",
        "x1"
      ],
      "execution_count": 219,
      "outputs": [
        {
          "output_type": "execute_result",
          "data": {
            "text/plain": [
              "array([[0., 0., 0., 0., 0., 0., 0., 0., 0., 0.],\n",
              "       [0., 0., 0., 0., 0., 0., 0., 0., 0., 0.],\n",
              "       [0., 0., 0., 0., 0., 0., 0., 0., 0., 0.],\n",
              "       [0., 0., 0., 0., 0., 0., 0., 0., 0., 0.],\n",
              "       [0., 0., 0., 0., 0., 0., 0., 0., 0., 0.],\n",
              "       [0., 0., 0., 0., 0., 0., 0., 0., 0., 0.],\n",
              "       [0., 0., 0., 0., 0., 0., 0., 0., 0., 0.],\n",
              "       [0., 0., 0., 0., 0., 0., 0., 0., 0., 0.],\n",
              "       [0., 0., 0., 0., 0., 0., 0., 0., 0., 0.],\n",
              "       [0., 0., 0., 0., 0., 0., 0., 0., 0., 0.]])"
            ]
          },
          "metadata": {
            "tags": []
          },
          "execution_count": 219
        }
      ]
    },
    {
      "cell_type": "code",
      "metadata": {
        "colab": {
          "base_uri": "https://localhost:8080/"
        },
        "id": "alzyELCy0fsS",
        "outputId": "488b50b1-9390-4c66-c08f-6c37b32c6b0b"
      },
      "source": [
        "e = np.ones([10,10])# Cria uma matriz de 10x10 com numero 1. \n",
        "print(e)"
      ],
      "execution_count": 220,
      "outputs": [
        {
          "output_type": "stream",
          "text": [
            "[[1. 1. 1. 1. 1. 1. 1. 1. 1. 1.]\n",
            " [1. 1. 1. 1. 1. 1. 1. 1. 1. 1.]\n",
            " [1. 1. 1. 1. 1. 1. 1. 1. 1. 1.]\n",
            " [1. 1. 1. 1. 1. 1. 1. 1. 1. 1.]\n",
            " [1. 1. 1. 1. 1. 1. 1. 1. 1. 1.]\n",
            " [1. 1. 1. 1. 1. 1. 1. 1. 1. 1.]\n",
            " [1. 1. 1. 1. 1. 1. 1. 1. 1. 1.]\n",
            " [1. 1. 1. 1. 1. 1. 1. 1. 1. 1.]\n",
            " [1. 1. 1. 1. 1. 1. 1. 1. 1. 1.]\n",
            " [1. 1. 1. 1. 1. 1. 1. 1. 1. 1.]]\n"
          ],
          "name": "stdout"
        }
      ]
    },
    {
      "cell_type": "code",
      "metadata": {
        "colab": {
          "base_uri": "https://localhost:8080/"
        },
        "id": "kt9ru2X50zHL",
        "outputId": "bb57c28b-8c69-40ad-ceef-b262c9e4d695"
      },
      "source": [
        "eye = np.eye(10) # Cria uma matriz com 10x10 formada por zeros e um traço diagonal formado pelo numero um.  \n",
        "eye"
      ],
      "execution_count": 222,
      "outputs": [
        {
          "output_type": "execute_result",
          "data": {
            "text/plain": [
              "array([[1., 0., 0., 0., 0., 0., 0., 0., 0., 0.],\n",
              "       [0., 1., 0., 0., 0., 0., 0., 0., 0., 0.],\n",
              "       [0., 0., 1., 0., 0., 0., 0., 0., 0., 0.],\n",
              "       [0., 0., 0., 1., 0., 0., 0., 0., 0., 0.],\n",
              "       [0., 0., 0., 0., 1., 0., 0., 0., 0., 0.],\n",
              "       [0., 0., 0., 0., 0., 1., 0., 0., 0., 0.],\n",
              "       [0., 0., 0., 0., 0., 0., 1., 0., 0., 0.],\n",
              "       [0., 0., 0., 0., 0., 0., 0., 1., 0., 0.],\n",
              "       [0., 0., 0., 0., 0., 0., 0., 0., 1., 0.],\n",
              "       [0., 0., 0., 0., 0., 0., 0., 0., 0., 1.]])"
            ]
          },
          "metadata": {
            "tags": []
          },
          "execution_count": 222
        }
      ]
    },
    {
      "cell_type": "code",
      "metadata": {
        "colab": {
          "base_uri": "https://localhost:8080/"
        },
        "id": "ioXduIQp1q6R",
        "outputId": "ebb13a32-0579-4a8e-8a9a-f241f09f3bc2"
      },
      "source": [
        "g = np.random.random((10)) # Gera 10 numeros randômicos entre 0 e 1. \n",
        "g\n"
      ],
      "execution_count": 226,
      "outputs": [
        {
          "output_type": "execute_result",
          "data": {
            "text/plain": [
              "array([0.03143043, 0.9259463 , 0.71597402, 0.97115562, 0.20630857,\n",
              "       0.44780464, 0.72808023, 0.61749269, 0.64556802, 0.15490762])"
            ]
          },
          "metadata": {
            "tags": []
          },
          "execution_count": 226
        }
      ]
    },
    {
      "cell_type": "code",
      "metadata": {
        "colab": {
          "base_uri": "https://localhost:8080/"
        },
        "id": "Kl8fnfhT2r5a",
        "outputId": "9ca9dcb9-a547-45bb-d0e8-e447fa8e6994"
      },
      "source": [
        "g2= np.random.randn((10)) # Gera 10 numeros randômicos entre 0 e 1.\n",
        "g2\n"
      ],
      "execution_count": 227,
      "outputs": [
        {
          "output_type": "execute_result",
          "data": {
            "text/plain": [
              "array([-1.19491171,  1.31474348, -0.61313422, -2.49878501,  0.10499893,\n",
              "        1.40540756, -0.49033613,  0.64521802, -0.8693972 ,  0.6685198 ])"
            ]
          },
          "metadata": {
            "tags": []
          },
          "execution_count": 227
        }
      ]
    },
    {
      "cell_type": "code",
      "metadata": {
        "colab": {
          "base_uri": "https://localhost:8080/"
        },
        "id": "-CanG-iJ23eg",
        "outputId": "53ba1771-5f9b-4899-e128-c97b90485b7b"
      },
      "source": [
        "array = np.floor(10*np.random.random((10,10))) # Criando arrays multidimencionais com valores entre 0 e 10 multiplicado pelo valor randomizado, retornando o valor absoluto através do comando floor.   \n",
        "array"
      ],
      "execution_count": 232,
      "outputs": [
        {
          "output_type": "execute_result",
          "data": {
            "text/plain": [
              "array([[8., 6., 4., 3., 5., 2., 9., 4., 2., 6.],\n",
              "       [4., 5., 6., 0., 4., 6., 0., 5., 1., 6.],\n",
              "       [6., 0., 3., 8., 4., 6., 6., 0., 9., 6.],\n",
              "       [0., 8., 4., 6., 1., 5., 8., 1., 3., 2.],\n",
              "       [4., 9., 3., 5., 9., 4., 5., 8., 4., 9.],\n",
              "       [8., 6., 6., 9., 6., 4., 4., 9., 6., 4.],\n",
              "       [3., 8., 5., 2., 6., 6., 3., 0., 3., 5.],\n",
              "       [1., 7., 6., 6., 5., 3., 6., 6., 8., 8.],\n",
              "       [6., 7., 9., 5., 2., 8., 8., 3., 0., 6.],\n",
              "       [9., 5., 4., 7., 0., 1., 2., 4., 8., 9.]])"
            ]
          },
          "metadata": {
            "tags": []
          },
          "execution_count": 232
        }
      ]
    },
    {
      "cell_type": "code",
      "metadata": {
        "colab": {
          "base_uri": "https://localhost:8080/"
        },
        "id": "AwNcNpkI4Qgr",
        "outputId": "90e11d5a-ce72-49d2-9834-b1c8ce8841fe"
      },
      "source": [
        "array = (10*np.random.random((10,10)))\n",
        "array"
      ],
      "execution_count": 234,
      "outputs": [
        {
          "output_type": "execute_result",
          "data": {
            "text/plain": [
              "array([[3.71172164e+00, 9.59808515e+00, 5.55587795e+00, 7.12807464e+00,\n",
              "        6.83504667e+00, 2.67567766e+00, 1.87079114e-01, 9.39369380e+00,\n",
              "        3.80587411e+00, 2.64799575e+00],\n",
              "       [5.97169330e+00, 2.84801019e-01, 8.40169242e+00, 2.04643996e-01,\n",
              "        3.77359752e-03, 9.42499438e+00, 7.15465810e+00, 2.92456267e+00,\n",
              "        1.61262071e+00, 8.57412132e+00],\n",
              "       [8.28720929e+00, 7.54634753e+00, 4.69697822e+00, 2.68416640e+00,\n",
              "        5.82298673e+00, 9.41351108e+00, 1.70946462e+00, 3.93422881e+00,\n",
              "        7.28607674e+00, 2.79261616e+00],\n",
              "       [8.85048996e+00, 9.02909696e-01, 5.03772986e+00, 8.14129421e+00,\n",
              "        2.74150833e+00, 6.06791398e+00, 6.75055123e+00, 7.89207224e+00,\n",
              "        4.40803974e+00, 7.88395767e+00],\n",
              "       [1.83808120e+00, 2.86534165e+00, 6.59531929e+00, 9.43541766e+00,\n",
              "        4.74326746e+00, 5.90622397e-01, 5.17336655e+00, 1.68513654e+00,\n",
              "        3.93689600e+00, 1.93920084e+00],\n",
              "       [1.00953699e+00, 6.97353326e+00, 4.66983727e+00, 4.09825696e+00,\n",
              "        6.48177327e+00, 4.24795214e+00, 5.52988184e+00, 6.99157250e+00,\n",
              "        4.97694900e+00, 9.76180967e+00],\n",
              "       [1.70616090e+00, 1.19904171e+00, 5.41235649e+00, 6.33593955e+00,\n",
              "        5.52790288e+00, 4.00477927e+00, 3.54013422e+00, 6.05981578e+00,\n",
              "        7.09711546e+00, 9.21518096e+00],\n",
              "       [2.44687997e+00, 9.69318469e+00, 5.25166523e+00, 7.61379832e-01,\n",
              "        1.12418345e+00, 5.06759178e+00, 2.54158735e+00, 7.40226656e+00,\n",
              "        2.68964405e+00, 6.30005485e+00],\n",
              "       [3.43382401e+00, 7.13939223e+00, 5.22644775e+00, 4.33140359e+00,\n",
              "        9.03717092e+00, 1.39038597e+00, 8.56871233e+00, 5.49658987e+00,\n",
              "        5.59627803e+00, 6.30342162e-01],\n",
              "       [2.32052507e+00, 5.00173354e+00, 1.79121055e-02, 8.44215985e-02,\n",
              "        8.33426235e+00, 6.11826850e+00, 9.41783079e+00, 8.34375820e+00,\n",
              "        2.70349118e+00, 1.87401058e+00]])"
            ]
          },
          "metadata": {
            "tags": []
          },
          "execution_count": 234
        }
      ]
    },
    {
      "cell_type": "code",
      "metadata": {
        "id": "6uRIu0VQ4KAb"
      },
      "source": [
        "# teste"
      ],
      "execution_count": null,
      "outputs": []
    }
  ]
}