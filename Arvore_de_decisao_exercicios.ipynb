{
  "nbformat": 4,
  "nbformat_minor": 0,
  "metadata": {
    "colab": {
      "name": "Arvore_de_decisao_exercicios.ipynb",
      "provenance": [],
      "authorship_tag": "ABX9TyO2lnpXx6Tc2Y4K4gw6i+y8",
      "include_colab_link": true
    },
    "kernelspec": {
      "name": "python3",
      "display_name": "Python 3"
    },
    "language_info": {
      "name": "python"
    }
  },
  "cells": [
    {
      "cell_type": "markdown",
      "metadata": {
        "id": "view-in-github",
        "colab_type": "text"
      },
      "source": [
        "<a href=\"https://colab.research.google.com/github/vitor-edu/Programa-de-Formacao-Big-Data-BRQ/blob/main/Arvore_de_decisao_exercicios.ipynb\" target=\"_parent\"><img src=\"https://colab.research.google.com/assets/colab-badge.svg\" alt=\"Open In Colab\"/></a>"
      ]
    },
    {
      "cell_type": "code",
      "metadata": {
        "id": "XEchEKJ6r-_b"
      },
      "source": [
        "# Para testar o nosso algoritmo vamos utilizar a base de dados Iris. "
      ],
      "execution_count": null,
      "outputs": []
    }
  ]
}