{
  "nbformat": 4,
  "nbformat_minor": 0,
  "metadata": {
    "colab": {
      "name": "Funcoes.ipynb",
      "provenance": [],
      "collapsed_sections": [],
      "authorship_tag": "ABX9TyO8A/ZWVk6b7bcPJpsp6K9T",
      "include_colab_link": true
    },
    "kernelspec": {
      "name": "python3",
      "display_name": "Python 3"
    },
    "language_info": {
      "name": "python"
    }
  },
  "cells": [
    {
      "cell_type": "markdown",
      "metadata": {
        "id": "view-in-github",
        "colab_type": "text"
      },
      "source": [
        "<a href=\"https://colab.research.google.com/github/vitor-edu/Programa-de-Formacao-Big-Data-BRQ/blob/main/Funcoes.ipynb\" target=\"_parent\"><img src=\"https://colab.research.google.com/assets/colab-badge.svg\" alt=\"Open In Colab\"/></a>"
      ]
    },
    {
      "cell_type": "markdown",
      "metadata": {
        "id": "Dg7ytj0tuS2I"
      },
      "source": [
        "### Funçoes"
      ]
    },
    {
      "cell_type": "code",
      "metadata": {
        "id": "JOw_1Krbt2tL"
      },
      "source": [
        "def soma(x,y): # Criando uma função que recebe dois parametros e faz a sua soma. \n",
        "  z = x+y\n",
        "  return z"
      ],
      "execution_count": 64,
      "outputs": []
    },
    {
      "cell_type": "code",
      "metadata": {
        "colab": {
          "base_uri": "https://localhost:8080/"
        },
        "id": "fUtPYELezlEU",
        "outputId": "bdfc0554-58e8-4ca1-b55c-16804091c8a2"
      },
      "source": [
        "soma(25,50) # Chamando a função soma com os dois parametros inteiros. "
      ],
      "execution_count": 65,
      "outputs": [
        {
          "output_type": "execute_result",
          "data": {
            "text/plain": [
              "75"
            ]
          },
          "metadata": {
            "tags": []
          },
          "execution_count": 65
        }
      ]
    },
    {
      "cell_type": "code",
      "metadata": {
        "id": "sw-zkesyz0hE"
      },
      "source": [
        "soma_2 = lambda x,y:x+y # Criando uma função soma usando lambda. "
      ],
      "execution_count": 66,
      "outputs": []
    },
    {
      "cell_type": "code",
      "metadata": {
        "colab": {
          "base_uri": "https://localhost:8080/"
        },
        "id": "_T6qBR6R0q6G",
        "outputId": "39789ed3-bd94-4459-f9f0-f48caac6c763"
      },
      "source": [
        "soma_2(34,65) # Chamando a função soma_2 usando parametro. "
      ],
      "execution_count": 67,
      "outputs": [
        {
          "output_type": "execute_result",
          "data": {
            "text/plain": [
              "99"
            ]
          },
          "metadata": {
            "tags": []
          },
          "execution_count": 67
        }
      ]
    },
    {
      "cell_type": "code",
      "metadata": {
        "id": "efFUBx78aezQ"
      },
      "source": [
        "num_1 = 386 # Declarando uma variável numérica. \n",
        "num_2 = 386 "
      ],
      "execution_count": 68,
      "outputs": []
    },
    {
      "cell_type": "markdown",
      "metadata": {
        "id": "MSOcgY_Bb_b5"
      },
      "source": [
        ""
      ]
    },
    {
      "cell_type": "code",
      "metadata": {
        "colab": {
          "base_uri": "https://localhost:8080/"
        },
        "id": "C4qnN_MAao6y",
        "outputId": "c1a93545-0c65-46dd-83e9-3e4af8349432"
      },
      "source": [
        "soma_2(num_1, num_2) # Chamando a função com variável. "
      ],
      "execution_count": 69,
      "outputs": [
        {
          "output_type": "execute_result",
          "data": {
            "text/plain": [
              "772"
            ]
          },
          "metadata": {
            "tags": []
          },
          "execution_count": 69
        }
      ]
    },
    {
      "cell_type": "code",
      "metadata": {
        "colab": {
          "base_uri": "https://localhost:8080/"
        },
        "id": "_vDoezmxbfql",
        "outputId": "5dba9a85-57e1-4a24-f5e7-d97a3db94c50"
      },
      "source": [
        "list_1 = [34,45,65,78,87,56,65,67,98,34,6] # Criando uma lista com valores numéricos. \n",
        "list_2 = [54,54,66,78,87,56,76,98,98,98,7]\n",
        "\n",
        "print(list_1, list_2)"
      ],
      "execution_count": 70,
      "outputs": [
        {
          "output_type": "stream",
          "text": [
            "[34, 45, 65, 78, 87, 56, 65, 67, 98, 34, 6] [54, 54, 66, 78, 87, 56, 76, 98, 98, 98, 7]\n"
          ],
          "name": "stdout"
        }
      ]
    },
    {
      "cell_type": "code",
      "metadata": {
        "colab": {
          "base_uri": "https://localhost:8080/"
        },
        "id": "7F7KTNuzgRYu",
        "outputId": "ea84123a-abe2-4e1f-8664-c956bd6c6ef0"
      },
      "source": [
        "# Chamando a função soma_2 e passando uma lista como parametro,  com a função 'sum' somando os valores da lista. \n",
        "soma_2(sum(list_1), sum(list_2)) "
      ],
      "execution_count": 71,
      "outputs": [
        {
          "output_type": "execute_result",
          "data": {
            "text/plain": [
              "1407"
            ]
          },
          "metadata": {
            "tags": []
          },
          "execution_count": 71
        }
      ]
    },
    {
      "cell_type": "markdown",
      "metadata": {
        "id": "gSAH5TI3iAoe"
      },
      "source": [
        "### Entrada de dados"
      ]
    },
    {
      "cell_type": "code",
      "metadata": {
        "id": "opoJ3r1KiDu_"
      },
      "source": [
        "# Criando uma função usando comando input para dados de entrada e fazendo uma concatenação com as variáveis. \n",
        "def leitura():\n",
        "  nome = input('digite seu nome') \n",
        "  sobrenome = input('digite seu sobrenome') \n",
        "  nome_completo = nome+ \" \" +sobrenome\n",
        "  print(\"seu nome completo é: \", nome_completo)"
      ],
      "execution_count": 72,
      "outputs": []
    },
    {
      "cell_type": "code",
      "metadata": {
        "colab": {
          "base_uri": "https://localhost:8080/"
        },
        "id": "PNU0uqr6mGP7",
        "outputId": "708dce35-c1a6-45e4-d7f0-7227d82f5f1e"
      },
      "source": [
        "leitura() # Chamando a função. "
      ],
      "execution_count": 73,
      "outputs": [
        {
          "output_type": "stream",
          "text": [
            "digite seu nomex\n",
            "digite seu sobrenomex\n",
            "seu nome completo é:  x x\n"
          ],
          "name": "stdout"
        }
      ]
    },
    {
      "cell_type": "code",
      "metadata": {
        "id": "ZwMqhC2Kst10"
      },
      "source": [
        "def potencia(a,b): # Criando uma função que traz a potência do numero inteiro. \n",
        "  valor = a**b\n",
        "  return valor"
      ],
      "execution_count": 74,
      "outputs": []
    },
    {
      "cell_type": "code",
      "metadata": {
        "colab": {
          "base_uri": "https://localhost:8080/"
        },
        "id": "lmJdfewBs8CN",
        "outputId": "e117ac6a-f981-4aa4-b53c-a2dd4a0b0036"
      },
      "source": [
        "potencia"
      ],
      "execution_count": 75,
      "outputs": [
        {
          "output_type": "execute_result",
          "data": {
            "text/plain": [
              "<function __main__.potencia>"
            ]
          },
          "metadata": {
            "tags": []
          },
          "execution_count": 75
        }
      ]
    },
    {
      "cell_type": "code",
      "metadata": {
        "colab": {
          "base_uri": "https://localhost:8080/"
        },
        "id": "-YSvhS7ltPKw",
        "outputId": "d5089176-fc23-42f5-dd2d-2f7f44049529"
      },
      "source": [
        "# chamando a função potência e passando uma variável com a função input solicitando o arquivo de entrada\n",
        "var1 = int(input(\"digite o numero: \"))\n",
        "var2 = int(input(\"digite a potencia\"))\n",
        "potencia(var1, var2)    "
      ],
      "execution_count": 79,
      "outputs": [
        {
          "output_type": "stream",
          "text": [
            "digite o numero: 55\n",
            "digite a potencia88\n"
          ],
          "name": "stdout"
        },
        {
          "output_type": "execute_result",
          "data": {
            "text/plain": [
              "1418785284922760350680200524941893374630228712846957130538159302377385773287067551911692574363496621241604138939119972295799243511282838881015777587890625"
            ]
          },
          "metadata": {
            "tags": []
          },
          "execution_count": 79
        }
      ]
    },
    {
      "cell_type": "code",
      "metadata": {
        "colab": {
          "base_uri": "https://localhost:8080/"
        },
        "id": "wW2F46RFm_8K",
        "outputId": "5dfa02f5-9915-46a0-a890-2a44a2751409"
      },
      "source": [
        "# Chamando a função potência,  passando uma variável com a função input,solicitando o arquivo de entrada. \n",
        "var3 = float(input(\"digite o numero: \"))\n",
        "var4 = float(input(\"digite a potencia\"))\n",
        "potencia(var3, var4) "
      ],
      "execution_count": 80,
      "outputs": [
        {
          "output_type": "stream",
          "text": [
            "digite o numero: 4\n",
            "digite a potencia2\n"
          ],
          "name": "stdout"
        },
        {
          "output_type": "execute_result",
          "data": {
            "text/plain": [
              "16.0"
            ]
          },
          "metadata": {
            "tags": []
          },
          "execution_count": 80
        }
      ]
    },
    {
      "cell_type": "code",
      "metadata": {
        "colab": {
          "base_uri": "https://localhost:8080/",
          "height": 35
        },
        "id": "n-QloaDsCvFf",
        "outputId": "693a7bc7-2094-40a0-fa38-9af9d91fceb2"
      },
      "source": [
        "s = 'Teste String'\n",
        "s"
      ],
      "execution_count": 81,
      "outputs": [
        {
          "output_type": "execute_result",
          "data": {
            "application/vnd.google.colaboratory.intrinsic+json": {
              "type": "string"
            },
            "text/plain": [
              "'Teste String'"
            ]
          },
          "metadata": {
            "tags": []
          },
          "execution_count": 81
        }
      ]
    },
    {
      "cell_type": "code",
      "metadata": {
        "colab": {
          "base_uri": "https://localhost:8080/"
        },
        "id": "AkFqtcPUQxPs",
        "outputId": "74950614-b0b6-451d-c75a-3406ef52541e"
      },
      "source": [
        "print(\"{0:>50}\".format(s)) # Alinhando a direita com 50 espaços em branco. "
      ],
      "execution_count": 98,
      "outputs": [
        {
          "output_type": "stream",
          "text": [
            "                                      Teste String\n"
          ],
          "name": "stdout"
        }
      ]
    },
    {
      "cell_type": "code",
      "metadata": {
        "colab": {
          "base_uri": "https://localhost:8080/"
        },
        "id": "BlTmeYgPtPHL",
        "outputId": "d997854b-61fd-4cdc-d041-6b70f3e82868"
      },
      "source": [
        "print(\"{0:#>50}\".format(s)) # Alinhando a direita com 50 simbolos. "
      ],
      "execution_count": 99,
      "outputs": [
        {
          "output_type": "stream",
          "text": [
            "######################################Teste String\n"
          ],
          "name": "stdout"
        }
      ]
    },
    {
      "cell_type": "code",
      "metadata": {
        "colab": {
          "base_uri": "https://localhost:8080/"
        },
        "id": "NbnKf1b9tr35",
        "outputId": "a8471568-5c94-4893-d0ac-bed70582a587"
      },
      "source": [
        "print(\"{0:^50}\".format(s)) # Ajusta com 25 espaço em brando de cada lado. "
      ],
      "execution_count": 105,
      "outputs": [
        {
          "output_type": "stream",
          "text": [
            "                   Teste String                   \n"
          ],
          "name": "stdout"
        }
      ]
    },
    {
      "cell_type": "code",
      "metadata": {
        "colab": {
          "base_uri": "https://localhost:8080/"
        },
        "id": "HTPkyfw9xCa9",
        "outputId": "62692cd1-fb43-47dc-e22f-5a3937cf485b"
      },
      "source": [
        "print(\"{0:.2}\".format(s)) # imprime somente as duas primeiras letras. "
      ],
      "execution_count": 111,
      "outputs": [
        {
          "output_type": "stream",
          "text": [
            "Te\n"
          ],
          "name": "stdout"
        }
      ]
    },
    {
      "cell_type": "code",
      "metadata": {
        "colab": {
          "base_uri": "https://localhost:8080/"
        },
        "id": "P94lgL09ymqO",
        "outputId": "23154765-6229-4992-dd06-a680a0f1b4de"
      },
      "source": [
        "print(\"{0:50}\".format(-123456473635)) # Imprime o inteiro negativo com 50 espaços em branco a esquerda"
      ],
      "execution_count": 134,
      "outputs": [
        {
          "output_type": "stream",
          "text": [
            "                                     -123456473635\n"
          ],
          "name": "stdout"
        }
      ]
    },
    {
      "cell_type": "code",
      "metadata": {
        "colab": {
          "base_uri": "https://localhost:8080/"
        },
        "id": "2xC4Df871Uan",
        "outputId": "00b2fa3f-18fb-49cf-9a40-cf7c49661e90"
      },
      "source": [
        "print(\"{0:30}\".format(123))  # Imprime o inteiro com 30 espaços em branco a esquerda"
      ],
      "execution_count": 130,
      "outputs": [
        {
          "output_type": "stream",
          "text": [
            "                           123\n"
          ],
          "name": "stdout"
        }
      ]
    },
    {
      "cell_type": "code",
      "metadata": {
        "colab": {
          "base_uri": "https://localhost:8080/"
        },
        "id": "6j7HM9Nm3m5g",
        "outputId": "dfa17d0e-7f49-4c5a-e284-c9ad1e737749"
      },
      "source": [
        "print(\"{0:4.3f}\".format(33.3287)) # Imprime o float com 3 casas decimais. \n"
      ],
      "execution_count": 139,
      "outputs": [
        {
          "output_type": "stream",
          "text": [
            "33.329\n"
          ],
          "name": "stdout"
        }
      ]
    },
    {
      "cell_type": "code",
      "metadata": {
        "colab": {
          "base_uri": "https://localhost:8080/"
        },
        "id": "ZlD9JrE54lQh",
        "outputId": "79b1b5fd-3e81-4005-d2e3-ee0db1dbf87f"
      },
      "source": [
        "print(\"{0:+15.3f}\".format(33.3287)) # Imprime o float com 3 casas decimais, e 15 espaços em branco a esquerda. \n"
      ],
      "execution_count": 144,
      "outputs": [
        {
          "output_type": "stream",
          "text": [
            "        +33.329\n"
          ],
          "name": "stdout"
        }
      ]
    },
    {
      "cell_type": "code",
      "metadata": {
        "colab": {
          "base_uri": "https://localhost:8080/"
        },
        "id": "nbMCixNj5HHC",
        "outputId": "ae1f71a1-272e-4096-d8e4-cdef5054acd1"
      },
      "source": [
        "numero = 33\n",
        "print(\"{0:+20.3e}\".format(numero)) # Imprime o exponencial da variável como parametro no 'format'. "
      ],
      "execution_count": 153,
      "outputs": [
        {
          "output_type": "stream",
          "text": [
            "          +3.300e+01\n"
          ],
          "name": "stdout"
        }
      ]
    },
    {
      "cell_type": "code",
      "metadata": {
        "colab": {
          "base_uri": "https://localhost:8080/"
        },
        "id": "g2mbMxQW6nyc",
        "outputId": "aaf67cbb-1075-472e-a3d7-79633f6173ec"
      },
      "source": [
        "print(\"{0:b}\".format(123)) # Retorna o binario do parametro. "
      ],
      "execution_count": 154,
      "outputs": [
        {
          "output_type": "stream",
          "text": [
            "1111011\n"
          ],
          "name": "stdout"
        }
      ]
    }
  ]
}